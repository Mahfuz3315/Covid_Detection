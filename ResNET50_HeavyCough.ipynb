{
  "cells": [
    {
      "cell_type": "code",
      "execution_count": 10,
      "metadata": {
        "id": "cZq8tiCL3He9"
      },
      "outputs": [],
      "source": [
        "import os\n",
        "import pandas as pd\n",
        "import numpy as np\n",
        "from tqdm import tqdm\n",
        "import keras\n",
        "from keras.utils.np_utils import to_categorical\n",
        "import cv2\n",
        "import tensorflow as tf\n",
        "from sklearn.model_selection import train_test_split\n",
        "from keras.layers import  Flatten, Dense, Dropout\n",
        "from tensorflow.keras.applications import VGG16\n",
        "from tensorflow.keras.applications import ResNet50\n",
        "from tensorflow.keras.applications import Xception\n",
        "from keras.callbacks import ModelCheckpoint, ReduceLROnPlateau\n",
        "from tensorflow.keras.layers import Input\n",
        "from keras.models import Model\n",
        "from keras import optimizers\n",
        "from tensorflow.keras.optimizers import Adam\n",
        "from keras.layers import Dense, GlobalAveragePooling2D\n",
        "from keras.layers import Dense, Dropout, Flatten, Conv2D, MaxPool2D, BatchNormalization, AveragePooling2D, GlobalAveragePooling2D\n",
        "import keras_preprocessing\n",
        "from keras_preprocessing import image\n",
        "from keras_preprocessing.image import ImageDataGenerator\n",
        "from keras import callbacks\n",
        "import matplotlib.pyplot as plt\n",
        "from sklearn.metrics import confusion_matrix\n",
        "import seaborn as sns\n",
        "from zipfile import ZipFile\n",
        "from sklearn import preprocessing\n",
        "import keras_preprocessing\n",
        "from keras_preprocessing import image\n",
        "from keras_preprocessing.image import ImageDataGenerator\n",
        "from keras import callbacks\n",
        "import matplotlib.pyplot as plt\n",
        "from sklearn.metrics import confusion_matrix\n",
        "import seaborn as sns\n",
        "from zipfile import ZipFile"
      ]
    },
    {
      "cell_type": "code",
      "execution_count": 2,
      "metadata": {
        "colab": {
          "base_uri": "https://localhost:8080/"
        },
        "id": "Ctjb1hOsrzLV",
        "outputId": "f06154be-77ea-431f-bdb1-45f041332579"
      },
      "outputs": [
        {
          "output_type": "stream",
          "name": "stdout",
          "text": [
            "Mounted at /content/drive\n"
          ]
        }
      ],
      "source": [
        "from google.colab import drive\n",
        "drive.mount('/content/drive')"
      ]
    },
    {
      "cell_type": "code",
      "execution_count": 3,
      "metadata": {
        "colab": {
          "base_uri": "https://localhost:8080/"
        },
        "id": "JkYepAERrixq",
        "outputId": "452c6599-1c2d-4846-bd2e-f30c469f8c1b"
      },
      "outputs": [
        {
          "output_type": "stream",
          "name": "stderr",
          "text": [
            "100%|██████████| 56/56 [00:18<00:00,  3.10it/s]\n",
            "100%|██████████| 1341/1341 [00:39<00:00, 34.33it/s]\n"
          ]
        },
        {
          "output_type": "stream",
          "name": "stdout",
          "text": [
            "['c', 'c', 'c', 'c', 'c', 'c', 'c', 'c', 'c', 'c', 'c', 'c', 'c', 'c', 'c', 'c', 'c', 'c', 'c', 'c', 'c', 'c', 'c', 'c', 'c', 'c', 'c', 'c', 'c', 'c', 'c', 'c', 'c', 'c', 'c', 'c', 'c', 'c', 'c', 'c', 'c', 'c', 'c', 'c', 'c', 'c', 'c', 'c', 'c', 'c', 'c', 'c', 'c', 'c', 'c', 'c', 'n', 'n', 'n', 'n', 'n', 'n', 'n', 'n', 'n', 'n', 'n', 'n', 'n', 'n', 'n', 'n', 'n', 'n', 'n', 'n', 'n', 'n', 'n', 'n', 'n', 'n', 'n', 'n', 'n', 'n', 'n', 'n', 'n', 'n', 'n', 'n', 'n', 'n', 'n', 'n', 'n', 'n', 'n', 'n', 'n', 'n', 'n', 'n', 'n', 'n', 'n', 'n', 'n', 'n', 'n', 'n', 'n', 'n', 'n', 'n', 'n', 'n', 'n', 'n', 'n', 'n', 'n', 'n', 'n', 'n', 'n', 'n', 'n', 'n', 'n', 'n', 'n', 'n', 'n', 'n', 'n', 'n', 'n', 'n', 'n', 'n', 'n', 'n', 'n', 'n', 'n', 'n', 'n', 'n', 'n', 'n', 'n', 'n', 'n', 'n', 'n', 'n', 'n', 'n', 'n', 'n', 'n', 'n', 'n', 'n', 'n', 'n', 'n', 'n', 'n', 'n', 'n', 'n', 'n', 'n', 'n', 'n', 'n', 'n', 'n', 'n', 'n', 'n', 'n', 'n', 'n', 'n', 'n', 'n', 'n', 'n', 'n', 'n', 'n', 'n', 'n', 'n', 'n', 'n', 'n', 'n', 'n', 'n', 'n', 'n', 'n', 'n', 'n', 'n', 'n', 'n', 'n', 'n', 'n', 'n', 'n', 'n', 'n', 'n', 'n', 'n', 'n', 'n', 'n', 'n', 'n', 'n', 'n', 'n', 'n', 'n', 'n', 'n', 'n', 'n', 'n', 'n', 'n', 'n', 'n', 'n', 'n', 'n', 'n', 'n', 'n', 'n', 'n', 'n', 'n', 'n', 'n', 'n', 'n', 'n', 'n', 'n', 'n', 'n', 'n', 'n', 'n', 'n', 'n', 'n', 'n', 'n', 'n', 'n', 'n', 'n', 'n', 'n', 'n', 'n', 'n', 'n', 'n', 'n', 'n', 'n', 'n', 'n', 'n', 'n', 'n', 'n', 'n', 'n', 'n', 'n', 'n', 'n', 'n', 'n', 'n', 'n', 'n', 'n', 'n', 'n', 'n', 'n', 'n', 'n', 'n', 'n', 'n', 'n', 'n', 'n', 'n', 'n', 'n', 'n', 'n', 'n', 'n', 'n', 'n', 'n', 'n', 'n', 'n', 'n', 'n', 'n', 'n', 'n', 'n', 'n', 'n', 'n', 'n', 'n', 'n', 'n', 'n', 'n', 'n', 'n', 'n', 'n', 'n', 'n', 'n', 'n', 'n', 'n', 'n', 'n', 'n', 'n', 'n', 'n', 'n', 'n', 'n', 'n', 'n', 'n', 'n', 'n', 'n', 'n', 'n', 'n', 'n', 'n', 'n', 'n', 'n', 'n', 'n', 'n', 'n', 'n', 'n', 'n', 'n', 'n', 'n', 'n', 'n', 'n', 'n', 'n', 'n', 'n', 'n', 'n', 'n', 'n', 'n', 'n', 'n', 'n', 'n', 'n', 'n', 'n', 'n', 'n', 'n', 'n', 'n', 'n', 'n', 'n', 'n', 'n', 'n', 'n', 'n', 'n', 'n', 'n', 'n', 'n', 'n', 'n', 'n', 'n', 'n', 'n', 'n', 'n', 'n', 'n', 'n', 'n', 'n', 'n', 'n', 'n', 'n', 'n', 'n', 'n', 'n', 'n', 'n', 'n', 'n', 'n', 'n', 'n', 'n', 'n', 'n', 'n', 'n', 'n', 'n', 'n', 'n', 'n', 'n', 'n', 'n', 'n', 'n', 'n', 'n', 'n', 'n', 'n', 'n', 'n', 'n', 'n', 'n', 'n', 'n', 'n', 'n', 'n', 'n', 'n', 'n', 'n', 'n', 'n', 'n', 'n', 'n', 'n', 'n', 'n', 'n', 'n', 'n', 'n', 'n', 'n', 'n', 'n', 'n', 'n', 'n', 'n', 'n', 'n', 'n', 'n', 'n', 'n', 'n', 'n', 'n', 'n', 'n', 'n', 'n', 'n', 'n', 'n', 'n', 'n', 'n', 'n', 'n', 'n', 'n', 'n', 'n', 'n', 'n', 'n', 'n', 'n', 'n', 'n', 'n', 'n', 'n', 'n', 'n', 'n', 'n', 'n', 'n', 'n', 'n', 'n', 'n', 'n', 'n', 'n', 'n', 'n', 'n', 'n', 'n', 'n', 'n', 'n', 'n', 'n', 'n', 'n', 'n', 'n', 'n', 'n', 'n', 'n', 'n', 'n', 'n', 'n', 'n', 'n', 'n', 'n', 'n', 'n', 'n', 'n', 'n', 'n', 'n', 'n', 'n', 'n', 'n', 'n', 'n', 'n', 'n', 'n', 'n', 'n', 'n', 'n', 'n', 'n', 'n', 'n', 'n', 'n', 'n', 'n', 'n', 'n', 'n', 'n', 'n', 'n', 'n', 'n', 'n', 'n', 'n', 'n', 'n', 'n', 'n', 'n', 'n', 'n', 'n', 'n', 'n', 'n', 'n', 'n', 'n', 'n', 'n', 'n', 'n', 'n', 'n', 'n', 'n', 'n', 'n', 'n', 'n', 'n', 'n', 'n', 'n', 'n', 'n', 'n', 'n', 'n', 'n', 'n', 'n', 'n', 'n', 'n', 'n', 'n', 'n', 'n', 'n', 'n', 'n', 'n', 'n', 'n', 'n', 'n', 'n', 'n', 'n', 'n', 'n', 'n', 'n', 'n', 'n', 'n', 'n', 'n', 'n', 'n', 'n', 'n', 'n', 'n', 'n', 'n', 'n', 'n', 'n', 'n', 'n', 'n', 'n', 'n', 'n', 'n', 'n', 'n', 'n', 'n', 'n', 'n', 'n', 'n', 'n', 'n', 'n', 'n', 'n', 'n', 'n', 'n', 'n', 'n', 'n', 'n', 'n', 'n', 'n', 'n', 'n', 'n', 'n', 'n', 'n', 'n', 'n', 'n', 'n', 'n', 'n', 'n', 'n', 'n', 'n', 'n', 'n', 'n', 'n', 'n', 'n', 'n', 'n', 'n', 'n', 'n', 'n', 'n', 'n', 'n', 'n', 'n', 'n', 'n', 'n', 'n', 'n', 'n', 'n', 'n', 'n', 'n', 'n', 'n', 'n', 'n', 'n', 'n', 'n', 'n', 'n', 'n', 'n', 'n', 'n', 'n', 'n', 'n', 'n', 'n', 'n', 'n', 'n', 'n', 'n', 'n', 'n', 'n', 'n', 'n', 'n', 'n', 'n', 'n', 'n', 'n', 'n', 'n', 'n', 'n', 'n', 'n', 'n', 'n', 'n', 'n', 'n', 'n', 'n', 'n', 'n', 'n', 'n', 'n', 'n', 'n', 'n', 'n', 'n', 'n', 'n', 'n', 'n', 'n', 'n', 'n', 'n', 'n', 'n', 'n', 'n', 'n', 'n', 'n', 'n', 'n', 'n', 'n', 'n', 'n', 'n', 'n', 'n', 'n', 'n', 'n', 'n', 'n', 'n', 'n', 'n', 'n', 'n', 'n', 'n', 'n', 'n', 'n', 'n', 'n', 'n', 'n', 'n', 'n', 'n', 'n', 'n', 'n', 'n', 'n', 'n', 'n', 'n', 'n', 'n', 'n', 'n', 'n', 'n', 'n', 'n', 'n', 'n', 'n', 'n', 'n', 'n', 'n', 'n', 'n', 'n', 'n', 'n', 'n', 'n', 'n', 'n', 'n', 'n', 'n', 'n', 'n', 'n', 'n', 'n', 'n', 'n', 'n', 'n', 'n', 'n', 'n', 'n', 'n', 'n', 'n', 'n', 'n', 'n', 'n', 'n', 'n', 'n', 'n', 'n', 'n', 'n', 'n', 'n', 'n', 'n', 'n', 'n', 'n', 'n', 'n', 'n', 'n', 'n', 'n', 'n', 'n', 'n', 'n', 'n', 'n', 'n', 'n', 'n', 'n', 'n', 'n', 'n', 'n', 'n', 'n', 'n', 'n', 'n', 'n', 'n', 'n', 'n', 'n', 'n', 'n', 'n', 'n', 'n', 'n', 'n', 'n', 'n', 'n', 'n', 'n', 'n', 'n', 'n', 'n', 'n', 'n', 'n', 'n', 'n', 'n', 'n', 'n', 'n', 'n', 'n', 'n', 'n', 'n', 'n', 'n', 'n', 'n', 'n', 'n', 'n', 'n', 'n', 'n', 'n', 'n', 'n', 'n', 'n', 'n', 'n', 'n', 'n', 'n', 'n', 'n', 'n', 'n', 'n', 'n', 'n', 'n', 'n', 'n', 'n', 'n', 'n', 'n', 'n', 'n', 'n', 'n', 'n', 'n', 'n', 'n', 'n', 'n', 'n', 'n', 'n', 'n', 'n', 'n', 'n', 'n', 'n', 'n', 'n', 'n', 'n', 'n', 'n', 'n', 'n', 'n', 'n', 'n', 'n', 'n', 'n', 'n', 'n', 'n', 'n', 'n', 'n', 'n', 'n', 'n', 'n', 'n', 'n', 'n', 'n', 'n', 'n', 'n', 'n', 'n', 'n', 'n', 'n', 'n', 'n', 'n', 'n', 'n', 'n', 'n', 'n', 'n', 'n', 'n', 'n', 'n', 'n', 'n', 'n', 'n', 'n', 'n', 'n', 'n', 'n', 'n', 'n', 'n', 'n', 'n', 'n', 'n', 'n', 'n', 'n', 'n', 'n', 'n', 'n', 'n', 'n', 'n', 'n', 'n', 'n', 'n', 'n', 'n', 'n', 'n', 'n', 'n', 'n', 'n', 'n', 'n', 'n', 'n', 'n', 'n', 'n', 'n', 'n', 'n', 'n', 'n', 'n', 'n', 'n', 'n', 'n', 'n', 'n', 'n', 'n', 'n', 'n', 'n', 'n', 'n', 'n', 'n', 'n', 'n', 'n', 'n', 'n', 'n', 'n', 'n', 'n', 'n', 'n', 'n', 'n', 'n', 'n', 'n', 'n', 'n', 'n', 'n', 'n', 'n', 'n', 'n', 'n', 'n', 'n', 'n', 'n', 'n', 'n', 'n', 'n', 'n', 'n', 'n', 'n', 'n', 'n', 'n', 'n', 'n', 'n', 'n', 'n', 'n', 'n', 'n', 'n', 'n', 'n', 'n', 'n', 'n', 'n', 'n', 'n', 'n', 'n', 'n', 'n', 'n', 'n', 'n', 'n', 'n', 'n', 'n', 'n', 'n', 'n', 'n', 'n', 'n', 'n', 'n', 'n', 'n', 'n', 'n', 'n', 'n', 'n', 'n', 'n', 'n', 'n', 'n', 'n', 'n', 'n', 'n', 'n', 'n', 'n', 'n', 'n', 'n', 'n', 'n', 'n', 'n', 'n', 'n', 'n', 'n', 'n', 'n', 'n', 'n', 'n', 'n', 'n', 'n', 'n', 'n', 'n', 'n', 'n', 'n', 'n', 'n', 'n', 'n', 'n', 'n', 'n', 'n', 'n', 'n', 'n', 'n', 'n', 'n', 'n', 'n', 'n', 'n', 'n', 'n', 'n', 'n', 'n', 'n', 'n', 'n', 'n', 'n', 'n', 'n', 'n', 'n', 'n', 'n', 'n', 'n', 'n', 'n', 'n', 'n', 'n', 'n', 'n', 'n', 'n', 'n', 'n', 'n', 'n', 'n', 'n', 'n', 'n', 'n', 'n', 'n', 'n', 'n', 'n', 'n', 'n', 'n', 'n', 'n', 'n', 'n', 'n', 'n', 'n', 'n', 'n', 'n', 'n', 'n', 'n', 'n', 'n', 'n', 'n', 'n', 'n', 'n', 'n', 'n', 'n', 'n', 'n', 'n', 'n', 'n', 'n', 'n', 'n', 'n', 'n', 'n', 'n', 'n', 'n', 'n', 'n', 'n', 'n', 'n', 'n', 'n', 'n', 'n', 'n', 'n', 'n', 'n']\n",
            "(1740, 224, 224, 3)\n"
          ]
        }
      ],
      "source": [
        "from pickle import NONE\n",
        "from pathlib import Path\n",
        "\n",
        "from zmq.constants import NULL\n",
        "X = []\n",
        "y = []\n",
        "os.chdir('/content/drive/MyDrive/Spectrogram For Train Test/Heavy Cough Cov-Non Cov/Covid')\n",
        "for i in tqdm(os.listdir()):\n",
        "      img = cv2.imread(i)   \n",
        "      img = cv2.resize(img,(224,224))\n",
        "      X.append(img)\n",
        "      y.append('c')\n",
        "\n",
        "os.chdir('/content/drive/MyDrive/Spectrogram For Train Test/Heavy Cough Cov-Non Cov/Non Covid')\n",
        "for i in tqdm(os.listdir()):\n",
        "      img = cv2.imread(i)\n",
        "      if(type(img) == type(None)):\n",
        "        pass\n",
        "      else:\n",
        "        img = cv2.resize(img,(224,224))\n",
        "        X.append(img)\n",
        "        y.append('n')\n",
        "\n",
        "from imblearn.over_sampling import SMOTE\n",
        "sm = SMOTE(sampling_strategy={'c': 400},random_state=42)\n",
        "X = np.array(X)\n",
        "X_resampled, y_resampled = sm.fit_resample(X.reshape(X.shape[0], -1), np.array(y))\n",
        "X_resampled = X_resampled.reshape(-1, 224, 224, 3)\n",
        "\n",
        "X_train, X_test, y_train, y_test = train_test_split(X_resampled, y_resampled, test_size=0.20, random_state=42)\n",
        "print(y)\n",
        "print(X_resampled.shape)"
      ]
    },
    {
      "cell_type": "code",
      "execution_count": 4,
      "metadata": {
        "colab": {
          "base_uri": "https://localhost:8080/"
        },
        "id": "0_PUr8TEsE13",
        "outputId": "21646371-1bf3-4d0c-d337-4353075e5bce"
      },
      "outputs": [
        {
          "output_type": "stream",
          "name": "stdout",
          "text": [
            "Shape of an image in X_train:  (224, 224, 3)\n",
            "Shape of an image in X_test:  (224, 224, 3)\n"
          ]
        }
      ],
      "source": [
        "# X_train, X_test, y_train, y_test = train_test_split(X, y, test_size=0.20, random_state=42)\n",
        "print (\"Shape of an image in X_train: \", X_train[0].shape)\n",
        "print (\"Shape of an image in X_test: \", X_test[0].shape)"
      ]
    },
    {
      "cell_type": "code",
      "execution_count": 5,
      "metadata": {
        "id": "00Vk0nZpsMgC"
      },
      "outputs": [],
      "source": [
        "le = preprocessing.LabelEncoder()\n",
        "y_train = le.fit_transform(y_train)\n",
        "y_test = le.fit_transform(y_test)\n",
        "y_train = tf.keras.utils.to_categorical(y_train, num_classes=2)\n",
        "y_test = tf.keras.utils.to_categorical(y_test, num_classes=2)\n",
        "y_train = np.array(y_train)\n",
        "X_train = np.array(X_train)\n",
        "y_test = np.array(y_test)\n",
        "X_test = np.array(X_test) "
      ]
    },
    {
      "cell_type": "code",
      "execution_count": 6,
      "metadata": {
        "id": "VC1NDQMhHkk6"
      },
      "outputs": [],
      "source": [
        "BATCH_SIZE =32\n",
        "EPOCHS = 100\n",
        "SIZE = 224\n",
        "N_ch=3"
      ]
    },
    {
      "cell_type": "code",
      "execution_count": 16,
      "metadata": {
        "id": "jEJkx65YHw5B"
      },
      "outputs": [],
      "source": [
        "def build_resnet50():\n",
        "    resnet50 = ResNet50(weights='imagenet', include_top=False)\n",
        "\n",
        "    input = Input(shape=(SIZE, SIZE, N_ch))\n",
        "    x = Conv2D(3, (3, 3), padding='same')(input)\n",
        "    \n",
        "    x = resnet50(x)\n",
        "    \n",
        "    x = GlobalAveragePooling2D()(x)\n",
        "    x = BatchNormalization()(x)\n",
        "    x = Dropout(0.5)(x)\n",
        "    x = Dense(256, activation='relu')(x)\n",
        "    x = BatchNormalization()(x)\n",
        "    x = Dropout(0.5)(x)\n",
        "\n",
        "    # multi output\n",
        "    output = Dense(2,activation = 'softmax', name='root')(x)\n",
        " \n",
        "\n",
        "    # model\n",
        "    model = Model(input,output)\n",
        "    \n",
        "    optimizer = Adam(lr=0.0005, beta_1=0.9, beta_2=0.999, epsilon=0.1, decay=0.0)\n",
        "    model.compile(loss='categorical_crossentropy', optimizer=optimizer, metrics=['accuracy'])\n",
        "    model.summary()\n",
        "    \n",
        "    return model"
      ]
    },
    {
      "cell_type": "code",
      "execution_count": 17,
      "metadata": {
        "colab": {
          "base_uri": "https://localhost:8080/"
        },
        "id": "m_-W-Ck6H2Yk",
        "outputId": "b348bf2c-e807-47cc-8d61-53da60b0b934"
      },
      "outputs": [
        {
          "output_type": "stream",
          "name": "stdout",
          "text": [
            "Model: \"model_2\"\n",
            "_________________________________________________________________\n",
            " Layer (type)                Output Shape              Param #   \n",
            "=================================================================\n",
            " input_6 (InputLayer)        [(None, 224, 224, 3)]     0         \n",
            "                                                                 \n",
            " conv2d_2 (Conv2D)           (None, 224, 224, 3)       84        \n",
            "                                                                 \n",
            " resnet50 (Functional)       (None, None, None, 2048)  23587712  \n",
            "                                                                 \n",
            " global_average_pooling2d_2   (None, 2048)             0         \n",
            " (GlobalAveragePooling2D)                                        \n",
            "                                                                 \n",
            " batch_normalization_4 (Batc  (None, 2048)             8192      \n",
            " hNormalization)                                                 \n",
            "                                                                 \n",
            " dropout_4 (Dropout)         (None, 2048)              0         \n",
            "                                                                 \n",
            " dense_2 (Dense)             (None, 256)               524544    \n",
            "                                                                 \n",
            " batch_normalization_5 (Batc  (None, 256)              1024      \n",
            " hNormalization)                                                 \n",
            "                                                                 \n",
            " dropout_5 (Dropout)         (None, 256)               0         \n",
            "                                                                 \n",
            " root (Dense)                (None, 2)                 514       \n",
            "                                                                 \n",
            "=================================================================\n",
            "Total params: 24,122,070\n",
            "Trainable params: 24,064,342\n",
            "Non-trainable params: 57,728\n",
            "_________________________________________________________________\n"
          ]
        }
      ],
      "source": [
        "model = build_resnet50()\n",
        "annealer = ReduceLROnPlateau(monitor='val_accuracy', factor=0.70, patience=5, verbose=1, min_lr=1e-4)\n",
        "checkpoint = ModelCheckpoint('ResNet50_Model.hdf5', verbose=1, save_best_only=True)\n",
        "datagen = ImageDataGenerator(rotation_range=360, \n",
        "                        width_shift_range=0.2, \n",
        "                        height_shift_range=0.2,\n",
        "                        zoom_range=0.2, \n",
        "                        horizontal_flip=True, \n",
        "                        vertical_flip=True) \n",
        "\n",
        "datagen.fit(X_train)"
      ]
    },
    {
      "cell_type": "code",
      "execution_count": 18,
      "metadata": {
        "colab": {
          "base_uri": "https://localhost:8080/"
        },
        "id": "KpsDnAPAH8wW",
        "outputId": "ef5a1886-6089-4b42-fdd9-8923bde5151d"
      },
      "outputs": [
        {
          "output_type": "stream",
          "name": "stderr",
          "text": [
            "<ipython-input-18-c4089a8f5804>:2: UserWarning: `Model.fit_generator` is deprecated and will be removed in a future version. Please use `Model.fit`, which supports generators.\n",
            "  history = model.fit_generator(datagen.flow(X_train, y_train, batch_size=BATCH_SIZE),\n"
          ]
        },
        {
          "output_type": "stream",
          "name": "stdout",
          "text": [
            "Epoch 1/100\n",
            "10/10 [==============================] - ETA: 0s - loss: 1.4494 - accuracy: 0.4211\n",
            "Epoch 1: val_loss improved from inf to 0.74258, saving model to ResNet50_Model.hdf5\n",
            "10/10 [==============================] - 48s 1s/step - loss: 1.4494 - accuracy: 0.4211 - val_loss: 0.7426 - val_accuracy: 0.5920 - lr: 5.0000e-04\n",
            "Epoch 2/100\n",
            "10/10 [==============================] - ETA: 0s - loss: 1.1886 - accuracy: 0.5312\n",
            "Epoch 2: val_loss improved from 0.74258 to 0.67974, saving model to ResNet50_Model.hdf5\n",
            "10/10 [==============================] - 11s 1s/step - loss: 1.1886 - accuracy: 0.5312 - val_loss: 0.6797 - val_accuracy: 0.6293 - lr: 5.0000e-04\n",
            "Epoch 3/100\n",
            "10/10 [==============================] - ETA: 0s - loss: 1.0535 - accuracy: 0.5344\n",
            "Epoch 3: val_loss improved from 0.67974 to 0.61498, saving model to ResNet50_Model.hdf5\n",
            "10/10 [==============================] - 7s 732ms/step - loss: 1.0535 - accuracy: 0.5344 - val_loss: 0.6150 - val_accuracy: 0.6695 - lr: 5.0000e-04\n",
            "Epoch 4/100\n",
            "10/10 [==============================] - ETA: 0s - loss: 0.8985 - accuracy: 0.6438\n",
            "Epoch 4: val_loss improved from 0.61498 to 0.56927, saving model to ResNet50_Model.hdf5\n",
            "10/10 [==============================] - 8s 757ms/step - loss: 0.8985 - accuracy: 0.6438 - val_loss: 0.5693 - val_accuracy: 0.7155 - lr: 5.0000e-04\n",
            "Epoch 5/100\n",
            "10/10 [==============================] - ETA: 0s - loss: 0.9099 - accuracy: 0.6219\n",
            "Epoch 5: val_loss improved from 0.56927 to 0.52108, saving model to ResNet50_Model.hdf5\n",
            "10/10 [==============================] - 8s 759ms/step - loss: 0.9099 - accuracy: 0.6219 - val_loss: 0.5211 - val_accuracy: 0.7500 - lr: 5.0000e-04\n",
            "Epoch 6/100\n",
            "10/10 [==============================] - ETA: 0s - loss: 0.6691 - accuracy: 0.7105\n",
            "Epoch 6: val_loss improved from 0.52108 to 0.47417, saving model to ResNet50_Model.hdf5\n",
            "10/10 [==============================] - 7s 726ms/step - loss: 0.6691 - accuracy: 0.7105 - val_loss: 0.4742 - val_accuracy: 0.7902 - lr: 5.0000e-04\n",
            "Epoch 7/100\n",
            "10/10 [==============================] - ETA: 0s - loss: 0.7740 - accuracy: 0.7125\n",
            "Epoch 7: val_loss improved from 0.47417 to 0.44323, saving model to ResNet50_Model.hdf5\n",
            "10/10 [==============================] - 7s 743ms/step - loss: 0.7740 - accuracy: 0.7125 - val_loss: 0.4432 - val_accuracy: 0.8075 - lr: 5.0000e-04\n",
            "Epoch 8/100\n",
            "10/10 [==============================] - ETA: 0s - loss: 0.5894 - accuracy: 0.7219\n",
            "Epoch 8: val_loss improved from 0.44323 to 0.40061, saving model to ResNet50_Model.hdf5\n",
            "10/10 [==============================] - 7s 752ms/step - loss: 0.5894 - accuracy: 0.7219 - val_loss: 0.4006 - val_accuracy: 0.8448 - lr: 5.0000e-04\n",
            "Epoch 9/100\n",
            "10/10 [==============================] - ETA: 0s - loss: 0.5661 - accuracy: 0.7719\n",
            "Epoch 9: val_loss improved from 0.40061 to 0.39715, saving model to ResNet50_Model.hdf5\n",
            "10/10 [==============================] - 7s 744ms/step - loss: 0.5661 - accuracy: 0.7719 - val_loss: 0.3971 - val_accuracy: 0.8563 - lr: 5.0000e-04\n",
            "Epoch 10/100\n",
            "10/10 [==============================] - ETA: 0s - loss: 0.4384 - accuracy: 0.8219\n",
            "Epoch 10: val_loss improved from 0.39715 to 0.36998, saving model to ResNet50_Model.hdf5\n",
            "10/10 [==============================] - 7s 743ms/step - loss: 0.4384 - accuracy: 0.8219 - val_loss: 0.3700 - val_accuracy: 0.8592 - lr: 5.0000e-04\n",
            "Epoch 11/100\n",
            "10/10 [==============================] - ETA: 0s - loss: 0.4833 - accuracy: 0.7533\n",
            "Epoch 11: val_loss improved from 0.36998 to 0.34820, saving model to ResNet50_Model.hdf5\n",
            "10/10 [==============================] - 8s 858ms/step - loss: 0.4833 - accuracy: 0.7533 - val_loss: 0.3482 - val_accuracy: 0.8678 - lr: 5.0000e-04\n",
            "Epoch 12/100\n",
            "10/10 [==============================] - ETA: 0s - loss: 0.4410 - accuracy: 0.8156\n",
            "Epoch 12: val_loss improved from 0.34820 to 0.32915, saving model to ResNet50_Model.hdf5\n",
            "10/10 [==============================] - 7s 742ms/step - loss: 0.4410 - accuracy: 0.8156 - val_loss: 0.3292 - val_accuracy: 0.8937 - lr: 5.0000e-04\n",
            "Epoch 13/100\n",
            "10/10 [==============================] - ETA: 0s - loss: 0.4670 - accuracy: 0.7862\n",
            "Epoch 13: val_loss improved from 0.32915 to 0.30783, saving model to ResNet50_Model.hdf5\n",
            "10/10 [==============================] - 7s 720ms/step - loss: 0.4670 - accuracy: 0.7862 - val_loss: 0.3078 - val_accuracy: 0.8994 - lr: 5.0000e-04\n",
            "Epoch 14/100\n",
            "10/10 [==============================] - ETA: 0s - loss: 0.4351 - accuracy: 0.8421\n",
            "Epoch 14: val_loss improved from 0.30783 to 0.28848, saving model to ResNet50_Model.hdf5\n",
            "10/10 [==============================] - 7s 733ms/step - loss: 0.4351 - accuracy: 0.8421 - val_loss: 0.2885 - val_accuracy: 0.9138 - lr: 5.0000e-04\n",
            "Epoch 15/100\n",
            "10/10 [==============================] - ETA: 0s - loss: 0.3337 - accuracy: 0.8719\n",
            "Epoch 15: val_loss improved from 0.28848 to 0.27048, saving model to ResNet50_Model.hdf5\n",
            "10/10 [==============================] - 8s 842ms/step - loss: 0.3337 - accuracy: 0.8719 - val_loss: 0.2705 - val_accuracy: 0.9224 - lr: 5.0000e-04\n",
            "Epoch 16/100\n",
            "10/10 [==============================] - ETA: 0s - loss: 0.3395 - accuracy: 0.8469\n",
            "Epoch 16: val_loss improved from 0.27048 to 0.22881, saving model to ResNet50_Model.hdf5\n",
            "10/10 [==============================] - 11s 1s/step - loss: 0.3395 - accuracy: 0.8469 - val_loss: 0.2288 - val_accuracy: 0.9540 - lr: 5.0000e-04\n",
            "Epoch 17/100\n",
            "10/10 [==============================] - ETA: 0s - loss: 0.3143 - accuracy: 0.8875\n",
            "Epoch 17: val_loss improved from 0.22881 to 0.21872, saving model to ResNet50_Model.hdf5\n",
            "10/10 [==============================] - 10s 1s/step - loss: 0.3143 - accuracy: 0.8875 - val_loss: 0.2187 - val_accuracy: 0.9511 - lr: 5.0000e-04\n",
            "Epoch 18/100\n",
            "10/10 [==============================] - ETA: 0s - loss: 0.2871 - accuracy: 0.8750\n",
            "Epoch 18: val_loss did not improve from 0.21872\n",
            "10/10 [==============================] - 6s 597ms/step - loss: 0.2871 - accuracy: 0.8750 - val_loss: 0.2256 - val_accuracy: 0.9483 - lr: 5.0000e-04\n",
            "Epoch 19/100\n",
            "10/10 [==============================] - ETA: 0s - loss: 0.3121 - accuracy: 0.8781\n",
            "Epoch 19: val_loss did not improve from 0.21872\n",
            "10/10 [==============================] - 7s 644ms/step - loss: 0.3121 - accuracy: 0.8781 - val_loss: 0.2325 - val_accuracy: 0.9425 - lr: 5.0000e-04\n",
            "Epoch 20/100\n",
            "10/10 [==============================] - ETA: 0s - loss: 0.3876 - accuracy: 0.8684\n",
            "Epoch 20: val_loss did not improve from 0.21872\n",
            "10/10 [==============================] - 6s 544ms/step - loss: 0.3876 - accuracy: 0.8684 - val_loss: 0.2321 - val_accuracy: 0.9397 - lr: 5.0000e-04\n",
            "Epoch 21/100\n",
            "10/10 [==============================] - ETA: 0s - loss: 0.2262 - accuracy: 0.9156\n",
            "Epoch 21: ReduceLROnPlateau reducing learning rate to 0.00035000001662410796.\n",
            "\n",
            "Epoch 21: val_loss did not improve from 0.21872\n",
            "10/10 [==============================] - 6s 559ms/step - loss: 0.2262 - accuracy: 0.9156 - val_loss: 0.2621 - val_accuracy: 0.9224 - lr: 5.0000e-04\n",
            "Epoch 22/100\n",
            "10/10 [==============================] - ETA: 0s - loss: 0.2794 - accuracy: 0.9187\n",
            "Epoch 22: val_loss did not improve from 0.21872\n",
            "10/10 [==============================] - 6s 547ms/step - loss: 0.2794 - accuracy: 0.9187 - val_loss: 0.2542 - val_accuracy: 0.9167 - lr: 3.5000e-04\n",
            "Epoch 23/100\n",
            "10/10 [==============================] - ETA: 0s - loss: 0.2424 - accuracy: 0.9281\n",
            "Epoch 23: val_loss did not improve from 0.21872\n",
            "10/10 [==============================] - 6s 542ms/step - loss: 0.2424 - accuracy: 0.9281 - val_loss: 0.2380 - val_accuracy: 0.9397 - lr: 3.5000e-04\n",
            "Epoch 24/100\n",
            "10/10 [==============================] - ETA: 0s - loss: 0.1809 - accuracy: 0.9408\n",
            "Epoch 24: val_loss did not improve from 0.21872\n",
            "10/10 [==============================] - 6s 554ms/step - loss: 0.1809 - accuracy: 0.9408 - val_loss: 0.2248 - val_accuracy: 0.9397 - lr: 3.5000e-04\n",
            "Epoch 25/100\n",
            "10/10 [==============================] - ETA: 0s - loss: 0.3291 - accuracy: 0.9031\n",
            "Epoch 25: val_loss improved from 0.21872 to 0.21084, saving model to ResNet50_Model.hdf5\n",
            "10/10 [==============================] - 9s 899ms/step - loss: 0.3291 - accuracy: 0.9031 - val_loss: 0.2108 - val_accuracy: 0.9483 - lr: 3.5000e-04\n",
            "Epoch 26/100\n",
            "10/10 [==============================] - ETA: 0s - loss: 0.2007 - accuracy: 0.9276\n",
            "Epoch 26: ReduceLROnPlateau reducing learning rate to 0.00024500001163687554.\n",
            "\n",
            "Epoch 26: val_loss improved from 0.21084 to 0.20665, saving model to ResNet50_Model.hdf5\n",
            "10/10 [==============================] - 7s 698ms/step - loss: 0.2007 - accuracy: 0.9276 - val_loss: 0.2067 - val_accuracy: 0.9483 - lr: 3.5000e-04\n",
            "Epoch 27/100\n",
            "10/10 [==============================] - ETA: 0s - loss: 0.2803 - accuracy: 0.9125\n",
            "Epoch 27: val_loss improved from 0.20665 to 0.19363, saving model to ResNet50_Model.hdf5\n",
            "10/10 [==============================] - 10s 1s/step - loss: 0.2803 - accuracy: 0.9125 - val_loss: 0.1936 - val_accuracy: 0.9626 - lr: 2.4500e-04\n",
            "Epoch 28/100\n",
            "10/10 [==============================] - ETA: 0s - loss: 0.2053 - accuracy: 0.9408\n",
            "Epoch 28: val_loss improved from 0.19363 to 0.18299, saving model to ResNet50_Model.hdf5\n",
            "10/10 [==============================] - 7s 718ms/step - loss: 0.2053 - accuracy: 0.9408 - val_loss: 0.1830 - val_accuracy: 0.9655 - lr: 2.4500e-04\n",
            "Epoch 29/100\n",
            "10/10 [==============================] - ETA: 0s - loss: 0.2603 - accuracy: 0.9250\n",
            "Epoch 29: val_loss improved from 0.18299 to 0.17892, saving model to ResNet50_Model.hdf5\n",
            "10/10 [==============================] - 8s 772ms/step - loss: 0.2603 - accuracy: 0.9250 - val_loss: 0.1789 - val_accuracy: 0.9655 - lr: 2.4500e-04\n",
            "Epoch 30/100\n",
            "10/10 [==============================] - ETA: 0s - loss: 0.3200 - accuracy: 0.8947\n",
            "Epoch 30: val_loss improved from 0.17892 to 0.16578, saving model to ResNet50_Model.hdf5\n",
            "10/10 [==============================] - 8s 763ms/step - loss: 0.3200 - accuracy: 0.8947 - val_loss: 0.1658 - val_accuracy: 0.9655 - lr: 2.4500e-04\n",
            "Epoch 31/100\n",
            "10/10 [==============================] - ETA: 0s - loss: 0.2072 - accuracy: 0.9342\n",
            "Epoch 31: val_loss improved from 0.16578 to 0.15942, saving model to ResNet50_Model.hdf5\n",
            "10/10 [==============================] - 7s 747ms/step - loss: 0.2072 - accuracy: 0.9342 - val_loss: 0.1594 - val_accuracy: 0.9684 - lr: 2.4500e-04\n",
            "Epoch 32/100\n",
            "10/10 [==============================] - ETA: 0s - loss: 0.1781 - accuracy: 0.9375\n",
            "Epoch 32: val_loss improved from 0.15942 to 0.15911, saving model to ResNet50_Model.hdf5\n",
            "10/10 [==============================] - 8s 791ms/step - loss: 0.1781 - accuracy: 0.9375 - val_loss: 0.1591 - val_accuracy: 0.9684 - lr: 2.4500e-04\n",
            "Epoch 33/100\n",
            "10/10 [==============================] - ETA: 0s - loss: 0.2540 - accuracy: 0.9250\n",
            "Epoch 33: val_loss improved from 0.15911 to 0.15226, saving model to ResNet50_Model.hdf5\n",
            "10/10 [==============================] - 7s 738ms/step - loss: 0.2540 - accuracy: 0.9250 - val_loss: 0.1523 - val_accuracy: 0.9684 - lr: 2.4500e-04\n",
            "Epoch 34/100\n",
            "10/10 [==============================] - ETA: 0s - loss: 0.2417 - accuracy: 0.9178\n",
            "Epoch 34: val_loss did not improve from 0.15226\n",
            "10/10 [==============================] - 6s 536ms/step - loss: 0.2417 - accuracy: 0.9178 - val_loss: 0.1546 - val_accuracy: 0.9684 - lr: 2.4500e-04\n",
            "Epoch 35/100\n",
            "10/10 [==============================] - ETA: 0s - loss: 0.2336 - accuracy: 0.9281\n",
            "Epoch 35: val_loss did not improve from 0.15226\n",
            "10/10 [==============================] - 6s 606ms/step - loss: 0.2336 - accuracy: 0.9281 - val_loss: 0.1531 - val_accuracy: 0.9684 - lr: 2.4500e-04\n",
            "Epoch 36/100\n",
            "10/10 [==============================] - ETA: 0s - loss: 0.2320 - accuracy: 0.9312\n",
            "Epoch 36: ReduceLROnPlateau reducing learning rate to 0.00017150000203400848.\n",
            "\n",
            "Epoch 36: val_loss improved from 0.15226 to 0.15015, saving model to ResNet50_Model.hdf5\n",
            "10/10 [==============================] - 9s 947ms/step - loss: 0.2320 - accuracy: 0.9312 - val_loss: 0.1502 - val_accuracy: 0.9684 - lr: 2.4500e-04\n",
            "Epoch 37/100\n",
            "10/10 [==============================] - ETA: 0s - loss: 0.2561 - accuracy: 0.9094\n",
            "Epoch 37: val_loss improved from 0.15015 to 0.14878, saving model to ResNet50_Model.hdf5\n",
            "10/10 [==============================] - 7s 755ms/step - loss: 0.2561 - accuracy: 0.9094 - val_loss: 0.1488 - val_accuracy: 0.9684 - lr: 1.7150e-04\n",
            "Epoch 38/100\n",
            "10/10 [==============================] - ETA: 0s - loss: 0.2060 - accuracy: 0.9309\n",
            "Epoch 38: val_loss did not improve from 0.14878\n",
            "10/10 [==============================] - 6s 538ms/step - loss: 0.2060 - accuracy: 0.9309 - val_loss: 0.1511 - val_accuracy: 0.9684 - lr: 1.7150e-04\n",
            "Epoch 39/100\n",
            "10/10 [==============================] - ETA: 0s - loss: 0.1692 - accuracy: 0.9438\n",
            "Epoch 39: val_loss did not improve from 0.14878\n",
            "10/10 [==============================] - 6s 581ms/step - loss: 0.1692 - accuracy: 0.9438 - val_loss: 0.1506 - val_accuracy: 0.9655 - lr: 1.7150e-04\n",
            "Epoch 40/100\n",
            "10/10 [==============================] - ETA: 0s - loss: 0.2896 - accuracy: 0.9156\n",
            "Epoch 40: val_loss did not improve from 0.14878\n",
            "10/10 [==============================] - 6s 569ms/step - loss: 0.2896 - accuracy: 0.9156 - val_loss: 0.1537 - val_accuracy: 0.9626 - lr: 1.7150e-04\n",
            "Epoch 41/100\n",
            "10/10 [==============================] - ETA: 0s - loss: 0.2423 - accuracy: 0.9187\n",
            "Epoch 41: ReduceLROnPlateau reducing learning rate to 0.00012004999734926967.\n",
            "\n",
            "Epoch 41: val_loss improved from 0.14878 to 0.14850, saving model to ResNet50_Model.hdf5\n",
            "10/10 [==============================] - 10s 1s/step - loss: 0.2423 - accuracy: 0.9187 - val_loss: 0.1485 - val_accuracy: 0.9655 - lr: 1.7150e-04\n",
            "Epoch 42/100\n",
            "10/10 [==============================] - ETA: 0s - loss: 0.2585 - accuracy: 0.9156\n",
            "Epoch 42: val_loss improved from 0.14850 to 0.14473, saving model to ResNet50_Model.hdf5\n",
            "10/10 [==============================] - 9s 929ms/step - loss: 0.2585 - accuracy: 0.9156 - val_loss: 0.1447 - val_accuracy: 0.9684 - lr: 1.2005e-04\n",
            "Epoch 43/100\n",
            "10/10 [==============================] - ETA: 0s - loss: 0.2562 - accuracy: 0.9013\n",
            "Epoch 43: val_loss improved from 0.14473 to 0.14307, saving model to ResNet50_Model.hdf5\n",
            "10/10 [==============================] - 7s 744ms/step - loss: 0.2562 - accuracy: 0.9013 - val_loss: 0.1431 - val_accuracy: 0.9655 - lr: 1.2005e-04\n",
            "Epoch 44/100\n",
            "10/10 [==============================] - ETA: 0s - loss: 0.1711 - accuracy: 0.9563\n",
            "Epoch 44: val_loss improved from 0.14307 to 0.13853, saving model to ResNet50_Model.hdf5\n",
            "10/10 [==============================] - 8s 790ms/step - loss: 0.1711 - accuracy: 0.9563 - val_loss: 0.1385 - val_accuracy: 0.9655 - lr: 1.2005e-04\n",
            "Epoch 45/100\n",
            "10/10 [==============================] - ETA: 0s - loss: 0.2578 - accuracy: 0.9281\n",
            "Epoch 45: val_loss improved from 0.13853 to 0.13599, saving model to ResNet50_Model.hdf5\n",
            "10/10 [==============================] - 7s 749ms/step - loss: 0.2578 - accuracy: 0.9281 - val_loss: 0.1360 - val_accuracy: 0.9684 - lr: 1.2005e-04\n",
            "Epoch 46/100\n",
            "10/10 [==============================] - ETA: 0s - loss: 0.2895 - accuracy: 0.9125\n",
            "Epoch 46: ReduceLROnPlateau reducing learning rate to 0.0001.\n",
            "\n",
            "Epoch 46: val_loss improved from 0.13599 to 0.13465, saving model to ResNet50_Model.hdf5\n",
            "10/10 [==============================] - 7s 753ms/step - loss: 0.2895 - accuracy: 0.9125 - val_loss: 0.1347 - val_accuracy: 0.9684 - lr: 1.2005e-04\n",
            "Epoch 47/100\n",
            "10/10 [==============================] - ETA: 0s - loss: 0.1606 - accuracy: 0.9656\n",
            "Epoch 47: val_loss improved from 0.13465 to 0.13211, saving model to ResNet50_Model.hdf5\n",
            "10/10 [==============================] - 7s 746ms/step - loss: 0.1606 - accuracy: 0.9656 - val_loss: 0.1321 - val_accuracy: 0.9713 - lr: 1.0000e-04\n",
            "Epoch 48/100\n",
            "10/10 [==============================] - ETA: 0s - loss: 0.2136 - accuracy: 0.9563\n",
            "Epoch 48: val_loss improved from 0.13211 to 0.13114, saving model to ResNet50_Model.hdf5\n",
            "10/10 [==============================] - 7s 743ms/step - loss: 0.2136 - accuracy: 0.9563 - val_loss: 0.1311 - val_accuracy: 0.9713 - lr: 1.0000e-04\n",
            "Epoch 49/100\n",
            "10/10 [==============================] - ETA: 0s - loss: 0.2087 - accuracy: 0.9469\n",
            "Epoch 49: val_loss did not improve from 0.13114\n",
            "10/10 [==============================] - 6s 551ms/step - loss: 0.2087 - accuracy: 0.9469 - val_loss: 0.1312 - val_accuracy: 0.9713 - lr: 1.0000e-04\n",
            "Epoch 50/100\n",
            "10/10 [==============================] - ETA: 0s - loss: 0.2660 - accuracy: 0.9219\n",
            "Epoch 50: val_loss improved from 0.13114 to 0.12934, saving model to ResNet50_Model.hdf5\n",
            "10/10 [==============================] - 9s 981ms/step - loss: 0.2660 - accuracy: 0.9219 - val_loss: 0.1293 - val_accuracy: 0.9713 - lr: 1.0000e-04\n",
            "Epoch 51/100\n",
            "10/10 [==============================] - ETA: 0s - loss: 0.2113 - accuracy: 0.9094\n",
            "Epoch 51: val_loss improved from 0.12934 to 0.12788, saving model to ResNet50_Model.hdf5\n",
            "10/10 [==============================] - 7s 730ms/step - loss: 0.2113 - accuracy: 0.9094 - val_loss: 0.1279 - val_accuracy: 0.9713 - lr: 1.0000e-04\n",
            "Epoch 52/100\n",
            "10/10 [==============================] - ETA: 0s - loss: 0.2937 - accuracy: 0.9125\n",
            "Epoch 52: val_loss improved from 0.12788 to 0.12556, saving model to ResNet50_Model.hdf5\n",
            "10/10 [==============================] - 8s 760ms/step - loss: 0.2937 - accuracy: 0.9125 - val_loss: 0.1256 - val_accuracy: 0.9713 - lr: 1.0000e-04\n",
            "Epoch 53/100\n",
            "10/10 [==============================] - ETA: 0s - loss: 0.1905 - accuracy: 0.9344\n",
            "Epoch 53: val_loss did not improve from 0.12556\n",
            "10/10 [==============================] - 6s 543ms/step - loss: 0.1905 - accuracy: 0.9344 - val_loss: 0.1258 - val_accuracy: 0.9713 - lr: 1.0000e-04\n",
            "Epoch 54/100\n",
            "10/10 [==============================] - ETA: 0s - loss: 0.2687 - accuracy: 0.9281\n",
            "Epoch 54: val_loss improved from 0.12556 to 0.12453, saving model to ResNet50_Model.hdf5\n",
            "10/10 [==============================] - 8s 867ms/step - loss: 0.2687 - accuracy: 0.9281 - val_loss: 0.1245 - val_accuracy: 0.9713 - lr: 1.0000e-04\n",
            "Epoch 55/100\n",
            "10/10 [==============================] - ETA: 0s - loss: 0.1586 - accuracy: 0.9563\n",
            "Epoch 55: val_loss improved from 0.12453 to 0.12371, saving model to ResNet50_Model.hdf5\n",
            "10/10 [==============================] - 7s 729ms/step - loss: 0.1586 - accuracy: 0.9563 - val_loss: 0.1237 - val_accuracy: 0.9713 - lr: 1.0000e-04\n",
            "Epoch 56/100\n",
            "10/10 [==============================] - ETA: 0s - loss: 0.1961 - accuracy: 0.9500\n",
            "Epoch 56: val_loss improved from 0.12371 to 0.12227, saving model to ResNet50_Model.hdf5\n",
            "10/10 [==============================] - 7s 743ms/step - loss: 0.1961 - accuracy: 0.9500 - val_loss: 0.1223 - val_accuracy: 0.9741 - lr: 1.0000e-04\n",
            "Epoch 57/100\n",
            "10/10 [==============================] - ETA: 0s - loss: 0.1799 - accuracy: 0.9594\n",
            "Epoch 57: val_loss did not improve from 0.12227\n",
            "10/10 [==============================] - 6s 585ms/step - loss: 0.1799 - accuracy: 0.9594 - val_loss: 0.1224 - val_accuracy: 0.9741 - lr: 1.0000e-04\n",
            "Epoch 58/100\n",
            "10/10 [==============================] - ETA: 0s - loss: 0.1392 - accuracy: 0.9594\n",
            "Epoch 58: val_loss improved from 0.12227 to 0.12145, saving model to ResNet50_Model.hdf5\n",
            "10/10 [==============================] - 9s 887ms/step - loss: 0.1392 - accuracy: 0.9594 - val_loss: 0.1215 - val_accuracy: 0.9741 - lr: 1.0000e-04\n",
            "Epoch 59/100\n",
            "10/10 [==============================] - ETA: 0s - loss: 0.2469 - accuracy: 0.9281\n",
            "Epoch 59: val_loss improved from 0.12145 to 0.12117, saving model to ResNet50_Model.hdf5\n",
            "10/10 [==============================] - 7s 731ms/step - loss: 0.2469 - accuracy: 0.9281 - val_loss: 0.1212 - val_accuracy: 0.9741 - lr: 1.0000e-04\n",
            "Epoch 60/100\n",
            "10/10 [==============================] - ETA: 0s - loss: 0.1189 - accuracy: 0.9572\n",
            "Epoch 60: val_loss improved from 0.12117 to 0.11888, saving model to ResNet50_Model.hdf5\n",
            "10/10 [==============================] - 7s 719ms/step - loss: 0.1189 - accuracy: 0.9572 - val_loss: 0.1189 - val_accuracy: 0.9741 - lr: 1.0000e-04\n",
            "Epoch 61/100\n",
            "10/10 [==============================] - ETA: 0s - loss: 0.1130 - accuracy: 0.9594\n",
            "Epoch 61: val_loss improved from 0.11888 to 0.11809, saving model to ResNet50_Model.hdf5\n",
            "10/10 [==============================] - 7s 747ms/step - loss: 0.1130 - accuracy: 0.9594 - val_loss: 0.1181 - val_accuracy: 0.9741 - lr: 1.0000e-04\n",
            "Epoch 62/100\n",
            "10/10 [==============================] - ETA: 0s - loss: 0.2223 - accuracy: 0.9344\n",
            "Epoch 62: val_loss improved from 0.11809 to 0.11750, saving model to ResNet50_Model.hdf5\n",
            "10/10 [==============================] - 7s 754ms/step - loss: 0.2223 - accuracy: 0.9344 - val_loss: 0.1175 - val_accuracy: 0.9741 - lr: 1.0000e-04\n",
            "Epoch 63/100\n",
            "10/10 [==============================] - ETA: 0s - loss: 0.1836 - accuracy: 0.9531\n",
            "Epoch 63: val_loss improved from 0.11750 to 0.11637, saving model to ResNet50_Model.hdf5\n",
            "10/10 [==============================] - 8s 826ms/step - loss: 0.1836 - accuracy: 0.9531 - val_loss: 0.1164 - val_accuracy: 0.9770 - lr: 1.0000e-04\n",
            "Epoch 64/100\n",
            "10/10 [==============================] - ETA: 0s - loss: 0.2673 - accuracy: 0.9344\n",
            "Epoch 64: val_loss improved from 0.11637 to 0.11592, saving model to ResNet50_Model.hdf5\n",
            "10/10 [==============================] - 8s 754ms/step - loss: 0.2673 - accuracy: 0.9344 - val_loss: 0.1159 - val_accuracy: 0.9770 - lr: 1.0000e-04\n",
            "Epoch 65/100\n",
            "10/10 [==============================] - ETA: 0s - loss: 0.2031 - accuracy: 0.9344\n",
            "Epoch 65: val_loss did not improve from 0.11592\n",
            "10/10 [==============================] - 6s 559ms/step - loss: 0.2031 - accuracy: 0.9344 - val_loss: 0.1169 - val_accuracy: 0.9741 - lr: 1.0000e-04\n",
            "Epoch 66/100\n",
            "10/10 [==============================] - ETA: 0s - loss: 0.3204 - accuracy: 0.9309\n",
            "Epoch 66: val_loss did not improve from 0.11592\n",
            "10/10 [==============================] - 6s 543ms/step - loss: 0.3204 - accuracy: 0.9309 - val_loss: 0.1174 - val_accuracy: 0.9741 - lr: 1.0000e-04\n",
            "Epoch 67/100\n",
            "10/10 [==============================] - ETA: 0s - loss: 0.1689 - accuracy: 0.9469\n",
            "Epoch 67: val_loss did not improve from 0.11592\n",
            "10/10 [==============================] - 6s 549ms/step - loss: 0.1689 - accuracy: 0.9469 - val_loss: 0.1171 - val_accuracy: 0.9741 - lr: 1.0000e-04\n",
            "Epoch 68/100\n",
            "10/10 [==============================] - ETA: 0s - loss: 0.2137 - accuracy: 0.9406\n",
            "Epoch 68: val_loss did not improve from 0.11592\n",
            "10/10 [==============================] - 6s 549ms/step - loss: 0.2137 - accuracy: 0.9406 - val_loss: 0.1168 - val_accuracy: 0.9770 - lr: 1.0000e-04\n",
            "Epoch 69/100\n",
            "10/10 [==============================] - ETA: 0s - loss: 0.2257 - accuracy: 0.9438\n",
            "Epoch 69: val_loss did not improve from 0.11592\n",
            "10/10 [==============================] - 6s 539ms/step - loss: 0.2257 - accuracy: 0.9438 - val_loss: 0.1164 - val_accuracy: 0.9770 - lr: 1.0000e-04\n",
            "Epoch 70/100\n",
            "10/10 [==============================] - ETA: 0s - loss: 0.2379 - accuracy: 0.9062\n",
            "Epoch 70: val_loss did not improve from 0.11592\n",
            "10/10 [==============================] - 6s 549ms/step - loss: 0.2379 - accuracy: 0.9062 - val_loss: 0.1170 - val_accuracy: 0.9770 - lr: 1.0000e-04\n",
            "Epoch 71/100\n",
            "10/10 [==============================] - ETA: 0s - loss: 0.2623 - accuracy: 0.9474\n",
            "Epoch 71: val_loss did not improve from 0.11592\n",
            "10/10 [==============================] - 5s 525ms/step - loss: 0.2623 - accuracy: 0.9474 - val_loss: 0.1170 - val_accuracy: 0.9770 - lr: 1.0000e-04\n",
            "Epoch 72/100\n",
            "10/10 [==============================] - ETA: 0s - loss: 0.1985 - accuracy: 0.9656\n",
            "Epoch 72: val_loss did not improve from 0.11592\n",
            "10/10 [==============================] - 6s 553ms/step - loss: 0.1985 - accuracy: 0.9656 - val_loss: 0.1181 - val_accuracy: 0.9770 - lr: 1.0000e-04\n",
            "Epoch 73/100\n",
            "10/10 [==============================] - ETA: 0s - loss: 0.2061 - accuracy: 0.9344\n",
            "Epoch 73: val_loss did not improve from 0.11592\n",
            "10/10 [==============================] - 6s 554ms/step - loss: 0.2061 - accuracy: 0.9344 - val_loss: 0.1180 - val_accuracy: 0.9770 - lr: 1.0000e-04\n",
            "Epoch 74/100\n",
            "10/10 [==============================] - ETA: 0s - loss: 0.1620 - accuracy: 0.9406\n",
            "Epoch 74: val_loss did not improve from 0.11592\n",
            "10/10 [==============================] - 6s 558ms/step - loss: 0.1620 - accuracy: 0.9406 - val_loss: 0.1183 - val_accuracy: 0.9770 - lr: 1.0000e-04\n",
            "Epoch 75/100\n",
            "10/10 [==============================] - ETA: 0s - loss: 0.2714 - accuracy: 0.9309\n",
            "Epoch 75: val_loss did not improve from 0.11592\n",
            "10/10 [==============================] - 6s 543ms/step - loss: 0.2714 - accuracy: 0.9309 - val_loss: 0.1181 - val_accuracy: 0.9770 - lr: 1.0000e-04\n",
            "Epoch 76/100\n",
            "10/10 [==============================] - ETA: 0s - loss: 0.2346 - accuracy: 0.9375\n",
            "Epoch 76: val_loss did not improve from 0.11592\n",
            "10/10 [==============================] - 6s 551ms/step - loss: 0.2346 - accuracy: 0.9375 - val_loss: 0.1168 - val_accuracy: 0.9770 - lr: 1.0000e-04\n",
            "Epoch 77/100\n",
            "10/10 [==============================] - ETA: 0s - loss: 0.2057 - accuracy: 0.9531\n",
            "Epoch 77: val_loss improved from 0.11592 to 0.11549, saving model to ResNet50_Model.hdf5\n",
            "10/10 [==============================] - 9s 917ms/step - loss: 0.2057 - accuracy: 0.9531 - val_loss: 0.1155 - val_accuracy: 0.9770 - lr: 1.0000e-04\n",
            "Epoch 78/100\n",
            "10/10 [==============================] - ETA: 0s - loss: 0.2069 - accuracy: 0.9342\n",
            "Epoch 78: val_loss improved from 0.11549 to 0.11448, saving model to ResNet50_Model.hdf5\n",
            "10/10 [==============================] - 7s 738ms/step - loss: 0.2069 - accuracy: 0.9342 - val_loss: 0.1145 - val_accuracy: 0.9770 - lr: 1.0000e-04\n",
            "Epoch 79/100\n",
            "10/10 [==============================] - ETA: 0s - loss: 0.2280 - accuracy: 0.9408\n",
            "Epoch 79: val_loss improved from 0.11448 to 0.11336, saving model to ResNet50_Model.hdf5\n",
            "10/10 [==============================] - 7s 737ms/step - loss: 0.2280 - accuracy: 0.9408 - val_loss: 0.1134 - val_accuracy: 0.9770 - lr: 1.0000e-04\n",
            "Epoch 80/100\n",
            "10/10 [==============================] - ETA: 0s - loss: 0.2173 - accuracy: 0.9344\n",
            "Epoch 80: val_loss improved from 0.11336 to 0.11226, saving model to ResNet50_Model.hdf5\n",
            "10/10 [==============================] - 7s 737ms/step - loss: 0.2173 - accuracy: 0.9344 - val_loss: 0.1123 - val_accuracy: 0.9770 - lr: 1.0000e-04\n",
            "Epoch 81/100\n",
            "10/10 [==============================] - ETA: 0s - loss: 0.2286 - accuracy: 0.9276\n",
            "Epoch 81: val_loss improved from 0.11226 to 0.11201, saving model to ResNet50_Model.hdf5\n",
            "10/10 [==============================] - 7s 725ms/step - loss: 0.2286 - accuracy: 0.9276 - val_loss: 0.1120 - val_accuracy: 0.9770 - lr: 1.0000e-04\n",
            "Epoch 82/100\n",
            "10/10 [==============================] - ETA: 0s - loss: 0.1571 - accuracy: 0.9656\n",
            "Epoch 82: val_loss improved from 0.11201 to 0.11153, saving model to ResNet50_Model.hdf5\n",
            "10/10 [==============================] - 8s 755ms/step - loss: 0.1571 - accuracy: 0.9656 - val_loss: 0.1115 - val_accuracy: 0.9770 - lr: 1.0000e-04\n",
            "Epoch 83/100\n",
            "10/10 [==============================] - ETA: 0s - loss: 0.1665 - accuracy: 0.9572\n",
            "Epoch 83: val_loss improved from 0.11153 to 0.11122, saving model to ResNet50_Model.hdf5\n",
            "10/10 [==============================] - 7s 722ms/step - loss: 0.1665 - accuracy: 0.9572 - val_loss: 0.1112 - val_accuracy: 0.9770 - lr: 1.0000e-04\n",
            "Epoch 84/100\n",
            "10/10 [==============================] - ETA: 0s - loss: 0.2981 - accuracy: 0.9312\n",
            "Epoch 84: val_loss did not improve from 0.11122\n",
            "10/10 [==============================] - 6s 547ms/step - loss: 0.2981 - accuracy: 0.9312 - val_loss: 0.1121 - val_accuracy: 0.9770 - lr: 1.0000e-04\n",
            "Epoch 85/100\n",
            "10/10 [==============================] - ETA: 0s - loss: 0.2063 - accuracy: 0.9344\n",
            "Epoch 85: val_loss did not improve from 0.11122\n",
            "10/10 [==============================] - 6s 626ms/step - loss: 0.2063 - accuracy: 0.9344 - val_loss: 0.1130 - val_accuracy: 0.9741 - lr: 1.0000e-04\n",
            "Epoch 86/100\n",
            "10/10 [==============================] - ETA: 0s - loss: 0.1980 - accuracy: 0.9500\n",
            "Epoch 86: val_loss did not improve from 0.11122\n",
            "10/10 [==============================] - 6s 549ms/step - loss: 0.1980 - accuracy: 0.9500 - val_loss: 0.1136 - val_accuracy: 0.9741 - lr: 1.0000e-04\n",
            "Epoch 87/100\n",
            "10/10 [==============================] - ETA: 0s - loss: 0.1612 - accuracy: 0.9656\n",
            "Epoch 87: val_loss did not improve from 0.11122\n",
            "10/10 [==============================] - 6s 555ms/step - loss: 0.1612 - accuracy: 0.9656 - val_loss: 0.1131 - val_accuracy: 0.9741 - lr: 1.0000e-04\n",
            "Epoch 88/100\n",
            "10/10 [==============================] - ETA: 0s - loss: 0.2444 - accuracy: 0.9281\n",
            "Epoch 88: val_loss did not improve from 0.11122\n",
            "10/10 [==============================] - 6s 550ms/step - loss: 0.2444 - accuracy: 0.9281 - val_loss: 0.1126 - val_accuracy: 0.9741 - lr: 1.0000e-04\n",
            "Epoch 89/100\n",
            "10/10 [==============================] - ETA: 0s - loss: 0.1533 - accuracy: 0.9500\n",
            "Epoch 89: val_loss did not improve from 0.11122\n",
            "10/10 [==============================] - 6s 551ms/step - loss: 0.1533 - accuracy: 0.9500 - val_loss: 0.1136 - val_accuracy: 0.9741 - lr: 1.0000e-04\n",
            "Epoch 90/100\n",
            "10/10 [==============================] - ETA: 0s - loss: 0.1926 - accuracy: 0.9469\n",
            "Epoch 90: val_loss did not improve from 0.11122\n",
            "10/10 [==============================] - 6s 545ms/step - loss: 0.1926 - accuracy: 0.9469 - val_loss: 0.1128 - val_accuracy: 0.9741 - lr: 1.0000e-04\n",
            "Epoch 91/100\n",
            "10/10 [==============================] - ETA: 0s - loss: 0.2058 - accuracy: 0.9438\n",
            "Epoch 91: val_loss did not improve from 0.11122\n",
            "10/10 [==============================] - 6s 545ms/step - loss: 0.2058 - accuracy: 0.9438 - val_loss: 0.1116 - val_accuracy: 0.9741 - lr: 1.0000e-04\n",
            "Epoch 92/100\n",
            "10/10 [==============================] - ETA: 0s - loss: 0.1358 - accuracy: 0.9719\n",
            "Epoch 92: val_loss improved from 0.11122 to 0.11019, saving model to ResNet50_Model.hdf5\n",
            "10/10 [==============================] - 9s 904ms/step - loss: 0.1358 - accuracy: 0.9719 - val_loss: 0.1102 - val_accuracy: 0.9741 - lr: 1.0000e-04\n",
            "Epoch 93/100\n",
            "10/10 [==============================] - ETA: 0s - loss: 0.1506 - accuracy: 0.9594\n",
            "Epoch 93: val_loss improved from 0.11019 to 0.10950, saving model to ResNet50_Model.hdf5\n",
            "10/10 [==============================] - 7s 734ms/step - loss: 0.1506 - accuracy: 0.9594 - val_loss: 0.1095 - val_accuracy: 0.9741 - lr: 1.0000e-04\n",
            "Epoch 94/100\n",
            "10/10 [==============================] - ETA: 0s - loss: 0.2590 - accuracy: 0.9539\n",
            "Epoch 94: val_loss did not improve from 0.10950\n",
            "10/10 [==============================] - 6s 544ms/step - loss: 0.2590 - accuracy: 0.9539 - val_loss: 0.1096 - val_accuracy: 0.9741 - lr: 1.0000e-04\n",
            "Epoch 95/100\n",
            "10/10 [==============================] - ETA: 0s - loss: 0.2370 - accuracy: 0.9469\n",
            "Epoch 95: val_loss improved from 0.10950 to 0.10928, saving model to ResNet50_Model.hdf5\n",
            "10/10 [==============================] - 9s 915ms/step - loss: 0.2370 - accuracy: 0.9469 - val_loss: 0.1093 - val_accuracy: 0.9741 - lr: 1.0000e-04\n",
            "Epoch 96/100\n",
            "10/10 [==============================] - ETA: 0s - loss: 0.2402 - accuracy: 0.9375\n",
            "Epoch 96: val_loss improved from 0.10928 to 0.10895, saving model to ResNet50_Model.hdf5\n",
            "10/10 [==============================] - 7s 726ms/step - loss: 0.2402 - accuracy: 0.9375 - val_loss: 0.1089 - val_accuracy: 0.9770 - lr: 1.0000e-04\n",
            "Epoch 97/100\n",
            "10/10 [==============================] - ETA: 0s - loss: 0.2456 - accuracy: 0.9408\n",
            "Epoch 97: val_loss did not improve from 0.10895\n",
            "10/10 [==============================] - 5s 565ms/step - loss: 0.2456 - accuracy: 0.9408 - val_loss: 0.1090 - val_accuracy: 0.9770 - lr: 1.0000e-04\n",
            "Epoch 98/100\n",
            "10/10 [==============================] - ETA: 0s - loss: 0.1592 - accuracy: 0.9688\n",
            "Epoch 98: val_loss improved from 0.10895 to 0.10861, saving model to ResNet50_Model.hdf5\n",
            "10/10 [==============================] - 10s 996ms/step - loss: 0.1592 - accuracy: 0.9688 - val_loss: 0.1086 - val_accuracy: 0.9770 - lr: 1.0000e-04\n",
            "Epoch 99/100\n",
            "10/10 [==============================] - ETA: 0s - loss: 0.1619 - accuracy: 0.9474\n",
            "Epoch 99: val_loss did not improve from 0.10861\n",
            "10/10 [==============================] - 5s 531ms/step - loss: 0.1619 - accuracy: 0.9474 - val_loss: 0.1093 - val_accuracy: 0.9770 - lr: 1.0000e-04\n",
            "Epoch 100/100\n",
            "10/10 [==============================] - ETA: 0s - loss: 0.2261 - accuracy: 0.9406\n",
            "Epoch 100: val_loss did not improve from 0.10861\n",
            "10/10 [==============================] - 6s 552ms/step - loss: 0.2261 - accuracy: 0.9406 - val_loss: 0.1096 - val_accuracy: 0.9770 - lr: 1.0000e-04\n"
          ]
        }
      ],
      "source": [
        "X_train.shape[0]\n",
        "history = model.fit_generator(datagen.flow(X_train, y_train, batch_size=BATCH_SIZE),\n",
        "               steps_per_epoch=10,\n",
        "               epochs=EPOCHS,\n",
        "               verbose=1,\n",
        "               callbacks=[annealer, checkpoint],\n",
        "               validation_data=(X_test, y_test))"
      ]
    },
    {
      "cell_type": "code",
      "execution_count": 19,
      "metadata": {
        "id": "q697O2--YwLc"
      },
      "outputs": [],
      "source": [
        "\n",
        "\n",
        "acc = history.history['accuracy']\n",
        "val_acc = history.history['val_accuracy']\n",
        "loss = history.history['loss']\n",
        "val_loss = history.history['val_loss']\n",
        "\n"
      ]
    },
    {
      "cell_type": "code",
      "execution_count": 20,
      "metadata": {
        "id": "23sMDcPKZCAy",
        "colab": {
          "base_uri": "https://localhost:8080/",
          "height": 298
        },
        "outputId": "02264a79-2d9c-4961-d1a1-59846e6f07c7"
      },
      "outputs": [
        {
          "output_type": "display_data",
          "data": {
            "text/plain": [
              "<Figure size 432x288 with 1 Axes>"
            ],
            "image/png": "[encoded data removed]"
          },
          "metadata": {
            "needs_background": "light"
          }
        },
        {
          "output_type": "display_data",
          "data": {
            "text/plain": [
              "<Figure size 432x288 with 0 Axes>"
            ]
          },
          "metadata": {}
        }
      ],
      "source": [
        "epochs = range(len(acc))\n",
        "plt.plot(epochs, acc, 'r', label='Training accuracy')\n",
        "plt.plot(epochs, val_acc, 'b', label='Validation accuracy')\n",
        "plt.title('TraiN & Val Acc VS Epochs')\n",
        "plt.legend(loc=0)\n",
        "plt.figure()\n",
        "plt.show()\n",
        "\n"
      ]
    },
    {
      "cell_type": "code",
      "execution_count": 21,
      "metadata": {
        "id": "jcxrVGl9ZDla",
        "colab": {
          "base_uri": "https://localhost:8080/",
          "height": 298
        },
        "outputId": "d6646767-980a-415b-fdab-a3bc6e744c86"
      },
      "outputs": [
        {
          "output_type": "display_data",
          "data": {
            "text/plain": [
              "<Figure size 432x288 with 1 Axes>"
            ],
            "image/png": "[encoded data removed]"
          },
          "metadata": {
            "needs_background": "light"
          }
        },
        {
          "output_type": "display_data",
          "data": {
            "text/plain": [
              "<Figure size 432x288 with 0 Axes>"
            ]
          },
          "metadata": {}
        }
      ],
      "source": [
        "epochs = range(len(acc))\n",
        "plt.plot(epochs, loss, 'r', label='Training Loss')\n",
        "plt.plot(epochs, val_loss, 'b', label='Validation Loss')\n",
        "plt.title('TraiN & Val Loss VS Epochs')\n",
        "plt.legend(loc=0)\n",
        "plt.figure()\n",
        "plt.show()"
      ]
    },
    {
      "cell_type": "code",
      "execution_count": 22,
      "metadata": {
        "id": "x0Qj8NOttdjX",
        "colab": {
          "base_uri": "https://localhost:8080/"
        },
        "outputId": "17e53155-8385-484b-8b83-88b8e1aeff92"
      },
      "outputs": [
        {
          "output_type": "stream",
          "name": "stdout",
          "text": [
            "11/11 [==============================] - 2s 98ms/step\n",
            "0.9770114942528736\n",
            "[[ 61   8]\n",
            " [  0 279]]\n",
            "              precision    recall  f1-score   support\n",
            "\n",
            "           0       1.00      0.88      0.94        69\n",
            "           1       0.97      1.00      0.99       279\n",
            "\n",
            "    accuracy                           0.98       348\n",
            "   macro avg       0.99      0.94      0.96       348\n",
            "weighted avg       0.98      0.98      0.98       348\n",
            "\n"
          ]
        }
      ],
      "source": [
        "from sklearn.metrics import accuracy_score\n",
        "from sklearn.metrics import classification_report\n",
        "import numpy as np\n",
        "\n",
        "pred = model.predict(X_test)\n",
        "rounded_labels_1 = np.argmax(pred, axis=1)\n",
        "rounded_labels_2 = np.argmax(y_test, axis=1)\n",
        "rounded_labels_1[1]\n",
        "rounded_labels_2[1]\n",
        "print(accuracy_score(rounded_labels_2,rounded_labels_1))\n",
        "print(confusion_matrix(rounded_labels_2,rounded_labels_1))\n",
        "print(classification_report(rounded_labels_2,rounded_labels_1,zero_division=1))"
      ]
    },
    {
      "cell_type": "code",
      "source": [
        "from sklearn.metrics import roc_curve, auc\n",
        "import matplotlib.pyplot as plt\n",
        "\n",
        "fpr, tpr, thresholds = roc_curve(rounded_labels_2, pred[:,1])\n",
        "roc_auc = auc(fpr, tpr)\n",
        "\n",
        "plt.figure()\n",
        "lw = 2\n",
        "plt.plot(fpr, tpr, color='darkorange',\n",
        "         lw=lw, label='ROC curve (area = %0.2f)' % roc_auc)\n",
        "plt.plot([0, 1], [0, 1], color='navy', lw=lw, linestyle='--')\n",
        "plt.xlim([0.0, 1.0])\n",
        "plt.ylim([0.0, 1.05])\n",
        "plt.xlabel('False Positive Rate')\n",
        "plt.ylabel('True Positive Rate')\n",
        "plt.title('Receiver operating characteristic example')\n",
        "plt.legend(loc=\"lower right\")\n",
        "plt.show()"
      ],
      "metadata": {
        "id": "sOmgnR2GcfSo",
        "colab": {
          "base_uri": "https://localhost:8080/",
          "height": 295
        },
        "outputId": "cb2db89d-49e7-4b36-edc3-e75625bc7506"
      },
      "execution_count": 23,
      "outputs": [
        {
          "output_type": "display_data",
          "data": {
            "text/plain": [
              "<Figure size 432x288 with 1 Axes>"
            ],
            "image/png": "[encoded data removed]"
          },
          "metadata": {
            "needs_background": "light"
          }
        }
      ]
    },
    {
      "cell_type": "code",
      "source": [
        "from sklearn.metrics import roc_auc_score\n",
        "roc_auc = roc_auc_score(y_test, pred)\n",
        "print(\"AUC: \", roc_auc)"
      ],
      "metadata": {
        "id": "D1fEC-6bJg6b",
        "colab": {
          "base_uri": "https://localhost:8080/"
        },
        "outputId": "b3ca3b8f-dbc2-4f4f-b9fb-005651bbb707"
      },
      "execution_count": 24,
      "outputs": [
        {
          "output_type": "stream",
          "name": "stdout",
          "text": [
            "AUC:  0.9608851488234378\n"
          ]
        }
      ]
    },
    {
      "cell_type": "code",
      "execution_count": 25,
      "metadata": {
        "id": "fodqfo7NZE-5",
        "colab": {
          "base_uri": "https://localhost:8080/"
        },
        "outputId": "906edbc3-2f70-4bc9-8ae1-ce03cc14a00e"
      },
      "outputs": [
        {
          "output_type": "stream",
          "name": "stderr",
          "text": [
            "WARNING:absl:Found untraced functions such as _jit_compiled_convolution_op, _jit_compiled_convolution_op, _jit_compiled_convolution_op, _jit_compiled_convolution_op, _jit_compiled_convolution_op while saving (showing 5 of 54). These functions will not be directly callable after loading.\n"
          ]
        },
        {
          "output_type": "stream",
          "name": "stdout",
          "text": [
            "11/11 [==============================] - 1s 95ms/step - loss: 0.1086 - accuracy: 0.9770\n",
            "Test Loss: 0.10860557109117508\n",
            "Test accuracy: 97.7011501789093\n"
          ]
        }
      ],
      "source": [
        "model.load_weights(\"ResNet50_Model.hdf5\")\n",
        "model.save(\"/content/drive/MyDrive/Model Saves/Resnet50 Heavy Cough\")\n",
        "score = model.evaluate(X_test,y_test ,verbose=1)\n",
        "print('Test Loss:', score[0])\n",
        "print('Test accuracy:', score[1]*100)"
      ]
    }
  ],
  "metadata": {
    "accelerator": "GPU",
    "colab": {
      "provenance": []
    },
    "gpuClass": "standard",
    "kernelspec": {
      "display_name": "Python 3",
      "name": "python3"
    },
    "language_info": {
      "name": "python"
    }
  },
  "nbformat": 4,
  "nbformat_minor": 0
}