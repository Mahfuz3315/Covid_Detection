{
  "nbformat": 4,
  "nbformat_minor": 0,
  "metadata": {
    "colab": {
      "provenance": []
    },
    "kernelspec": {
      "name": "python3",
      "display_name": "Python 3"
    },
    "language_info": {
      "name": "python"
    },
    "accelerator": "GPU",
    "gpuClass": "standard"
  },
  "cells": [
    {
      "cell_type": "code",
      "source": [
        "from google.colab import drive\n",
        "drive.mount('/content/drive')"
      ],
      "metadata": {
        "colab": {
          "base_uri": "https://localhost:8080/"
        },
        "id": "5n6K9HkxnDJx",
        "outputId": "c2a1c0a8-e582-446b-fd0e-45f485cb9389"
      },
      "execution_count": null,
      "outputs": [
        {
          "output_type": "stream",
          "name": "stdout",
          "text": [
            "Mounted at /content/drive\n"
          ]
        }
      ]
    },
    {
      "cell_type": "code",
      "source": [
        "from google.colab import files\n",
        "\n",
        "uploaded = files.upload()\n",
        "\n",
        "for fn in uploaded.keys():\n",
        "  print('User uploaded file \"{name}\" with length {length} bytes'.format(\n",
        "      name=fn, length=len(uploaded[fn])))\n",
        "  \n",
        "# Then move kaggle.json into the folder where the API expects to find it.\n",
        "!mkdir -p ~/.kaggle/ && mv kaggle.json ~/.kaggle/ && chmod 600 ~/.kaggle/kaggle.json"
      ],
      "metadata": {
        "colab": {
          "base_uri": "https://localhost:8080/",
          "height": 91
        },
        "id": "7dZigNxp8yXP",
        "outputId": "fc88e301-2030-4438-8526-b7383c9a5348"
      },
      "execution_count": null,
      "outputs": [
        {
          "output_type": "display_data",
          "data": {
            "text/plain": [
              "<IPython.core.display.HTML object>"
            ],
            "text/html": [
              "\n",
              "     <input type=\"file\" id=\"files-8db59973-fc7d-4358-ad7b-096225a26b3e\" name=\"files[]\" multiple disabled\n",
              "        style=\"border:none\" />\n",
              "     <output id=\"result-8db59973-fc7d-4358-ad7b-096225a26b3e\">\n",
              "      Upload widget is only available when the cell has been executed in the\n",
              "      current browser session. Please rerun this cell to enable.\n",
              "      </output>\n",
              "      <script>// Copyright 2017 Google LLC\n",
              "//\n",
              "// Licensed under the Apache License, Version 2.0 (the \"License\");\n",
              "// you may not use this file except in compliance with the License.\n",
              "// You may obtain a copy of the License at\n",
              "//\n",
              "//      http://www.apache.org/licenses/LICENSE-2.0\n",
              "//\n",
              "// Unless required by applicable law or agreed to in writing, software\n",
              "// distributed under the License is distributed on an \"AS IS\" BASIS,\n",
              "// WITHOUT WARRANTIES OR CONDITIONS OF ANY KIND, either express or implied.\n",
              "// See the License for the specific language governing permissions and\n",
              "// limitations under the License.\n",
              "\n",
              "/**\n",
              " * @fileoverview Helpers for google.colab Python module.\n",
              " */\n",
              "(function(scope) {\n",
              "function span(text, styleAttributes = {}) {\n",
              "  const element = document.createElement('span');\n",
              "  element.textContent = text;\n",
              "  for (const key of Object.keys(styleAttributes)) {\n",
              "    element.style[key] = styleAttributes[key];\n",
              "  }\n",
              "  return element;\n",
              "}\n",
              "\n",
              "// Max number of bytes which will be uploaded at a time.\n",
              "const MAX_PAYLOAD_SIZE = 100 * 1024;\n",
              "\n",
              "function _uploadFiles(inputId, outputId) {\n",
              "  const steps = uploadFilesStep(inputId, outputId);\n",
              "  const outputElement = document.getElementById(outputId);\n",
              "  // Cache steps on the outputElement to make it available for the next call\n",
              "  // to uploadFilesContinue from Python.\n",
              "  outputElement.steps = steps;\n",
              "\n",
              "  return _uploadFilesContinue(outputId);\n",
              "}\n",
              "\n",
              "// This is roughly an async generator (not supported in the browser yet),\n",
              "// where there are multiple asynchronous steps and the Python side is going\n",
              "// to poll for completion of each step.\n",
              "// This uses a Promise to block the python side on completion of each step,\n",
              "// then passes the result of the previous step as the input to the next step.\n",
              "function _uploadFilesContinue(outputId) {\n",
              "  const outputElement = document.getElementById(outputId);\n",
              "  const steps = outputElement.steps;\n",
              "\n",
              "  const next = steps.next(outputElement.lastPromiseValue);\n",
              "  return Promise.resolve(next.value.promise).then((value) => {\n",
              "    // Cache the last promise value to make it available to the next\n",
              "    // step of the generator.\n",
              "    outputElement.lastPromiseValue = value;\n",
              "    return next.value.response;\n",
              "  });\n",
              "}\n",
              "\n",
              "/**\n",
              " * Generator function which is called between each async step of the upload\n",
              " * process.\n",
              " * @param {string} inputId Element ID of the input file picker element.\n",
              " * @param {string} outputId Element ID of the output display.\n",
              " * @return {!Iterable<!Object>} Iterable of next steps.\n",
              " */\n",
              "function* uploadFilesStep(inputId, outputId) {\n",
              "  const inputElement = document.getElementById(inputId);\n",
              "  inputElement.disabled = false;\n",
              "\n",
              "  const outputElement = document.getElementById(outputId);\n",
              "  outputElement.innerHTML = '';\n",
              "\n",
              "  const pickedPromise = new Promise((resolve) => {\n",
              "    inputElement.addEventListener('change', (e) => {\n",
              "      resolve(e.target.files);\n",
              "    });\n",
              "  });\n",
              "\n",
              "  const cancel = document.createElement('button');\n",
              "  inputElement.parentElement.appendChild(cancel);\n",
              "  cancel.textContent = 'Cancel upload';\n",
              "  const cancelPromise = new Promise((resolve) => {\n",
              "    cancel.onclick = () => {\n",
              "      resolve(null);\n",
              "    };\n",
              "  });\n",
              "\n",
              "  // Wait for the user to pick the files.\n",
              "  const files = yield {\n",
              "    promise: Promise.race([pickedPromise, cancelPromise]),\n",
              "    response: {\n",
              "      action: 'starting',\n",
              "    }\n",
              "  };\n",
              "\n",
              "  cancel.remove();\n",
              "\n",
              "  // Disable the input element since further picks are not allowed.\n",
              "  inputElement.disabled = true;\n",
              "\n",
              "  if (!files) {\n",
              "    return {\n",
              "      response: {\n",
              "        action: 'complete',\n",
              "      }\n",
              "    };\n",
              "  }\n",
              "\n",
              "  for (const file of files) {\n",
              "    const li = document.createElement('li');\n",
              "    li.append(span(file.name, {fontWeight: 'bold'}));\n",
              "    li.append(span(\n",
              "        `(${file.type || 'n/a'}) - ${file.size} bytes, ` +\n",
              "        `last modified: ${\n",
              "            file.lastModifiedDate ? file.lastModifiedDate.toLocaleDateString() :\n",
              "                                    'n/a'} - `));\n",
              "    const percent = span('0% done');\n",
              "    li.appendChild(percent);\n",
              "\n",
              "    outputElement.appendChild(li);\n",
              "\n",
              "    const fileDataPromise = new Promise((resolve) => {\n",
              "      const reader = new FileReader();\n",
              "      reader.onload = (e) => {\n",
              "        resolve(e.target.result);\n",
              "      };\n",
              "      reader.readAsArrayBuffer(file);\n",
              "    });\n",
              "    // Wait for the data to be ready.\n",
              "    let fileData = yield {\n",
              "      promise: fileDataPromise,\n",
              "      response: {\n",
              "        action: 'continue',\n",
              "      }\n",
              "    };\n",
              "\n",
              "    // Use a chunked sending to avoid message size limits. See b/62115660.\n",
              "    let position = 0;\n",
              "    do {\n",
              "      const length = Math.min(fileData.byteLength - position, MAX_PAYLOAD_SIZE);\n",
              "      const chunk = new Uint8Array(fileData, position, length);\n",
              "      position += length;\n",
              "\n",
              "      const base64 = btoa(String.fromCharCode.apply(null, chunk));\n",
              "      yield {\n",
              "        response: {\n",
              "          action: 'append',\n",
              "          file: file.name,\n",
              "          data: base64,\n",
              "        },\n",
              "      };\n",
              "\n",
              "      let percentDone = fileData.byteLength === 0 ?\n",
              "          100 :\n",
              "          Math.round((position / fileData.byteLength) * 100);\n",
              "      percent.textContent = `${percentDone}% done`;\n",
              "\n",
              "    } while (position < fileData.byteLength);\n",
              "  }\n",
              "\n",
              "  // All done.\n",
              "  yield {\n",
              "    response: {\n",
              "      action: 'complete',\n",
              "    }\n",
              "  };\n",
              "}\n",
              "\n",
              "scope.google = scope.google || {};\n",
              "scope.google.colab = scope.google.colab || {};\n",
              "scope.google.colab._files = {\n",
              "  _uploadFiles,\n",
              "  _uploadFilesContinue,\n",
              "};\n",
              "})(self);\n",
              "</script> "
            ]
          },
          "metadata": {}
        },
        {
          "output_type": "stream",
          "name": "stdout",
          "text": [
            "Saving kaggle.json to kaggle.json\n",
            "User uploaded file \"kaggle.json\" with length 66 bytes\n"
          ]
        }
      ]
    },
    {
      "cell_type": "markdown",
      "source": [],
      "metadata": {
        "id": "o-bTyATA9cbC"
      }
    },
    {
      "cell_type": "code",
      "source": [
        "!kaggle datasets download -d prashant268/chest-xray-covid19-pneumonia"
      ],
      "metadata": {
        "id": "TDU28ec5CygN",
        "colab": {
          "base_uri": "https://localhost:8080/"
        },
        "outputId": "86054239-3f9b-4896-97a3-095a52769fd3"
      },
      "execution_count": null,
      "outputs": [
        {
          "output_type": "stream",
          "name": "stdout",
          "text": [
            "Downloading chest-xray-covid19-pneumonia.zip to /content\n",
            "100% 2.05G/2.06G [01:53<00:00, 20.4MB/s]\n",
            "100% 2.06G/2.06G [01:53<00:00, 19.4MB/s]\n"
          ]
        }
      ]
    },
    {
      "cell_type": "code",
      "source": [
        "from zipfile import ZipFile\n",
        "file_name = \"/content/chest-xray-covid19-pneumonia.zip\"\n",
        "with ZipFile(file_name,'r') as zip:\n",
        "  zip.extractall()\n",
        "  print('Done')"
      ],
      "metadata": {
        "id": "RgCnTrN0DSrx",
        "colab": {
          "base_uri": "https://localhost:8080/"
        },
        "outputId": "e107bfb8-803e-40a6-c4e6-c8750546c1c6"
      },
      "execution_count": null,
      "outputs": [
        {
          "output_type": "stream",
          "name": "stdout",
          "text": [
            "Done\n"
          ]
        }
      ]
    },
    {
      "cell_type": "code",
      "source": [
        "\n",
        "import numpy as np # linear algebra\n",
        "import pandas as pd # data processing, CSV file I/O (e.g. pd.read_csv)\n",
        "\n",
        "# Input data files are available in the read-only \"../input/\" directory\n",
        "# For example, running this (by clicking run or pressing Shift+Enter) will list all files under the input directory\n",
        "\n",
        "import os\n",
        "for dirname, _, filenames in os.walk('/kaggle/input'):\n",
        "    for filename in filenames:\n",
        "        os.path.join(dirname, filename)"
      ],
      "metadata": {
        "id": "AIFVaspkDHsd"
      },
      "execution_count": null,
      "outputs": []
    },
    {
      "cell_type": "code",
      "source": [
        "import os\n",
        "import pandas as pd\n",
        "import numpy as np\n",
        "from tqdm import tqdm\n",
        "import keras\n",
        "from keras.utils.np_utils import to_categorical\n",
        "import cv2\n",
        "import tensorflow as tf\n",
        "from sklearn.model_selection import train_test_split\n",
        "from keras.layers import  Flatten, Dense, Dropout\n",
        "from tensorflow.keras.applications import VGG16\n",
        "from tensorflow.keras.applications import ResNet101\n",
        "# from tensorflow.keras.applications import Xception\n",
        "from keras.callbacks import ModelCheckpoint, ReduceLROnPlateau\n",
        "from keras.layers import Input\n",
        "from keras import Model\n",
        "from keras import optimizers\n",
        "from tensorflow.keras.optimizers import Adam\n",
        "from keras.layers import Dense, GlobalAveragePooling2D\n",
        "from keras.layers import Dense, Dropout, Flatten, Conv2D, MaxPool2D, BatchNormalization, AveragePooling2D, GlobalAveragePooling2D\n",
        "import keras_preprocessing\n",
        "from keras_preprocessing import image\n",
        "from keras_preprocessing.image import ImageDataGenerator\n",
        "from keras import callbacks\n",
        "import matplotlib.pyplot as plt\n",
        "from sklearn.metrics import confusion_matrix\n",
        "import seaborn as sns\n",
        "from zipfile import ZipFile"
      ],
      "metadata": {
        "id": "cZq8tiCL3He9"
      },
      "execution_count": null,
      "outputs": []
    },
    {
      "cell_type": "code",
      "source": [
        "disease_types = ['COVID19', 'NORMAL', 'PNEUMONIA']\n",
        "\n",
        "train_dir = data_dir = '/content/Data/train'\n",
        "\n",
        "train_data = []\n",
        "\n",
        "for index, sp in enumerate(disease_types):\n",
        "    for file in os.listdir(os.path.join(train_dir, sp)):\n",
        "        train_data.append([sp + \"/\" + file, index, sp])\n",
        "        \n",
        "train = pd.DataFrame(train_data, columns = ['File', 'ID','Disease Type'])\n",
        "train.head()"
      ],
      "metadata": {
        "id": "60aCyhkz3l5T",
        "colab": {
          "base_uri": "https://localhost:8080/",
          "height": 206
        },
        "outputId": "8fcba8ea-df98-453a-88b8-45bce087b1dd"
      },
      "execution_count": null,
      "outputs": [
        {
          "output_type": "execute_result",
          "data": {
            "text/plain": [
              "                       File  ID Disease Type\n",
              "0  COVID19/COVID19(246).jpg   0      COVID19\n",
              "1  COVID19/COVID19(387).jpg   0      COVID19\n",
              "2  COVID19/COVID19(332).jpg   0      COVID19\n",
              "3   COVID19/COVID19(23).jpg   0      COVID19\n",
              "4  COVID19/COVID19(362).jpg   0      COVID19"
            ],
            "text/html": [
              "\n",
              "  <div id=\"df-f29c6c44-750c-4395-b761-a5dc30c14d2f\">\n",
              "    <div class=\"colab-df-container\">\n",
              "      <div>\n",
              "<style scoped>\n",
              "    .dataframe tbody tr th:only-of-type {\n",
              "        vertical-align: middle;\n",
              "    }\n",
              "\n",
              "    .dataframe tbody tr th {\n",
              "        vertical-align: top;\n",
              "    }\n",
              "\n",
              "    .dataframe thead th {\n",
              "        text-align: right;\n",
              "    }\n",
              "</style>\n",
              "<table border=\"1\" class=\"dataframe\">\n",
              "  <thead>\n",
              "    <tr style=\"text-align: right;\">\n",
              "      <th></th>\n",
              "      <th>File</th>\n",
              "      <th>ID</th>\n",
              "      <th>Disease Type</th>\n",
              "    </tr>\n",
              "  </thead>\n",
              "  <tbody>\n",
              "    <tr>\n",
              "      <th>0</th>\n",
              "      <td>COVID19/COVID19(246).jpg</td>\n",
              "      <td>0</td>\n",
              "      <td>COVID19</td>\n",
              "    </tr>\n",
              "    <tr>\n",
              "      <th>1</th>\n",
              "      <td>COVID19/COVID19(387).jpg</td>\n",
              "      <td>0</td>\n",
              "      <td>COVID19</td>\n",
              "    </tr>\n",
              "    <tr>\n",
              "      <th>2</th>\n",
              "      <td>COVID19/COVID19(332).jpg</td>\n",
              "      <td>0</td>\n",
              "      <td>COVID19</td>\n",
              "    </tr>\n",
              "    <tr>\n",
              "      <th>3</th>\n",
              "      <td>COVID19/COVID19(23).jpg</td>\n",
              "      <td>0</td>\n",
              "      <td>COVID19</td>\n",
              "    </tr>\n",
              "    <tr>\n",
              "      <th>4</th>\n",
              "      <td>COVID19/COVID19(362).jpg</td>\n",
              "      <td>0</td>\n",
              "      <td>COVID19</td>\n",
              "    </tr>\n",
              "  </tbody>\n",
              "</table>\n",
              "</div>\n",
              "      <button class=\"colab-df-convert\" onclick=\"convertToInteractive('df-f29c6c44-750c-4395-b761-a5dc30c14d2f')\"\n",
              "              title=\"Convert this dataframe to an interactive table.\"\n",
              "              style=\"display:none;\">\n",
              "        \n",
              "  <svg xmlns=\"http://www.w3.org/2000/svg\" height=\"24px\"viewBox=\"0 0 24 24\"\n",
              "       width=\"24px\">\n",
              "    <path d=\"M0 0h24v24H0V0z\" fill=\"none\"/>\n",
              "    <path d=\"M18.56 5.44l.94 2.06.94-2.06 2.06-.94-2.06-.94-.94-2.06-.94 2.06-2.06.94zm-11 1L8.5 8.5l.94-2.06 2.06-.94-2.06-.94L8.5 2.5l-.94 2.06-2.06.94zm10 10l.94 2.06.94-2.06 2.06-.94-2.06-.94-.94-2.06-.94 2.06-2.06.94z\"/><path d=\"M17.41 7.96l-1.37-1.37c-.4-.4-.92-.59-1.43-.59-.52 0-1.04.2-1.43.59L10.3 9.45l-7.72 7.72c-.78.78-.78 2.05 0 2.83L4 21.41c.39.39.9.59 1.41.59.51 0 1.02-.2 1.41-.59l7.78-7.78 2.81-2.81c.8-.78.8-2.07 0-2.86zM5.41 20L4 18.59l7.72-7.72 1.47 1.35L5.41 20z\"/>\n",
              "  </svg>\n",
              "      </button>\n",
              "      \n",
              "  <style>\n",
              "    .colab-df-container {\n",
              "      display:flex;\n",
              "      flex-wrap:wrap;\n",
              "      gap: 12px;\n",
              "    }\n",
              "\n",
              "    .colab-df-convert {\n",
              "      background-color: #E8F0FE;\n",
              "      border: none;\n",
              "      border-radius: 50%;\n",
              "      cursor: pointer;\n",
              "      display: none;\n",
              "      fill: #1967D2;\n",
              "      height: 32px;\n",
              "      padding: 0 0 0 0;\n",
              "      width: 32px;\n",
              "    }\n",
              "\n",
              "    .colab-df-convert:hover {\n",
              "      background-color: #E2EBFA;\n",
              "      box-shadow: 0px 1px 2px rgba(60, 64, 67, 0.3), 0px 1px 3px 1px rgba(60, 64, 67, 0.15);\n",
              "      fill: #174EA6;\n",
              "    }\n",
              "\n",
              "    [theme=dark] .colab-df-convert {\n",
              "      background-color: #3B4455;\n",
              "      fill: #D2E3FC;\n",
              "    }\n",
              "\n",
              "    [theme=dark] .colab-df-convert:hover {\n",
              "      background-color: #434B5C;\n",
              "      box-shadow: 0px 1px 3px 1px rgba(0, 0, 0, 0.15);\n",
              "      filter: drop-shadow(0px 1px 2px rgba(0, 0, 0, 0.3));\n",
              "      fill: #FFFFFF;\n",
              "    }\n",
              "  </style>\n",
              "\n",
              "      <script>\n",
              "        const buttonEl =\n",
              "          document.querySelector('#df-f29c6c44-750c-4395-b761-a5dc30c14d2f button.colab-df-convert');\n",
              "        buttonEl.style.display =\n",
              "          google.colab.kernel.accessAllowed ? 'block' : 'none';\n",
              "\n",
              "        async function convertToInteractive(key) {\n",
              "          const element = document.querySelector('#df-f29c6c44-750c-4395-b761-a5dc30c14d2f');\n",
              "          const dataTable =\n",
              "            await google.colab.kernel.invokeFunction('convertToInteractive',\n",
              "                                                     [key], {});\n",
              "          if (!dataTable) return;\n",
              "\n",
              "          const docLinkHtml = 'Like what you see? Visit the ' +\n",
              "            '<a target=\"_blank\" href=https://colab.research.google.com/notebooks/data_table.ipynb>data table notebook</a>'\n",
              "            + ' to learn more about interactive tables.';\n",
              "          element.innerHTML = '';\n",
              "          dataTable['output_type'] = 'display_data';\n",
              "          await google.colab.output.renderOutput(dataTable, element);\n",
              "          const docLink = document.createElement('div');\n",
              "          docLink.innerHTML = docLinkHtml;\n",
              "          element.appendChild(docLink);\n",
              "        }\n",
              "      </script>\n",
              "    </div>\n",
              "  </div>\n",
              "  "
            ]
          },
          "metadata": {},
          "execution_count": 7
        }
      ]
    },
    {
      "cell_type": "code",
      "source": [
        "IMAGE_SIZE = 150\n",
        "def read_image(filepath):\n",
        "    return cv2.imread(os.path.join(data_dir, filepath)) \n",
        "def resize_image(image, image_size):\n",
        "    return cv2.resize(image.copy(), image_size, interpolation=cv2.INTER_AREA)"
      ],
      "metadata": {
        "id": "IYaexY71FgvY"
      },
      "execution_count": null,
      "outputs": []
    },
    {
      "cell_type": "code",
      "source": [
        "X_train = np.zeros((train.shape[0], IMAGE_SIZE, IMAGE_SIZE, 3))\n",
        "for i, file in tqdm(enumerate(train['File'].values)):\n",
        "    image = read_image(file)\n",
        "    if image is not None:\n",
        "        X_train[i] = resize_image(image, (IMAGE_SIZE, IMAGE_SIZE))\n",
        "X_Train = X_train / 255.\n",
        "print(X_Train.shape)"
      ],
      "metadata": {
        "id": "w_D3T_tXF4qN",
        "colab": {
          "base_uri": "https://localhost:8080/"
        },
        "outputId": "ed25d012-007a-457e-a31c-0bb944c54992"
      },
      "execution_count": null,
      "outputs": [
        {
          "output_type": "stream",
          "name": "stderr",
          "text": [
            "5144it [02:15, 37.83it/s]\n"
          ]
        },
        {
          "output_type": "stream",
          "name": "stdout",
          "text": [
            "(5144, 150, 150, 3)\n"
          ]
        }
      ]
    },
    {
      "cell_type": "code",
      "source": [
        "Y_train = train['ID'].values\n",
        "Y_train = to_categorical(Y_train, num_classes=3)"
      ],
      "metadata": {
        "id": "8EL-sdSMF7YE"
      },
      "execution_count": null,
      "outputs": []
    },
    {
      "cell_type": "code",
      "source": [
        "X_train, X_val, Y_train, Y_val = train_test_split(X_Train, Y_train, test_size=0.2)"
      ],
      "metadata": {
        "id": "lw0kPkUCHhqg"
      },
      "execution_count": null,
      "outputs": []
    },
    {
      "cell_type": "code",
      "source": [
        "BATCH_SIZE = 64\n",
        "EPOCHS = 100\n",
        "SIZE = 150\n",
        "N_ch=3"
      ],
      "metadata": {
        "id": "VC1NDQMhHkk6"
      },
      "execution_count": null,
      "outputs": []
    },
    {
      "cell_type": "code",
      "source": [
        "from keras.applications import vgg16\n",
        "def build_VGG16():\n",
        "    img_rows, img_cols = 150, 150  #image shape = 224 X 224\n",
        "\n",
        "    vgg = vgg16.VGG16(weights = 'imagenet', include_top = False, \n",
        "              input_shape = (img_rows, img_cols, 3)) # image net has more neurons but we have only 2 hence we are not using the top layer\n",
        "\n",
        "    # Here we freeze the last 4 layers \n",
        "    # Layers are set to trainable as True by default\n",
        "    for layer in vgg.layers:\n",
        "      layer.trainable = False  # just copies the weights \n",
        "    \n",
        "    # Let's print our layers \n",
        "    for (i,layer) in enumerate(vgg.layers):\n",
        "      print(str(i) + \" \"+ layer.__class__.__name__, layer.trainable)\n",
        "    \n",
        "    return vgg"
      ],
      "metadata": {
        "id": "jEJkx65YHw5B"
      },
      "execution_count": null,
      "outputs": []
    },
    {
      "cell_type": "code",
      "source": [
        "def lw(bottom_model, num_classes):\n",
        "    \"\"\"creates the top or head of the model that will be \n",
        "    placed ontop of the bottom layers\"\"\"\n",
        "\n",
        "    top_model = bottom_model.output\n",
        "    top_model = GlobalAveragePooling2D()(top_model)\n",
        "    top_model = Dense(1024,activation='relu')(top_model)\n",
        "    top_model = Dense(1024,activation='relu')(top_model)\n",
        "    top_model = Dense(1024,activation='relu')(top_model)\n",
        "    top_model = Dense(512,activation='relu')(top_model)\n",
        "    top_model = Dense(512,activation='relu')(top_model)\n",
        "    top_model = Dense(num_classes,activation='softmax')(top_model)\n",
        "    return top_model "
      ],
      "metadata": {
        "id": "GPlyw1aL8fXt"
      },
      "execution_count": null,
      "outputs": []
    },
    {
      "cell_type": "code",
      "source": [
        "model = build_VGG16()\n",
        "annealer = ReduceLROnPlateau(monitor='val_accuracy', factor=0.70, patience=5, verbose=1, min_lr=1e-4)\n",
        "checkpoint = ModelCheckpoint('vgg16_Model.hdf5', verbose=1, save_best_only=True)\n",
        "datagen = ImageDataGenerator(rotation_range=360, \n",
        "                        width_shift_range=0.2, \n",
        "                        height_shift_range=0.2,\n",
        "                        zoom_range=0.2, \n",
        "                        horizontal_flip=True, \n",
        "                        vertical_flip=True) \n",
        "\n",
        "datagen.fit(X_train)"
      ],
      "metadata": {
        "id": "m_-W-Ck6H2Yk",
        "colab": {
          "base_uri": "https://localhost:8080/"
        },
        "outputId": "365ee1d7-a140-4fb3-e0e8-e88cf8d47ddf"
      },
      "execution_count": null,
      "outputs": [
        {
          "output_type": "stream",
          "name": "stdout",
          "text": [
            "Downloading data from https://storage.googleapis.com/tensorflow/keras-applications/vgg16/vgg16_weights_tf_dim_ordering_tf_kernels_notop.h5\n",
            "58889256/58889256 [==============================] - 3s 0us/step\n",
            "0 InputLayer False\n",
            "1 Conv2D False\n",
            "2 Conv2D False\n",
            "3 MaxPooling2D False\n",
            "4 Conv2D False\n",
            "5 Conv2D False\n",
            "6 MaxPooling2D False\n",
            "7 Conv2D False\n",
            "8 Conv2D False\n",
            "9 Conv2D False\n",
            "10 MaxPooling2D False\n",
            "11 Conv2D False\n",
            "12 Conv2D False\n",
            "13 Conv2D False\n",
            "14 MaxPooling2D False\n",
            "15 Conv2D False\n",
            "16 Conv2D False\n",
            "17 Conv2D False\n",
            "18 MaxPooling2D False\n"
          ]
        }
      ]
    },
    {
      "cell_type": "code",
      "source": [
        "from keras.models import Sequential\n",
        "from keras.layers import Dense, Dropout, Activation, Flatten, GlobalAveragePooling2D\n",
        "from keras.layers import Conv2D, MaxPooling2D, ZeroPadding2D\n",
        "from keras.models import Model\n",
        "\n",
        "num_classes = 3\n",
        "FC_Head = lw(model, num_classes)\n",
        "model = Model(inputs = model.input, outputs = FC_Head)\n",
        "print(model.summary())"
      ],
      "metadata": {
        "colab": {
          "base_uri": "https://localhost:8080/"
        },
        "id": "tkCix50m8i56",
        "outputId": "60b552b0-299a-48bc-c53c-2fdaf4e2158d"
      },
      "execution_count": null,
      "outputs": [
        {
          "output_type": "stream",
          "name": "stdout",
          "text": [
            "Model: \"model\"\n",
            "_________________________________________________________________\n",
            " Layer (type)                Output Shape              Param #   \n",
            "=================================================================\n",
            " input_1 (InputLayer)        [(None, 150, 150, 3)]     0         \n",
            "                                                                 \n",
            " block1_conv1 (Conv2D)       (None, 150, 150, 64)      1792      \n",
            "                                                                 \n",
            " block1_conv2 (Conv2D)       (None, 150, 150, 64)      36928     \n",
            "                                                                 \n",
            " block1_pool (MaxPooling2D)  (None, 75, 75, 64)        0         \n",
            "                                                                 \n",
            " block2_conv1 (Conv2D)       (None, 75, 75, 128)       73856     \n",
            "                                                                 \n",
            " block2_conv2 (Conv2D)       (None, 75, 75, 128)       147584    \n",
            "                                                                 \n",
            " block2_pool (MaxPooling2D)  (None, 37, 37, 128)       0         \n",
            "                                                                 \n",
            " block3_conv1 (Conv2D)       (None, 37, 37, 256)       295168    \n",
            "                                                                 \n",
            " block3_conv2 (Conv2D)       (None, 37, 37, 256)       590080    \n",
            "                                                                 \n",
            " block3_conv3 (Conv2D)       (None, 37, 37, 256)       590080    \n",
            "                                                                 \n",
            " block3_pool (MaxPooling2D)  (None, 18, 18, 256)       0         \n",
            "                                                                 \n",
            " block4_conv1 (Conv2D)       (None, 18, 18, 512)       1180160   \n",
            "                                                                 \n",
            " block4_conv2 (Conv2D)       (None, 18, 18, 512)       2359808   \n",
            "                                                                 \n",
            " block4_conv3 (Conv2D)       (None, 18, 18, 512)       2359808   \n",
            "                                                                 \n",
            " block4_pool (MaxPooling2D)  (None, 9, 9, 512)         0         \n",
            "                                                                 \n",
            " block5_conv1 (Conv2D)       (None, 9, 9, 512)         2359808   \n",
            "                                                                 \n",
            " block5_conv2 (Conv2D)       (None, 9, 9, 512)         2359808   \n",
            "                                                                 \n",
            " block5_conv3 (Conv2D)       (None, 9, 9, 512)         2359808   \n",
            "                                                                 \n",
            " block5_pool (MaxPooling2D)  (None, 4, 4, 512)         0         \n",
            "                                                                 \n",
            " global_average_pooling2d (G  (None, 512)              0         \n",
            " lobalAveragePooling2D)                                          \n",
            "                                                                 \n",
            " dense (Dense)               (None, 1024)              525312    \n",
            "                                                                 \n",
            " dense_1 (Dense)             (None, 1024)              1049600   \n",
            "                                                                 \n",
            " dense_2 (Dense)             (None, 1024)              1049600   \n",
            "                                                                 \n",
            " dense_3 (Dense)             (None, 512)               524800    \n",
            "                                                                 \n",
            " dense_4 (Dense)             (None, 512)               262656    \n",
            "                                                                 \n",
            " dense_5 (Dense)             (None, 3)                 1539      \n",
            "                                                                 \n",
            "=================================================================\n",
            "Total params: 18,128,195\n",
            "Trainable params: 3,413,507\n",
            "Non-trainable params: 14,714,688\n",
            "_________________________________________________________________\n",
            "None\n"
          ]
        }
      ]
    },
    {
      "cell_type": "code",
      "source": [
        "optimizer = Adam(lr=0.003, beta_1=0.9, beta_2=0.999, epsilon=0.1, decay=0.0)\n",
        "model.compile(loss = 'categorical_crossentropy', optimizer=optimizer,metrics = ['accuracy'])"
      ],
      "metadata": {
        "colab": {
          "base_uri": "https://localhost:8080/"
        },
        "id": "swTyz0lM87f8",
        "outputId": "5ee8a4b1-b4dd-49b8-f7d9-ca96d083177e"
      },
      "execution_count": null,
      "outputs": [
        {
          "output_type": "stream",
          "name": "stderr",
          "text": [
            "/usr/local/lib/python3.8/dist-packages/keras/optimizers/optimizer_v2/adam.py:110: UserWarning: The `lr` argument is deprecated, use `learning_rate` instead.\n",
            "  super(Adam, self).__init__(name, **kwargs)\n"
          ]
        }
      ]
    },
    {
      "cell_type": "code",
      "source": [
        "X_train.shape[0]\n",
        "history = model.fit_generator(datagen.flow(X_train, Y_train, batch_size=BATCH_SIZE),\n",
        "               steps_per_epoch=50,\n",
        "               epochs=EPOCHS,\n",
        "               verbose=1,\n",
        "               callbacks=[annealer, checkpoint],\n",
        "               validation_data=(X_val, Y_val))"
      ],
      "metadata": {
        "id": "KpsDnAPAH8wW",
        "colab": {
          "base_uri": "https://localhost:8080/"
        },
        "outputId": "7dface59-1bd0-41a7-c238-98fb196caea4"
      },
      "execution_count": null,
      "outputs": [
        {
          "output_type": "stream",
          "name": "stderr",
          "text": [
            "<ipython-input-18-936b17a111b1>:2: UserWarning: `Model.fit_generator` is deprecated and will be removed in a future version. Please use `Model.fit`, which supports generators.\n",
            "  history = model.fit_generator(datagen.flow(X_train, Y_train, batch_size=BATCH_SIZE),\n"
          ]
        },
        {
          "output_type": "stream",
          "name": "stdout",
          "text": [
            "Epoch 1/100\n",
            "50/50 [==============================] - ETA: 0s - loss: 0.9114 - accuracy: 0.6136\n",
            "Epoch 1: val_loss improved from inf to 0.84561, saving model to vgg16_Model.hdf5\n",
            "50/50 [==============================] - 35s 474ms/step - loss: 0.9114 - accuracy: 0.6136 - val_loss: 0.8456 - val_accuracy: 0.6569 - lr: 0.0030\n",
            "Epoch 2/100\n",
            "50/50 [==============================] - ETA: 0s - loss: 0.8195 - accuracy: 0.6583\n",
            "Epoch 2: val_loss improved from 0.84561 to 0.82606, saving model to vgg16_Model.hdf5\n",
            "50/50 [==============================] - 20s 398ms/step - loss: 0.8195 - accuracy: 0.6583 - val_loss: 0.8261 - val_accuracy: 0.6569 - lr: 0.0030\n",
            "Epoch 3/100\n",
            "50/50 [==============================] - ETA: 0s - loss: 0.7884 - accuracy: 0.6605\n",
            "Epoch 3: val_loss improved from 0.82606 to 0.80019, saving model to vgg16_Model.hdf5\n",
            "50/50 [==============================] - 20s 399ms/step - loss: 0.7884 - accuracy: 0.6605 - val_loss: 0.8002 - val_accuracy: 0.6569 - lr: 0.0030\n",
            "Epoch 4/100\n",
            "50/50 [==============================] - ETA: 0s - loss: 0.7515 - accuracy: 0.6640\n",
            "Epoch 4: val_loss improved from 0.80019 to 0.76279, saving model to vgg16_Model.hdf5\n",
            "50/50 [==============================] - 20s 394ms/step - loss: 0.7515 - accuracy: 0.6640 - val_loss: 0.7628 - val_accuracy: 0.6569 - lr: 0.0030\n",
            "Epoch 5/100\n",
            "50/50 [==============================] - ETA: 0s - loss: 0.6957 - accuracy: 0.6931\n",
            "Epoch 5: val_loss improved from 0.76279 to 0.71976, saving model to vgg16_Model.hdf5\n",
            "50/50 [==============================] - 20s 399ms/step - loss: 0.6957 - accuracy: 0.6931 - val_loss: 0.7198 - val_accuracy: 0.7298 - lr: 0.0030\n",
            "Epoch 6/100\n",
            "50/50 [==============================] - ETA: 0s - loss: 0.6470 - accuracy: 0.7300\n",
            "Epoch 6: val_loss improved from 0.71976 to 0.64146, saving model to vgg16_Model.hdf5\n",
            "50/50 [==============================] - 20s 396ms/step - loss: 0.6470 - accuracy: 0.7300 - val_loss: 0.6415 - val_accuracy: 0.7580 - lr: 0.0030\n",
            "Epoch 7/100\n",
            "50/50 [==============================] - ETA: 0s - loss: 0.5894 - accuracy: 0.7639\n",
            "Epoch 7: val_loss improved from 0.64146 to 0.58832, saving model to vgg16_Model.hdf5\n",
            "50/50 [==============================] - 20s 400ms/step - loss: 0.5894 - accuracy: 0.7639 - val_loss: 0.5883 - val_accuracy: 0.7609 - lr: 0.0030\n",
            "Epoch 8/100\n",
            "50/50 [==============================] - ETA: 0s - loss: 0.5862 - accuracy: 0.7490\n",
            "Epoch 8: val_loss improved from 0.58832 to 0.56563, saving model to vgg16_Model.hdf5\n",
            "50/50 [==============================] - 20s 396ms/step - loss: 0.5862 - accuracy: 0.7490 - val_loss: 0.5656 - val_accuracy: 0.7716 - lr: 0.0030\n",
            "Epoch 9/100\n",
            "50/50 [==============================] - ETA: 0s - loss: 0.5371 - accuracy: 0.7810\n",
            "Epoch 9: val_loss improved from 0.56563 to 0.55266, saving model to vgg16_Model.hdf5\n",
            "50/50 [==============================] - 23s 450ms/step - loss: 0.5371 - accuracy: 0.7810 - val_loss: 0.5527 - val_accuracy: 0.7979 - lr: 0.0030\n",
            "Epoch 10/100\n",
            "50/50 [==============================] - ETA: 0s - loss: 0.5379 - accuracy: 0.7784\n",
            "Epoch 10: val_loss did not improve from 0.55266\n",
            "50/50 [==============================] - 19s 386ms/step - loss: 0.5379 - accuracy: 0.7784 - val_loss: 0.5816 - val_accuracy: 0.7687 - lr: 0.0030\n",
            "Epoch 11/100\n",
            "50/50 [==============================] - ETA: 0s - loss: 0.5267 - accuracy: 0.7873\n",
            "Epoch 11: val_loss did not improve from 0.55266\n",
            "50/50 [==============================] - 19s 388ms/step - loss: 0.5267 - accuracy: 0.7873 - val_loss: 0.6041 - val_accuracy: 0.7502 - lr: 0.0030\n",
            "Epoch 12/100\n",
            "50/50 [==============================] - ETA: 0s - loss: 0.5101 - accuracy: 0.7949\n",
            "Epoch 12: val_loss improved from 0.55266 to 0.49651, saving model to vgg16_Model.hdf5\n",
            "50/50 [==============================] - 20s 393ms/step - loss: 0.5101 - accuracy: 0.7949 - val_loss: 0.4965 - val_accuracy: 0.8115 - lr: 0.0030\n",
            "Epoch 13/100\n",
            "50/50 [==============================] - ETA: 0s - loss: 0.5181 - accuracy: 0.7899\n",
            "Epoch 13: val_loss did not improve from 0.49651\n",
            "50/50 [==============================] - 19s 388ms/step - loss: 0.5181 - accuracy: 0.7899 - val_loss: 0.5491 - val_accuracy: 0.7697 - lr: 0.0030\n",
            "Epoch 14/100\n",
            "50/50 [==============================] - ETA: 0s - loss: 0.4763 - accuracy: 0.8075\n",
            "Epoch 14: val_loss improved from 0.49651 to 0.46350, saving model to vgg16_Model.hdf5\n",
            "50/50 [==============================] - 20s 401ms/step - loss: 0.4763 - accuracy: 0.8075 - val_loss: 0.4635 - val_accuracy: 0.8192 - lr: 0.0030\n",
            "Epoch 15/100\n",
            "50/50 [==============================] - ETA: 0s - loss: 0.4687 - accuracy: 0.8143\n",
            "Epoch 15: val_loss did not improve from 0.46350\n",
            "50/50 [==============================] - 19s 386ms/step - loss: 0.4687 - accuracy: 0.8143 - val_loss: 0.4974 - val_accuracy: 0.7852 - lr: 0.0030\n",
            "Epoch 16/100\n",
            "50/50 [==============================] - ETA: 0s - loss: 0.4790 - accuracy: 0.8006\n",
            "Epoch 16: val_loss did not improve from 0.46350\n",
            "50/50 [==============================] - 20s 394ms/step - loss: 0.4790 - accuracy: 0.8006 - val_loss: 0.5133 - val_accuracy: 0.7823 - lr: 0.0030\n",
            "Epoch 17/100\n",
            "50/50 [==============================] - ETA: 0s - loss: 0.4634 - accuracy: 0.8136\n",
            "Epoch 17: val_loss did not improve from 0.46350\n",
            "50/50 [==============================] - 20s 391ms/step - loss: 0.4634 - accuracy: 0.8136 - val_loss: 0.5275 - val_accuracy: 0.7862 - lr: 0.0030\n",
            "Epoch 18/100\n",
            "50/50 [==============================] - ETA: 0s - loss: 0.4458 - accuracy: 0.8120\n",
            "Epoch 18: val_loss did not improve from 0.46350\n",
            "50/50 [==============================] - 20s 391ms/step - loss: 0.4458 - accuracy: 0.8120 - val_loss: 0.4988 - val_accuracy: 0.7736 - lr: 0.0030\n",
            "Epoch 19/100\n",
            "50/50 [==============================] - ETA: 0s - loss: 0.4374 - accuracy: 0.8203\n",
            "Epoch 19: val_loss improved from 0.46350 to 0.42337, saving model to vgg16_Model.hdf5\n",
            "50/50 [==============================] - 20s 393ms/step - loss: 0.4374 - accuracy: 0.8203 - val_loss: 0.4234 - val_accuracy: 0.8290 - lr: 0.0030\n",
            "Epoch 20/100\n",
            "50/50 [==============================] - ETA: 0s - loss: 0.4276 - accuracy: 0.8247\n",
            "Epoch 20: val_loss improved from 0.42337 to 0.40418, saving model to vgg16_Model.hdf5\n",
            "50/50 [==============================] - 20s 392ms/step - loss: 0.4276 - accuracy: 0.8247 - val_loss: 0.4042 - val_accuracy: 0.8348 - lr: 0.0030\n",
            "Epoch 21/100\n",
            "50/50 [==============================] - ETA: 0s - loss: 0.4538 - accuracy: 0.8108\n",
            "Epoch 21: val_loss did not improve from 0.40418\n",
            "50/50 [==============================] - 19s 389ms/step - loss: 0.4538 - accuracy: 0.8108 - val_loss: 0.4238 - val_accuracy: 0.8377 - lr: 0.0030\n",
            "Epoch 22/100\n",
            "50/50 [==============================] - ETA: 0s - loss: 0.3991 - accuracy: 0.8418\n",
            "Epoch 22: val_loss did not improve from 0.40418\n",
            "50/50 [==============================] - 19s 387ms/step - loss: 0.3991 - accuracy: 0.8418 - val_loss: 0.4477 - val_accuracy: 0.8202 - lr: 0.0030\n",
            "Epoch 23/100\n",
            "50/50 [==============================] - ETA: 0s - loss: 0.4178 - accuracy: 0.8349\n",
            "Epoch 23: val_loss improved from 0.40418 to 0.36536, saving model to vgg16_Model.hdf5\n",
            "50/50 [==============================] - 20s 393ms/step - loss: 0.4178 - accuracy: 0.8349 - val_loss: 0.3654 - val_accuracy: 0.8571 - lr: 0.0030\n",
            "Epoch 24/100\n",
            "50/50 [==============================] - ETA: 0s - loss: 0.4101 - accuracy: 0.8333\n",
            "Epoch 24: val_loss did not improve from 0.36536\n",
            "50/50 [==============================] - 22s 427ms/step - loss: 0.4101 - accuracy: 0.8333 - val_loss: 0.3658 - val_accuracy: 0.8552 - lr: 0.0030\n",
            "Epoch 25/100\n",
            "50/50 [==============================] - ETA: 0s - loss: 0.4057 - accuracy: 0.8361\n",
            "Epoch 25: val_loss improved from 0.36536 to 0.36187, saving model to vgg16_Model.hdf5\n",
            "50/50 [==============================] - 20s 390ms/step - loss: 0.4057 - accuracy: 0.8361 - val_loss: 0.3619 - val_accuracy: 0.8552 - lr: 0.0030\n",
            "Epoch 26/100\n",
            "50/50 [==============================] - ETA: 0s - loss: 0.3924 - accuracy: 0.8431\n",
            "Epoch 26: val_loss did not improve from 0.36187\n",
            "50/50 [==============================] - 19s 386ms/step - loss: 0.3924 - accuracy: 0.8431 - val_loss: 0.4382 - val_accuracy: 0.8202 - lr: 0.0030\n",
            "Epoch 27/100\n",
            "50/50 [==============================] - ETA: 0s - loss: 0.3632 - accuracy: 0.8523\n",
            "Epoch 27: val_loss did not improve from 0.36187\n",
            "50/50 [==============================] - 19s 387ms/step - loss: 0.3632 - accuracy: 0.8523 - val_loss: 0.4371 - val_accuracy: 0.8222 - lr: 0.0030\n",
            "Epoch 28/100\n",
            "50/50 [==============================] - ETA: 0s - loss: 0.3878 - accuracy: 0.8453\n",
            "Epoch 28: ReduceLROnPlateau reducing learning rate to 0.002100000018253922.\n",
            "\n",
            "Epoch 28: val_loss improved from 0.36187 to 0.35886, saving model to vgg16_Model.hdf5\n",
            "50/50 [==============================] - 20s 399ms/step - loss: 0.3878 - accuracy: 0.8453 - val_loss: 0.3589 - val_accuracy: 0.8562 - lr: 0.0030\n",
            "Epoch 29/100\n",
            "50/50 [==============================] - ETA: 0s - loss: 0.3735 - accuracy: 0.8517\n",
            "Epoch 29: val_loss did not improve from 0.35886\n",
            "50/50 [==============================] - 19s 386ms/step - loss: 0.3735 - accuracy: 0.8517 - val_loss: 0.3722 - val_accuracy: 0.8426 - lr: 0.0021\n",
            "Epoch 30/100\n",
            "50/50 [==============================] - ETA: 0s - loss: 0.3950 - accuracy: 0.8415\n",
            "Epoch 30: val_loss did not improve from 0.35886\n",
            "50/50 [==============================] - 20s 389ms/step - loss: 0.3950 - accuracy: 0.8415 - val_loss: 0.3691 - val_accuracy: 0.8455 - lr: 0.0021\n",
            "Epoch 31/100\n",
            "50/50 [==============================] - ETA: 0s - loss: 0.3653 - accuracy: 0.8566\n",
            "Epoch 31: val_loss did not improve from 0.35886\n",
            "50/50 [==============================] - 20s 392ms/step - loss: 0.3653 - accuracy: 0.8566 - val_loss: 0.4390 - val_accuracy: 0.8231 - lr: 0.0021\n",
            "Epoch 32/100\n",
            "50/50 [==============================] - ETA: 0s - loss: 0.3724 - accuracy: 0.8488\n",
            "Epoch 32: val_loss improved from 0.35886 to 0.34128, saving model to vgg16_Model.hdf5\n",
            "50/50 [==============================] - 20s 393ms/step - loss: 0.3724 - accuracy: 0.8488 - val_loss: 0.3413 - val_accuracy: 0.8571 - lr: 0.0021\n",
            "Epoch 33/100\n",
            "50/50 [==============================] - ETA: 0s - loss: 0.3591 - accuracy: 0.8567\n",
            "Epoch 33: val_loss improved from 0.34128 to 0.33274, saving model to vgg16_Model.hdf5\n",
            "50/50 [==============================] - 20s 391ms/step - loss: 0.3591 - accuracy: 0.8567 - val_loss: 0.3327 - val_accuracy: 0.8639 - lr: 0.0021\n",
            "Epoch 34/100\n",
            "50/50 [==============================] - ETA: 0s - loss: 0.3551 - accuracy: 0.8596\n",
            "Epoch 34: val_loss did not improve from 0.33274\n",
            "50/50 [==============================] - 20s 394ms/step - loss: 0.3551 - accuracy: 0.8596 - val_loss: 0.3461 - val_accuracy: 0.8552 - lr: 0.0021\n",
            "Epoch 35/100\n",
            "50/50 [==============================] - ETA: 0s - loss: 0.3568 - accuracy: 0.8586\n",
            "Epoch 35: val_loss did not improve from 0.33274\n",
            "50/50 [==============================] - 20s 394ms/step - loss: 0.3568 - accuracy: 0.8586 - val_loss: 0.3648 - val_accuracy: 0.8397 - lr: 0.0021\n",
            "Epoch 36/100\n",
            "50/50 [==============================] - ETA: 0s - loss: 0.3650 - accuracy: 0.8553\n",
            "Epoch 36: val_loss did not improve from 0.33274\n",
            "50/50 [==============================] - 20s 397ms/step - loss: 0.3650 - accuracy: 0.8553 - val_loss: 0.3618 - val_accuracy: 0.8435 - lr: 0.0021\n",
            "Epoch 37/100\n",
            "50/50 [==============================] - ETA: 0s - loss: 0.3516 - accuracy: 0.8564\n",
            "Epoch 37: val_loss did not improve from 0.33274\n",
            "50/50 [==============================] - 21s 417ms/step - loss: 0.3516 - accuracy: 0.8564 - val_loss: 0.4254 - val_accuracy: 0.8212 - lr: 0.0021\n",
            "Epoch 38/100\n",
            "50/50 [==============================] - ETA: 0s - loss: 0.3540 - accuracy: 0.8558\n",
            "Epoch 38: ReduceLROnPlateau reducing learning rate to 0.0014699999475851653.\n",
            "\n",
            "Epoch 38: val_loss did not improve from 0.33274\n",
            "50/50 [==============================] - 20s 392ms/step - loss: 0.3540 - accuracy: 0.8558 - val_loss: 0.3807 - val_accuracy: 0.8406 - lr: 0.0021\n",
            "Epoch 39/100\n",
            "50/50 [==============================] - ETA: 0s - loss: 0.3315 - accuracy: 0.8681\n",
            "Epoch 39: val_loss did not improve from 0.33274\n",
            "50/50 [==============================] - 20s 396ms/step - loss: 0.3315 - accuracy: 0.8681 - val_loss: 0.3360 - val_accuracy: 0.8630 - lr: 0.0015\n",
            "Epoch 40/100\n",
            "50/50 [==============================] - ETA: 0s - loss: 0.3562 - accuracy: 0.8571\n",
            "Epoch 40: val_loss did not improve from 0.33274\n",
            "50/50 [==============================] - 20s 390ms/step - loss: 0.3562 - accuracy: 0.8571 - val_loss: 0.3609 - val_accuracy: 0.8533 - lr: 0.0015\n",
            "Epoch 41/100\n",
            "50/50 [==============================] - ETA: 0s - loss: 0.3635 - accuracy: 0.8545\n",
            "Epoch 41: val_loss improved from 0.33274 to 0.32593, saving model to vgg16_Model.hdf5\n",
            "50/50 [==============================] - 20s 397ms/step - loss: 0.3635 - accuracy: 0.8545 - val_loss: 0.3259 - val_accuracy: 0.8610 - lr: 0.0015\n",
            "Epoch 42/100\n",
            "50/50 [==============================] - ETA: 0s - loss: 0.3274 - accuracy: 0.8662\n",
            "Epoch 42: val_loss did not improve from 0.32593\n",
            "50/50 [==============================] - 20s 391ms/step - loss: 0.3274 - accuracy: 0.8662 - val_loss: 0.3485 - val_accuracy: 0.8552 - lr: 0.0015\n",
            "Epoch 43/100\n",
            "50/50 [==============================] - ETA: 0s - loss: 0.3531 - accuracy: 0.8643\n",
            "Epoch 43: ReduceLROnPlateau reducing learning rate to 0.0010289999307133257.\n",
            "\n",
            "Epoch 43: val_loss did not improve from 0.32593\n",
            "50/50 [==============================] - 19s 388ms/step - loss: 0.3531 - accuracy: 0.8643 - val_loss: 0.4124 - val_accuracy: 0.8328 - lr: 0.0015\n",
            "Epoch 44/100\n",
            "50/50 [==============================] - ETA: 0s - loss: 0.3389 - accuracy: 0.8666\n",
            "Epoch 44: val_loss did not improve from 0.32593\n",
            "50/50 [==============================] - 20s 394ms/step - loss: 0.3389 - accuracy: 0.8666 - val_loss: 0.3533 - val_accuracy: 0.8494 - lr: 0.0010\n",
            "Epoch 45/100\n",
            "50/50 [==============================] - ETA: 0s - loss: 0.3430 - accuracy: 0.8600\n",
            "Epoch 45: val_loss did not improve from 0.32593\n",
            "50/50 [==============================] - 20s 400ms/step - loss: 0.3430 - accuracy: 0.8600 - val_loss: 0.3499 - val_accuracy: 0.8513 - lr: 0.0010\n",
            "Epoch 46/100\n",
            "50/50 [==============================] - ETA: 0s - loss: 0.3496 - accuracy: 0.8556\n",
            "Epoch 46: val_loss did not improve from 0.32593\n",
            "50/50 [==============================] - 20s 398ms/step - loss: 0.3496 - accuracy: 0.8556 - val_loss: 0.3613 - val_accuracy: 0.8465 - lr: 0.0010\n",
            "Epoch 47/100\n",
            "50/50 [==============================] - ETA: 0s - loss: 0.3308 - accuracy: 0.8726\n",
            "Epoch 47: val_loss did not improve from 0.32593\n",
            "50/50 [==============================] - 19s 389ms/step - loss: 0.3308 - accuracy: 0.8726 - val_loss: 0.3798 - val_accuracy: 0.8474 - lr: 0.0010\n",
            "Epoch 48/100\n",
            "50/50 [==============================] - ETA: 0s - loss: 0.3106 - accuracy: 0.8773\n",
            "Epoch 48: ReduceLROnPlateau reducing learning rate to 0.0007202999433502554.\n",
            "\n",
            "Epoch 48: val_loss improved from 0.32593 to 0.31707, saving model to vgg16_Model.hdf5\n",
            "50/50 [==============================] - 20s 397ms/step - loss: 0.3106 - accuracy: 0.8773 - val_loss: 0.3171 - val_accuracy: 0.8639 - lr: 0.0010\n",
            "Epoch 49/100\n",
            "50/50 [==============================] - ETA: 0s - loss: 0.3200 - accuracy: 0.8700\n",
            "Epoch 49: val_loss did not improve from 0.31707\n",
            "50/50 [==============================] - 19s 388ms/step - loss: 0.3200 - accuracy: 0.8700 - val_loss: 0.3421 - val_accuracy: 0.8581 - lr: 7.2030e-04\n",
            "Epoch 50/100\n",
            "50/50 [==============================] - ETA: 0s - loss: 0.3039 - accuracy: 0.8834\n",
            "Epoch 50: val_loss improved from 0.31707 to 0.31190, saving model to vgg16_Model.hdf5\n",
            "50/50 [==============================] - 20s 400ms/step - loss: 0.3039 - accuracy: 0.8834 - val_loss: 0.3119 - val_accuracy: 0.8630 - lr: 7.2030e-04\n",
            "Epoch 51/100\n",
            "50/50 [==============================] - ETA: 0s - loss: 0.3053 - accuracy: 0.8777\n",
            "Epoch 51: val_loss did not improve from 0.31190\n",
            "50/50 [==============================] - 20s 399ms/step - loss: 0.3053 - accuracy: 0.8777 - val_loss: 0.3251 - val_accuracy: 0.8562 - lr: 7.2030e-04\n",
            "Epoch 52/100\n",
            "50/50 [==============================] - ETA: 0s - loss: 0.3000 - accuracy: 0.8777\n",
            "Epoch 52: val_loss did not improve from 0.31190\n",
            "50/50 [==============================] - 20s 394ms/step - loss: 0.3000 - accuracy: 0.8777 - val_loss: 0.3162 - val_accuracy: 0.8620 - lr: 7.2030e-04\n",
            "Epoch 53/100\n",
            "50/50 [==============================] - ETA: 0s - loss: 0.3200 - accuracy: 0.8710\n",
            "Epoch 53: ReduceLROnPlateau reducing learning rate to 0.0005042099684942513.\n",
            "\n",
            "Epoch 53: val_loss did not improve from 0.31190\n",
            "50/50 [==============================] - 19s 388ms/step - loss: 0.3200 - accuracy: 0.8710 - val_loss: 0.3129 - val_accuracy: 0.8630 - lr: 7.2030e-04\n",
            "Epoch 54/100\n",
            "50/50 [==============================] - ETA: 0s - loss: 0.3208 - accuracy: 0.8672\n",
            "Epoch 54: val_loss did not improve from 0.31190\n",
            "50/50 [==============================] - 19s 386ms/step - loss: 0.3208 - accuracy: 0.8672 - val_loss: 0.3249 - val_accuracy: 0.8581 - lr: 5.0421e-04\n",
            "Epoch 55/100\n",
            "50/50 [==============================] - ETA: 0s - loss: 0.3118 - accuracy: 0.8691\n",
            "Epoch 55: val_loss improved from 0.31190 to 0.30383, saving model to vgg16_Model.hdf5\n",
            "50/50 [==============================] - 20s 392ms/step - loss: 0.3118 - accuracy: 0.8691 - val_loss: 0.3038 - val_accuracy: 0.8669 - lr: 5.0421e-04\n",
            "Epoch 56/100\n",
            "50/50 [==============================] - ETA: 0s - loss: 0.3193 - accuracy: 0.8827\n",
            "Epoch 56: val_loss did not improve from 0.30383\n",
            "50/50 [==============================] - 20s 391ms/step - loss: 0.3193 - accuracy: 0.8827 - val_loss: 0.3388 - val_accuracy: 0.8542 - lr: 5.0421e-04\n",
            "Epoch 57/100\n",
            "50/50 [==============================] - ETA: 0s - loss: 0.3187 - accuracy: 0.8781\n",
            "Epoch 57: val_loss did not improve from 0.30383\n",
            "50/50 [==============================] - 20s 397ms/step - loss: 0.3187 - accuracy: 0.8781 - val_loss: 0.3434 - val_accuracy: 0.8552 - lr: 5.0421e-04\n",
            "Epoch 58/100\n",
            "50/50 [==============================] - ETA: 0s - loss: 0.3337 - accuracy: 0.8691\n",
            "Epoch 58: val_loss did not improve from 0.30383\n",
            "50/50 [==============================] - 19s 388ms/step - loss: 0.3337 - accuracy: 0.8691 - val_loss: 0.3113 - val_accuracy: 0.8649 - lr: 5.0421e-04\n",
            "Epoch 59/100\n",
            "50/50 [==============================] - ETA: 0s - loss: 0.3293 - accuracy: 0.8700\n",
            "Epoch 59: val_loss did not improve from 0.30383\n",
            "50/50 [==============================] - 19s 387ms/step - loss: 0.3293 - accuracy: 0.8700 - val_loss: 0.3378 - val_accuracy: 0.8639 - lr: 5.0421e-04\n",
            "Epoch 60/100\n",
            "50/50 [==============================] - ETA: 0s - loss: 0.3241 - accuracy: 0.8637\n",
            "Epoch 60: ReduceLROnPlateau reducing learning rate to 0.0003529469657223671.\n",
            "\n",
            "Epoch 60: val_loss did not improve from 0.30383\n",
            "50/50 [==============================] - 19s 388ms/step - loss: 0.3241 - accuracy: 0.8637 - val_loss: 0.3371 - val_accuracy: 0.8552 - lr: 5.0421e-04\n",
            "Epoch 61/100\n",
            "50/50 [==============================] - ETA: 0s - loss: 0.3149 - accuracy: 0.8697\n",
            "Epoch 61: val_loss did not improve from 0.30383\n",
            "50/50 [==============================] - 20s 390ms/step - loss: 0.3149 - accuracy: 0.8697 - val_loss: 0.3170 - val_accuracy: 0.8649 - lr: 3.5295e-04\n",
            "Epoch 62/100\n",
            "50/50 [==============================] - ETA: 0s - loss: 0.3027 - accuracy: 0.8745\n",
            "Epoch 62: val_loss did not improve from 0.30383\n",
            "50/50 [==============================] - 20s 392ms/step - loss: 0.3027 - accuracy: 0.8745 - val_loss: 0.3363 - val_accuracy: 0.8630 - lr: 3.5295e-04\n",
            "Epoch 63/100\n",
            "50/50 [==============================] - ETA: 0s - loss: 0.3070 - accuracy: 0.8780\n",
            "Epoch 63: val_loss did not improve from 0.30383\n",
            "50/50 [==============================] - 20s 396ms/step - loss: 0.3070 - accuracy: 0.8780 - val_loss: 0.3081 - val_accuracy: 0.8669 - lr: 3.5295e-04\n",
            "Epoch 64/100\n",
            "50/50 [==============================] - ETA: 0s - loss: 0.3011 - accuracy: 0.8803\n",
            "Epoch 64: val_loss improved from 0.30383 to 0.30160, saving model to vgg16_Model.hdf5\n",
            "50/50 [==============================] - 20s 402ms/step - loss: 0.3011 - accuracy: 0.8803 - val_loss: 0.3016 - val_accuracy: 0.8649 - lr: 3.5295e-04\n",
            "Epoch 65/100\n",
            "50/50 [==============================] - ETA: 0s - loss: 0.3067 - accuracy: 0.8811\n",
            "Epoch 65: ReduceLROnPlateau reducing learning rate to 0.0002470628678565845.\n",
            "\n",
            "Epoch 65: val_loss did not improve from 0.30160\n",
            "50/50 [==============================] - 22s 438ms/step - loss: 0.3067 - accuracy: 0.8811 - val_loss: 0.3185 - val_accuracy: 0.8620 - lr: 3.5295e-04\n",
            "Epoch 66/100\n",
            "50/50 [==============================] - ETA: 0s - loss: 0.3129 - accuracy: 0.8764\n",
            "Epoch 66: val_loss did not improve from 0.30160\n",
            "50/50 [==============================] - 19s 388ms/step - loss: 0.3129 - accuracy: 0.8764 - val_loss: 0.3194 - val_accuracy: 0.8601 - lr: 2.4706e-04\n",
            "Epoch 67/100\n",
            "50/50 [==============================] - ETA: 0s - loss: 0.3067 - accuracy: 0.8808\n",
            "Epoch 67: val_loss did not improve from 0.30160\n",
            "50/50 [==============================] - 20s 397ms/step - loss: 0.3067 - accuracy: 0.8808 - val_loss: 0.3037 - val_accuracy: 0.8678 - lr: 2.4706e-04\n",
            "Epoch 68/100\n",
            "50/50 [==============================] - ETA: 0s - loss: 0.3140 - accuracy: 0.8775\n",
            "Epoch 68: val_loss did not improve from 0.30160\n",
            "50/50 [==============================] - 20s 395ms/step - loss: 0.3140 - accuracy: 0.8775 - val_loss: 0.3144 - val_accuracy: 0.8659 - lr: 2.4706e-04\n",
            "Epoch 69/100\n",
            "50/50 [==============================] - ETA: 0s - loss: 0.2937 - accuracy: 0.8856\n",
            "Epoch 69: val_loss did not improve from 0.30160\n",
            "50/50 [==============================] - 19s 385ms/step - loss: 0.2937 - accuracy: 0.8856 - val_loss: 0.3114 - val_accuracy: 0.8698 - lr: 2.4706e-04\n",
            "Epoch 70/100\n",
            "50/50 [==============================] - ETA: 0s - loss: 0.2956 - accuracy: 0.8843\n",
            "Epoch 70: val_loss did not improve from 0.30160\n",
            "50/50 [==============================] - 20s 390ms/step - loss: 0.2956 - accuracy: 0.8843 - val_loss: 0.3213 - val_accuracy: 0.8630 - lr: 2.4706e-04\n",
            "Epoch 71/100\n",
            "50/50 [==============================] - ETA: 0s - loss: 0.3063 - accuracy: 0.8837\n",
            "Epoch 71: val_loss did not improve from 0.30160\n",
            "50/50 [==============================] - 20s 390ms/step - loss: 0.3063 - accuracy: 0.8837 - val_loss: 0.3113 - val_accuracy: 0.8678 - lr: 2.4706e-04\n",
            "Epoch 72/100\n",
            "50/50 [==============================] - ETA: 0s - loss: 0.2993 - accuracy: 0.8840\n",
            "Epoch 72: val_loss improved from 0.30160 to 0.29548, saving model to vgg16_Model.hdf5\n",
            "50/50 [==============================] - 20s 391ms/step - loss: 0.2993 - accuracy: 0.8840 - val_loss: 0.2955 - val_accuracy: 0.8727 - lr: 2.4706e-04\n",
            "Epoch 73/100\n",
            "50/50 [==============================] - ETA: 0s - loss: 0.3275 - accuracy: 0.8723\n",
            "Epoch 73: val_loss did not improve from 0.29548\n",
            "50/50 [==============================] - 19s 387ms/step - loss: 0.3275 - accuracy: 0.8723 - val_loss: 0.3045 - val_accuracy: 0.8688 - lr: 2.4706e-04\n",
            "Epoch 74/100\n",
            "50/50 [==============================] - ETA: 0s - loss: 0.3152 - accuracy: 0.8697\n",
            "Epoch 74: val_loss did not improve from 0.29548\n",
            "50/50 [==============================] - 20s 389ms/step - loss: 0.3152 - accuracy: 0.8697 - val_loss: 0.3051 - val_accuracy: 0.8698 - lr: 2.4706e-04\n",
            "Epoch 75/100\n",
            "50/50 [==============================] - ETA: 0s - loss: 0.3101 - accuracy: 0.8742\n",
            "Epoch 75: val_loss did not improve from 0.29548\n",
            "50/50 [==============================] - 20s 393ms/step - loss: 0.3101 - accuracy: 0.8742 - val_loss: 0.3237 - val_accuracy: 0.8601 - lr: 2.4706e-04\n",
            "Epoch 76/100\n",
            "50/50 [==============================] - ETA: 0s - loss: 0.3011 - accuracy: 0.8796\n",
            "Epoch 76: val_loss did not improve from 0.29548\n",
            "50/50 [==============================] - 20s 394ms/step - loss: 0.3011 - accuracy: 0.8796 - val_loss: 0.3150 - val_accuracy: 0.8601 - lr: 2.4706e-04\n",
            "Epoch 77/100\n",
            "50/50 [==============================] - ETA: 0s - loss: 0.3091 - accuracy: 0.8809\n",
            "Epoch 77: ReduceLROnPlateau reducing learning rate to 0.00017294401768594978.\n",
            "\n",
            "Epoch 77: val_loss did not improve from 0.29548\n",
            "50/50 [==============================] - 20s 394ms/step - loss: 0.3091 - accuracy: 0.8809 - val_loss: 0.3267 - val_accuracy: 0.8601 - lr: 2.4706e-04\n",
            "Epoch 78/100\n",
            "50/50 [==============================] - ETA: 0s - loss: 0.3267 - accuracy: 0.8758\n",
            "Epoch 78: val_loss improved from 0.29548 to 0.29308, saving model to vgg16_Model.hdf5\n",
            "50/50 [==============================] - 20s 401ms/step - loss: 0.3267 - accuracy: 0.8758 - val_loss: 0.2931 - val_accuracy: 0.8737 - lr: 1.7294e-04\n",
            "Epoch 79/100\n",
            "50/50 [==============================] - ETA: 0s - loss: 0.2920 - accuracy: 0.8875\n",
            "Epoch 79: val_loss did not improve from 0.29308\n",
            "50/50 [==============================] - 22s 448ms/step - loss: 0.2920 - accuracy: 0.8875 - val_loss: 0.2951 - val_accuracy: 0.8737 - lr: 1.7294e-04\n",
            "Epoch 80/100\n",
            "50/50 [==============================] - ETA: 0s - loss: 0.3107 - accuracy: 0.8788\n",
            "Epoch 80: val_loss did not improve from 0.29308\n",
            "50/50 [==============================] - 20s 398ms/step - loss: 0.3107 - accuracy: 0.8788 - val_loss: 0.3013 - val_accuracy: 0.8698 - lr: 1.7294e-04\n",
            "Epoch 81/100\n",
            "50/50 [==============================] - ETA: 0s - loss: 0.2965 - accuracy: 0.8830\n",
            "Epoch 81: val_loss did not improve from 0.29308\n",
            "50/50 [==============================] - 20s 399ms/step - loss: 0.2965 - accuracy: 0.8830 - val_loss: 0.3012 - val_accuracy: 0.8727 - lr: 1.7294e-04\n",
            "Epoch 82/100\n",
            "50/50 [==============================] - ETA: 0s - loss: 0.3072 - accuracy: 0.8799\n",
            "Epoch 82: val_loss did not improve from 0.29308\n",
            "50/50 [==============================] - 20s 395ms/step - loss: 0.3072 - accuracy: 0.8799 - val_loss: 0.3203 - val_accuracy: 0.8591 - lr: 1.7294e-04\n",
            "Epoch 83/100\n",
            "50/50 [==============================] - ETA: 0s - loss: 0.2993 - accuracy: 0.8789\n",
            "Epoch 83: ReduceLROnPlateau reducing learning rate to 0.00012106080830562859.\n",
            "\n",
            "Epoch 83: val_loss did not improve from 0.29308\n",
            "50/50 [==============================] - 20s 391ms/step - loss: 0.2993 - accuracy: 0.8789 - val_loss: 0.3128 - val_accuracy: 0.8678 - lr: 1.7294e-04\n",
            "Epoch 84/100\n",
            "50/50 [==============================] - ETA: 0s - loss: 0.3066 - accuracy: 0.8862\n",
            "Epoch 84: val_loss did not improve from 0.29308\n",
            "50/50 [==============================] - 20s 400ms/step - loss: 0.3066 - accuracy: 0.8862 - val_loss: 0.3017 - val_accuracy: 0.8698 - lr: 1.2106e-04\n",
            "Epoch 85/100\n",
            "50/50 [==============================] - ETA: 0s - loss: 0.3220 - accuracy: 0.8700\n",
            "Epoch 85: val_loss did not improve from 0.29308\n",
            "50/50 [==============================] - 20s 402ms/step - loss: 0.3220 - accuracy: 0.8700 - val_loss: 0.3093 - val_accuracy: 0.8688 - lr: 1.2106e-04\n",
            "Epoch 86/100\n",
            "50/50 [==============================] - ETA: 0s - loss: 0.3048 - accuracy: 0.8792\n",
            "Epoch 86: val_loss did not improve from 0.29308\n",
            "50/50 [==============================] - 20s 396ms/step - loss: 0.3048 - accuracy: 0.8792 - val_loss: 0.2969 - val_accuracy: 0.8707 - lr: 1.2106e-04\n",
            "Epoch 87/100\n",
            "50/50 [==============================] - ETA: 0s - loss: 0.3024 - accuracy: 0.8824\n",
            "Epoch 87: val_loss did not improve from 0.29308\n",
            "50/50 [==============================] - 20s 392ms/step - loss: 0.3024 - accuracy: 0.8824 - val_loss: 0.3270 - val_accuracy: 0.8591 - lr: 1.2106e-04\n",
            "Epoch 88/100\n",
            "50/50 [==============================] - ETA: 0s - loss: 0.3042 - accuracy: 0.8784\n",
            "Epoch 88: ReduceLROnPlateau reducing learning rate to 0.0001.\n",
            "\n",
            "Epoch 88: val_loss did not improve from 0.29308\n",
            "50/50 [==============================] - 20s 400ms/step - loss: 0.3042 - accuracy: 0.8784 - val_loss: 0.3049 - val_accuracy: 0.8688 - lr: 1.2106e-04\n",
            "Epoch 89/100\n",
            "50/50 [==============================] - ETA: 0s - loss: 0.3150 - accuracy: 0.8796\n",
            "Epoch 89: val_loss did not improve from 0.29308\n",
            "50/50 [==============================] - 20s 391ms/step - loss: 0.3150 - accuracy: 0.8796 - val_loss: 0.3039 - val_accuracy: 0.8678 - lr: 1.0000e-04\n",
            "Epoch 90/100\n",
            "50/50 [==============================] - ETA: 0s - loss: 0.3065 - accuracy: 0.8773\n",
            "Epoch 90: val_loss did not improve from 0.29308\n",
            "50/50 [==============================] - 20s 399ms/step - loss: 0.3065 - accuracy: 0.8773 - val_loss: 0.3152 - val_accuracy: 0.8630 - lr: 1.0000e-04\n",
            "Epoch 91/100\n",
            "50/50 [==============================] - ETA: 0s - loss: 0.3258 - accuracy: 0.8739\n",
            "Epoch 91: val_loss did not improve from 0.29308\n",
            "50/50 [==============================] - 20s 394ms/step - loss: 0.3258 - accuracy: 0.8739 - val_loss: 0.2949 - val_accuracy: 0.8698 - lr: 1.0000e-04\n",
            "Epoch 92/100\n",
            "50/50 [==============================] - ETA: 0s - loss: 0.2892 - accuracy: 0.8881\n",
            "Epoch 92: val_loss did not improve from 0.29308\n",
            "50/50 [==============================] - 20s 390ms/step - loss: 0.2892 - accuracy: 0.8881 - val_loss: 0.3045 - val_accuracy: 0.8678 - lr: 1.0000e-04\n",
            "Epoch 93/100\n",
            "50/50 [==============================] - ETA: 0s - loss: 0.3039 - accuracy: 0.8780\n",
            "Epoch 93: val_loss did not improve from 0.29308\n",
            "50/50 [==============================] - 23s 451ms/step - loss: 0.3039 - accuracy: 0.8780 - val_loss: 0.3107 - val_accuracy: 0.8649 - lr: 1.0000e-04\n",
            "Epoch 94/100\n",
            "50/50 [==============================] - ETA: 0s - loss: 0.3061 - accuracy: 0.8837\n",
            "Epoch 94: val_loss did not improve from 0.29308\n",
            "50/50 [==============================] - 20s 404ms/step - loss: 0.3061 - accuracy: 0.8837 - val_loss: 0.2934 - val_accuracy: 0.8698 - lr: 1.0000e-04\n",
            "Epoch 95/100\n",
            "50/50 [==============================] - ETA: 0s - loss: 0.2991 - accuracy: 0.8853\n",
            "Epoch 95: val_loss did not improve from 0.29308\n",
            "50/50 [==============================] - 20s 401ms/step - loss: 0.2991 - accuracy: 0.8853 - val_loss: 0.2986 - val_accuracy: 0.8707 - lr: 1.0000e-04\n",
            "Epoch 96/100\n",
            "50/50 [==============================] - ETA: 0s - loss: 0.3016 - accuracy: 0.8850\n",
            "Epoch 96: val_loss did not improve from 0.29308\n",
            "50/50 [==============================] - 20s 404ms/step - loss: 0.3016 - accuracy: 0.8850 - val_loss: 0.3163 - val_accuracy: 0.8620 - lr: 1.0000e-04\n",
            "Epoch 97/100\n",
            "50/50 [==============================] - ETA: 0s - loss: 0.3005 - accuracy: 0.8840\n",
            "Epoch 97: val_loss did not improve from 0.29308\n",
            "50/50 [==============================] - 20s 401ms/step - loss: 0.3005 - accuracy: 0.8840 - val_loss: 0.3097 - val_accuracy: 0.8620 - lr: 1.0000e-04\n",
            "Epoch 98/100\n",
            "50/50 [==============================] - ETA: 0s - loss: 0.2850 - accuracy: 0.8872\n",
            "Epoch 98: val_loss did not improve from 0.29308\n",
            "50/50 [==============================] - 20s 396ms/step - loss: 0.2850 - accuracy: 0.8872 - val_loss: 0.3059 - val_accuracy: 0.8678 - lr: 1.0000e-04\n",
            "Epoch 99/100\n",
            "50/50 [==============================] - ETA: 0s - loss: 0.2877 - accuracy: 0.8866\n",
            "Epoch 99: val_loss did not improve from 0.29308\n",
            "50/50 [==============================] - 20s 405ms/step - loss: 0.2877 - accuracy: 0.8866 - val_loss: 0.2985 - val_accuracy: 0.8688 - lr: 1.0000e-04\n",
            "Epoch 100/100\n",
            "50/50 [==============================] - ETA: 0s - loss: 0.3000 - accuracy: 0.8824\n",
            "Epoch 100: val_loss did not improve from 0.29308\n",
            "50/50 [==============================] - 20s 399ms/step - loss: 0.3000 - accuracy: 0.8824 - val_loss: 0.3029 - val_accuracy: 0.8698 - lr: 1.0000e-04\n"
          ]
        }
      ]
    },
    {
      "cell_type": "code",
      "source": [
        "\n",
        "\n",
        "acc = history.history['accuracy']\n",
        "val_acc = history.history['val_accuracy']\n",
        "loss = history.history['loss']\n",
        "val_loss = history.history['val_loss']\n",
        "\n"
      ],
      "metadata": {
        "id": "q697O2--YwLc"
      },
      "execution_count": null,
      "outputs": []
    },
    {
      "cell_type": "code",
      "source": [
        "\n",
        "\n",
        "epochs = range(len(acc))\n",
        "plt.plot(epochs, acc, 'r', label='Training accuracy')\n",
        "plt.plot(epochs, val_acc, 'b', label='Validation accuracy')\n",
        "plt.title('TraiN & Val Acc VS Epochs')\n",
        "plt.legend(loc=0)\n",
        "plt.figure()\n",
        "plt.show()\n",
        "\n"
      ],
      "metadata": {
        "id": "23sMDcPKZCAy",
        "colab": {
          "base_uri": "https://localhost:8080/",
          "height": 298
        },
        "outputId": "a57f82ad-4f45-4d66-e64d-6a9f903d6976"
      },
      "execution_count": null,
      "outputs": [
        {
          "output_type": "display_data",
          "data": {
            "text/plain": [
              "<Figure size 432x288 with 1 Axes>"
            ],
            "image/png": "[encoded data removed]"
          },
          "metadata": {
            "needs_background": "light"
          }
        },
        {
          "output_type": "display_data",
          "data": {
            "text/plain": [
              "<Figure size 432x288 with 0 Axes>"
            ]
          },
          "metadata": {}
        }
      ]
    },
    {
      "cell_type": "code",
      "source": [
        "epochs = range(len(acc))\n",
        "plt.plot(epochs, loss, 'r', label='Training Loss')\n",
        "plt.plot(epochs, val_loss, 'b', label='Validation Loss')\n",
        "plt.title('TraiN & Val Loss VS Epochs')\n",
        "plt.legend(loc=0)\n",
        "plt.figure()\n",
        "plt.show()"
      ],
      "metadata": {
        "id": "jcxrVGl9ZDla",
        "colab": {
          "base_uri": "https://localhost:8080/",
          "height": 298
        },
        "outputId": "382cb98f-4093-4058-9a64-4e266ecbae0b"
      },
      "execution_count": null,
      "outputs": [
        {
          "output_type": "display_data",
          "data": {
            "text/plain": [
              "<Figure size 432x288 with 1 Axes>"
            ],
            "image/png": "[encoded data removed]"
          },
          "metadata": {
            "needs_background": "light"
          }
        },
        {
          "output_type": "display_data",
          "data": {
            "text/plain": [
              "<Figure size 432x288 with 0 Axes>"
            ]
          },
          "metadata": {}
        }
      ]
    },
    {
      "cell_type": "code",
      "source": [
        "model.load_weights(\"vgg16_Model.hdf5\")\n",
        "model.save('/content/drive/MyDrive/Model Saves/VGG16 Xray')\n",
        "score = model.evaluate(X_val, Y_val ,verbose=1)\n",
        "print('Test Loss:', score[0])\n",
        "print('Test accuracy:', score[1]*100)"
      ],
      "metadata": {
        "id": "fodqfo7NZE-5",
        "colab": {
          "base_uri": "https://localhost:8080/"
        },
        "outputId": "af91a516-e084-414f-d79f-6732d62d42d8"
      },
      "execution_count": null,
      "outputs": [
        {
          "output_type": "stream",
          "name": "stderr",
          "text": [
            "WARNING:absl:Found untraced functions such as _jit_compiled_convolution_op, _jit_compiled_convolution_op, _jit_compiled_convolution_op, _jit_compiled_convolution_op, _jit_compiled_convolution_op while saving (showing 5 of 13). These functions will not be directly callable after loading.\n"
          ]
        },
        {
          "output_type": "stream",
          "name": "stdout",
          "text": [
            "33/33 [==============================] - 3s 85ms/step - loss: 0.2931 - accuracy: 0.8737\n",
            "Test Loss: 0.293079137802124\n",
            "Test accuracy: 87.36637234687805\n"
          ]
        }
      ]
    },
    {
      "cell_type": "code",
      "source": [
        "from sklearn.metrics import accuracy_score\n",
        "from sklearn.metrics import classification_report\n",
        "import numpy as np"
      ],
      "metadata": {
        "id": "PC_UYL2mZGjB"
      },
      "execution_count": null,
      "outputs": []
    },
    {
      "cell_type": "code",
      "source": [
        "pred = model.predict(X_val)\n",
        "rounded_labels_1 = np.argmax(pred, axis=1)\n",
        "rounded_labels_2 = np.argmax(Y_val, axis=1)\n",
        "rounded_labels_1[1]\n",
        "rounded_labels_2[1]\n",
        "accuracy_score(rounded_labels_2,rounded_labels_1)\n",
        "confusion_matrix(rounded_labels_2,rounded_labels_1)\n",
        "print(classification_report(rounded_labels_2,rounded_labels_1))"
      ],
      "metadata": {
        "colab": {
          "base_uri": "https://localhost:8080/"
        },
        "id": "LLQD6_ZMpGCk",
        "outputId": "9699b5ad-aaa2-4e6e-ee98-d4ecffdb7f25"
      },
      "execution_count": null,
      "outputs": [
        {
          "output_type": "stream",
          "name": "stdout",
          "text": [
            "33/33 [==============================] - 3s 84ms/step\n",
            "              precision    recall  f1-score   support\n",
            "\n",
            "           0       0.96      0.71      0.82       104\n",
            "           1       0.76      0.85      0.80       249\n",
            "           2       0.91      0.91      0.91       676\n",
            "\n",
            "    accuracy                           0.87      1029\n",
            "   macro avg       0.88      0.82      0.84      1029\n",
            "weighted avg       0.88      0.87      0.87      1029\n",
            "\n"
          ]
        }
      ]
    }
  ]
}