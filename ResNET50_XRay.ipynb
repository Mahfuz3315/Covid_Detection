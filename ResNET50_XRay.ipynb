{
  "nbformat": 4,
  "nbformat_minor": 0,
  "metadata": {
    "colab": {
      "provenance": []
    },
    "kernelspec": {
      "name": "python3",
      "display_name": "Python 3"
    },
    "language_info": {
      "name": "python"
    },
    "accelerator": "GPU",
    "gpuClass": "standard"
  },
  "cells": [
    {
      "cell_type": "code",
      "source": [
        "from google.colab import drive\n",
        "drive.mount('/content/drive')"
      ],
      "metadata": {
        "colab": {
          "base_uri": "https://localhost:8080/"
        },
        "id": "Ap3OvJIfrxtm",
        "outputId": "ccb3c742-1a8d-4e16-c63d-be79a16ac1a3"
      },
      "execution_count": 1,
      "outputs": [
        {
          "output_type": "stream",
          "name": "stdout",
          "text": [
            "Mounted at /content/drive\n"
          ]
        }
      ]
    },
    {
      "cell_type": "code",
      "source": [
        "from google.colab import files\n",
        "\n",
        "uploaded = files.upload()\n",
        "\n",
        "for fn in uploaded.keys():\n",
        "  print('User uploaded file \"{name}\" with length {length} bytes'.format(\n",
        "      name=fn, length=len(uploaded[fn])))\n",
        "  \n",
        "# Then move kaggle.json into the folder where the API expects to find it.\n",
        "!mkdir -p ~/.kaggle/ && mv kaggle.json ~/.kaggle/ && chmod 600 ~/.kaggle/kaggle.json"
      ],
      "metadata": {
        "colab": {
          "base_uri": "https://localhost:8080/",
          "height": 90
        },
        "id": "7dZigNxp8yXP",
        "outputId": "d0d64d7d-cb27-4e50-939c-4581cd95d8c4"
      },
      "execution_count": 2,
      "outputs": [
        {
          "output_type": "display_data",
          "data": {
            "text/plain": [
              "<IPython.core.display.HTML object>"
            ],
            "text/html": [
              "\n",
              "     <input type=\"file\" id=\"files-4bd787b9-546e-4f93-bb3d-710ef6e0084f\" name=\"files[]\" multiple disabled\n",
              "        style=\"border:none\" />\n",
              "     <output id=\"result-4bd787b9-546e-4f93-bb3d-710ef6e0084f\">\n",
              "      Upload widget is only available when the cell has been executed in the\n",
              "      current browser session. Please rerun this cell to enable.\n",
              "      </output>\n",
              "      <script>// Copyright 2017 Google LLC\n",
              "//\n",
              "// Licensed under the Apache License, Version 2.0 (the \"License\");\n",
              "// you may not use this file except in compliance with the License.\n",
              "// You may obtain a copy of the License at\n",
              "//\n",
              "//      http://www.apache.org/licenses/LICENSE-2.0\n",
              "//\n",
              "// Unless required by applicable law or agreed to in writing, software\n",
              "// distributed under the License is distributed on an \"AS IS\" BASIS,\n",
              "// WITHOUT WARRANTIES OR CONDITIONS OF ANY KIND, either express or implied.\n",
              "// See the License for the specific language governing permissions and\n",
              "// limitations under the License.\n",
              "\n",
              "/**\n",
              " * @fileoverview Helpers for google.colab Python module.\n",
              " */\n",
              "(function(scope) {\n",
              "function span(text, styleAttributes = {}) {\n",
              "  const element = document.createElement('span');\n",
              "  element.textContent = text;\n",
              "  for (const key of Object.keys(styleAttributes)) {\n",
              "    element.style[key] = styleAttributes[key];\n",
              "  }\n",
              "  return element;\n",
              "}\n",
              "\n",
              "// Max number of bytes which will be uploaded at a time.\n",
              "const MAX_PAYLOAD_SIZE = 100 * 1024;\n",
              "\n",
              "function _uploadFiles(inputId, outputId) {\n",
              "  const steps = uploadFilesStep(inputId, outputId);\n",
              "  const outputElement = document.getElementById(outputId);\n",
              "  // Cache steps on the outputElement to make it available for the next call\n",
              "  // to uploadFilesContinue from Python.\n",
              "  outputElement.steps = steps;\n",
              "\n",
              "  return _uploadFilesContinue(outputId);\n",
              "}\n",
              "\n",
              "// This is roughly an async generator (not supported in the browser yet),\n",
              "// where there are multiple asynchronous steps and the Python side is going\n",
              "// to poll for completion of each step.\n",
              "// This uses a Promise to block the python side on completion of each step,\n",
              "// then passes the result of the previous step as the input to the next step.\n",
              "function _uploadFilesContinue(outputId) {\n",
              "  const outputElement = document.getElementById(outputId);\n",
              "  const steps = outputElement.steps;\n",
              "\n",
              "  const next = steps.next(outputElement.lastPromiseValue);\n",
              "  return Promise.resolve(next.value.promise).then((value) => {\n",
              "    // Cache the last promise value to make it available to the next\n",
              "    // step of the generator.\n",
              "    outputElement.lastPromiseValue = value;\n",
              "    return next.value.response;\n",
              "  });\n",
              "}\n",
              "\n",
              "/**\n",
              " * Generator function which is called between each async step of the upload\n",
              " * process.\n",
              " * @param {string} inputId Element ID of the input file picker element.\n",
              " * @param {string} outputId Element ID of the output display.\n",
              " * @return {!Iterable<!Object>} Iterable of next steps.\n",
              " */\n",
              "function* uploadFilesStep(inputId, outputId) {\n",
              "  const inputElement = document.getElementById(inputId);\n",
              "  inputElement.disabled = false;\n",
              "\n",
              "  const outputElement = document.getElementById(outputId);\n",
              "  outputElement.innerHTML = '';\n",
              "\n",
              "  const pickedPromise = new Promise((resolve) => {\n",
              "    inputElement.addEventListener('change', (e) => {\n",
              "      resolve(e.target.files);\n",
              "    });\n",
              "  });\n",
              "\n",
              "  const cancel = document.createElement('button');\n",
              "  inputElement.parentElement.appendChild(cancel);\n",
              "  cancel.textContent = 'Cancel upload';\n",
              "  const cancelPromise = new Promise((resolve) => {\n",
              "    cancel.onclick = () => {\n",
              "      resolve(null);\n",
              "    };\n",
              "  });\n",
              "\n",
              "  // Wait for the user to pick the files.\n",
              "  const files = yield {\n",
              "    promise: Promise.race([pickedPromise, cancelPromise]),\n",
              "    response: {\n",
              "      action: 'starting',\n",
              "    }\n",
              "  };\n",
              "\n",
              "  cancel.remove();\n",
              "\n",
              "  // Disable the input element since further picks are not allowed.\n",
              "  inputElement.disabled = true;\n",
              "\n",
              "  if (!files) {\n",
              "    return {\n",
              "      response: {\n",
              "        action: 'complete',\n",
              "      }\n",
              "    };\n",
              "  }\n",
              "\n",
              "  for (const file of files) {\n",
              "    const li = document.createElement('li');\n",
              "    li.append(span(file.name, {fontWeight: 'bold'}));\n",
              "    li.append(span(\n",
              "        `(${file.type || 'n/a'}) - ${file.size} bytes, ` +\n",
              "        `last modified: ${\n",
              "            file.lastModifiedDate ? file.lastModifiedDate.toLocaleDateString() :\n",
              "                                    'n/a'} - `));\n",
              "    const percent = span('0% done');\n",
              "    li.appendChild(percent);\n",
              "\n",
              "    outputElement.appendChild(li);\n",
              "\n",
              "    const fileDataPromise = new Promise((resolve) => {\n",
              "      const reader = new FileReader();\n",
              "      reader.onload = (e) => {\n",
              "        resolve(e.target.result);\n",
              "      };\n",
              "      reader.readAsArrayBuffer(file);\n",
              "    });\n",
              "    // Wait for the data to be ready.\n",
              "    let fileData = yield {\n",
              "      promise: fileDataPromise,\n",
              "      response: {\n",
              "        action: 'continue',\n",
              "      }\n",
              "    };\n",
              "\n",
              "    // Use a chunked sending to avoid message size limits. See b/62115660.\n",
              "    let position = 0;\n",
              "    do {\n",
              "      const length = Math.min(fileData.byteLength - position, MAX_PAYLOAD_SIZE);\n",
              "      const chunk = new Uint8Array(fileData, position, length);\n",
              "      position += length;\n",
              "\n",
              "      const base64 = btoa(String.fromCharCode.apply(null, chunk));\n",
              "      yield {\n",
              "        response: {\n",
              "          action: 'append',\n",
              "          file: file.name,\n",
              "          data: base64,\n",
              "        },\n",
              "      };\n",
              "\n",
              "      let percentDone = fileData.byteLength === 0 ?\n",
              "          100 :\n",
              "          Math.round((position / fileData.byteLength) * 100);\n",
              "      percent.textContent = `${percentDone}% done`;\n",
              "\n",
              "    } while (position < fileData.byteLength);\n",
              "  }\n",
              "\n",
              "  // All done.\n",
              "  yield {\n",
              "    response: {\n",
              "      action: 'complete',\n",
              "    }\n",
              "  };\n",
              "}\n",
              "\n",
              "scope.google = scope.google || {};\n",
              "scope.google.colab = scope.google.colab || {};\n",
              "scope.google.colab._files = {\n",
              "  _uploadFiles,\n",
              "  _uploadFilesContinue,\n",
              "};\n",
              "})(self);\n",
              "</script> "
            ]
          },
          "metadata": {}
        },
        {
          "output_type": "stream",
          "name": "stdout",
          "text": [
            "Saving kaggle.json to kaggle.json\n",
            "User uploaded file \"kaggle.json\" with length 68 bytes\n"
          ]
        }
      ]
    },
    {
      "cell_type": "code",
      "source": [
        "!kaggle datasets download -d prashant268/chest-xray-covid19-pneumonia"
      ],
      "metadata": {
        "id": "TDU28ec5CygN",
        "colab": {
          "base_uri": "https://localhost:8080/"
        },
        "outputId": "a89e9144-2184-41ba-b9e1-3aa251dd60dd"
      },
      "execution_count": 3,
      "outputs": [
        {
          "output_type": "stream",
          "name": "stdout",
          "text": [
            "Downloading chest-xray-covid19-pneumonia.zip to /content\n",
            "100% 2.05G/2.06G [01:32<00:00, 24.8MB/s]\n",
            "100% 2.06G/2.06G [01:32<00:00, 24.0MB/s]\n"
          ]
        }
      ]
    },
    {
      "cell_type": "code",
      "source": [
        "from zipfile import ZipFile\n",
        "file_name = \"/content/chest-xray-covid19-pneumonia.zip\"\n",
        "with ZipFile(file_name,'r') as zip:\n",
        "  zip.extractall()\n",
        "  print('Done')"
      ],
      "metadata": {
        "id": "RgCnTrN0DSrx",
        "colab": {
          "base_uri": "https://localhost:8080/"
        },
        "outputId": "6794aff7-9308-4a2b-8427-0adde914b2b6"
      },
      "execution_count": 4,
      "outputs": [
        {
          "output_type": "stream",
          "name": "stdout",
          "text": [
            "Done\n"
          ]
        }
      ]
    },
    {
      "cell_type": "code",
      "source": [
        "\n",
        "import numpy as np # linear algebra\n",
        "import pandas as pd # data processing, CSV file I/O (e.g. pd.read_csv)\n",
        "\n",
        "# Input data files are available in the read-only \"../input/\" directory\n",
        "# For example, running this (by clicking run or pressing Shift+Enter) will list all files under the input directory\n",
        "\n",
        "import os\n",
        "for dirname, _, filenames in os.walk('/kaggle/input'):\n",
        "    for filename in filenames:\n",
        "        os.path.join(dirname, filename)"
      ],
      "metadata": {
        "id": "AIFVaspkDHsd"
      },
      "execution_count": 5,
      "outputs": []
    },
    {
      "cell_type": "code",
      "source": [
        "import os\n",
        "import pandas as pd\n",
        "import numpy as np\n",
        "from tqdm import tqdm\n",
        "import keras\n",
        "from keras.utils.np_utils import to_categorical\n",
        "import cv2\n",
        "import tensorflow as tf\n",
        "from sklearn.model_selection import train_test_split\n",
        "from keras.layers import  Flatten, Dense, Dropout\n",
        "# from tensorflow.keras.applications import VGG16\n",
        "from tensorflow.keras.applications import ResNet50\n",
        "# from tensorflow.keras.applications import Xception\n",
        "from keras.callbacks import ModelCheckpoint, ReduceLROnPlateau\n",
        "from keras.models import Model\n",
        "from tensorflow.keras.layers import Input\n",
        "from keras import optimizers\n",
        "from tensorflow.keras.optimizers import Adam\n",
        "from keras.layers import Dense, GlobalAveragePooling2D\n",
        "from keras.layers import Dense, Dropout, Flatten, Conv2D, MaxPool2D, BatchNormalization, AveragePooling2D, GlobalAveragePooling2D\n",
        "import keras_preprocessing\n",
        "from keras_preprocessing import image\n",
        "from keras_preprocessing.image import ImageDataGenerator\n",
        "from keras import callbacks\n",
        "import matplotlib.pyplot as plt\n",
        "from sklearn.metrics import confusion_matrix\n",
        "import seaborn as sns\n",
        "from zipfile import ZipFile"
      ],
      "metadata": {
        "id": "cZq8tiCL3He9"
      },
      "execution_count": 6,
      "outputs": []
    },
    {
      "cell_type": "code",
      "source": [
        "disease_types = ['COVID19', 'NORMAL', 'PNEUMONIA']\n",
        "\n",
        "train_dir = data_dir = '/content/Data/train'\n",
        "\n",
        "train_data = []\n",
        "\n",
        "for index, sp in enumerate(disease_types):\n",
        "    for file in os.listdir(os.path.join(train_dir, sp)):\n",
        "        train_data.append([sp + \"/\" + file, index, sp])\n",
        "        \n",
        "train = pd.DataFrame(train_data, columns = ['File', 'ID','Disease Type'])\n",
        "train.head()"
      ],
      "metadata": {
        "id": "60aCyhkz3l5T",
        "colab": {
          "base_uri": "https://localhost:8080/",
          "height": 206
        },
        "outputId": "02de15c1-2705-43e7-8418-f55164fefb7f"
      },
      "execution_count": 7,
      "outputs": [
        {
          "output_type": "execute_result",
          "data": {
            "text/plain": [
              "                       File  ID Disease Type\n",
              "0  COVID19/COVID19(246).jpg   0      COVID19\n",
              "1  COVID19/COVID19(387).jpg   0      COVID19\n",
              "2  COVID19/COVID19(332).jpg   0      COVID19\n",
              "3   COVID19/COVID19(23).jpg   0      COVID19\n",
              "4  COVID19/COVID19(362).jpg   0      COVID19"
            ],
            "text/html": [
              "\n",
              "  <div id=\"df-e73a94ca-3950-4337-81b3-fecae5184baf\">\n",
              "    <div class=\"colab-df-container\">\n",
              "      <div>\n",
              "<style scoped>\n",
              "    .dataframe tbody tr th:only-of-type {\n",
              "        vertical-align: middle;\n",
              "    }\n",
              "\n",
              "    .dataframe tbody tr th {\n",
              "        vertical-align: top;\n",
              "    }\n",
              "\n",
              "    .dataframe thead th {\n",
              "        text-align: right;\n",
              "    }\n",
              "</style>\n",
              "<table border=\"1\" class=\"dataframe\">\n",
              "  <thead>\n",
              "    <tr style=\"text-align: right;\">\n",
              "      <th></th>\n",
              "      <th>File</th>\n",
              "      <th>ID</th>\n",
              "      <th>Disease Type</th>\n",
              "    </tr>\n",
              "  </thead>\n",
              "  <tbody>\n",
              "    <tr>\n",
              "      <th>0</th>\n",
              "      <td>COVID19/COVID19(246).jpg</td>\n",
              "      <td>0</td>\n",
              "      <td>COVID19</td>\n",
              "    </tr>\n",
              "    <tr>\n",
              "      <th>1</th>\n",
              "      <td>COVID19/COVID19(387).jpg</td>\n",
              "      <td>0</td>\n",
              "      <td>COVID19</td>\n",
              "    </tr>\n",
              "    <tr>\n",
              "      <th>2</th>\n",
              "      <td>COVID19/COVID19(332).jpg</td>\n",
              "      <td>0</td>\n",
              "      <td>COVID19</td>\n",
              "    </tr>\n",
              "    <tr>\n",
              "      <th>3</th>\n",
              "      <td>COVID19/COVID19(23).jpg</td>\n",
              "      <td>0</td>\n",
              "      <td>COVID19</td>\n",
              "    </tr>\n",
              "    <tr>\n",
              "      <th>4</th>\n",
              "      <td>COVID19/COVID19(362).jpg</td>\n",
              "      <td>0</td>\n",
              "      <td>COVID19</td>\n",
              "    </tr>\n",
              "  </tbody>\n",
              "</table>\n",
              "</div>\n",
              "      <button class=\"colab-df-convert\" onclick=\"convertToInteractive('df-e73a94ca-3950-4337-81b3-fecae5184baf')\"\n",
              "              title=\"Convert this dataframe to an interactive table.\"\n",
              "              style=\"display:none;\">\n",
              "        \n",
              "  <svg xmlns=\"http://www.w3.org/2000/svg\" height=\"24px\"viewBox=\"0 0 24 24\"\n",
              "       width=\"24px\">\n",
              "    <path d=\"M0 0h24v24H0V0z\" fill=\"none\"/>\n",
              "    <path d=\"M18.56 5.44l.94 2.06.94-2.06 2.06-.94-2.06-.94-.94-2.06-.94 2.06-2.06.94zm-11 1L8.5 8.5l.94-2.06 2.06-.94-2.06-.94L8.5 2.5l-.94 2.06-2.06.94zm10 10l.94 2.06.94-2.06 2.06-.94-2.06-.94-.94-2.06-.94 2.06-2.06.94z\"/><path d=\"M17.41 7.96l-1.37-1.37c-.4-.4-.92-.59-1.43-.59-.52 0-1.04.2-1.43.59L10.3 9.45l-7.72 7.72c-.78.78-.78 2.05 0 2.83L4 21.41c.39.39.9.59 1.41.59.51 0 1.02-.2 1.41-.59l7.78-7.78 2.81-2.81c.8-.78.8-2.07 0-2.86zM5.41 20L4 18.59l7.72-7.72 1.47 1.35L5.41 20z\"/>\n",
              "  </svg>\n",
              "      </button>\n",
              "      \n",
              "  <style>\n",
              "    .colab-df-container {\n",
              "      display:flex;\n",
              "      flex-wrap:wrap;\n",
              "      gap: 12px;\n",
              "    }\n",
              "\n",
              "    .colab-df-convert {\n",
              "      background-color: #E8F0FE;\n",
              "      border: none;\n",
              "      border-radius: 50%;\n",
              "      cursor: pointer;\n",
              "      display: none;\n",
              "      fill: #1967D2;\n",
              "      height: 32px;\n",
              "      padding: 0 0 0 0;\n",
              "      width: 32px;\n",
              "    }\n",
              "\n",
              "    .colab-df-convert:hover {\n",
              "      background-color: #E2EBFA;\n",
              "      box-shadow: 0px 1px 2px rgba(60, 64, 67, 0.3), 0px 1px 3px 1px rgba(60, 64, 67, 0.15);\n",
              "      fill: #174EA6;\n",
              "    }\n",
              "\n",
              "    [theme=dark] .colab-df-convert {\n",
              "      background-color: #3B4455;\n",
              "      fill: #D2E3FC;\n",
              "    }\n",
              "\n",
              "    [theme=dark] .colab-df-convert:hover {\n",
              "      background-color: #434B5C;\n",
              "      box-shadow: 0px 1px 3px 1px rgba(0, 0, 0, 0.15);\n",
              "      filter: drop-shadow(0px 1px 2px rgba(0, 0, 0, 0.3));\n",
              "      fill: #FFFFFF;\n",
              "    }\n",
              "  </style>\n",
              "\n",
              "      <script>\n",
              "        const buttonEl =\n",
              "          document.querySelector('#df-e73a94ca-3950-4337-81b3-fecae5184baf button.colab-df-convert');\n",
              "        buttonEl.style.display =\n",
              "          google.colab.kernel.accessAllowed ? 'block' : 'none';\n",
              "\n",
              "        async function convertToInteractive(key) {\n",
              "          const element = document.querySelector('#df-e73a94ca-3950-4337-81b3-fecae5184baf');\n",
              "          const dataTable =\n",
              "            await google.colab.kernel.invokeFunction('convertToInteractive',\n",
              "                                                     [key], {});\n",
              "          if (!dataTable) return;\n",
              "\n",
              "          const docLinkHtml = 'Like what you see? Visit the ' +\n",
              "            '<a target=\"_blank\" href=https://colab.research.google.com/notebooks/data_table.ipynb>data table notebook</a>'\n",
              "            + ' to learn more about interactive tables.';\n",
              "          element.innerHTML = '';\n",
              "          dataTable['output_type'] = 'display_data';\n",
              "          await google.colab.output.renderOutput(dataTable, element);\n",
              "          const docLink = document.createElement('div');\n",
              "          docLink.innerHTML = docLinkHtml;\n",
              "          element.appendChild(docLink);\n",
              "        }\n",
              "      </script>\n",
              "    </div>\n",
              "  </div>\n",
              "  "
            ]
          },
          "metadata": {},
          "execution_count": 7
        }
      ]
    },
    {
      "cell_type": "code",
      "source": [
        "IMAGE_SIZE = 150\n",
        "def read_image(filepath):\n",
        "    return cv2.imread(os.path.join(data_dir, filepath)) \n",
        "def resize_image(image, image_size):\n",
        "    return cv2.resize(image.copy(), image_size, interpolation=cv2.INTER_AREA)"
      ],
      "metadata": {
        "id": "IYaexY71FgvY"
      },
      "execution_count": 8,
      "outputs": []
    },
    {
      "cell_type": "code",
      "source": [
        "X_train = np.zeros((train.shape[0], IMAGE_SIZE, IMAGE_SIZE, 3))\n",
        "for i, file in tqdm(enumerate(train['File'].values)):\n",
        "    image = read_image(file)\n",
        "    if image is not None:\n",
        "        X_train[i] = resize_image(image, (IMAGE_SIZE, IMAGE_SIZE))\n",
        "X_Train = X_train / 255.\n",
        "print(X_Train.shape)"
      ],
      "metadata": {
        "id": "w_D3T_tXF4qN",
        "colab": {
          "base_uri": "https://localhost:8080/"
        },
        "outputId": "f8d2aa28-a592-4468-fbcd-5c79943f3aff"
      },
      "execution_count": 9,
      "outputs": [
        {
          "output_type": "stream",
          "name": "stderr",
          "text": [
            "5144it [02:15, 37.89it/s]\n"
          ]
        },
        {
          "output_type": "stream",
          "name": "stdout",
          "text": [
            "(5144, 150, 150, 3)\n"
          ]
        }
      ]
    },
    {
      "cell_type": "code",
      "source": [
        "Y_train = train['ID'].values\n",
        "Y_train = to_categorical(Y_train, num_classes=3)"
      ],
      "metadata": {
        "id": "8EL-sdSMF7YE"
      },
      "execution_count": 10,
      "outputs": []
    },
    {
      "cell_type": "code",
      "source": [
        "X_train, X_val, Y_train, Y_val = train_test_split(X_Train, Y_train, test_size=0.1)"
      ],
      "metadata": {
        "id": "lw0kPkUCHhqg"
      },
      "execution_count": 11,
      "outputs": []
    },
    {
      "cell_type": "code",
      "source": [
        "BATCH_SIZE = 64\n",
        "EPOCHS = 100\n",
        "SIZE = 150\n",
        "N_ch=3"
      ],
      "metadata": {
        "id": "VC1NDQMhHkk6"
      },
      "execution_count": 12,
      "outputs": []
    },
    {
      "cell_type": "code",
      "source": [
        "def build_resnet50():\n",
        "    resnet50 = ResNet50(weights='imagenet', include_top=False)\n",
        "\n",
        "    input = Input(shape=(SIZE, SIZE, N_ch))\n",
        "    x = Conv2D(3, (3, 3), padding='same')(input)\n",
        "    \n",
        "    x = resnet50(x)\n",
        "    \n",
        "    x = GlobalAveragePooling2D()(x)\n",
        "    x = BatchNormalization()(x)\n",
        "    x = Dropout(0.5)(x)\n",
        "    x = Dense(256, activation='relu')(x)\n",
        "    x = BatchNormalization()(x)\n",
        "    x = Dropout(0.5)(x)\n",
        "\n",
        "    # multi output\n",
        "    output = Dense(3,activation = 'softmax', name='root')(x)\n",
        " \n",
        "\n",
        "    # model\n",
        "    model = Model(input,output)\n",
        "    \n",
        "    optimizer = Adam(lr=0.003, beta_1=0.9, beta_2=0.999, epsilon=0.1, decay=0.0)\n",
        "    model.compile(loss='categorical_crossentropy', optimizer=optimizer, metrics=['accuracy'])\n",
        "    model.summary()\n",
        "    \n",
        "    return model"
      ],
      "metadata": {
        "id": "jEJkx65YHw5B"
      },
      "execution_count": 13,
      "outputs": []
    },
    {
      "cell_type": "code",
      "source": [
        "model = build_resnet50()\n",
        "annealer = ReduceLROnPlateau(monitor='val_accuracy', factor=0.70, patience=5, verbose=1, min_lr=1e-4)\n",
        "checkpoint = ModelCheckpoint('ResNet50_Model.hdf5', verbose=1, save_best_only=True)\n",
        "datagen = ImageDataGenerator(rotation_range=360, \n",
        "                        width_shift_range=0.2, \n",
        "                        height_shift_range=0.2,\n",
        "                        zoom_range=0.2, \n",
        "                        horizontal_flip=True, \n",
        "                        vertical_flip=True) \n",
        "\n",
        "datagen.fit(X_train)"
      ],
      "metadata": {
        "id": "m_-W-Ck6H2Yk",
        "colab": {
          "base_uri": "https://localhost:8080/"
        },
        "outputId": "f4684df7-5c34-4810-a466-fd9a973b3ff2"
      },
      "execution_count": 14,
      "outputs": [
        {
          "output_type": "stream",
          "name": "stdout",
          "text": [
            "Downloading data from https://storage.googleapis.com/tensorflow/keras-applications/resnet/resnet50_weights_tf_dim_ordering_tf_kernels_notop.h5\n",
            "94765736/94765736 [==============================] - 5s 0us/step\n",
            "Model: \"model\"\n",
            "_________________________________________________________________\n",
            " Layer (type)                Output Shape              Param #   \n",
            "=================================================================\n",
            " input_2 (InputLayer)        [(None, 150, 150, 3)]     0         \n",
            "                                                                 \n",
            " conv2d (Conv2D)             (None, 150, 150, 3)       84        \n",
            "                                                                 \n",
            " resnet50 (Functional)       (None, None, None, 2048)  23587712  \n",
            "                                                                 \n",
            " global_average_pooling2d (G  (None, 2048)             0         \n",
            " lobalAveragePooling2D)                                          \n",
            "                                                                 \n",
            " batch_normalization (BatchN  (None, 2048)             8192      \n",
            " ormalization)                                                   \n",
            "                                                                 \n",
            " dropout (Dropout)           (None, 2048)              0         \n",
            "                                                                 \n",
            " dense (Dense)               (None, 256)               524544    \n",
            "                                                                 \n",
            " batch_normalization_1 (Batc  (None, 256)              1024      \n",
            " hNormalization)                                                 \n",
            "                                                                 \n",
            " dropout_1 (Dropout)         (None, 256)               0         \n",
            "                                                                 \n",
            " root (Dense)                (None, 3)                 771       \n",
            "                                                                 \n",
            "=================================================================\n",
            "Total params: 24,122,327\n",
            "Trainable params: 24,064,599\n",
            "Non-trainable params: 57,728\n",
            "_________________________________________________________________\n"
          ]
        },
        {
          "output_type": "stream",
          "name": "stderr",
          "text": [
            "/usr/local/lib/python3.8/dist-packages/keras/optimizers/optimizer_v2/adam.py:110: UserWarning: The `lr` argument is deprecated, use `learning_rate` instead.\n",
            "  super(Adam, self).__init__(name, **kwargs)\n"
          ]
        }
      ]
    },
    {
      "cell_type": "code",
      "source": [
        "# X_train.shape[0]\n",
        "history = model.fit_generator(datagen.flow(X_train, Y_train, batch_size=BATCH_SIZE),\n",
        "               steps_per_epoch=50,\n",
        "               epochs=EPOCHS,\n",
        "               verbose=1,\n",
        "               callbacks=[annealer, checkpoint],\n",
        "               validation_data=(X_val, Y_val))"
      ],
      "metadata": {
        "id": "KpsDnAPAH8wW",
        "colab": {
          "base_uri": "https://localhost:8080/"
        },
        "outputId": "4b6c0947-2d80-4950-c763-c836b7089ef0"
      },
      "execution_count": 15,
      "outputs": [
        {
          "output_type": "stream",
          "name": "stderr",
          "text": [
            "<ipython-input-15-d115af0919cb>:2: UserWarning: `Model.fit_generator` is deprecated and will be removed in a future version. Please use `Model.fit`, which supports generators.\n",
            "  history = model.fit_generator(datagen.flow(X_train, Y_train, batch_size=BATCH_SIZE),\n"
          ]
        },
        {
          "output_type": "stream",
          "name": "stdout",
          "text": [
            "Epoch 1/100\n",
            "50/50 [==============================] - ETA: 0s - loss: 1.4838 - accuracy: 0.4533\n",
            "Epoch 1: val_loss improved from inf to 1.12547, saving model to ResNet50_Model.hdf5\n",
            "50/50 [==============================] - 46s 537ms/step - loss: 1.4838 - accuracy: 0.4533 - val_loss: 1.1255 - val_accuracy: 0.2369 - lr: 0.0030\n",
            "Epoch 2/100\n",
            "50/50 [==============================] - ETA: 0s - loss: 0.9024 - accuracy: 0.6794\n",
            "Epoch 2: val_loss did not improve from 1.12547\n",
            "50/50 [==============================] - 22s 440ms/step - loss: 0.9024 - accuracy: 0.6794 - val_loss: 1.1761 - val_accuracy: 0.6932 - lr: 0.0030\n",
            "Epoch 3/100\n",
            "50/50 [==============================] - ETA: 0s - loss: 0.5741 - accuracy: 0.8128\n",
            "Epoch 3: val_loss did not improve from 1.12547\n",
            "50/50 [==============================] - 22s 435ms/step - loss: 0.5741 - accuracy: 0.8128 - val_loss: 1.2438 - val_accuracy: 0.0874 - lr: 0.0030\n",
            "Epoch 4/100\n",
            "50/50 [==============================] - ETA: 0s - loss: 0.4038 - accuracy: 0.8857\n",
            "Epoch 4: val_loss did not improve from 1.12547\n",
            "50/50 [==============================] - 22s 443ms/step - loss: 0.4038 - accuracy: 0.8857 - val_loss: 2.0718 - val_accuracy: 0.2369 - lr: 0.0030\n",
            "Epoch 5/100\n",
            "50/50 [==============================] - ETA: 0s - loss: 0.3277 - accuracy: 0.9056\n",
            "Epoch 5: val_loss did not improve from 1.12547\n",
            "50/50 [==============================] - 25s 490ms/step - loss: 0.3277 - accuracy: 0.9056 - val_loss: 2.7124 - val_accuracy: 0.0835 - lr: 0.0030\n",
            "Epoch 6/100\n",
            "50/50 [==============================] - ETA: 0s - loss: 0.2930 - accuracy: 0.9116\n",
            "Epoch 6: val_loss did not improve from 1.12547\n",
            "50/50 [==============================] - 22s 444ms/step - loss: 0.2930 - accuracy: 0.9116 - val_loss: 11.6701 - val_accuracy: 0.0835 - lr: 0.0030\n",
            "Epoch 7/100\n",
            "50/50 [==============================] - ETA: 0s - loss: 0.2898 - accuracy: 0.9123\n",
            "Epoch 7: ReduceLROnPlateau reducing learning rate to 0.002100000018253922.\n",
            "\n",
            "Epoch 7: val_loss did not improve from 1.12547\n",
            "50/50 [==============================] - 23s 456ms/step - loss: 0.2898 - accuracy: 0.9123 - val_loss: 7.6757 - val_accuracy: 0.0835 - lr: 0.0030\n",
            "Epoch 8/100\n",
            "50/50 [==============================] - ETA: 0s - loss: 0.2532 - accuracy: 0.9176\n",
            "Epoch 8: val_loss did not improve from 1.12547\n",
            "50/50 [==============================] - 23s 451ms/step - loss: 0.2532 - accuracy: 0.9176 - val_loss: 9.1679 - val_accuracy: 0.0835 - lr: 0.0021\n",
            "Epoch 9/100\n",
            "50/50 [==============================] - ETA: 0s - loss: 0.2319 - accuracy: 0.9297\n",
            "Epoch 9: val_loss did not improve from 1.12547\n",
            "50/50 [==============================] - 22s 444ms/step - loss: 0.2319 - accuracy: 0.9297 - val_loss: 21.2005 - val_accuracy: 0.0835 - lr: 0.0021\n",
            "Epoch 10/100\n",
            "50/50 [==============================] - ETA: 0s - loss: 0.2131 - accuracy: 0.9278\n",
            "Epoch 10: val_loss did not improve from 1.12547\n",
            "50/50 [==============================] - 23s 450ms/step - loss: 0.2131 - accuracy: 0.9278 - val_loss: 16.4900 - val_accuracy: 0.0835 - lr: 0.0021\n",
            "Epoch 11/100\n",
            "50/50 [==============================] - ETA: 0s - loss: 0.1905 - accuracy: 0.9373\n",
            "Epoch 11: val_loss did not improve from 1.12547\n",
            "50/50 [==============================] - 23s 451ms/step - loss: 0.1905 - accuracy: 0.9373 - val_loss: 8.4055 - val_accuracy: 0.0835 - lr: 0.0021\n",
            "Epoch 12/100\n",
            "50/50 [==============================] - ETA: 0s - loss: 0.1841 - accuracy: 0.9384\n",
            "Epoch 12: ReduceLROnPlateau reducing learning rate to 0.0014699999475851653.\n",
            "\n",
            "Epoch 12: val_loss did not improve from 1.12547\n",
            "50/50 [==============================] - 23s 447ms/step - loss: 0.1841 - accuracy: 0.9384 - val_loss: 4.0186 - val_accuracy: 0.1806 - lr: 0.0021\n",
            "Epoch 13/100\n",
            "50/50 [==============================] - ETA: 0s - loss: 0.1820 - accuracy: 0.9384\n",
            "Epoch 13: val_loss did not improve from 1.12547\n",
            "50/50 [==============================] - 23s 454ms/step - loss: 0.1820 - accuracy: 0.9384 - val_loss: 3.0759 - val_accuracy: 0.3204 - lr: 0.0015\n",
            "Epoch 14/100\n",
            "50/50 [==============================] - ETA: 0s - loss: 0.1928 - accuracy: 0.9354\n",
            "Epoch 14: val_loss did not improve from 1.12547\n",
            "50/50 [==============================] - 23s 449ms/step - loss: 0.1928 - accuracy: 0.9354 - val_loss: 1.4253 - val_accuracy: 0.6019 - lr: 0.0015\n",
            "Epoch 15/100\n",
            "50/50 [==============================] - ETA: 0s - loss: 0.1717 - accuracy: 0.9431\n",
            "Epoch 15: val_loss did not improve from 1.12547\n",
            "50/50 [==============================] - 23s 449ms/step - loss: 0.1717 - accuracy: 0.9431 - val_loss: 1.8659 - val_accuracy: 0.5184 - lr: 0.0015\n",
            "Epoch 16/100\n",
            "50/50 [==============================] - ETA: 0s - loss: 0.1676 - accuracy: 0.9416\n",
            "Epoch 16: val_loss did not improve from 1.12547\n",
            "50/50 [==============================] - 23s 455ms/step - loss: 0.1676 - accuracy: 0.9416 - val_loss: 1.2515 - val_accuracy: 0.7184 - lr: 0.0015\n",
            "Epoch 17/100\n",
            "50/50 [==============================] - ETA: 0s - loss: 0.1666 - accuracy: 0.9443\n",
            "Epoch 17: val_loss did not improve from 1.12547\n",
            "50/50 [==============================] - 23s 454ms/step - loss: 0.1666 - accuracy: 0.9443 - val_loss: 1.2184 - val_accuracy: 0.7029 - lr: 0.0015\n",
            "Epoch 18/100\n",
            "50/50 [==============================] - ETA: 0s - loss: 0.1545 - accuracy: 0.9538\n",
            "Epoch 18: val_loss did not improve from 1.12547\n",
            "50/50 [==============================] - 22s 451ms/step - loss: 0.1545 - accuracy: 0.9538 - val_loss: 1.2579 - val_accuracy: 0.6971 - lr: 0.0015\n",
            "Epoch 19/100\n",
            "50/50 [==============================] - ETA: 0s - loss: 0.1624 - accuracy: 0.9471\n",
            "Epoch 19: val_loss improved from 1.12547 to 0.46964, saving model to ResNet50_Model.hdf5\n",
            "50/50 [==============================] - 24s 484ms/step - loss: 0.1624 - accuracy: 0.9471 - val_loss: 0.4696 - val_accuracy: 0.8117 - lr: 0.0015\n",
            "Epoch 20/100\n",
            "50/50 [==============================] - ETA: 0s - loss: 0.1486 - accuracy: 0.9528\n",
            "Epoch 20: val_loss did not improve from 0.46964\n",
            "50/50 [==============================] - 23s 445ms/step - loss: 0.1486 - accuracy: 0.9528 - val_loss: 0.6778 - val_accuracy: 0.7631 - lr: 0.0015\n",
            "Epoch 21/100\n",
            "50/50 [==============================] - ETA: 0s - loss: 0.1370 - accuracy: 0.9544\n",
            "Epoch 21: val_loss improved from 0.46964 to 0.17746, saving model to ResNet50_Model.hdf5\n",
            "50/50 [==============================] - 24s 473ms/step - loss: 0.1370 - accuracy: 0.9544 - val_loss: 0.1775 - val_accuracy: 0.9223 - lr: 0.0015\n",
            "Epoch 22/100\n",
            "50/50 [==============================] - ETA: 0s - loss: 0.1447 - accuracy: 0.9455\n",
            "Epoch 22: val_loss did not improve from 0.17746\n",
            "50/50 [==============================] - 23s 449ms/step - loss: 0.1447 - accuracy: 0.9455 - val_loss: 0.4811 - val_accuracy: 0.7961 - lr: 0.0015\n",
            "Epoch 23/100\n",
            "50/50 [==============================] - ETA: 0s - loss: 0.1299 - accuracy: 0.9569\n",
            "Epoch 23: val_loss did not improve from 0.17746\n",
            "50/50 [==============================] - 23s 449ms/step - loss: 0.1299 - accuracy: 0.9569 - val_loss: 0.2324 - val_accuracy: 0.9049 - lr: 0.0015\n",
            "Epoch 24/100\n",
            "50/50 [==============================] - ETA: 0s - loss: 0.1413 - accuracy: 0.9538\n",
            "Epoch 24: val_loss did not improve from 0.17746\n",
            "50/50 [==============================] - 22s 442ms/step - loss: 0.1413 - accuracy: 0.9538 - val_loss: 0.4924 - val_accuracy: 0.8252 - lr: 0.0015\n",
            "Epoch 25/100\n",
            "50/50 [==============================] - ETA: 0s - loss: 0.1331 - accuracy: 0.9588\n",
            "Epoch 25: val_loss improved from 0.17746 to 0.12966, saving model to ResNet50_Model.hdf5\n",
            "50/50 [==============================] - 27s 528ms/step - loss: 0.1331 - accuracy: 0.9588 - val_loss: 0.1297 - val_accuracy: 0.9553 - lr: 0.0015\n",
            "Epoch 26/100\n",
            "50/50 [==============================] - ETA: 0s - loss: 0.1267 - accuracy: 0.9619\n",
            "Epoch 26: val_loss did not improve from 0.12966\n",
            "50/50 [==============================] - 23s 460ms/step - loss: 0.1267 - accuracy: 0.9619 - val_loss: 0.1380 - val_accuracy: 0.9515 - lr: 0.0015\n",
            "Epoch 27/100\n",
            "50/50 [==============================] - ETA: 0s - loss: 0.1274 - accuracy: 0.9572\n",
            "Epoch 27: val_loss improved from 0.12966 to 0.09137, saving model to ResNet50_Model.hdf5\n",
            "50/50 [==============================] - 24s 475ms/step - loss: 0.1274 - accuracy: 0.9572 - val_loss: 0.0914 - val_accuracy: 0.9631 - lr: 0.0015\n",
            "Epoch 28/100\n",
            "50/50 [==============================] - ETA: 0s - loss: 0.1214 - accuracy: 0.9582\n",
            "Epoch 28: val_loss did not improve from 0.09137\n",
            "50/50 [==============================] - 23s 447ms/step - loss: 0.1214 - accuracy: 0.9582 - val_loss: 0.1721 - val_accuracy: 0.9534 - lr: 0.0015\n",
            "Epoch 29/100\n",
            "50/50 [==============================] - ETA: 0s - loss: 0.1255 - accuracy: 0.9616\n",
            "Epoch 29: val_loss did not improve from 0.09137\n",
            "50/50 [==============================] - 23s 449ms/step - loss: 0.1255 - accuracy: 0.9616 - val_loss: 0.2571 - val_accuracy: 0.9146 - lr: 0.0015\n",
            "Epoch 30/100\n",
            "50/50 [==============================] - ETA: 0s - loss: 0.1317 - accuracy: 0.9534\n",
            "Epoch 30: val_loss did not improve from 0.09137\n",
            "50/50 [==============================] - 23s 451ms/step - loss: 0.1317 - accuracy: 0.9534 - val_loss: 0.2199 - val_accuracy: 0.9417 - lr: 0.0015\n",
            "Epoch 31/100\n",
            "50/50 [==============================] - ETA: 0s - loss: 0.1223 - accuracy: 0.9610\n",
            "Epoch 31: val_loss did not improve from 0.09137\n",
            "50/50 [==============================] - 23s 449ms/step - loss: 0.1223 - accuracy: 0.9610 - val_loss: 0.2255 - val_accuracy: 0.9126 - lr: 0.0015\n",
            "Epoch 32/100\n",
            "50/50 [==============================] - ETA: 0s - loss: 0.1228 - accuracy: 0.9623\n",
            "Epoch 32: ReduceLROnPlateau reducing learning rate to 0.0010289999307133257.\n",
            "\n",
            "Epoch 32: val_loss did not improve from 0.09137\n",
            "50/50 [==============================] - 22s 444ms/step - loss: 0.1228 - accuracy: 0.9623 - val_loss: 0.1209 - val_accuracy: 0.9592 - lr: 0.0015\n",
            "Epoch 33/100\n",
            "50/50 [==============================] - ETA: 0s - loss: 0.1091 - accuracy: 0.9658\n",
            "Epoch 33: val_loss did not improve from 0.09137\n",
            "50/50 [==============================] - 23s 448ms/step - loss: 0.1091 - accuracy: 0.9658 - val_loss: 0.0961 - val_accuracy: 0.9709 - lr: 0.0010\n",
            "Epoch 34/100\n",
            "50/50 [==============================] - ETA: 0s - loss: 0.1076 - accuracy: 0.9613\n",
            "Epoch 34: val_loss improved from 0.09137 to 0.08924, saving model to ResNet50_Model.hdf5\n",
            "50/50 [==============================] - 24s 475ms/step - loss: 0.1076 - accuracy: 0.9613 - val_loss: 0.0892 - val_accuracy: 0.9612 - lr: 0.0010\n",
            "Epoch 35/100\n",
            "50/50 [==============================] - ETA: 0s - loss: 0.1126 - accuracy: 0.9585\n",
            "Epoch 35: val_loss did not improve from 0.08924\n",
            "50/50 [==============================] - 25s 498ms/step - loss: 0.1126 - accuracy: 0.9585 - val_loss: 0.0942 - val_accuracy: 0.9709 - lr: 0.0010\n",
            "Epoch 36/100\n",
            "50/50 [==============================] - ETA: 0s - loss: 0.1094 - accuracy: 0.9594\n",
            "Epoch 36: val_loss did not improve from 0.08924\n",
            "50/50 [==============================] - 22s 444ms/step - loss: 0.1094 - accuracy: 0.9594 - val_loss: 0.0945 - val_accuracy: 0.9650 - lr: 0.0010\n",
            "Epoch 37/100\n",
            "50/50 [==============================] - ETA: 0s - loss: 0.1123 - accuracy: 0.9629\n",
            "Epoch 37: val_loss did not improve from 0.08924\n",
            "50/50 [==============================] - 23s 447ms/step - loss: 0.1123 - accuracy: 0.9629 - val_loss: 0.1388 - val_accuracy: 0.9495 - lr: 0.0010\n",
            "Epoch 38/100\n",
            "50/50 [==============================] - ETA: 0s - loss: 0.0986 - accuracy: 0.9647\n",
            "Epoch 38: ReduceLROnPlateau reducing learning rate to 0.0007202999433502554.\n",
            "\n",
            "Epoch 38: val_loss did not improve from 0.08924\n",
            "50/50 [==============================] - 23s 445ms/step - loss: 0.0986 - accuracy: 0.9647 - val_loss: 0.1082 - val_accuracy: 0.9553 - lr: 0.0010\n",
            "Epoch 39/100\n",
            "50/50 [==============================] - ETA: 0s - loss: 0.0907 - accuracy: 0.9664\n",
            "Epoch 39: val_loss improved from 0.08924 to 0.08025, saving model to ResNet50_Model.hdf5\n",
            "50/50 [==============================] - 24s 472ms/step - loss: 0.0907 - accuracy: 0.9664 - val_loss: 0.0802 - val_accuracy: 0.9689 - lr: 7.2030e-04\n",
            "Epoch 40/100\n",
            "50/50 [==============================] - ETA: 0s - loss: 0.1185 - accuracy: 0.9579\n",
            "Epoch 40: val_loss did not improve from 0.08025\n",
            "50/50 [==============================] - 24s 484ms/step - loss: 0.1185 - accuracy: 0.9579 - val_loss: 0.1017 - val_accuracy: 0.9631 - lr: 7.2030e-04\n",
            "Epoch 41/100\n",
            "50/50 [==============================] - ETA: 0s - loss: 0.1126 - accuracy: 0.9628\n",
            "Epoch 41: val_loss did not improve from 0.08025\n",
            "50/50 [==============================] - 23s 447ms/step - loss: 0.1126 - accuracy: 0.9628 - val_loss: 0.1306 - val_accuracy: 0.9709 - lr: 7.2030e-04\n",
            "Epoch 42/100\n",
            "50/50 [==============================] - ETA: 0s - loss: 0.0845 - accuracy: 0.9737\n",
            "Epoch 42: val_loss did not improve from 0.08025\n",
            "50/50 [==============================] - 22s 443ms/step - loss: 0.0845 - accuracy: 0.9737 - val_loss: 0.1012 - val_accuracy: 0.9767 - lr: 7.2030e-04\n",
            "Epoch 43/100\n",
            "50/50 [==============================] - ETA: 0s - loss: 0.1023 - accuracy: 0.9647\n",
            "Epoch 43: val_loss did not improve from 0.08025\n",
            "50/50 [==============================] - 23s 456ms/step - loss: 0.1023 - accuracy: 0.9647 - val_loss: 0.1131 - val_accuracy: 0.9670 - lr: 7.2030e-04\n",
            "Epoch 44/100\n",
            "50/50 [==============================] - ETA: 0s - loss: 0.1010 - accuracy: 0.9680\n",
            "Epoch 44: val_loss did not improve from 0.08025\n",
            "50/50 [==============================] - 23s 445ms/step - loss: 0.1010 - accuracy: 0.9680 - val_loss: 0.2466 - val_accuracy: 0.9223 - lr: 7.2030e-04\n",
            "Epoch 45/100\n",
            "50/50 [==============================] - ETA: 0s - loss: 0.0979 - accuracy: 0.9659\n",
            "Epoch 45: val_loss did not improve from 0.08025\n",
            "50/50 [==============================] - 23s 446ms/step - loss: 0.0979 - accuracy: 0.9659 - val_loss: 0.1390 - val_accuracy: 0.9515 - lr: 7.2030e-04\n",
            "Epoch 46/100\n",
            "50/50 [==============================] - ETA: 0s - loss: 0.0881 - accuracy: 0.9681\n",
            "Epoch 46: val_loss did not improve from 0.08025\n",
            "50/50 [==============================] - 22s 443ms/step - loss: 0.0881 - accuracy: 0.9681 - val_loss: 0.0971 - val_accuracy: 0.9650 - lr: 7.2030e-04\n",
            "Epoch 47/100\n",
            "50/50 [==============================] - ETA: 0s - loss: 0.0899 - accuracy: 0.9734\n",
            "Epoch 47: ReduceLROnPlateau reducing learning rate to 0.0005042099684942513.\n",
            "\n",
            "Epoch 47: val_loss did not improve from 0.08025\n",
            "50/50 [==============================] - 23s 451ms/step - loss: 0.0899 - accuracy: 0.9734 - val_loss: 0.0996 - val_accuracy: 0.9728 - lr: 7.2030e-04\n",
            "Epoch 48/100\n",
            "50/50 [==============================] - ETA: 0s - loss: 0.0833 - accuracy: 0.9721\n",
            "Epoch 48: val_loss did not improve from 0.08025\n",
            "50/50 [==============================] - 22s 445ms/step - loss: 0.0833 - accuracy: 0.9721 - val_loss: 0.1478 - val_accuracy: 0.9631 - lr: 5.0421e-04\n",
            "Epoch 49/100\n",
            "50/50 [==============================] - ETA: 0s - loss: 0.0998 - accuracy: 0.9674\n",
            "Epoch 49: val_loss did not improve from 0.08025\n",
            "50/50 [==============================] - 22s 442ms/step - loss: 0.0998 - accuracy: 0.9674 - val_loss: 0.1031 - val_accuracy: 0.9689 - lr: 5.0421e-04\n",
            "Epoch 50/100\n",
            "50/50 [==============================] - ETA: 0s - loss: 0.0942 - accuracy: 0.9658\n",
            "Epoch 50: val_loss did not improve from 0.08025\n",
            "50/50 [==============================] - 23s 452ms/step - loss: 0.0942 - accuracy: 0.9658 - val_loss: 0.1097 - val_accuracy: 0.9631 - lr: 5.0421e-04\n",
            "Epoch 51/100\n",
            "50/50 [==============================] - ETA: 0s - loss: 0.0918 - accuracy: 0.9677\n",
            "Epoch 51: val_loss did not improve from 0.08025\n",
            "50/50 [==============================] - 22s 442ms/step - loss: 0.0918 - accuracy: 0.9677 - val_loss: 0.1511 - val_accuracy: 0.9650 - lr: 5.0421e-04\n",
            "Epoch 52/100\n",
            "50/50 [==============================] - ETA: 0s - loss: 0.0812 - accuracy: 0.9737\n",
            "Epoch 52: ReduceLROnPlateau reducing learning rate to 0.0003529469657223671.\n",
            "\n",
            "Epoch 52: val_loss did not improve from 0.08025\n",
            "50/50 [==============================] - 23s 452ms/step - loss: 0.0812 - accuracy: 0.9737 - val_loss: 0.2446 - val_accuracy: 0.9379 - lr: 5.0421e-04\n",
            "Epoch 53/100\n",
            "50/50 [==============================] - ETA: 0s - loss: 0.0935 - accuracy: 0.9667\n",
            "Epoch 53: val_loss did not improve from 0.08025\n",
            "50/50 [==============================] - 23s 452ms/step - loss: 0.0935 - accuracy: 0.9667 - val_loss: 0.1292 - val_accuracy: 0.9786 - lr: 3.5295e-04\n",
            "Epoch 54/100\n",
            "50/50 [==============================] - ETA: 0s - loss: 0.0959 - accuracy: 0.9696\n",
            "Epoch 54: val_loss did not improve from 0.08025\n",
            "50/50 [==============================] - 25s 490ms/step - loss: 0.0959 - accuracy: 0.9696 - val_loss: 0.2200 - val_accuracy: 0.9553 - lr: 3.5295e-04\n",
            "Epoch 55/100\n",
            "50/50 [==============================] - ETA: 0s - loss: 0.0917 - accuracy: 0.9693\n",
            "Epoch 55: val_loss did not improve from 0.08025\n",
            "50/50 [==============================] - 22s 445ms/step - loss: 0.0917 - accuracy: 0.9693 - val_loss: 0.0855 - val_accuracy: 0.9728 - lr: 3.5295e-04\n",
            "Epoch 56/100\n",
            "50/50 [==============================] - ETA: 0s - loss: 0.0933 - accuracy: 0.9684\n",
            "Epoch 56: val_loss did not improve from 0.08025\n",
            "50/50 [==============================] - 22s 444ms/step - loss: 0.0933 - accuracy: 0.9684 - val_loss: 0.1268 - val_accuracy: 0.9515 - lr: 3.5295e-04\n",
            "Epoch 57/100\n",
            "50/50 [==============================] - ETA: 0s - loss: 0.0833 - accuracy: 0.9702\n",
            "Epoch 57: val_loss did not improve from 0.08025\n",
            "50/50 [==============================] - 23s 449ms/step - loss: 0.0833 - accuracy: 0.9702 - val_loss: 0.0951 - val_accuracy: 0.9748 - lr: 3.5295e-04\n",
            "Epoch 58/100\n",
            "50/50 [==============================] - ETA: 0s - loss: 0.0908 - accuracy: 0.9681\n",
            "Epoch 58: ReduceLROnPlateau reducing learning rate to 0.0002470628678565845.\n",
            "\n",
            "Epoch 58: val_loss did not improve from 0.08025\n",
            "50/50 [==============================] - 23s 457ms/step - loss: 0.0908 - accuracy: 0.9681 - val_loss: 0.0957 - val_accuracy: 0.9689 - lr: 3.5295e-04\n",
            "Epoch 59/100\n",
            "50/50 [==============================] - ETA: 0s - loss: 0.0969 - accuracy: 0.9648\n",
            "Epoch 59: val_loss did not improve from 0.08025\n",
            "50/50 [==============================] - 23s 450ms/step - loss: 0.0969 - accuracy: 0.9648 - val_loss: 0.0874 - val_accuracy: 0.9786 - lr: 2.4706e-04\n",
            "Epoch 60/100\n",
            "50/50 [==============================] - ETA: 0s - loss: 0.0836 - accuracy: 0.9694\n",
            "Epoch 60: val_loss did not improve from 0.08025\n",
            "50/50 [==============================] - 23s 445ms/step - loss: 0.0836 - accuracy: 0.9694 - val_loss: 0.1008 - val_accuracy: 0.9709 - lr: 2.4706e-04\n",
            "Epoch 61/100\n",
            "50/50 [==============================] - ETA: 0s - loss: 0.0877 - accuracy: 0.9691\n",
            "Epoch 61: val_loss did not improve from 0.08025\n",
            "50/50 [==============================] - 23s 450ms/step - loss: 0.0877 - accuracy: 0.9691 - val_loss: 0.0813 - val_accuracy: 0.9709 - lr: 2.4706e-04\n",
            "Epoch 62/100\n",
            "50/50 [==============================] - ETA: 0s - loss: 0.0936 - accuracy: 0.9655\n",
            "Epoch 62: val_loss did not improve from 0.08025\n",
            "50/50 [==============================] - 22s 445ms/step - loss: 0.0936 - accuracy: 0.9655 - val_loss: 0.0863 - val_accuracy: 0.9786 - lr: 2.4706e-04\n",
            "Epoch 63/100\n",
            "50/50 [==============================] - ETA: 0s - loss: 0.0950 - accuracy: 0.9693\n",
            "Epoch 63: ReduceLROnPlateau reducing learning rate to 0.00017294401768594978.\n",
            "\n",
            "Epoch 63: val_loss did not improve from 0.08025\n",
            "50/50 [==============================] - 22s 443ms/step - loss: 0.0950 - accuracy: 0.9693 - val_loss: 0.1797 - val_accuracy: 0.9553 - lr: 2.4706e-04\n",
            "Epoch 64/100\n",
            "50/50 [==============================] - ETA: 0s - loss: 0.0914 - accuracy: 0.9700\n",
            "Epoch 64: val_loss did not improve from 0.08025\n",
            "50/50 [==============================] - 25s 501ms/step - loss: 0.0914 - accuracy: 0.9700 - val_loss: 0.0825 - val_accuracy: 0.9767 - lr: 1.7294e-04\n",
            "Epoch 65/100\n",
            "50/50 [==============================] - ETA: 0s - loss: 0.0809 - accuracy: 0.9734\n",
            "Epoch 65: val_loss did not improve from 0.08025\n",
            "50/50 [==============================] - 23s 446ms/step - loss: 0.0809 - accuracy: 0.9734 - val_loss: 0.0881 - val_accuracy: 0.9748 - lr: 1.7294e-04\n",
            "Epoch 66/100\n",
            "50/50 [==============================] - ETA: 0s - loss: 0.0944 - accuracy: 0.9725\n",
            "Epoch 66: val_loss did not improve from 0.08025\n",
            "50/50 [==============================] - 23s 451ms/step - loss: 0.0944 - accuracy: 0.9725 - val_loss: 0.1004 - val_accuracy: 0.9709 - lr: 1.7294e-04\n",
            "Epoch 67/100\n",
            "50/50 [==============================] - ETA: 0s - loss: 0.0743 - accuracy: 0.9753\n",
            "Epoch 67: val_loss did not improve from 0.08025\n",
            "50/50 [==============================] - 22s 445ms/step - loss: 0.0743 - accuracy: 0.9753 - val_loss: 0.0847 - val_accuracy: 0.9728 - lr: 1.7294e-04\n",
            "Epoch 68/100\n",
            "50/50 [==============================] - ETA: 0s - loss: 0.0778 - accuracy: 0.9721\n",
            "Epoch 68: ReduceLROnPlateau reducing learning rate to 0.00012106080830562859.\n",
            "\n",
            "Epoch 68: val_loss did not improve from 0.08025\n",
            "50/50 [==============================] - 22s 445ms/step - loss: 0.0778 - accuracy: 0.9721 - val_loss: 0.0840 - val_accuracy: 0.9748 - lr: 1.7294e-04\n",
            "Epoch 69/100\n",
            "50/50 [==============================] - ETA: 0s - loss: 0.0909 - accuracy: 0.9680\n",
            "Epoch 69: val_loss did not improve from 0.08025\n",
            "50/50 [==============================] - 23s 449ms/step - loss: 0.0909 - accuracy: 0.9680 - val_loss: 0.0824 - val_accuracy: 0.9748 - lr: 1.2106e-04\n",
            "Epoch 70/100\n",
            "50/50 [==============================] - ETA: 0s - loss: 0.0821 - accuracy: 0.9699\n",
            "Epoch 70: val_loss improved from 0.08025 to 0.07865, saving model to ResNet50_Model.hdf5\n",
            "50/50 [==============================] - 24s 469ms/step - loss: 0.0821 - accuracy: 0.9699 - val_loss: 0.0787 - val_accuracy: 0.9748 - lr: 1.2106e-04\n",
            "Epoch 71/100\n",
            "50/50 [==============================] - ETA: 0s - loss: 0.0743 - accuracy: 0.9740\n",
            "Epoch 71: val_loss improved from 0.07865 to 0.07568, saving model to ResNet50_Model.hdf5\n",
            "50/50 [==============================] - 24s 475ms/step - loss: 0.0743 - accuracy: 0.9740 - val_loss: 0.0757 - val_accuracy: 0.9786 - lr: 1.2106e-04\n",
            "Epoch 72/100\n",
            "50/50 [==============================] - ETA: 0s - loss: 0.0797 - accuracy: 0.9705\n",
            "Epoch 72: val_loss did not improve from 0.07568\n",
            "50/50 [==============================] - 22s 441ms/step - loss: 0.0797 - accuracy: 0.9705 - val_loss: 0.1241 - val_accuracy: 0.9689 - lr: 1.2106e-04\n",
            "Epoch 73/100\n",
            "50/50 [==============================] - ETA: 0s - loss: 0.0786 - accuracy: 0.9737\n",
            "Epoch 73: ReduceLROnPlateau reducing learning rate to 0.0001.\n",
            "\n",
            "Epoch 73: val_loss did not improve from 0.07568\n",
            "50/50 [==============================] - 22s 441ms/step - loss: 0.0786 - accuracy: 0.9737 - val_loss: 0.0953 - val_accuracy: 0.9748 - lr: 1.2106e-04\n",
            "Epoch 74/100\n",
            "50/50 [==============================] - ETA: 0s - loss: 0.0794 - accuracy: 0.9705\n",
            "Epoch 74: val_loss did not improve from 0.07568\n",
            "50/50 [==============================] - 25s 493ms/step - loss: 0.0794 - accuracy: 0.9705 - val_loss: 0.0833 - val_accuracy: 0.9767 - lr: 1.0000e-04\n",
            "Epoch 75/100\n",
            "50/50 [==============================] - ETA: 0s - loss: 0.0815 - accuracy: 0.9703\n",
            "Epoch 75: val_loss did not improve from 0.07568\n",
            "50/50 [==============================] - 22s 442ms/step - loss: 0.0815 - accuracy: 0.9703 - val_loss: 0.0773 - val_accuracy: 0.9786 - lr: 1.0000e-04\n",
            "Epoch 76/100\n",
            "50/50 [==============================] - ETA: 0s - loss: 0.0763 - accuracy: 0.9734\n",
            "Epoch 76: val_loss did not improve from 0.07568\n",
            "50/50 [==============================] - 22s 444ms/step - loss: 0.0763 - accuracy: 0.9734 - val_loss: 0.0804 - val_accuracy: 0.9709 - lr: 1.0000e-04\n",
            "Epoch 77/100\n",
            "50/50 [==============================] - ETA: 0s - loss: 0.0797 - accuracy: 0.9734\n",
            "Epoch 77: val_loss did not improve from 0.07568\n",
            "50/50 [==============================] - 22s 443ms/step - loss: 0.0797 - accuracy: 0.9734 - val_loss: 0.0831 - val_accuracy: 0.9728 - lr: 1.0000e-04\n",
            "Epoch 78/100\n",
            "50/50 [==============================] - ETA: 0s - loss: 0.0832 - accuracy: 0.9712\n",
            "Epoch 78: val_loss did not improve from 0.07568\n",
            "50/50 [==============================] - 23s 448ms/step - loss: 0.0832 - accuracy: 0.9712 - val_loss: 0.0813 - val_accuracy: 0.9748 - lr: 1.0000e-04\n",
            "Epoch 79/100\n",
            "50/50 [==============================] - ETA: 0s - loss: 0.0856 - accuracy: 0.9718\n",
            "Epoch 79: val_loss did not improve from 0.07568\n",
            "50/50 [==============================] - 22s 443ms/step - loss: 0.0856 - accuracy: 0.9718 - val_loss: 0.0823 - val_accuracy: 0.9767 - lr: 1.0000e-04\n",
            "Epoch 80/100\n",
            "50/50 [==============================] - ETA: 0s - loss: 0.0750 - accuracy: 0.9750\n",
            "Epoch 80: val_loss did not improve from 0.07568\n",
            "50/50 [==============================] - 22s 440ms/step - loss: 0.0750 - accuracy: 0.9750 - val_loss: 0.0842 - val_accuracy: 0.9767 - lr: 1.0000e-04\n",
            "Epoch 81/100\n",
            "50/50 [==============================] - ETA: 0s - loss: 0.0848 - accuracy: 0.9721\n",
            "Epoch 81: val_loss did not improve from 0.07568\n",
            "50/50 [==============================] - 22s 443ms/step - loss: 0.0848 - accuracy: 0.9721 - val_loss: 0.0950 - val_accuracy: 0.9786 - lr: 1.0000e-04\n",
            "Epoch 82/100\n",
            "50/50 [==============================] - ETA: 0s - loss: 0.0729 - accuracy: 0.9747\n",
            "Epoch 82: val_loss did not improve from 0.07568\n",
            "50/50 [==============================] - 22s 440ms/step - loss: 0.0729 - accuracy: 0.9747 - val_loss: 0.0826 - val_accuracy: 0.9728 - lr: 1.0000e-04\n",
            "Epoch 83/100\n",
            "50/50 [==============================] - ETA: 0s - loss: 0.0725 - accuracy: 0.9750\n",
            "Epoch 83: val_loss did not improve from 0.07568\n",
            "50/50 [==============================] - 22s 443ms/step - loss: 0.0725 - accuracy: 0.9750 - val_loss: 0.0851 - val_accuracy: 0.9728 - lr: 1.0000e-04\n",
            "Epoch 84/100\n",
            "50/50 [==============================] - ETA: 0s - loss: 0.0883 - accuracy: 0.9734\n",
            "Epoch 84: val_loss did not improve from 0.07568\n",
            "50/50 [==============================] - 22s 444ms/step - loss: 0.0883 - accuracy: 0.9734 - val_loss: 0.0791 - val_accuracy: 0.9767 - lr: 1.0000e-04\n",
            "Epoch 85/100\n",
            "50/50 [==============================] - ETA: 0s - loss: 0.0886 - accuracy: 0.9699\n",
            "Epoch 85: val_loss did not improve from 0.07568\n",
            "50/50 [==============================] - 22s 438ms/step - loss: 0.0886 - accuracy: 0.9699 - val_loss: 0.0901 - val_accuracy: 0.9786 - lr: 1.0000e-04\n",
            "Epoch 86/100\n",
            "50/50 [==============================] - ETA: 0s - loss: 0.0753 - accuracy: 0.9750\n",
            "Epoch 86: val_loss improved from 0.07568 to 0.07204, saving model to ResNet50_Model.hdf5\n",
            "50/50 [==============================] - 24s 473ms/step - loss: 0.0753 - accuracy: 0.9750 - val_loss: 0.0720 - val_accuracy: 0.9786 - lr: 1.0000e-04\n",
            "Epoch 87/100\n",
            "50/50 [==============================] - ETA: 0s - loss: 0.0786 - accuracy: 0.9747\n",
            "Epoch 87: val_loss did not improve from 0.07204\n",
            "50/50 [==============================] - 22s 442ms/step - loss: 0.0786 - accuracy: 0.9747 - val_loss: 0.0726 - val_accuracy: 0.9767 - lr: 1.0000e-04\n",
            "Epoch 88/100\n",
            "50/50 [==============================] - ETA: 0s - loss: 0.0824 - accuracy: 0.9737\n",
            "Epoch 88: val_loss did not improve from 0.07204\n",
            "50/50 [==============================] - 22s 437ms/step - loss: 0.0824 - accuracy: 0.9737 - val_loss: 0.0723 - val_accuracy: 0.9786 - lr: 1.0000e-04\n",
            "Epoch 89/100\n",
            "50/50 [==============================] - ETA: 0s - loss: 0.0938 - accuracy: 0.9683\n",
            "Epoch 89: val_loss improved from 0.07204 to 0.06710, saving model to ResNet50_Model.hdf5\n",
            "50/50 [==============================] - 24s 468ms/step - loss: 0.0938 - accuracy: 0.9683 - val_loss: 0.0671 - val_accuracy: 0.9825 - lr: 1.0000e-04\n",
            "Epoch 90/100\n",
            "50/50 [==============================] - ETA: 0s - loss: 0.0751 - accuracy: 0.9756\n",
            "Epoch 90: val_loss improved from 0.06710 to 0.06573, saving model to ResNet50_Model.hdf5\n",
            "50/50 [==============================] - 24s 469ms/step - loss: 0.0751 - accuracy: 0.9756 - val_loss: 0.0657 - val_accuracy: 0.9767 - lr: 1.0000e-04\n",
            "Epoch 91/100\n",
            "50/50 [==============================] - ETA: 0s - loss: 0.0720 - accuracy: 0.9756\n",
            "Epoch 91: val_loss did not improve from 0.06573\n",
            "50/50 [==============================] - 22s 443ms/step - loss: 0.0720 - accuracy: 0.9756 - val_loss: 0.0659 - val_accuracy: 0.9806 - lr: 1.0000e-04\n",
            "Epoch 92/100\n",
            "50/50 [==============================] - ETA: 0s - loss: 0.0834 - accuracy: 0.9741\n",
            "Epoch 92: val_loss did not improve from 0.06573\n",
            "50/50 [==============================] - 23s 447ms/step - loss: 0.0834 - accuracy: 0.9741 - val_loss: 0.0836 - val_accuracy: 0.9767 - lr: 1.0000e-04\n",
            "Epoch 93/100\n",
            "50/50 [==============================] - ETA: 0s - loss: 0.0726 - accuracy: 0.9743\n",
            "Epoch 93: val_loss did not improve from 0.06573\n",
            "50/50 [==============================] - 22s 439ms/step - loss: 0.0726 - accuracy: 0.9743 - val_loss: 0.0868 - val_accuracy: 0.9786 - lr: 1.0000e-04\n",
            "Epoch 94/100\n",
            "50/50 [==============================] - ETA: 0s - loss: 0.0774 - accuracy: 0.9756\n",
            "Epoch 94: val_loss did not improve from 0.06573\n",
            "50/50 [==============================] - 22s 443ms/step - loss: 0.0774 - accuracy: 0.9756 - val_loss: 0.0769 - val_accuracy: 0.9786 - lr: 1.0000e-04\n",
            "Epoch 95/100\n",
            "50/50 [==============================] - ETA: 0s - loss: 0.0767 - accuracy: 0.9750\n",
            "Epoch 95: val_loss did not improve from 0.06573\n",
            "50/50 [==============================] - 22s 441ms/step - loss: 0.0767 - accuracy: 0.9750 - val_loss: 0.0765 - val_accuracy: 0.9806 - lr: 1.0000e-04\n",
            "Epoch 96/100\n",
            "50/50 [==============================] - ETA: 0s - loss: 0.0733 - accuracy: 0.9740\n",
            "Epoch 96: val_loss did not improve from 0.06573\n",
            "50/50 [==============================] - 23s 448ms/step - loss: 0.0733 - accuracy: 0.9740 - val_loss: 0.0698 - val_accuracy: 0.9748 - lr: 1.0000e-04\n",
            "Epoch 97/100\n",
            "50/50 [==============================] - ETA: 0s - loss: 0.0961 - accuracy: 0.9655\n",
            "Epoch 97: val_loss did not improve from 0.06573\n",
            "50/50 [==============================] - 22s 446ms/step - loss: 0.0961 - accuracy: 0.9655 - val_loss: 0.0798 - val_accuracy: 0.9728 - lr: 1.0000e-04\n",
            "Epoch 98/100\n",
            "50/50 [==============================] - ETA: 0s - loss: 0.0873 - accuracy: 0.9715\n",
            "Epoch 98: val_loss did not improve from 0.06573\n",
            "50/50 [==============================] - 22s 443ms/step - loss: 0.0873 - accuracy: 0.9715 - val_loss: 0.0755 - val_accuracy: 0.9767 - lr: 1.0000e-04\n",
            "Epoch 99/100\n",
            "50/50 [==============================] - ETA: 0s - loss: 0.0700 - accuracy: 0.9743\n",
            "Epoch 99: val_loss did not improve from 0.06573\n",
            "50/50 [==============================] - 25s 497ms/step - loss: 0.0700 - accuracy: 0.9743 - val_loss: 0.0718 - val_accuracy: 0.9806 - lr: 1.0000e-04\n",
            "Epoch 100/100\n",
            "50/50 [==============================] - ETA: 0s - loss: 0.0748 - accuracy: 0.9724\n",
            "Epoch 100: val_loss did not improve from 0.06573\n",
            "50/50 [==============================] - 22s 442ms/step - loss: 0.0748 - accuracy: 0.9724 - val_loss: 0.0946 - val_accuracy: 0.9806 - lr: 1.0000e-04\n"
          ]
        }
      ]
    },
    {
      "cell_type": "code",
      "source": [
        "\n",
        "\n",
        "acc = history.history['accuracy']\n",
        "val_acc = history.history['val_accuracy']\n",
        "loss = history.history['loss']\n",
        "val_loss = history.history['val_loss']\n",
        "\n"
      ],
      "metadata": {
        "id": "q697O2--YwLc"
      },
      "execution_count": 29,
      "outputs": []
    },
    {
      "cell_type": "code",
      "source": [
        "\n",
        "\n",
        "epochs = range(len(acc))\n",
        "plt.plot(epochs, acc, 'r', label='Training accuracy')\n",
        "plt.plot(epochs, val_acc, 'b', label='Validation accuracy')\n",
        "plt.title('TraiN & Val Acc VS Epochs')\n",
        "plt.legend(loc=0)\n",
        "plt.figure()\n",
        "plt.show()\n",
        "\n"
      ],
      "metadata": {
        "id": "23sMDcPKZCAy",
        "colab": {
          "base_uri": "https://localhost:8080/",
          "height": 298
        },
        "outputId": "222126be-7633-42ae-b3c7-0a285fad16a9"
      },
      "execution_count": 30,
      "outputs": [
        {
          "output_type": "display_data",
          "data": {
            "text/plain": [
              "<Figure size 432x288 with 1 Axes>"
            ],
            "image/png": "[encoded data removed]"
          },
          "metadata": {
            "needs_background": "light"
          }
        },
        {
          "output_type": "display_data",
          "data": {
            "text/plain": [
              "<Figure size 432x288 with 0 Axes>"
            ]
          },
          "metadata": {}
        }
      ]
    },
    {
      "cell_type": "code",
      "source": [
        "epochs = range(len(acc))\n",
        "plt.plot(epochs, loss, 'r', label='Training Loss')\n",
        "plt.plot(epochs, val_loss, 'b', label='Validation Loss')\n",
        "plt.title('TraiN & Val Loss VS Epochs')\n",
        "plt.legend(loc=0)\n",
        "plt.figure()\n",
        "plt.show()"
      ],
      "metadata": {
        "id": "jcxrVGl9ZDla",
        "colab": {
          "base_uri": "https://localhost:8080/",
          "height": 298
        },
        "outputId": "a5404a9c-5b46-4d3c-e79b-986bd37b7a62"
      },
      "execution_count": 31,
      "outputs": [
        {
          "output_type": "display_data",
          "data": {
            "text/plain": [
              "<Figure size 432x288 with 1 Axes>"
            ],
            "image/png": "[encoded data removed]"
          },
          "metadata": {
            "needs_background": "light"
          }
        },
        {
          "output_type": "display_data",
          "data": {
            "text/plain": [
              "<Figure size 432x288 with 0 Axes>"
            ]
          },
          "metadata": {}
        }
      ]
    },
    {
      "cell_type": "code",
      "source": [
        "from sklearn.metrics import accuracy_score\n",
        "from sklearn.metrics import classification_report\n",
        "import numpy as np\n"
      ],
      "metadata": {
        "id": "SNOeg7f3urQJ"
      },
      "execution_count": 32,
      "outputs": []
    },
    {
      "cell_type": "code",
      "source": [
        "pred = model.predict(X_val)\n",
        "rounded_labels=np.argmax(pred, axis=1)\n",
        "rounded_labels_2 = np.argmax(Y_val, axis=1)\n",
        "rounded_labels[1]\n",
        "rounded_labels_2[1]\n",
        "print(accuracy_score(rounded_labels_2,rounded_labels))\n",
        "print(confusion_matrix(rounded_labels_2,rounded_labels))\n",
        "print(classification_report(rounded_labels_2,rounded_labels)) "
      ],
      "metadata": {
        "id": "GDHcPucAuwTD",
        "colab": {
          "base_uri": "https://localhost:8080/"
        },
        "outputId": "553d2fba-0147-4901-d51e-5c6602d2065b"
      },
      "execution_count": 33,
      "outputs": [
        {
          "output_type": "stream",
          "name": "stdout",
          "text": [
            "17/17 [==============================] - 1s 55ms/step\n",
            "0.9766990291262136\n",
            "[[ 42   1   0]\n",
            " [  0 116   6]\n",
            " [  0   5 345]]\n",
            "              precision    recall  f1-score   support\n",
            "\n",
            "           0       1.00      0.98      0.99        43\n",
            "           1       0.95      0.95      0.95       122\n",
            "           2       0.98      0.99      0.98       350\n",
            "\n",
            "    accuracy                           0.98       515\n",
            "   macro avg       0.98      0.97      0.97       515\n",
            "weighted avg       0.98      0.98      0.98       515\n",
            "\n"
          ]
        }
      ]
    },
    {
      "cell_type": "code",
      "source": [
        "from sklearn.metrics import roc_auc_score, roc_curve\n",
        "import matplotlib.pyplot as plt\n",
        "\n",
        "# Compute the ROC-AUC score for each class\n",
        "roc_auc = [0]*3\n",
        "for i in range(3):\n",
        "    roc_auc[i] = roc_auc_score(rounded_labels_2 == i, pred[:, i])\n",
        "plt.ylim(0,1)\n",
        "plt.xlim(0,1)\n",
        "# Compute the ROC curve for each class\n",
        "fpr = [0]*3\n",
        "tpr = [0]*3\n",
        "for i in range(3):\n",
        "    fpr[i], tpr[i], _ = roc_curve(rounded_labels_2 == i, pred[:, i])\n",
        "\n",
        "# Plot the ROC curves\n",
        "for i in range(3):\n",
        "    plt.plot(fpr[i], tpr[i], linewidth=1.5, label='Class {0} (AUC = {1:0.2f})'.format(i, roc_auc[i]))\n",
        "plt.legend(loc='best')\n",
        "plt.xlabel(\"False positive rate\")\n",
        "plt.ylabel(\"True positive rate\")\n",
        "plt.show()"
      ],
      "metadata": {
        "id": "NuDte4K9tSwb",
        "colab": {
          "base_uri": "https://localhost:8080/",
          "height": 279
        },
        "outputId": "09363870-5270-4dba-df38-ecb084dcacd6"
      },
      "execution_count": 43,
      "outputs": [
        {
          "output_type": "display_data",
          "data": {
            "text/plain": [
              "<Figure size 432x288 with 1 Axes>"
            ],
            "image/png": "[encoded data removed]"
          },
          "metadata": {
            "needs_background": "light"
          }
        }
      ]
    },
    {
      "cell_type": "code",
      "source": [
        "from sklearn.metrics import roc_auc_score\n",
        "roc_auc = roc_auc_score(Y_val, pred)\n",
        "print(\"AUC: \", roc_auc)"
      ],
      "metadata": {
        "id": "-xBVURrJtS2U",
        "colab": {
          "base_uri": "https://localhost:8080/"
        },
        "outputId": "642829f7-379e-4d2c-a611-1dc14f9105d8"
      },
      "execution_count": 35,
      "outputs": [
        {
          "output_type": "stream",
          "name": "stdout",
          "text": [
            "AUC:  0.9985997544531443\n"
          ]
        }
      ]
    },
    {
      "cell_type": "code",
      "source": [
        "model.load_weights(\"ResNet50_Model.hdf5\")\n",
        "model.save(\"/content/drive/MyDrive/Model Saves/Resnet50 Xray\")\n",
        "score = model.evaluate(X_val,Y_val ,verbose=1)\n",
        "print('Test Loss:', score[0])\n",
        "print('Test accuracy:', score[1]*100)"
      ],
      "metadata": {
        "id": "-wBUHzW8tB3s",
        "colab": {
          "base_uri": "https://localhost:8080/"
        },
        "outputId": "37a1eec0-ca45-4aab-fe4e-8ac8204c0766"
      },
      "execution_count": 36,
      "outputs": [
        {
          "output_type": "stream",
          "name": "stderr",
          "text": [
            "WARNING:absl:Found untraced functions such as _jit_compiled_convolution_op, _jit_compiled_convolution_op, _jit_compiled_convolution_op, _jit_compiled_convolution_op, _jit_compiled_convolution_op while saving (showing 5 of 54). These functions will not be directly callable after loading.\n"
          ]
        },
        {
          "output_type": "stream",
          "name": "stdout",
          "text": [
            "17/17 [==============================] - 1s 56ms/step - loss: 0.0657 - accuracy: 0.9767\n",
            "Test Loss: 0.0657292902469635\n",
            "Test accuracy: 97.66990542411804\n"
          ]
        }
      ]
    },
    {
      "cell_type": "code",
      "source": [
        "# Import library\n",
        "import seaborn as sns\n",
        "\n",
        "# Generate predictions on the validation data\n",
        "predictions = model.predict(X_val)\n",
        "\n",
        "# Convert predictions to class labels\n",
        "predictions = np.argmax(predictions, axis=1)\n",
        "\n",
        "# Convert validation labels to class labels\n",
        "Y_val = np.argmax(Y_val, axis=1)\n",
        "\n",
        "# Generate confusion matrix\n",
        "confusion_matrix = tf.math.confusion_matrix(Y_val, predictions)\n",
        "\n",
        "# Plot the heatmap\n",
        "sns.heatmap(confusion_matrix, annot=True, cmap='Blues', xticklabels=disease_types, yticklabels=disease_types)\n",
        "plt.xlabel('Predicted')\n",
        "plt.ylabel('True')\n",
        "plt.show()\n"
      ],
      "metadata": {
        "colab": {
          "base_uri": "https://localhost:8080/",
          "height": 296
        },
        "id": "z7GF16RgK4jP",
        "outputId": "341bc9a2-c848-436b-edfa-cbf058ecbee8"
      },
      "execution_count": 44,
      "outputs": [
        {
          "output_type": "stream",
          "name": "stdout",
          "text": [
            "17/17 [==============================] - 1s 54ms/step\n"
          ]
        },
        {
          "output_type": "display_data",
          "data": {
            "text/plain": [
              "<Figure size 432x288 with 2 Axes>"
            ],
            "image/png": "[encoded data removed]"
          },
          "metadata": {
            "needs_background": "light"
          }
        }
      ]
    },
    {
      "cell_type": "code",
      "source": [
        "model.summary()"
      ],
      "metadata": {
        "colab": {
          "base_uri": "https://localhost:8080/"
        },
        "id": "RPaCY7Q8Mh2q",
        "outputId": "ecc2e400-6e81-4f33-9c29-18097b749bc2"
      },
      "execution_count": 51,
      "outputs": [
        {
          "output_type": "stream",
          "name": "stdout",
          "text": [
            "Model: \"model\"\n",
            "_________________________________________________________________\n",
            " Layer (type)                Output Shape              Param #   \n",
            "=================================================================\n",
            " input_2 (InputLayer)        [(None, 150, 150, 3)]     0         \n",
            "                                                                 \n",
            " conv2d (Conv2D)             (None, 150, 150, 3)       84        \n",
            "                                                                 \n",
            " resnet50 (Functional)       (None, None, None, 2048)  23587712  \n",
            "                                                                 \n",
            " global_average_pooling2d (G  (None, 2048)             0         \n",
            " lobalAveragePooling2D)                                          \n",
            "                                                                 \n",
            " batch_normalization (BatchN  (None, 2048)             8192      \n",
            " ormalization)                                                   \n",
            "                                                                 \n",
            " dropout (Dropout)           (None, 2048)              0         \n",
            "                                                                 \n",
            " dense (Dense)               (None, 256)               524544    \n",
            "                                                                 \n",
            " batch_normalization_1 (Batc  (None, 256)              1024      \n",
            " hNormalization)                                                 \n",
            "                                                                 \n",
            " dropout_1 (Dropout)         (None, 256)               0         \n",
            "                                                                 \n",
            " root (Dense)                (None, 3)                 771       \n",
            "                                                                 \n",
            "=================================================================\n",
            "Total params: 24,122,327\n",
            "Trainable params: 24,064,599\n",
            "Non-trainable params: 57,728\n",
            "_________________________________________________________________\n"
          ]
        }
      ]
    }
  ]
}