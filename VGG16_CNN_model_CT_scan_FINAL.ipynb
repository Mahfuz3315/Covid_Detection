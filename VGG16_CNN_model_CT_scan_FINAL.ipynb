{
  "nbformat": 4,
  "nbformat_minor": 0,
  "metadata": {
    "colab": {
      "provenance": []
    },
    "kernelspec": {
      "name": "python3",
      "display_name": "Python 3"
    },
    "language_info": {
      "name": "python"
    },
    "accelerator": "GPU"
  },
  "cells": [
    {
      "cell_type": "code",
      "source": [
        "from google.colab import drive\n",
        "drive.mount('/content/drive')"
      ],
      "metadata": {
        "colab": {
          "base_uri": "https://localhost:8080/"
        },
        "id": "6FnISFoBkHH3",
        "outputId": "81c76736-bed4-4cc5-dc0b-4a87f0767c91"
      },
      "execution_count": 1,
      "outputs": [
        {
          "output_type": "stream",
          "name": "stdout",
          "text": [
            "Mounted at /content/drive\n"
          ]
        }
      ]
    },
    {
      "cell_type": "code",
      "execution_count": 2,
      "metadata": {
        "colab": {
          "base_uri": "https://localhost:8080/",
          "height": 92
        },
        "id": "hf_Rf009Siob",
        "outputId": "4dbcec80-c076-407d-c0c2-390af356bea0"
      },
      "outputs": [
        {
          "output_type": "display_data",
          "data": {
            "text/plain": [
              "<IPython.core.display.HTML object>"
            ],
            "text/html": [
              "\n",
              "     <input type=\"file\" id=\"files-d0aeaa77-fc15-4045-bf77-1b00d5a710c6\" name=\"files[]\" multiple disabled\n",
              "        style=\"border:none\" />\n",
              "     <output id=\"result-d0aeaa77-fc15-4045-bf77-1b00d5a710c6\">\n",
              "      Upload widget is only available when the cell has been executed in the\n",
              "      current browser session. Please rerun this cell to enable.\n",
              "      </output>\n",
              "      <script>// Copyright 2017 Google LLC\n",
              "//\n",
              "// Licensed under the Apache License, Version 2.0 (the \"License\");\n",
              "// you may not use this file except in compliance with the License.\n",
              "// You may obtain a copy of the License at\n",
              "//\n",
              "//      http://www.apache.org/licenses/LICENSE-2.0\n",
              "//\n",
              "// Unless required by applicable law or agreed to in writing, software\n",
              "// distributed under the License is distributed on an \"AS IS\" BASIS,\n",
              "// WITHOUT WARRANTIES OR CONDITIONS OF ANY KIND, either express or implied.\n",
              "// See the License for the specific language governing permissions and\n",
              "// limitations under the License.\n",
              "\n",
              "/**\n",
              " * @fileoverview Helpers for google.colab Python module.\n",
              " */\n",
              "(function(scope) {\n",
              "function span(text, styleAttributes = {}) {\n",
              "  const element = document.createElement('span');\n",
              "  element.textContent = text;\n",
              "  for (const key of Object.keys(styleAttributes)) {\n",
              "    element.style[key] = styleAttributes[key];\n",
              "  }\n",
              "  return element;\n",
              "}\n",
              "\n",
              "// Max number of bytes which will be uploaded at a time.\n",
              "const MAX_PAYLOAD_SIZE = 100 * 1024;\n",
              "\n",
              "function _uploadFiles(inputId, outputId) {\n",
              "  const steps = uploadFilesStep(inputId, outputId);\n",
              "  const outputElement = document.getElementById(outputId);\n",
              "  // Cache steps on the outputElement to make it available for the next call\n",
              "  // to uploadFilesContinue from Python.\n",
              "  outputElement.steps = steps;\n",
              "\n",
              "  return _uploadFilesContinue(outputId);\n",
              "}\n",
              "\n",
              "// This is roughly an async generator (not supported in the browser yet),\n",
              "// where there are multiple asynchronous steps and the Python side is going\n",
              "// to poll for completion of each step.\n",
              "// This uses a Promise to block the python side on completion of each step,\n",
              "// then passes the result of the previous step as the input to the next step.\n",
              "function _uploadFilesContinue(outputId) {\n",
              "  const outputElement = document.getElementById(outputId);\n",
              "  const steps = outputElement.steps;\n",
              "\n",
              "  const next = steps.next(outputElement.lastPromiseValue);\n",
              "  return Promise.resolve(next.value.promise).then((value) => {\n",
              "    // Cache the last promise value to make it available to the next\n",
              "    // step of the generator.\n",
              "    outputElement.lastPromiseValue = value;\n",
              "    return next.value.response;\n",
              "  });\n",
              "}\n",
              "\n",
              "/**\n",
              " * Generator function which is called between each async step of the upload\n",
              " * process.\n",
              " * @param {string} inputId Element ID of the input file picker element.\n",
              " * @param {string} outputId Element ID of the output display.\n",
              " * @return {!Iterable<!Object>} Iterable of next steps.\n",
              " */\n",
              "function* uploadFilesStep(inputId, outputId) {\n",
              "  const inputElement = document.getElementById(inputId);\n",
              "  inputElement.disabled = false;\n",
              "\n",
              "  const outputElement = document.getElementById(outputId);\n",
              "  outputElement.innerHTML = '';\n",
              "\n",
              "  const pickedPromise = new Promise((resolve) => {\n",
              "    inputElement.addEventListener('change', (e) => {\n",
              "      resolve(e.target.files);\n",
              "    });\n",
              "  });\n",
              "\n",
              "  const cancel = document.createElement('button');\n",
              "  inputElement.parentElement.appendChild(cancel);\n",
              "  cancel.textContent = 'Cancel upload';\n",
              "  const cancelPromise = new Promise((resolve) => {\n",
              "    cancel.onclick = () => {\n",
              "      resolve(null);\n",
              "    };\n",
              "  });\n",
              "\n",
              "  // Wait for the user to pick the files.\n",
              "  const files = yield {\n",
              "    promise: Promise.race([pickedPromise, cancelPromise]),\n",
              "    response: {\n",
              "      action: 'starting',\n",
              "    }\n",
              "  };\n",
              "\n",
              "  cancel.remove();\n",
              "\n",
              "  // Disable the input element since further picks are not allowed.\n",
              "  inputElement.disabled = true;\n",
              "\n",
              "  if (!files) {\n",
              "    return {\n",
              "      response: {\n",
              "        action: 'complete',\n",
              "      }\n",
              "    };\n",
              "  }\n",
              "\n",
              "  for (const file of files) {\n",
              "    const li = document.createElement('li');\n",
              "    li.append(span(file.name, {fontWeight: 'bold'}));\n",
              "    li.append(span(\n",
              "        `(${file.type || 'n/a'}) - ${file.size} bytes, ` +\n",
              "        `last modified: ${\n",
              "            file.lastModifiedDate ? file.lastModifiedDate.toLocaleDateString() :\n",
              "                                    'n/a'} - `));\n",
              "    const percent = span('0% done');\n",
              "    li.appendChild(percent);\n",
              "\n",
              "    outputElement.appendChild(li);\n",
              "\n",
              "    const fileDataPromise = new Promise((resolve) => {\n",
              "      const reader = new FileReader();\n",
              "      reader.onload = (e) => {\n",
              "        resolve(e.target.result);\n",
              "      };\n",
              "      reader.readAsArrayBuffer(file);\n",
              "    });\n",
              "    // Wait for the data to be ready.\n",
              "    let fileData = yield {\n",
              "      promise: fileDataPromise,\n",
              "      response: {\n",
              "        action: 'continue',\n",
              "      }\n",
              "    };\n",
              "\n",
              "    // Use a chunked sending to avoid message size limits. See b/62115660.\n",
              "    let position = 0;\n",
              "    do {\n",
              "      const length = Math.min(fileData.byteLength - position, MAX_PAYLOAD_SIZE);\n",
              "      const chunk = new Uint8Array(fileData, position, length);\n",
              "      position += length;\n",
              "\n",
              "      const base64 = btoa(String.fromCharCode.apply(null, chunk));\n",
              "      yield {\n",
              "        response: {\n",
              "          action: 'append',\n",
              "          file: file.name,\n",
              "          data: base64,\n",
              "        },\n",
              "      };\n",
              "\n",
              "      let percentDone = fileData.byteLength === 0 ?\n",
              "          100 :\n",
              "          Math.round((position / fileData.byteLength) * 100);\n",
              "      percent.textContent = `${percentDone}% done`;\n",
              "\n",
              "    } while (position < fileData.byteLength);\n",
              "  }\n",
              "\n",
              "  // All done.\n",
              "  yield {\n",
              "    response: {\n",
              "      action: 'complete',\n",
              "    }\n",
              "  };\n",
              "}\n",
              "\n",
              "scope.google = scope.google || {};\n",
              "scope.google.colab = scope.google.colab || {};\n",
              "scope.google.colab._files = {\n",
              "  _uploadFiles,\n",
              "  _uploadFilesContinue,\n",
              "};\n",
              "})(self);\n",
              "</script> "
            ]
          },
          "metadata": {}
        },
        {
          "output_type": "stream",
          "name": "stdout",
          "text": [
            "Saving kaggle.json to kaggle.json\n",
            "User uploaded file \"kaggle.json\" with length 68 bytes\n"
          ]
        }
      ],
      "source": [
        "from google.colab import files\n",
        "\n",
        "uploaded = files.upload()\n",
        "\n",
        "for fn in uploaded.keys():\n",
        "  print('User uploaded file \"{name}\" with length {length} bytes'.format(\n",
        "      name=fn, length=len(uploaded[fn])))\n",
        "  \n",
        "# Then move kaggle.json into the folder where the API expects to find it.\n",
        "!mkdir -p ~/.kaggle/ && mv kaggle.json ~/.kaggle/ && chmod 600 ~/.kaggle/kaggle.json"
      ]
    },
    {
      "cell_type": "code",
      "source": [
        "!kaggle datasets download -d plameneduardo/sarscov2-ctscan-dataset"
      ],
      "metadata": {
        "colab": {
          "base_uri": "https://localhost:8080/"
        },
        "id": "_kjkWRy4SnzM",
        "outputId": "bc639065-8277-4c55-b097-dbad03945896"
      },
      "execution_count": 3,
      "outputs": [
        {
          "output_type": "stream",
          "name": "stdout",
          "text": [
            "Downloading sarscov2-ctscan-dataset.zip to /content\n",
            "100% 230M/230M [00:13<00:00, 19.8MB/s]\n",
            "100% 230M/230M [00:13<00:00, 18.6MB/s]\n"
          ]
        }
      ]
    },
    {
      "cell_type": "code",
      "source": [
        "from zipfile import ZipFile\n",
        "file_name = \"/content/sarscov2-ctscan-dataset.zip\"\n",
        "with ZipFile(file_name,'r') as zip:\n",
        "  zip.extractall()\n",
        "  print('Done')"
      ],
      "metadata": {
        "colab": {
          "base_uri": "https://localhost:8080/"
        },
        "id": "t7CsQrkxSohE",
        "outputId": "f2dc0fc7-9a30-472e-fa95-09c42e96f3c8"
      },
      "execution_count": 4,
      "outputs": [
        {
          "output_type": "stream",
          "name": "stdout",
          "text": [
            "Done\n"
          ]
        }
      ]
    },
    {
      "cell_type": "code",
      "source": [
        "\n",
        "import numpy as np # linear algebra\n",
        "import pandas as pd # data processing, CSV file I/O (e.g. pd.read_csv)\n",
        "\n",
        "# Input data files are available in the read-only \"../input/\" directory\n",
        "# For example, running this (by clicking run or pressing Shift+Enter) will list all files under the input directory\n",
        "\n",
        "import os\n",
        "for dirname, _, filenames in os.walk('/kaggle/input'):\n",
        "    for filename in filenames:\n",
        "        os.path.join(dirname, filename)"
      ],
      "metadata": {
        "id": "N8DHQqoxSqGB"
      },
      "execution_count": 5,
      "outputs": []
    },
    {
      "cell_type": "code",
      "source": [
        "import os\n",
        "import pandas as pd\n",
        "import numpy as np\n",
        "from tqdm import tqdm\n",
        "import keras\n",
        "from keras.utils.np_utils import to_categorical\n",
        "import cv2\n",
        "import tensorflow as tf\n",
        "from sklearn.model_selection import train_test_split\n",
        "from keras.layers import  Flatten, Dense, Dropout\n",
        "from tensorflow.keras.applications import VGG16\n",
        "from tensorflow.keras.applications import ResNet101\n",
        "# from tensorflow.keras.applications import Xception\n",
        "from keras.callbacks import ModelCheckpoint, ReduceLROnPlateau\n",
        "from keras.layers import Input\n",
        "from keras import Model\n",
        "from keras import optimizers\n",
        "from tensorflow.keras.optimizers import Adam\n",
        "from keras.layers import Dense, GlobalAveragePooling2D\n",
        "from keras.layers import Dense, Dropout, Flatten, Conv2D, MaxPool2D, BatchNormalization, AveragePooling2D, GlobalAveragePooling2D\n",
        "import keras_preprocessing\n",
        "from keras_preprocessing import image\n",
        "from keras_preprocessing.image import ImageDataGenerator\n",
        "from keras import callbacks\n",
        "import matplotlib.pyplot as plt\n",
        "from sklearn.metrics import confusion_matrix\n",
        "import seaborn as sns\n",
        "from zipfile import ZipFile"
      ],
      "metadata": {
        "id": "C0JiWoivSre2"
      },
      "execution_count": 6,
      "outputs": []
    },
    {
      "cell_type": "code",
      "source": [
        "disease_types = ['COVID', 'non-COVID']\n",
        "\n",
        "train_dir = data_dir = '/content'\n",
        "\n",
        "train_data = []\n",
        "\n",
        "for index, sp in enumerate(disease_types):\n",
        "    for file in os.listdir(os.path.join(train_dir, sp)):\n",
        "        train_data.append([sp + \"/\" + file, index, sp])\n",
        "        \n",
        "train = pd.DataFrame(train_data, columns = ['File', 'ID','Disease Type'])\n",
        "train.head()"
      ],
      "metadata": {
        "colab": {
          "base_uri": "https://localhost:8080/",
          "height": 206
        },
        "id": "SpQve67RSs6J",
        "outputId": "9fe206f2-7d16-4bed-a21b-b942ecbc347f"
      },
      "execution_count": 7,
      "outputs": [
        {
          "output_type": "execute_result",
          "data": {
            "text/plain": [
              "                    File  ID Disease Type\n",
              "0  COVID/Covid (692).png   0        COVID\n",
              "1  COVID/Covid (672).png   0        COVID\n",
              "2  COVID/Covid (392).png   0        COVID\n",
              "3   COVID/Covid (44).png   0        COVID\n",
              "4  COVID/Covid (150).png   0        COVID"
            ],
            "text/html": [
              "\n",
              "  <div id=\"df-d1149f06-8c7c-4bc7-b725-9905977a5034\">\n",
              "    <div class=\"colab-df-container\">\n",
              "      <div>\n",
              "<style scoped>\n",
              "    .dataframe tbody tr th:only-of-type {\n",
              "        vertical-align: middle;\n",
              "    }\n",
              "\n",
              "    .dataframe tbody tr th {\n",
              "        vertical-align: top;\n",
              "    }\n",
              "\n",
              "    .dataframe thead th {\n",
              "        text-align: right;\n",
              "    }\n",
              "</style>\n",
              "<table border=\"1\" class=\"dataframe\">\n",
              "  <thead>\n",
              "    <tr style=\"text-align: right;\">\n",
              "      <th></th>\n",
              "      <th>File</th>\n",
              "      <th>ID</th>\n",
              "      <th>Disease Type</th>\n",
              "    </tr>\n",
              "  </thead>\n",
              "  <tbody>\n",
              "    <tr>\n",
              "      <th>0</th>\n",
              "      <td>COVID/Covid (692).png</td>\n",
              "      <td>0</td>\n",
              "      <td>COVID</td>\n",
              "    </tr>\n",
              "    <tr>\n",
              "      <th>1</th>\n",
              "      <td>COVID/Covid (672).png</td>\n",
              "      <td>0</td>\n",
              "      <td>COVID</td>\n",
              "    </tr>\n",
              "    <tr>\n",
              "      <th>2</th>\n",
              "      <td>COVID/Covid (392).png</td>\n",
              "      <td>0</td>\n",
              "      <td>COVID</td>\n",
              "    </tr>\n",
              "    <tr>\n",
              "      <th>3</th>\n",
              "      <td>COVID/Covid (44).png</td>\n",
              "      <td>0</td>\n",
              "      <td>COVID</td>\n",
              "    </tr>\n",
              "    <tr>\n",
              "      <th>4</th>\n",
              "      <td>COVID/Covid (150).png</td>\n",
              "      <td>0</td>\n",
              "      <td>COVID</td>\n",
              "    </tr>\n",
              "  </tbody>\n",
              "</table>\n",
              "</div>\n",
              "      <button class=\"colab-df-convert\" onclick=\"convertToInteractive('df-d1149f06-8c7c-4bc7-b725-9905977a5034')\"\n",
              "              title=\"Convert this dataframe to an interactive table.\"\n",
              "              style=\"display:none;\">\n",
              "        \n",
              "  <svg xmlns=\"http://www.w3.org/2000/svg\" height=\"24px\"viewBox=\"0 0 24 24\"\n",
              "       width=\"24px\">\n",
              "    <path d=\"M0 0h24v24H0V0z\" fill=\"none\"/>\n",
              "    <path d=\"M18.56 5.44l.94 2.06.94-2.06 2.06-.94-2.06-.94-.94-2.06-.94 2.06-2.06.94zm-11 1L8.5 8.5l.94-2.06 2.06-.94-2.06-.94L8.5 2.5l-.94 2.06-2.06.94zm10 10l.94 2.06.94-2.06 2.06-.94-2.06-.94-.94-2.06-.94 2.06-2.06.94z\"/><path d=\"M17.41 7.96l-1.37-1.37c-.4-.4-.92-.59-1.43-.59-.52 0-1.04.2-1.43.59L10.3 9.45l-7.72 7.72c-.78.78-.78 2.05 0 2.83L4 21.41c.39.39.9.59 1.41.59.51 0 1.02-.2 1.41-.59l7.78-7.78 2.81-2.81c.8-.78.8-2.07 0-2.86zM5.41 20L4 18.59l7.72-7.72 1.47 1.35L5.41 20z\"/>\n",
              "  </svg>\n",
              "      </button>\n",
              "      \n",
              "  <style>\n",
              "    .colab-df-container {\n",
              "      display:flex;\n",
              "      flex-wrap:wrap;\n",
              "      gap: 12px;\n",
              "    }\n",
              "\n",
              "    .colab-df-convert {\n",
              "      background-color: #E8F0FE;\n",
              "      border: none;\n",
              "      border-radius: 50%;\n",
              "      cursor: pointer;\n",
              "      display: none;\n",
              "      fill: #1967D2;\n",
              "      height: 32px;\n",
              "      padding: 0 0 0 0;\n",
              "      width: 32px;\n",
              "    }\n",
              "\n",
              "    .colab-df-convert:hover {\n",
              "      background-color: #E2EBFA;\n",
              "      box-shadow: 0px 1px 2px rgba(60, 64, 67, 0.3), 0px 1px 3px 1px rgba(60, 64, 67, 0.15);\n",
              "      fill: #174EA6;\n",
              "    }\n",
              "\n",
              "    [theme=dark] .colab-df-convert {\n",
              "      background-color: #3B4455;\n",
              "      fill: #D2E3FC;\n",
              "    }\n",
              "\n",
              "    [theme=dark] .colab-df-convert:hover {\n",
              "      background-color: #434B5C;\n",
              "      box-shadow: 0px 1px 3px 1px rgba(0, 0, 0, 0.15);\n",
              "      filter: drop-shadow(0px 1px 2px rgba(0, 0, 0, 0.3));\n",
              "      fill: #FFFFFF;\n",
              "    }\n",
              "  </style>\n",
              "\n",
              "      <script>\n",
              "        const buttonEl =\n",
              "          document.querySelector('#df-d1149f06-8c7c-4bc7-b725-9905977a5034 button.colab-df-convert');\n",
              "        buttonEl.style.display =\n",
              "          google.colab.kernel.accessAllowed ? 'block' : 'none';\n",
              "\n",
              "        async function convertToInteractive(key) {\n",
              "          const element = document.querySelector('#df-d1149f06-8c7c-4bc7-b725-9905977a5034');\n",
              "          const dataTable =\n",
              "            await google.colab.kernel.invokeFunction('convertToInteractive',\n",
              "                                                     [key], {});\n",
              "          if (!dataTable) return;\n",
              "\n",
              "          const docLinkHtml = 'Like what you see? Visit the ' +\n",
              "            '<a target=\"_blank\" href=https://colab.research.google.com/notebooks/data_table.ipynb>data table notebook</a>'\n",
              "            + ' to learn more about interactive tables.';\n",
              "          element.innerHTML = '';\n",
              "          dataTable['output_type'] = 'display_data';\n",
              "          await google.colab.output.renderOutput(dataTable, element);\n",
              "          const docLink = document.createElement('div');\n",
              "          docLink.innerHTML = docLinkHtml;\n",
              "          element.appendChild(docLink);\n",
              "        }\n",
              "      </script>\n",
              "    </div>\n",
              "  </div>\n",
              "  "
            ]
          },
          "metadata": {},
          "execution_count": 7
        }
      ]
    },
    {
      "cell_type": "code",
      "source": [
        "IMAGE_SIZE = 150\n",
        "def read_image(filepath):\n",
        "    return cv2.imread(os.path.join(data_dir, filepath)) \n",
        "def resize_image(image, image_size):\n",
        "    return cv2.resize(image.copy(), image_size, interpolation=cv2.INTER_AREA)"
      ],
      "metadata": {
        "id": "Ig2YzRLmSuFd"
      },
      "execution_count": 8,
      "outputs": []
    },
    {
      "cell_type": "code",
      "source": [
        "X_train = np.zeros((train.shape[0], IMAGE_SIZE, IMAGE_SIZE, 3))\n",
        "for i, file in tqdm(enumerate(train['File'].values)):\n",
        "    image = read_image(file)\n",
        "    if image is not None:\n",
        "        X_train[i] = resize_image(image, (IMAGE_SIZE, IMAGE_SIZE))\n",
        "X_Train = X_train / 255.\n",
        "print(X_Train.shape)"
      ],
      "metadata": {
        "colab": {
          "base_uri": "https://localhost:8080/"
        },
        "id": "_k-Hw9lxSwem",
        "outputId": "36eed8c2-c4d9-46e7-a741-3b5a81c40b4d"
      },
      "execution_count": 9,
      "outputs": [
        {
          "output_type": "stream",
          "name": "stderr",
          "text": [
            "2481it [00:10, 234.48it/s]\n"
          ]
        },
        {
          "output_type": "stream",
          "name": "stdout",
          "text": [
            "(2481, 150, 150, 3)\n"
          ]
        }
      ]
    },
    {
      "cell_type": "code",
      "source": [
        "Y_train = train['ID'].values\n",
        "Y_train = to_categorical(Y_train, num_classes=3)"
      ],
      "metadata": {
        "id": "MlU67egCSw--"
      },
      "execution_count": 10,
      "outputs": []
    },
    {
      "cell_type": "code",
      "source": [
        "X_train, X_val, Y_train, Y_val = train_test_split(X_Train, Y_train, test_size=0.2)"
      ],
      "metadata": {
        "id": "-IUK4UNYS2kn"
      },
      "execution_count": 11,
      "outputs": []
    },
    {
      "cell_type": "code",
      "source": [
        "BATCH_SIZE = 64\n",
        "EPOCHS = 100\n",
        "SIZE = 150\n",
        "N_ch=3"
      ],
      "metadata": {
        "id": "DiRviQEyS31U"
      },
      "execution_count": 12,
      "outputs": []
    },
    {
      "cell_type": "code",
      "source": [
        "from keras.applications import vgg16\n",
        "def build_VGG16():\n",
        "    img_rows, img_cols = 150, 150  #image shape = 150*150\n",
        "\n",
        "    vgg = vgg16.VGG16(weights = 'imagenet', include_top = False, \n",
        "              input_shape = (img_rows, img_cols, 3)) # image net has more neurons but we have only 2 hence we are not using the top layer\n",
        "\n",
        "    # Here we freeze the last 4 layers \n",
        "    # Layers are set to trainable as True by default\n",
        "    for layer in vgg.layers:\n",
        "      layer.trainable = False  # just copies the weights \n",
        "    \n",
        "    # Let's print our layers \n",
        "    for (i,layer) in enumerate(vgg.layers):\n",
        "      print(str(i) + \" \"+ layer.__class__.__name__, layer.trainable)\n",
        "    \n",
        "    return vgg"
      ],
      "metadata": {
        "id": "VXJ8f4pMS6Vs"
      },
      "execution_count": 13,
      "outputs": []
    },
    {
      "cell_type": "code",
      "source": [
        "def lw(bottom_model, num_classes):\n",
        "    \"\"\"creates the top or head of the model that will be \n",
        "    placed ontop of the bottom layers\"\"\"\n",
        "\n",
        "    top_model = bottom_model.output\n",
        "    top_model = GlobalAveragePooling2D()(top_model)\n",
        "    top_model = Dense(1024,activation='relu')(top_model)\n",
        "    top_model = Dense(1024,activation='relu')(top_model)\n",
        "    top_model = Dense(1024,activation='relu')(top_model)\n",
        "    top_model = Dense(512,activation='relu')(top_model)\n",
        "    top_model = Dense(512,activation='relu')(top_model)\n",
        "    top_model = Dense(num_classes,activation='softmax')(top_model)\n",
        "    return top_model "
      ],
      "metadata": {
        "id": "seaUsuyUS88o"
      },
      "execution_count": 14,
      "outputs": []
    },
    {
      "cell_type": "code",
      "source": [
        "model = build_VGG16()\n",
        "annealer = ReduceLROnPlateau(monitor='val_accuracy', factor=0.70, patience=5, verbose=1, min_lr=1e-4)\n",
        "checkpoint = ModelCheckpoint('vgg16_Model.hdf5', verbose=1, save_best_only=True)\n",
        "datagen = ImageDataGenerator(rotation_range=360, \n",
        "                        width_shift_range=0.2, \n",
        "                        height_shift_range=0.2,\n",
        "                        zoom_range=0.2, \n",
        "                        horizontal_flip=True, \n",
        "                        vertical_flip=True) \n",
        "\n",
        "datagen.fit(X_train)"
      ],
      "metadata": {
        "colab": {
          "base_uri": "https://localhost:8080/"
        },
        "id": "ss3GzHFCS-Cf",
        "outputId": "716aec08-a71d-4ff7-92da-9847e4804ad0"
      },
      "execution_count": 15,
      "outputs": [
        {
          "output_type": "stream",
          "name": "stdout",
          "text": [
            "Downloading data from https://storage.googleapis.com/tensorflow/keras-applications/vgg16/vgg16_weights_tf_dim_ordering_tf_kernels_notop.h5\n",
            "58889256/58889256 [==============================] - 3s 0us/step\n",
            "0 InputLayer False\n",
            "1 Conv2D False\n",
            "2 Conv2D False\n",
            "3 MaxPooling2D False\n",
            "4 Conv2D False\n",
            "5 Conv2D False\n",
            "6 MaxPooling2D False\n",
            "7 Conv2D False\n",
            "8 Conv2D False\n",
            "9 Conv2D False\n",
            "10 MaxPooling2D False\n",
            "11 Conv2D False\n",
            "12 Conv2D False\n",
            "13 Conv2D False\n",
            "14 MaxPooling2D False\n",
            "15 Conv2D False\n",
            "16 Conv2D False\n",
            "17 Conv2D False\n",
            "18 MaxPooling2D False\n"
          ]
        }
      ]
    },
    {
      "cell_type": "code",
      "source": [
        "from keras.models import Sequential\n",
        "from keras.layers import Dense, Dropout, Activation, Flatten, GlobalAveragePooling2D\n",
        "from keras.layers import Conv2D, MaxPooling2D, ZeroPadding2D\n",
        "from keras.models import Model\n",
        "\n",
        "num_classes = 3\n",
        "FC_Head = lw(model, num_classes)\n",
        "model = Model(inputs = model.input, outputs = FC_Head)\n",
        "print(model.summary())"
      ],
      "metadata": {
        "colab": {
          "base_uri": "https://localhost:8080/"
        },
        "id": "rSgUqpfCS_rh",
        "outputId": "b2c8ed83-756d-4879-8701-e20156452ad1"
      },
      "execution_count": 16,
      "outputs": [
        {
          "output_type": "stream",
          "name": "stdout",
          "text": [
            "Model: \"model\"\n",
            "_________________________________________________________________\n",
            " Layer (type)                Output Shape              Param #   \n",
            "=================================================================\n",
            " input_1 (InputLayer)        [(None, 150, 150, 3)]     0         \n",
            "                                                                 \n",
            " block1_conv1 (Conv2D)       (None, 150, 150, 64)      1792      \n",
            "                                                                 \n",
            " block1_conv2 (Conv2D)       (None, 150, 150, 64)      36928     \n",
            "                                                                 \n",
            " block1_pool (MaxPooling2D)  (None, 75, 75, 64)        0         \n",
            "                                                                 \n",
            " block2_conv1 (Conv2D)       (None, 75, 75, 128)       73856     \n",
            "                                                                 \n",
            " block2_conv2 (Conv2D)       (None, 75, 75, 128)       147584    \n",
            "                                                                 \n",
            " block2_pool (MaxPooling2D)  (None, 37, 37, 128)       0         \n",
            "                                                                 \n",
            " block3_conv1 (Conv2D)       (None, 37, 37, 256)       295168    \n",
            "                                                                 \n",
            " block3_conv2 (Conv2D)       (None, 37, 37, 256)       590080    \n",
            "                                                                 \n",
            " block3_conv3 (Conv2D)       (None, 37, 37, 256)       590080    \n",
            "                                                                 \n",
            " block3_pool (MaxPooling2D)  (None, 18, 18, 256)       0         \n",
            "                                                                 \n",
            " block4_conv1 (Conv2D)       (None, 18, 18, 512)       1180160   \n",
            "                                                                 \n",
            " block4_conv2 (Conv2D)       (None, 18, 18, 512)       2359808   \n",
            "                                                                 \n",
            " block4_conv3 (Conv2D)       (None, 18, 18, 512)       2359808   \n",
            "                                                                 \n",
            " block4_pool (MaxPooling2D)  (None, 9, 9, 512)         0         \n",
            "                                                                 \n",
            " block5_conv1 (Conv2D)       (None, 9, 9, 512)         2359808   \n",
            "                                                                 \n",
            " block5_conv2 (Conv2D)       (None, 9, 9, 512)         2359808   \n",
            "                                                                 \n",
            " block5_conv3 (Conv2D)       (None, 9, 9, 512)         2359808   \n",
            "                                                                 \n",
            " block5_pool (MaxPooling2D)  (None, 4, 4, 512)         0         \n",
            "                                                                 \n",
            " global_average_pooling2d (G  (None, 512)              0         \n",
            " lobalAveragePooling2D)                                          \n",
            "                                                                 \n",
            " dense (Dense)               (None, 1024)              525312    \n",
            "                                                                 \n",
            " dense_1 (Dense)             (None, 1024)              1049600   \n",
            "                                                                 \n",
            " dense_2 (Dense)             (None, 1024)              1049600   \n",
            "                                                                 \n",
            " dense_3 (Dense)             (None, 512)               524800    \n",
            "                                                                 \n",
            " dense_4 (Dense)             (None, 512)               262656    \n",
            "                                                                 \n",
            " dense_5 (Dense)             (None, 3)                 1539      \n",
            "                                                                 \n",
            "=================================================================\n",
            "Total params: 18,128,195\n",
            "Trainable params: 3,413,507\n",
            "Non-trainable params: 14,714,688\n",
            "_________________________________________________________________\n",
            "None\n"
          ]
        }
      ]
    },
    {
      "cell_type": "code",
      "source": [
        "optimizer = Adam(lr=0.005, beta_1=0.9, beta_2=0.999, epsilon=0.1, decay=0.0)\n",
        "model.compile(loss = 'categorical_crossentropy', optimizer=optimizer,metrics = ['accuracy'])"
      ],
      "metadata": {
        "id": "8wXZk9MzTCn-",
        "colab": {
          "base_uri": "https://localhost:8080/"
        },
        "outputId": "6c367b8d-b4bd-4262-ac17-fe2cfd5523a3"
      },
      "execution_count": 17,
      "outputs": [
        {
          "output_type": "stream",
          "name": "stderr",
          "text": [
            "/usr/local/lib/python3.8/dist-packages/keras/optimizers/optimizer_v2/adam.py:110: UserWarning: The `lr` argument is deprecated, use `learning_rate` instead.\n",
            "  super(Adam, self).__init__(name, **kwargs)\n"
          ]
        }
      ]
    },
    {
      "cell_type": "code",
      "source": [
        "X_train.shape[0]\n",
        "history = model.fit_generator(datagen.flow(X_train, Y_train, batch_size=BATCH_SIZE),\n",
        "               steps_per_epoch=25,\n",
        "               epochs=EPOCHS,\n",
        "               verbose=1,\n",
        "               callbacks=[annealer, checkpoint],\n",
        "               validation_data=(X_val, Y_val))"
      ],
      "metadata": {
        "colab": {
          "base_uri": "https://localhost:8080/"
        },
        "id": "cqpP1wh3TDvA",
        "outputId": "bd42f3be-ffa9-46c4-ba22-5286647ccd67"
      },
      "execution_count": 18,
      "outputs": [
        {
          "output_type": "stream",
          "name": "stderr",
          "text": [
            "<ipython-input-18-c987a3acef92>:2: UserWarning: `Model.fit_generator` is deprecated and will be removed in a future version. Please use `Model.fit`, which supports generators.\n",
            "  history = model.fit_generator(datagen.flow(X_train, Y_train, batch_size=BATCH_SIZE),\n"
          ]
        },
        {
          "output_type": "stream",
          "name": "stdout",
          "text": [
            "Epoch 1/100\n",
            "25/25 [==============================] - ETA: 0s - loss: 0.8721 - accuracy: 0.5213\n",
            "Epoch 1: val_loss improved from inf to 0.74229, saving model to vgg16_Model.hdf5\n",
            "25/25 [==============================] - 23s 520ms/step - loss: 0.8721 - accuracy: 0.5213 - val_loss: 0.7423 - val_accuracy: 0.5996 - lr: 0.0050\n",
            "Epoch 2/100\n",
            "25/25 [==============================] - ETA: 0s - loss: 0.7146 - accuracy: 0.5725\n",
            "Epoch 2: val_loss improved from 0.74229 to 0.68801, saving model to vgg16_Model.hdf5\n",
            "25/25 [==============================] - 10s 396ms/step - loss: 0.7146 - accuracy: 0.5725 - val_loss: 0.6880 - val_accuracy: 0.6459 - lr: 0.0050\n",
            "Epoch 3/100\n",
            "25/25 [==============================] - ETA: 0s - loss: 0.6827 - accuracy: 0.5994\n",
            "Epoch 3: val_loss improved from 0.68801 to 0.66785, saving model to vgg16_Model.hdf5\n",
            "25/25 [==============================] - 10s 398ms/step - loss: 0.6827 - accuracy: 0.5994 - val_loss: 0.6678 - val_accuracy: 0.6720 - lr: 0.0050\n",
            "Epoch 4/100\n",
            "25/25 [==============================] - ETA: 0s - loss: 0.6665 - accuracy: 0.6275\n",
            "Epoch 4: val_loss improved from 0.66785 to 0.65304, saving model to vgg16_Model.hdf5\n",
            "25/25 [==============================] - 10s 401ms/step - loss: 0.6665 - accuracy: 0.6275 - val_loss: 0.6530 - val_accuracy: 0.6680 - lr: 0.0050\n",
            "Epoch 5/100\n",
            "25/25 [==============================] - ETA: 0s - loss: 0.6580 - accuracy: 0.6363\n",
            "Epoch 5: val_loss improved from 0.65304 to 0.63472, saving model to vgg16_Model.hdf5\n",
            "25/25 [==============================] - 10s 403ms/step - loss: 0.6580 - accuracy: 0.6363 - val_loss: 0.6347 - val_accuracy: 0.6761 - lr: 0.0050\n",
            "Epoch 6/100\n",
            "25/25 [==============================] - ETA: 0s - loss: 0.6337 - accuracy: 0.6687\n",
            "Epoch 6: val_loss improved from 0.63472 to 0.61869, saving model to vgg16_Model.hdf5\n",
            "25/25 [==============================] - 10s 404ms/step - loss: 0.6337 - accuracy: 0.6687 - val_loss: 0.6187 - val_accuracy: 0.6821 - lr: 0.0050\n",
            "Epoch 7/100\n",
            "25/25 [==============================] - ETA: 0s - loss: 0.6164 - accuracy: 0.6775\n",
            "Epoch 7: val_loss improved from 0.61869 to 0.60466, saving model to vgg16_Model.hdf5\n",
            "25/25 [==============================] - 10s 405ms/step - loss: 0.6164 - accuracy: 0.6775 - val_loss: 0.6047 - val_accuracy: 0.6761 - lr: 0.0050\n",
            "Epoch 8/100\n",
            "25/25 [==============================] - ETA: 0s - loss: 0.5894 - accuracy: 0.6869\n",
            "Epoch 8: val_loss did not improve from 0.60466\n",
            "25/25 [==============================] - 10s 394ms/step - loss: 0.5894 - accuracy: 0.6869 - val_loss: 0.6058 - val_accuracy: 0.6700 - lr: 0.0050\n",
            "Epoch 9/100\n",
            "25/25 [==============================] - ETA: 0s - loss: 0.5683 - accuracy: 0.7044\n",
            "Epoch 9: val_loss improved from 0.60466 to 0.58199, saving model to vgg16_Model.hdf5\n",
            "25/25 [==============================] - 10s 401ms/step - loss: 0.5683 - accuracy: 0.7044 - val_loss: 0.5820 - val_accuracy: 0.6720 - lr: 0.0050\n",
            "Epoch 10/100\n",
            "25/25 [==============================] - ETA: 0s - loss: 0.5826 - accuracy: 0.6913\n",
            "Epoch 10: val_loss did not improve from 0.58199\n",
            "25/25 [==============================] - 10s 389ms/step - loss: 0.5826 - accuracy: 0.6913 - val_loss: 0.6509 - val_accuracy: 0.6278 - lr: 0.0050\n",
            "Epoch 11/100\n",
            "25/25 [==============================] - ETA: 0s - loss: 0.5866 - accuracy: 0.6750\n",
            "Epoch 11: ReduceLROnPlateau reducing learning rate to 0.0034999999217689036.\n",
            "\n",
            "Epoch 11: val_loss did not improve from 0.58199\n",
            "25/25 [==============================] - 10s 393ms/step - loss: 0.5866 - accuracy: 0.6750 - val_loss: 0.6119 - val_accuracy: 0.6559 - lr: 0.0050\n",
            "Epoch 12/100\n",
            "25/25 [==============================] - ETA: 0s - loss: 0.5675 - accuracy: 0.7069\n",
            "Epoch 12: val_loss improved from 0.58199 to 0.53938, saving model to vgg16_Model.hdf5\n",
            "25/25 [==============================] - 10s 408ms/step - loss: 0.5675 - accuracy: 0.7069 - val_loss: 0.5394 - val_accuracy: 0.7203 - lr: 0.0035\n",
            "Epoch 13/100\n",
            "25/25 [==============================] - ETA: 0s - loss: 0.5400 - accuracy: 0.7138\n",
            "Epoch 13: val_loss improved from 0.53938 to 0.53667, saving model to vgg16_Model.hdf5\n",
            "25/25 [==============================] - 10s 404ms/step - loss: 0.5400 - accuracy: 0.7138 - val_loss: 0.5367 - val_accuracy: 0.7344 - lr: 0.0035\n",
            "Epoch 14/100\n",
            "25/25 [==============================] - ETA: 0s - loss: 0.5593 - accuracy: 0.6988\n",
            "Epoch 14: val_loss did not improve from 0.53667\n",
            "25/25 [==============================] - 10s 391ms/step - loss: 0.5593 - accuracy: 0.6988 - val_loss: 0.6284 - val_accuracy: 0.6459 - lr: 0.0035\n",
            "Epoch 15/100\n",
            "25/25 [==============================] - ETA: 0s - loss: 0.5733 - accuracy: 0.6956\n",
            "Epoch 15: val_loss did not improve from 0.53667\n",
            "25/25 [==============================] - 10s 392ms/step - loss: 0.5733 - accuracy: 0.6956 - val_loss: 0.5541 - val_accuracy: 0.7103 - lr: 0.0035\n",
            "Epoch 16/100\n",
            "25/25 [==============================] - ETA: 0s - loss: 0.5717 - accuracy: 0.6963\n",
            "Epoch 16: val_loss did not improve from 0.53667\n",
            "25/25 [==============================] - 10s 398ms/step - loss: 0.5717 - accuracy: 0.6963 - val_loss: 0.5762 - val_accuracy: 0.6680 - lr: 0.0035\n",
            "Epoch 17/100\n",
            "25/25 [==============================] - ETA: 0s - loss: 0.5743 - accuracy: 0.6913\n",
            "Epoch 17: val_loss did not improve from 0.53667\n",
            "25/25 [==============================] - 10s 405ms/step - loss: 0.5743 - accuracy: 0.6913 - val_loss: 0.5490 - val_accuracy: 0.7103 - lr: 0.0035\n",
            "Epoch 18/100\n",
            "25/25 [==============================] - ETA: 0s - loss: 0.5510 - accuracy: 0.7131\n",
            "Epoch 18: val_loss improved from 0.53667 to 0.51628, saving model to vgg16_Model.hdf5\n",
            "25/25 [==============================] - 10s 412ms/step - loss: 0.5510 - accuracy: 0.7131 - val_loss: 0.5163 - val_accuracy: 0.7545 - lr: 0.0035\n",
            "Epoch 19/100\n",
            "25/25 [==============================] - ETA: 0s - loss: 0.5592 - accuracy: 0.7038\n",
            "Epoch 19: val_loss did not improve from 0.51628\n",
            "25/25 [==============================] - 11s 450ms/step - loss: 0.5592 - accuracy: 0.7038 - val_loss: 0.5851 - val_accuracy: 0.6519 - lr: 0.0035\n",
            "Epoch 20/100\n",
            "25/25 [==============================] - ETA: 0s - loss: 0.5204 - accuracy: 0.7325\n",
            "Epoch 20: val_loss improved from 0.51628 to 0.50971, saving model to vgg16_Model.hdf5\n",
            "25/25 [==============================] - 10s 405ms/step - loss: 0.5204 - accuracy: 0.7325 - val_loss: 0.5097 - val_accuracy: 0.7264 - lr: 0.0035\n",
            "Epoch 21/100\n",
            "25/25 [==============================] - ETA: 0s - loss: 0.5096 - accuracy: 0.7450\n",
            "Epoch 21: val_loss improved from 0.50971 to 0.49725, saving model to vgg16_Model.hdf5\n",
            "25/25 [==============================] - 10s 407ms/step - loss: 0.5096 - accuracy: 0.7450 - val_loss: 0.4972 - val_accuracy: 0.7525 - lr: 0.0035\n",
            "Epoch 22/100\n",
            "25/25 [==============================] - ETA: 0s - loss: 0.5222 - accuracy: 0.7381\n",
            "Epoch 22: val_loss did not improve from 0.49725\n",
            "25/25 [==============================] - 10s 397ms/step - loss: 0.5222 - accuracy: 0.7381 - val_loss: 0.5087 - val_accuracy: 0.7183 - lr: 0.0035\n",
            "Epoch 23/100\n",
            "25/25 [==============================] - ETA: 0s - loss: 0.4997 - accuracy: 0.7531\n",
            "Epoch 23: val_loss improved from 0.49725 to 0.49658, saving model to vgg16_Model.hdf5\n",
            "25/25 [==============================] - 10s 408ms/step - loss: 0.4997 - accuracy: 0.7531 - val_loss: 0.4966 - val_accuracy: 0.7706 - lr: 0.0035\n",
            "Epoch 24/100\n",
            "25/25 [==============================] - ETA: 0s - loss: 0.5168 - accuracy: 0.7287\n",
            "Epoch 24: val_loss did not improve from 0.49658\n",
            "25/25 [==============================] - 10s 394ms/step - loss: 0.5168 - accuracy: 0.7287 - val_loss: 0.5256 - val_accuracy: 0.7062 - lr: 0.0035\n",
            "Epoch 25/100\n",
            "25/25 [==============================] - ETA: 0s - loss: 0.5087 - accuracy: 0.7456\n",
            "Epoch 25: val_loss did not improve from 0.49658\n",
            "25/25 [==============================] - 10s 401ms/step - loss: 0.5087 - accuracy: 0.7456 - val_loss: 0.5005 - val_accuracy: 0.7606 - lr: 0.0035\n",
            "Epoch 26/100\n",
            "25/25 [==============================] - ETA: 0s - loss: 0.5661 - accuracy: 0.7188\n",
            "Epoch 26: val_loss did not improve from 0.49658\n",
            "25/25 [==============================] - 12s 474ms/step - loss: 0.5661 - accuracy: 0.7188 - val_loss: 0.5323 - val_accuracy: 0.7384 - lr: 0.0035\n",
            "Epoch 27/100\n",
            "25/25 [==============================] - ETA: 0s - loss: 0.5076 - accuracy: 0.7500\n",
            "Epoch 27: val_loss did not improve from 0.49658\n",
            "25/25 [==============================] - 10s 395ms/step - loss: 0.5076 - accuracy: 0.7500 - val_loss: 0.5077 - val_accuracy: 0.7364 - lr: 0.0035\n",
            "Epoch 28/100\n",
            "25/25 [==============================] - ETA: 0s - loss: 0.5071 - accuracy: 0.7425\n",
            "Epoch 28: val_loss improved from 0.49658 to 0.47829, saving model to vgg16_Model.hdf5\n",
            "25/25 [==============================] - 10s 406ms/step - loss: 0.5071 - accuracy: 0.7425 - val_loss: 0.4783 - val_accuracy: 0.7726 - lr: 0.0035\n",
            "Epoch 29/100\n",
            "25/25 [==============================] - ETA: 0s - loss: 0.5026 - accuracy: 0.7469\n",
            "Epoch 29: val_loss did not improve from 0.47829\n",
            "25/25 [==============================] - 10s 394ms/step - loss: 0.5026 - accuracy: 0.7469 - val_loss: 0.5011 - val_accuracy: 0.7404 - lr: 0.0035\n",
            "Epoch 30/100\n",
            "25/25 [==============================] - ETA: 0s - loss: 0.4911 - accuracy: 0.7450\n",
            "Epoch 30: val_loss improved from 0.47829 to 0.46620, saving model to vgg16_Model.hdf5\n",
            "25/25 [==============================] - 10s 406ms/step - loss: 0.4911 - accuracy: 0.7450 - val_loss: 0.4662 - val_accuracy: 0.7907 - lr: 0.0035\n",
            "Epoch 31/100\n",
            "25/25 [==============================] - ETA: 0s - loss: 0.4882 - accuracy: 0.7563\n",
            "Epoch 31: val_loss did not improve from 0.46620\n",
            "25/25 [==============================] - 10s 399ms/step - loss: 0.4882 - accuracy: 0.7563 - val_loss: 0.4735 - val_accuracy: 0.7706 - lr: 0.0035\n",
            "Epoch 32/100\n",
            "25/25 [==============================] - ETA: 0s - loss: 0.5064 - accuracy: 0.7325\n",
            "Epoch 32: val_loss did not improve from 0.46620\n",
            "25/25 [==============================] - 10s 402ms/step - loss: 0.5064 - accuracy: 0.7325 - val_loss: 0.5446 - val_accuracy: 0.6801 - lr: 0.0035\n",
            "Epoch 33/100\n",
            "25/25 [==============================] - ETA: 0s - loss: 0.5276 - accuracy: 0.7287\n",
            "Epoch 33: val_loss did not improve from 0.46620\n",
            "25/25 [==============================] - 10s 397ms/step - loss: 0.5276 - accuracy: 0.7287 - val_loss: 0.5041 - val_accuracy: 0.7404 - lr: 0.0035\n",
            "Epoch 34/100\n",
            "25/25 [==============================] - ETA: 0s - loss: 0.4865 - accuracy: 0.7725\n",
            "Epoch 34: val_loss improved from 0.46620 to 0.46221, saving model to vgg16_Model.hdf5\n",
            "25/25 [==============================] - 10s 408ms/step - loss: 0.4865 - accuracy: 0.7725 - val_loss: 0.4622 - val_accuracy: 0.7887 - lr: 0.0035\n",
            "Epoch 35/100\n",
            "25/25 [==============================] - ETA: 0s - loss: 0.4835 - accuracy: 0.7694\n",
            "Epoch 35: ReduceLROnPlateau reducing learning rate to 0.0024499999126419425.\n",
            "\n",
            "Epoch 35: val_loss did not improve from 0.46221\n",
            "25/25 [==============================] - 10s 393ms/step - loss: 0.4835 - accuracy: 0.7694 - val_loss: 0.4959 - val_accuracy: 0.7545 - lr: 0.0035\n",
            "Epoch 36/100\n",
            "25/25 [==============================] - ETA: 0s - loss: 0.5122 - accuracy: 0.7475\n",
            "Epoch 36: val_loss did not improve from 0.46221\n",
            "25/25 [==============================] - 10s 403ms/step - loss: 0.5122 - accuracy: 0.7475 - val_loss: 0.6613 - val_accuracy: 0.6298 - lr: 0.0025\n",
            "Epoch 37/100\n",
            "25/25 [==============================] - ETA: 0s - loss: 0.5031 - accuracy: 0.7556\n",
            "Epoch 37: val_loss did not improve from 0.46221\n",
            "25/25 [==============================] - 10s 407ms/step - loss: 0.5031 - accuracy: 0.7556 - val_loss: 0.4741 - val_accuracy: 0.7666 - lr: 0.0025\n",
            "Epoch 38/100\n",
            "25/25 [==============================] - ETA: 0s - loss: 0.4847 - accuracy: 0.7469\n",
            "Epoch 38: val_loss did not improve from 0.46221\n",
            "25/25 [==============================] - 10s 403ms/step - loss: 0.4847 - accuracy: 0.7469 - val_loss: 0.4703 - val_accuracy: 0.7767 - lr: 0.0025\n",
            "Epoch 39/100\n",
            "25/25 [==============================] - ETA: 0s - loss: 0.4868 - accuracy: 0.7588\n",
            "Epoch 39: val_loss did not improve from 0.46221\n",
            "25/25 [==============================] - 10s 391ms/step - loss: 0.4868 - accuracy: 0.7588 - val_loss: 0.5014 - val_accuracy: 0.7445 - lr: 0.0025\n",
            "Epoch 40/100\n",
            "25/25 [==============================] - ETA: 0s - loss: 0.5222 - accuracy: 0.7319\n",
            "Epoch 40: ReduceLROnPlateau reducing learning rate to 0.0017150000203400848.\n",
            "\n",
            "Epoch 40: val_loss did not improve from 0.46221\n",
            "25/25 [==============================] - 10s 393ms/step - loss: 0.5222 - accuracy: 0.7319 - val_loss: 0.4671 - val_accuracy: 0.7807 - lr: 0.0025\n",
            "Epoch 41/100\n",
            "25/25 [==============================] - ETA: 0s - loss: 0.4933 - accuracy: 0.7606\n",
            "Epoch 41: val_loss did not improve from 0.46221\n",
            "25/25 [==============================] - 10s 394ms/step - loss: 0.4933 - accuracy: 0.7606 - val_loss: 0.4663 - val_accuracy: 0.7867 - lr: 0.0017\n",
            "Epoch 42/100\n",
            "25/25 [==============================] - ETA: 0s - loss: 0.4770 - accuracy: 0.7781\n",
            "Epoch 42: val_loss did not improve from 0.46221\n",
            "25/25 [==============================] - 10s 389ms/step - loss: 0.4770 - accuracy: 0.7781 - val_loss: 0.4643 - val_accuracy: 0.7847 - lr: 0.0017\n",
            "Epoch 43/100\n",
            "25/25 [==============================] - ETA: 0s - loss: 0.4517 - accuracy: 0.7800\n",
            "Epoch 43: val_loss improved from 0.46221 to 0.46114, saving model to vgg16_Model.hdf5\n",
            "25/25 [==============================] - 10s 403ms/step - loss: 0.4517 - accuracy: 0.7800 - val_loss: 0.4611 - val_accuracy: 0.7767 - lr: 0.0017\n",
            "Epoch 44/100\n",
            "25/25 [==============================] - ETA: 0s - loss: 0.4869 - accuracy: 0.7600\n",
            "Epoch 44: val_loss did not improve from 0.46114\n",
            "25/25 [==============================] - 10s 389ms/step - loss: 0.4869 - accuracy: 0.7600 - val_loss: 0.4861 - val_accuracy: 0.7545 - lr: 0.0017\n",
            "Epoch 45/100\n",
            "25/25 [==============================] - ETA: 0s - loss: 0.4652 - accuracy: 0.7750\n",
            "Epoch 45: ReduceLROnPlateau reducing learning rate to 0.0012005000142380595.\n",
            "\n",
            "Epoch 45: val_loss did not improve from 0.46114\n",
            "25/25 [==============================] - 11s 440ms/step - loss: 0.4652 - accuracy: 0.7750 - val_loss: 0.4971 - val_accuracy: 0.7525 - lr: 0.0017\n",
            "Epoch 46/100\n",
            "25/25 [==============================] - ETA: 0s - loss: 0.4663 - accuracy: 0.7731\n",
            "Epoch 46: val_loss did not improve from 0.46114\n",
            "25/25 [==============================] - 10s 395ms/step - loss: 0.4663 - accuracy: 0.7731 - val_loss: 0.4794 - val_accuracy: 0.7565 - lr: 0.0012\n",
            "Epoch 47/100\n",
            "25/25 [==============================] - ETA: 0s - loss: 0.4705 - accuracy: 0.7669\n",
            "Epoch 47: val_loss improved from 0.46114 to 0.44768, saving model to vgg16_Model.hdf5\n",
            "25/25 [==============================] - 10s 407ms/step - loss: 0.4705 - accuracy: 0.7669 - val_loss: 0.4477 - val_accuracy: 0.7807 - lr: 0.0012\n",
            "Epoch 48/100\n",
            "25/25 [==============================] - ETA: 0s - loss: 0.4625 - accuracy: 0.7775\n",
            "Epoch 48: val_loss did not improve from 0.44768\n",
            "25/25 [==============================] - 10s 395ms/step - loss: 0.4625 - accuracy: 0.7775 - val_loss: 0.4486 - val_accuracy: 0.7887 - lr: 0.0012\n",
            "Epoch 49/100\n",
            "25/25 [==============================] - ETA: 0s - loss: 0.4836 - accuracy: 0.7631\n",
            "Epoch 49: val_loss improved from 0.44768 to 0.44658, saving model to vgg16_Model.hdf5\n",
            "25/25 [==============================] - 10s 402ms/step - loss: 0.4836 - accuracy: 0.7631 - val_loss: 0.4466 - val_accuracy: 0.7948 - lr: 0.0012\n",
            "Epoch 50/100\n",
            "25/25 [==============================] - ETA: 0s - loss: 0.4606 - accuracy: 0.7694\n",
            "Epoch 50: val_loss did not improve from 0.44658\n",
            "25/25 [==============================] - 10s 395ms/step - loss: 0.4606 - accuracy: 0.7694 - val_loss: 0.4636 - val_accuracy: 0.7887 - lr: 0.0012\n",
            "Epoch 51/100\n",
            "25/25 [==============================] - ETA: 0s - loss: 0.4606 - accuracy: 0.7781\n",
            "Epoch 51: val_loss did not improve from 0.44658\n",
            "25/25 [==============================] - 10s 395ms/step - loss: 0.4606 - accuracy: 0.7781 - val_loss: 0.4483 - val_accuracy: 0.7968 - lr: 0.0012\n",
            "Epoch 52/100\n",
            "25/25 [==============================] - ETA: 0s - loss: 0.4484 - accuracy: 0.7850\n",
            "Epoch 52: val_loss did not improve from 0.44658\n",
            "25/25 [==============================] - 10s 393ms/step - loss: 0.4484 - accuracy: 0.7850 - val_loss: 0.4564 - val_accuracy: 0.7827 - lr: 0.0012\n",
            "Epoch 53/100\n",
            "25/25 [==============================] - ETA: 0s - loss: 0.4650 - accuracy: 0.7731\n",
            "Epoch 53: val_loss did not improve from 0.44658\n",
            "25/25 [==============================] - 10s 399ms/step - loss: 0.4650 - accuracy: 0.7731 - val_loss: 0.4466 - val_accuracy: 0.7948 - lr: 0.0012\n",
            "Epoch 54/100\n",
            "25/25 [==============================] - ETA: 0s - loss: 0.4550 - accuracy: 0.7769\n",
            "Epoch 54: val_loss improved from 0.44658 to 0.44315, saving model to vgg16_Model.hdf5\n",
            "25/25 [==============================] - 13s 514ms/step - loss: 0.4550 - accuracy: 0.7769 - val_loss: 0.4431 - val_accuracy: 0.7988 - lr: 0.0012\n",
            "Epoch 55/100\n",
            "25/25 [==============================] - ETA: 0s - loss: 0.4600 - accuracy: 0.7831\n",
            "Epoch 55: val_loss did not improve from 0.44315\n",
            "25/25 [==============================] - 10s 402ms/step - loss: 0.4600 - accuracy: 0.7831 - val_loss: 0.4489 - val_accuracy: 0.7887 - lr: 0.0012\n",
            "Epoch 56/100\n",
            "25/25 [==============================] - ETA: 0s - loss: 0.4648 - accuracy: 0.7713\n",
            "Epoch 56: val_loss did not improve from 0.44315\n",
            "25/25 [==============================] - 10s 402ms/step - loss: 0.4648 - accuracy: 0.7713 - val_loss: 0.4467 - val_accuracy: 0.7867 - lr: 0.0012\n",
            "Epoch 57/100\n",
            "25/25 [==============================] - ETA: 0s - loss: 0.4867 - accuracy: 0.7563\n",
            "Epoch 57: val_loss did not improve from 0.44315\n",
            "25/25 [==============================] - 10s 406ms/step - loss: 0.4867 - accuracy: 0.7563 - val_loss: 0.4505 - val_accuracy: 0.7827 - lr: 0.0012\n",
            "Epoch 58/100\n",
            "25/25 [==============================] - ETA: 0s - loss: 0.4551 - accuracy: 0.7900\n",
            "Epoch 58: val_loss did not improve from 0.44315\n",
            "25/25 [==============================] - 10s 406ms/step - loss: 0.4551 - accuracy: 0.7900 - val_loss: 0.4599 - val_accuracy: 0.7706 - lr: 0.0012\n",
            "Epoch 59/100\n",
            "25/25 [==============================] - ETA: 0s - loss: 0.4531 - accuracy: 0.7763\n",
            "Epoch 59: ReduceLROnPlateau reducing learning rate to 0.0008403500425629317.\n",
            "\n",
            "Epoch 59: val_loss did not improve from 0.44315\n",
            "25/25 [==============================] - 10s 409ms/step - loss: 0.4531 - accuracy: 0.7763 - val_loss: 0.4692 - val_accuracy: 0.7646 - lr: 0.0012\n",
            "Epoch 60/100\n",
            "25/25 [==============================] - ETA: 0s - loss: 0.4607 - accuracy: 0.7806\n",
            "Epoch 60: val_loss did not improve from 0.44315\n",
            "25/25 [==============================] - 10s 409ms/step - loss: 0.4607 - accuracy: 0.7806 - val_loss: 0.4518 - val_accuracy: 0.7827 - lr: 8.4035e-04\n",
            "Epoch 61/100\n",
            "25/25 [==============================] - ETA: 0s - loss: 0.4384 - accuracy: 0.8000\n",
            "Epoch 61: val_loss did not improve from 0.44315\n",
            "25/25 [==============================] - 10s 409ms/step - loss: 0.4384 - accuracy: 0.8000 - val_loss: 0.4470 - val_accuracy: 0.7847 - lr: 8.4035e-04\n",
            "Epoch 62/100\n",
            "25/25 [==============================] - ETA: 0s - loss: 0.4575 - accuracy: 0.7875\n",
            "Epoch 62: val_loss did not improve from 0.44315\n",
            "25/25 [==============================] - 10s 402ms/step - loss: 0.4575 - accuracy: 0.7875 - val_loss: 0.5244 - val_accuracy: 0.7425 - lr: 8.4035e-04\n",
            "Epoch 63/100\n",
            "25/25 [==============================] - ETA: 0s - loss: 0.4539 - accuracy: 0.7969\n",
            "Epoch 63: val_loss improved from 0.44315 to 0.43804, saving model to vgg16_Model.hdf5\n",
            "25/25 [==============================] - 10s 413ms/step - loss: 0.4539 - accuracy: 0.7969 - val_loss: 0.4380 - val_accuracy: 0.8068 - lr: 8.4035e-04\n",
            "Epoch 64/100\n",
            "25/25 [==============================] - ETA: 0s - loss: 0.4562 - accuracy: 0.7800\n",
            "Epoch 64: val_loss did not improve from 0.43804\n",
            "25/25 [==============================] - 10s 394ms/step - loss: 0.4562 - accuracy: 0.7800 - val_loss: 0.4407 - val_accuracy: 0.8008 - lr: 8.4035e-04\n",
            "Epoch 65/100\n",
            "25/25 [==============================] - ETA: 0s - loss: 0.4643 - accuracy: 0.7619\n",
            "Epoch 65: val_loss did not improve from 0.43804\n",
            "25/25 [==============================] - 10s 395ms/step - loss: 0.4643 - accuracy: 0.7619 - val_loss: 0.4414 - val_accuracy: 0.8048 - lr: 8.4035e-04\n",
            "Epoch 66/100\n",
            "25/25 [==============================] - ETA: 0s - loss: 0.4581 - accuracy: 0.7756\n",
            "Epoch 66: val_loss did not improve from 0.43804\n",
            "25/25 [==============================] - 10s 395ms/step - loss: 0.4581 - accuracy: 0.7756 - val_loss: 0.4427 - val_accuracy: 0.7928 - lr: 8.4035e-04\n",
            "Epoch 67/100\n",
            "25/25 [==============================] - ETA: 0s - loss: 0.4510 - accuracy: 0.7837\n",
            "Epoch 67: val_loss did not improve from 0.43804\n",
            "25/25 [==============================] - 10s 395ms/step - loss: 0.4510 - accuracy: 0.7837 - val_loss: 0.4867 - val_accuracy: 0.7485 - lr: 8.4035e-04\n",
            "Epoch 68/100\n",
            "25/25 [==============================] - ETA: 0s - loss: 0.4459 - accuracy: 0.7819\n",
            "Epoch 68: ReduceLROnPlateau reducing learning rate to 0.0005882450379431247.\n",
            "\n",
            "Epoch 68: val_loss did not improve from 0.43804\n",
            "25/25 [==============================] - 10s 394ms/step - loss: 0.4459 - accuracy: 0.7819 - val_loss: 0.4827 - val_accuracy: 0.7525 - lr: 8.4035e-04\n",
            "Epoch 69/100\n",
            "25/25 [==============================] - ETA: 0s - loss: 0.4509 - accuracy: 0.7750\n",
            "Epoch 69: val_loss did not improve from 0.43804\n",
            "25/25 [==============================] - 10s 395ms/step - loss: 0.4509 - accuracy: 0.7750 - val_loss: 0.4394 - val_accuracy: 0.7988 - lr: 5.8825e-04\n",
            "Epoch 70/100\n",
            "25/25 [==============================] - ETA: 0s - loss: 0.4325 - accuracy: 0.8025\n",
            "Epoch 70: val_loss did not improve from 0.43804\n",
            "25/25 [==============================] - 10s 395ms/step - loss: 0.4325 - accuracy: 0.8025 - val_loss: 0.4513 - val_accuracy: 0.7767 - lr: 5.8825e-04\n",
            "Epoch 71/100\n",
            "25/25 [==============================] - ETA: 0s - loss: 0.4653 - accuracy: 0.7781\n",
            "Epoch 71: val_loss did not improve from 0.43804\n",
            "25/25 [==============================] - 10s 394ms/step - loss: 0.4653 - accuracy: 0.7781 - val_loss: 0.4957 - val_accuracy: 0.7445 - lr: 5.8825e-04\n",
            "Epoch 72/100\n",
            "25/25 [==============================] - ETA: 0s - loss: 0.4471 - accuracy: 0.7831\n",
            "Epoch 72: val_loss improved from 0.43804 to 0.43629, saving model to vgg16_Model.hdf5\n",
            "25/25 [==============================] - 10s 407ms/step - loss: 0.4471 - accuracy: 0.7831 - val_loss: 0.4363 - val_accuracy: 0.8109 - lr: 5.8825e-04\n",
            "Epoch 73/100\n",
            "25/25 [==============================] - ETA: 0s - loss: 0.4336 - accuracy: 0.7994\n",
            "Epoch 73: val_loss did not improve from 0.43629\n",
            "25/25 [==============================] - 10s 393ms/step - loss: 0.4336 - accuracy: 0.7994 - val_loss: 0.4399 - val_accuracy: 0.7928 - lr: 5.8825e-04\n",
            "Epoch 74/100\n",
            "25/25 [==============================] - ETA: 0s - loss: 0.4375 - accuracy: 0.7906\n",
            "Epoch 74: val_loss improved from 0.43629 to 0.43628, saving model to vgg16_Model.hdf5\n",
            "25/25 [==============================] - 10s 403ms/step - loss: 0.4375 - accuracy: 0.7906 - val_loss: 0.4363 - val_accuracy: 0.8008 - lr: 5.8825e-04\n",
            "Epoch 75/100\n",
            "25/25 [==============================] - ETA: 0s - loss: 0.4442 - accuracy: 0.7825\n",
            "Epoch 75: val_loss did not improve from 0.43628\n",
            "25/25 [==============================] - 10s 393ms/step - loss: 0.4442 - accuracy: 0.7825 - val_loss: 0.4531 - val_accuracy: 0.7726 - lr: 5.8825e-04\n",
            "Epoch 76/100\n",
            "25/25 [==============================] - ETA: 0s - loss: 0.4522 - accuracy: 0.7887\n",
            "Epoch 76: val_loss did not improve from 0.43628\n",
            "25/25 [==============================] - 10s 389ms/step - loss: 0.4522 - accuracy: 0.7887 - val_loss: 0.4483 - val_accuracy: 0.7807 - lr: 5.8825e-04\n",
            "Epoch 77/100\n",
            "25/25 [==============================] - ETA: 0s - loss: 0.4380 - accuracy: 0.7819\n",
            "Epoch 77: ReduceLROnPlateau reducing learning rate to 0.00041177153470925985.\n",
            "\n",
            "Epoch 77: val_loss did not improve from 0.43628\n",
            "25/25 [==============================] - 10s 391ms/step - loss: 0.4380 - accuracy: 0.7819 - val_loss: 0.4432 - val_accuracy: 0.7847 - lr: 5.8825e-04\n",
            "Epoch 78/100\n",
            "25/25 [==============================] - ETA: 0s - loss: 0.4262 - accuracy: 0.8075\n",
            "Epoch 78: val_loss did not improve from 0.43628\n",
            "25/25 [==============================] - 10s 392ms/step - loss: 0.4262 - accuracy: 0.8075 - val_loss: 0.4445 - val_accuracy: 0.7827 - lr: 4.1177e-04\n",
            "Epoch 79/100\n",
            "25/25 [==============================] - ETA: 0s - loss: 0.4546 - accuracy: 0.7763\n",
            "Epoch 79: val_loss did not improve from 0.43628\n",
            "25/25 [==============================] - 10s 389ms/step - loss: 0.4546 - accuracy: 0.7763 - val_loss: 0.4472 - val_accuracy: 0.7746 - lr: 4.1177e-04\n",
            "Epoch 80/100\n",
            "25/25 [==============================] - ETA: 0s - loss: 0.4498 - accuracy: 0.7800\n",
            "Epoch 80: val_loss did not improve from 0.43628\n",
            "25/25 [==============================] - 10s 390ms/step - loss: 0.4498 - accuracy: 0.7800 - val_loss: 0.4477 - val_accuracy: 0.7726 - lr: 4.1177e-04\n",
            "Epoch 81/100\n",
            "25/25 [==============================] - ETA: 0s - loss: 0.4431 - accuracy: 0.7844\n",
            "Epoch 81: val_loss did not improve from 0.43628\n",
            "25/25 [==============================] - 11s 451ms/step - loss: 0.4431 - accuracy: 0.7844 - val_loss: 0.4628 - val_accuracy: 0.7646 - lr: 4.1177e-04\n",
            "Epoch 82/100\n",
            "25/25 [==============================] - ETA: 0s - loss: 0.4445 - accuracy: 0.7881\n",
            "Epoch 82: ReduceLROnPlateau reducing learning rate to 0.0002882400702219456.\n",
            "\n",
            "Epoch 82: val_loss did not improve from 0.43628\n",
            "25/25 [==============================] - 10s 404ms/step - loss: 0.4445 - accuracy: 0.7881 - val_loss: 0.4773 - val_accuracy: 0.7565 - lr: 4.1177e-04\n",
            "Epoch 83/100\n",
            "25/25 [==============================] - ETA: 0s - loss: 0.4257 - accuracy: 0.8081\n",
            "Epoch 83: val_loss did not improve from 0.43628\n",
            "25/25 [==============================] - 10s 388ms/step - loss: 0.4257 - accuracy: 0.8081 - val_loss: 0.4565 - val_accuracy: 0.7686 - lr: 2.8824e-04\n",
            "Epoch 84/100\n",
            "25/25 [==============================] - ETA: 0s - loss: 0.4466 - accuracy: 0.7937\n",
            "Epoch 84: val_loss did not improve from 0.43628\n",
            "25/25 [==============================] - 11s 443ms/step - loss: 0.4466 - accuracy: 0.7937 - val_loss: 0.4377 - val_accuracy: 0.7988 - lr: 2.8824e-04\n",
            "Epoch 85/100\n",
            "25/25 [==============================] - ETA: 0s - loss: 0.4537 - accuracy: 0.7894\n",
            "Epoch 85: val_loss did not improve from 0.43628\n",
            "25/25 [==============================] - 10s 395ms/step - loss: 0.4537 - accuracy: 0.7894 - val_loss: 0.4508 - val_accuracy: 0.7807 - lr: 2.8824e-04\n",
            "Epoch 86/100\n",
            "25/25 [==============================] - ETA: 0s - loss: 0.4380 - accuracy: 0.8037\n",
            "Epoch 86: val_loss did not improve from 0.43628\n",
            "25/25 [==============================] - 10s 398ms/step - loss: 0.4380 - accuracy: 0.8037 - val_loss: 0.4504 - val_accuracy: 0.7847 - lr: 2.8824e-04\n",
            "Epoch 87/100\n",
            "25/25 [==============================] - ETA: 0s - loss: 0.4533 - accuracy: 0.7837\n",
            "Epoch 87: ReduceLROnPlateau reducing learning rate to 0.0002017680410062894.\n",
            "\n",
            "Epoch 87: val_loss did not improve from 0.43628\n",
            "25/25 [==============================] - 10s 392ms/step - loss: 0.4533 - accuracy: 0.7837 - val_loss: 0.4670 - val_accuracy: 0.7646 - lr: 2.8824e-04\n",
            "Epoch 88/100\n",
            "25/25 [==============================] - ETA: 0s - loss: 0.4282 - accuracy: 0.7969\n",
            "Epoch 88: val_loss did not improve from 0.43628\n",
            "25/25 [==============================] - 10s 394ms/step - loss: 0.4282 - accuracy: 0.7969 - val_loss: 0.4498 - val_accuracy: 0.7827 - lr: 2.0177e-04\n",
            "Epoch 89/100\n",
            "25/25 [==============================] - ETA: 0s - loss: 0.4316 - accuracy: 0.7894\n",
            "Epoch 89: val_loss did not improve from 0.43628\n",
            "25/25 [==============================] - 10s 391ms/step - loss: 0.4316 - accuracy: 0.7894 - val_loss: 0.4575 - val_accuracy: 0.7666 - lr: 2.0177e-04\n",
            "Epoch 90/100\n",
            "25/25 [==============================] - ETA: 0s - loss: 0.4408 - accuracy: 0.7831\n",
            "Epoch 90: val_loss did not improve from 0.43628\n",
            "25/25 [==============================] - 10s 390ms/step - loss: 0.4408 - accuracy: 0.7831 - val_loss: 0.4830 - val_accuracy: 0.7545 - lr: 2.0177e-04\n",
            "Epoch 91/100\n",
            "25/25 [==============================] - ETA: 0s - loss: 0.4459 - accuracy: 0.7950\n",
            "Epoch 91: val_loss did not improve from 0.43628\n",
            "25/25 [==============================] - 10s 393ms/step - loss: 0.4459 - accuracy: 0.7950 - val_loss: 0.4440 - val_accuracy: 0.7767 - lr: 2.0177e-04\n",
            "Epoch 92/100\n",
            "25/25 [==============================] - ETA: 0s - loss: 0.4230 - accuracy: 0.8044\n",
            "Epoch 92: ReduceLROnPlateau reducing learning rate to 0.00014123762666713445.\n",
            "\n",
            "Epoch 92: val_loss did not improve from 0.43628\n",
            "25/25 [==============================] - 10s 392ms/step - loss: 0.4230 - accuracy: 0.8044 - val_loss: 0.4398 - val_accuracy: 0.7847 - lr: 2.0177e-04\n",
            "Epoch 93/100\n",
            "25/25 [==============================] - ETA: 0s - loss: 0.4181 - accuracy: 0.8025\n",
            "Epoch 93: val_loss did not improve from 0.43628\n",
            "25/25 [==============================] - 10s 391ms/step - loss: 0.4181 - accuracy: 0.8025 - val_loss: 0.4417 - val_accuracy: 0.7807 - lr: 1.4124e-04\n",
            "Epoch 94/100\n",
            "25/25 [==============================] - ETA: 0s - loss: 0.4327 - accuracy: 0.7906\n",
            "Epoch 94: val_loss did not improve from 0.43628\n",
            "25/25 [==============================] - 10s 391ms/step - loss: 0.4327 - accuracy: 0.7906 - val_loss: 0.4604 - val_accuracy: 0.7666 - lr: 1.4124e-04\n",
            "Epoch 95/100\n",
            "25/25 [==============================] - ETA: 0s - loss: 0.4427 - accuracy: 0.7850\n",
            "Epoch 95: val_loss did not improve from 0.43628\n",
            "25/25 [==============================] - 10s 394ms/step - loss: 0.4427 - accuracy: 0.7850 - val_loss: 0.4682 - val_accuracy: 0.7646 - lr: 1.4124e-04\n",
            "Epoch 96/100\n",
            "25/25 [==============================] - ETA: 0s - loss: 0.4366 - accuracy: 0.7887\n",
            "Epoch 96: val_loss did not improve from 0.43628\n",
            "25/25 [==============================] - 11s 444ms/step - loss: 0.4366 - accuracy: 0.7887 - val_loss: 0.4559 - val_accuracy: 0.7706 - lr: 1.4124e-04\n",
            "Epoch 97/100\n",
            "25/25 [==============================] - ETA: 0s - loss: 0.4279 - accuracy: 0.8119\n",
            "Epoch 97: ReduceLROnPlateau reducing learning rate to 0.0001.\n",
            "\n",
            "Epoch 97: val_loss did not improve from 0.43628\n",
            "25/25 [==============================] - 10s 393ms/step - loss: 0.4279 - accuracy: 0.8119 - val_loss: 0.4421 - val_accuracy: 0.7807 - lr: 1.4124e-04\n",
            "Epoch 98/100\n",
            "25/25 [==============================] - ETA: 0s - loss: 0.4228 - accuracy: 0.7987\n",
            "Epoch 98: val_loss did not improve from 0.43628\n",
            "25/25 [==============================] - 10s 396ms/step - loss: 0.4228 - accuracy: 0.7987 - val_loss: 0.4495 - val_accuracy: 0.7847 - lr: 1.0000e-04\n",
            "Epoch 99/100\n",
            "25/25 [==============================] - ETA: 0s - loss: 0.4477 - accuracy: 0.7825\n",
            "Epoch 99: val_loss did not improve from 0.43628\n",
            "25/25 [==============================] - 10s 395ms/step - loss: 0.4477 - accuracy: 0.7825 - val_loss: 0.4466 - val_accuracy: 0.7847 - lr: 1.0000e-04\n",
            "Epoch 100/100\n",
            "25/25 [==============================] - ETA: 0s - loss: 0.4282 - accuracy: 0.8075\n",
            "Epoch 100: val_loss did not improve from 0.43628\n",
            "25/25 [==============================] - 10s 392ms/step - loss: 0.4282 - accuracy: 0.8075 - val_loss: 0.4763 - val_accuracy: 0.7545 - lr: 1.0000e-04\n"
          ]
        }
      ]
    },
    {
      "cell_type": "code",
      "source": [
        "\n",
        "\n",
        "acc = history.history['accuracy']\n",
        "val_acc = history.history['val_accuracy']\n",
        "loss = history.history['loss']\n",
        "val_loss = history.history['val_loss']\n",
        "\n"
      ],
      "metadata": {
        "id": "65E1cB14TFMV"
      },
      "execution_count": 19,
      "outputs": []
    },
    {
      "cell_type": "code",
      "source": [
        "\n",
        "\n",
        "epochs = range(len(acc))\n",
        "plt.plot(epochs, acc, 'r', label='Training accuracy')\n",
        "plt.plot(epochs, val_acc, 'b', label='Validation accuracy')\n",
        "plt.title('TraiN & Val Acc VS Epochs')\n",
        "plt.legend(loc=0)\n",
        "plt.figure()\n",
        "plt.show()\n",
        "\n"
      ],
      "metadata": {
        "id": "THemZF58TGUG",
        "colab": {
          "base_uri": "https://localhost:8080/",
          "height": 299
        },
        "outputId": "4f7ec36b-d000-4c13-d500-3b5280a4c748"
      },
      "execution_count": 20,
      "outputs": [
        {
          "output_type": "display_data",
          "data": {
            "text/plain": [
              "<Figure size 432x288 with 1 Axes>"
            ],
            "image/png": "[encoded data removed]"
          },
          "metadata": {
            "needs_background": "light"
          }
        },
        {
          "output_type": "display_data",
          "data": {
            "text/plain": [
              "<Figure size 432x288 with 0 Axes>"
            ]
          },
          "metadata": {}
        }
      ]
    },
    {
      "cell_type": "code",
      "source": [
        "epochs = range(len(acc))\n",
        "plt.plot(epochs, loss, 'r', label='Training Loss')\n",
        "plt.plot(epochs, val_loss, 'b', label='Validation Loss')\n",
        "plt.title('TraiN & Val Loss VS Epochs')\n",
        "plt.legend(loc=0)\n",
        "plt.figure()\n",
        "plt.show()"
      ],
      "metadata": {
        "id": "ChxdyYe8TH3T",
        "colab": {
          "base_uri": "https://localhost:8080/",
          "height": 299
        },
        "outputId": "cdfd0042-c830-4b46-8bf6-15d8cedef5b7"
      },
      "execution_count": 21,
      "outputs": [
        {
          "output_type": "display_data",
          "data": {
            "text/plain": [
              "<Figure size 432x288 with 1 Axes>"
            ],
            "image/png": "[encoded data removed]"
          },
          "metadata": {
            "needs_background": "light"
          }
        },
        {
          "output_type": "display_data",
          "data": {
            "text/plain": [
              "<Figure size 432x288 with 0 Axes>"
            ]
          },
          "metadata": {}
        }
      ]
    },
    {
      "cell_type": "code",
      "source": [
        "model.load_weights(\"vgg16_Model.hdf5\")\n",
        "model.save('/content/drive/MyDrive/Model Saves/VGG16 CT-Scan')\n",
        "score = model.evaluate(X_val, Y_val ,verbose=1)\n",
        "print('Test Loss:', score[0])\n",
        "print('Test accuracy:', score[1]*100)"
      ],
      "metadata": {
        "id": "A0GMe018TJG7",
        "colab": {
          "base_uri": "https://localhost:8080/"
        },
        "outputId": "d5b9b07a-1f5b-487e-c723-19b0136498e5"
      },
      "execution_count": 22,
      "outputs": [
        {
          "output_type": "stream",
          "name": "stderr",
          "text": [
            "WARNING:absl:Found untraced functions such as _jit_compiled_convolution_op, _jit_compiled_convolution_op, _jit_compiled_convolution_op, _jit_compiled_convolution_op, _jit_compiled_convolution_op while saving (showing 5 of 13). These functions will not be directly callable after loading.\n"
          ]
        },
        {
          "output_type": "stream",
          "name": "stdout",
          "text": [
            "16/16 [==============================] - 1s 84ms/step - loss: 0.4363 - accuracy: 0.8008\n",
            "Test Loss: 0.4362782835960388\n",
            "Test accuracy: 80.0804853439331\n"
          ]
        }
      ]
    },
    {
      "cell_type": "code",
      "source": [
        "from sklearn.metrics import accuracy_score\n",
        "from sklearn.metrics import classification_report\n",
        "import numpy as np"
      ],
      "metadata": {
        "id": "YIiw040lphUK"
      },
      "execution_count": 23,
      "outputs": []
    },
    {
      "cell_type": "code",
      "source": [
        "pred = model.predict(X_val)\n",
        "rounded_labels_1 = np.argmax(pred, axis=1)\n",
        "rounded_labels_2 = np.argmax(Y_val, axis=1)\n",
        "rounded_labels_1[1]\n",
        "rounded_labels_2[1]\n",
        "accuracy_score(rounded_labels_2,rounded_labels_1)\n",
        "print(confusion_matrix(rounded_labels_2,rounded_labels_1))\n",
        "print(classification_report(rounded_labels_2,rounded_labels_1))"
      ],
      "metadata": {
        "id": "Nc0Fyqv2pht7",
        "colab": {
          "base_uri": "https://localhost:8080/"
        },
        "outputId": "111aca26-e554-45fc-9200-2aa51fb09ab9"
      },
      "execution_count": 25,
      "outputs": [
        {
          "output_type": "stream",
          "name": "stdout",
          "text": [
            "16/16 [==============================] - 1s 85ms/step\n",
            "[[198  66]\n",
            " [ 33 200]]\n",
            "              precision    recall  f1-score   support\n",
            "\n",
            "           0       0.86      0.75      0.80       264\n",
            "           1       0.75      0.86      0.80       233\n",
            "\n",
            "    accuracy                           0.80       497\n",
            "   macro avg       0.80      0.80      0.80       497\n",
            "weighted avg       0.81      0.80      0.80       497\n",
            "\n"
          ]
        }
      ]
    }
  ]
}