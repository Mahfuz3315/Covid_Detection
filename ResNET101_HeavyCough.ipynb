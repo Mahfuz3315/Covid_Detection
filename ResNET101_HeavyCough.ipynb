{
  "cells": [
    {
      "cell_type": "code",
      "execution_count": 1,
      "metadata": {
        "id": "cZq8tiCL3He9"
      },
      "outputs": [],
      "source": [
        "import os\n",
        "import pandas as pd\n",
        "import numpy as np\n",
        "from tqdm import tqdm\n",
        "import keras\n",
        "from keras.utils.np_utils import to_categorical\n",
        "import cv2\n",
        "import tensorflow as tf\n",
        "from sklearn.model_selection import train_test_split\n",
        "from keras.layers import  Flatten, Dense, Dropout\n",
        "# from tensorflow.keras.applications import VGG16\n",
        "from tensorflow.keras.applications import ResNet101\n",
        "# from tensorflow.keras.applications import Xception\n",
        "from keras.callbacks import ModelCheckpoint, ReduceLROnPlateau\n",
        "#It should be \n",
        "from tensorflow.keras.layers import Input\n",
        "from tensorflow.keras import Model\n",
        "from keras import optimizers\n",
        "from tensorflow.keras.optimizers import Adam\n",
        "from keras.layers import Dense, GlobalAveragePooling2D\n",
        "from keras.layers import Dense, Dropout, Flatten, Conv2D, MaxPool2D, BatchNormalization, AveragePooling2D, GlobalAveragePooling2D\n",
        "from sklearn import preprocessing\n",
        "import keras_preprocessing\n",
        "from keras_preprocessing import image\n",
        "from keras_preprocessing.image import ImageDataGenerator\n",
        "from keras import callbacks\n",
        "import matplotlib.pyplot as plt\n",
        "from sklearn.metrics import confusion_matrix\n",
        "import seaborn as sns\n",
        "from zipfile import ZipFile"
      ]
    },
    {
      "cell_type": "code",
      "execution_count": 2,
      "metadata": {
        "colab": {
          "base_uri": "https://localhost:8080/"
        },
        "id": "Ctjb1hOsrzLV",
        "outputId": "6f958e08-62ff-455d-ba74-1a6c7bdc390a"
      },
      "outputs": [
        {
          "output_type": "stream",
          "name": "stdout",
          "text": [
            "Mounted at /content/drive\n"
          ]
        }
      ],
      "source": [
        "from google.colab import drive\n",
        "drive.mount('/content/drive')"
      ]
    },
    {
      "cell_type": "code",
      "execution_count": 3,
      "metadata": {
        "colab": {
          "base_uri": "https://localhost:8080/"
        },
        "id": "JkYepAERrixq",
        "outputId": "5f023fc0-8e45-435b-ec20-7ca45f5304ec"
      },
      "outputs": [
        {
          "output_type": "stream",
          "name": "stderr",
          "text": [
            "100%|██████████| 56/56 [01:10<00:00,  1.26s/it]\n",
            "100%|██████████| 1341/1341 [01:00<00:00, 22.18it/s]\n"
          ]
        },
        {
          "output_type": "stream",
          "name": "stdout",
          "text": [
            "['c', 'c', 'c', 'c', 'c', 'c', 'c', 'c', 'c', 'c', 'c', 'c', 'c', 'c', 'c', 'c', 'c', 'c', 'c', 'c', 'c', 'c', 'c', 'c', 'c', 'c', 'c', 'c', 'c', 'c', 'c', 'c', 'c', 'c', 'c', 'c', 'c', 'c', 'c', 'c', 'c', 'c', 'c', 'c', 'c', 'c', 'c', 'c', 'c', 'c', 'c', 'c', 'c', 'c', 'c', 'c', 'n', 'n', 'n', 'n', 'n', 'n', 'n', 'n', 'n', 'n', 'n', 'n', 'n', 'n', 'n', 'n', 'n', 'n', 'n', 'n', 'n', 'n', 'n', 'n', 'n', 'n', 'n', 'n', 'n', 'n', 'n', 'n', 'n', 'n', 'n', 'n', 'n', 'n', 'n', 'n', 'n', 'n', 'n', 'n', 'n', 'n', 'n', 'n', 'n', 'n', 'n', 'n', 'n', 'n', 'n', 'n', 'n', 'n', 'n', 'n', 'n', 'n', 'n', 'n', 'n', 'n', 'n', 'n', 'n', 'n', 'n', 'n', 'n', 'n', 'n', 'n', 'n', 'n', 'n', 'n', 'n', 'n', 'n', 'n', 'n', 'n', 'n', 'n', 'n', 'n', 'n', 'n', 'n', 'n', 'n', 'n', 'n', 'n', 'n', 'n', 'n', 'n', 'n', 'n', 'n', 'n', 'n', 'n', 'n', 'n', 'n', 'n', 'n', 'n', 'n', 'n', 'n', 'n', 'n', 'n', 'n', 'n', 'n', 'n', 'n', 'n', 'n', 'n', 'n', 'n', 'n', 'n', 'n', 'n', 'n', 'n', 'n', 'n', 'n', 'n', 'n', 'n', 'n', 'n', 'n', 'n', 'n', 'n', 'n', 'n', 'n', 'n', 'n', 'n', 'n', 'n', 'n', 'n', 'n', 'n', 'n', 'n', 'n', 'n', 'n', 'n', 'n', 'n', 'n', 'n', 'n', 'n', 'n', 'n', 'n', 'n', 'n', 'n', 'n', 'n', 'n', 'n', 'n', 'n', 'n', 'n', 'n', 'n', 'n', 'n', 'n', 'n', 'n', 'n', 'n', 'n', 'n', 'n', 'n', 'n', 'n', 'n', 'n', 'n', 'n', 'n', 'n', 'n', 'n', 'n', 'n', 'n', 'n', 'n', 'n', 'n', 'n', 'n', 'n', 'n', 'n', 'n', 'n', 'n', 'n', 'n', 'n', 'n', 'n', 'n', 'n', 'n', 'n', 'n', 'n', 'n', 'n', 'n', 'n', 'n', 'n', 'n', 'n', 'n', 'n', 'n', 'n', 'n', 'n', 'n', 'n', 'n', 'n', 'n', 'n', 'n', 'n', 'n', 'n', 'n', 'n', 'n', 'n', 'n', 'n', 'n', 'n', 'n', 'n', 'n', 'n', 'n', 'n', 'n', 'n', 'n', 'n', 'n', 'n', 'n', 'n', 'n', 'n', 'n', 'n', 'n', 'n', 'n', 'n', 'n', 'n', 'n', 'n', 'n', 'n', 'n', 'n', 'n', 'n', 'n', 'n', 'n', 'n', 'n', 'n', 'n', 'n', 'n', 'n', 'n', 'n', 'n', 'n', 'n', 'n', 'n', 'n', 'n', 'n', 'n', 'n', 'n', 'n', 'n', 'n', 'n', 'n', 'n', 'n', 'n', 'n', 'n', 'n', 'n', 'n', 'n', 'n', 'n', 'n', 'n', 'n', 'n', 'n', 'n', 'n', 'n', 'n', 'n', 'n', 'n', 'n', 'n', 'n', 'n', 'n', 'n', 'n', 'n', 'n', 'n', 'n', 'n', 'n', 'n', 'n', 'n', 'n', 'n', 'n', 'n', 'n', 'n', 'n', 'n', 'n', 'n', 'n', 'n', 'n', 'n', 'n', 'n', 'n', 'n', 'n', 'n', 'n', 'n', 'n', 'n', 'n', 'n', 'n', 'n', 'n', 'n', 'n', 'n', 'n', 'n', 'n', 'n', 'n', 'n', 'n', 'n', 'n', 'n', 'n', 'n', 'n', 'n', 'n', 'n', 'n', 'n', 'n', 'n', 'n', 'n', 'n', 'n', 'n', 'n', 'n', 'n', 'n', 'n', 'n', 'n', 'n', 'n', 'n', 'n', 'n', 'n', 'n', 'n', 'n', 'n', 'n', 'n', 'n', 'n', 'n', 'n', 'n', 'n', 'n', 'n', 'n', 'n', 'n', 'n', 'n', 'n', 'n', 'n', 'n', 'n', 'n', 'n', 'n', 'n', 'n', 'n', 'n', 'n', 'n', 'n', 'n', 'n', 'n', 'n', 'n', 'n', 'n', 'n', 'n', 'n', 'n', 'n', 'n', 'n', 'n', 'n', 'n', 'n', 'n', 'n', 'n', 'n', 'n', 'n', 'n', 'n', 'n', 'n', 'n', 'n', 'n', 'n', 'n', 'n', 'n', 'n', 'n', 'n', 'n', 'n', 'n', 'n', 'n', 'n', 'n', 'n', 'n', 'n', 'n', 'n', 'n', 'n', 'n', 'n', 'n', 'n', 'n', 'n', 'n', 'n', 'n', 'n', 'n', 'n', 'n', 'n', 'n', 'n', 'n', 'n', 'n', 'n', 'n', 'n', 'n', 'n', 'n', 'n', 'n', 'n', 'n', 'n', 'n', 'n', 'n', 'n', 'n', 'n', 'n', 'n', 'n', 'n', 'n', 'n', 'n', 'n', 'n', 'n', 'n', 'n', 'n', 'n', 'n', 'n', 'n', 'n', 'n', 'n', 'n', 'n', 'n', 'n', 'n', 'n', 'n', 'n', 'n', 'n', 'n', 'n', 'n', 'n', 'n', 'n', 'n', 'n', 'n', 'n', 'n', 'n', 'n', 'n', 'n', 'n', 'n', 'n', 'n', 'n', 'n', 'n', 'n', 'n', 'n', 'n', 'n', 'n', 'n', 'n', 'n', 'n', 'n', 'n', 'n', 'n', 'n', 'n', 'n', 'n', 'n', 'n', 'n', 'n', 'n', 'n', 'n', 'n', 'n', 'n', 'n', 'n', 'n', 'n', 'n', 'n', 'n', 'n', 'n', 'n', 'n', 'n', 'n', 'n', 'n', 'n', 'n', 'n', 'n', 'n', 'n', 'n', 'n', 'n', 'n', 'n', 'n', 'n', 'n', 'n', 'n', 'n', 'n', 'n', 'n', 'n', 'n', 'n', 'n', 'n', 'n', 'n', 'n', 'n', 'n', 'n', 'n', 'n', 'n', 'n', 'n', 'n', 'n', 'n', 'n', 'n', 'n', 'n', 'n', 'n', 'n', 'n', 'n', 'n', 'n', 'n', 'n', 'n', 'n', 'n', 'n', 'n', 'n', 'n', 'n', 'n', 'n', 'n', 'n', 'n', 'n', 'n', 'n', 'n', 'n', 'n', 'n', 'n', 'n', 'n', 'n', 'n', 'n', 'n', 'n', 'n', 'n', 'n', 'n', 'n', 'n', 'n', 'n', 'n', 'n', 'n', 'n', 'n', 'n', 'n', 'n', 'n', 'n', 'n', 'n', 'n', 'n', 'n', 'n', 'n', 'n', 'n', 'n', 'n', 'n', 'n', 'n', 'n', 'n', 'n', 'n', 'n', 'n', 'n', 'n', 'n', 'n', 'n', 'n', 'n', 'n', 'n', 'n', 'n', 'n', 'n', 'n', 'n', 'n', 'n', 'n', 'n', 'n', 'n', 'n', 'n', 'n', 'n', 'n', 'n', 'n', 'n', 'n', 'n', 'n', 'n', 'n', 'n', 'n', 'n', 'n', 'n', 'n', 'n', 'n', 'n', 'n', 'n', 'n', 'n', 'n', 'n', 'n', 'n', 'n', 'n', 'n', 'n', 'n', 'n', 'n', 'n', 'n', 'n', 'n', 'n', 'n', 'n', 'n', 'n', 'n', 'n', 'n', 'n', 'n', 'n', 'n', 'n', 'n', 'n', 'n', 'n', 'n', 'n', 'n', 'n', 'n', 'n', 'n', 'n', 'n', 'n', 'n', 'n', 'n', 'n', 'n', 'n', 'n', 'n', 'n', 'n', 'n', 'n', 'n', 'n', 'n', 'n', 'n', 'n', 'n', 'n', 'n', 'n', 'n', 'n', 'n', 'n', 'n', 'n', 'n', 'n', 'n', 'n', 'n', 'n', 'n', 'n', 'n', 'n', 'n', 'n', 'n', 'n', 'n', 'n', 'n', 'n', 'n', 'n', 'n', 'n', 'n', 'n', 'n', 'n', 'n', 'n', 'n', 'n', 'n', 'n', 'n', 'n', 'n', 'n', 'n', 'n', 'n', 'n', 'n', 'n', 'n', 'n', 'n', 'n', 'n', 'n', 'n', 'n', 'n', 'n', 'n', 'n', 'n', 'n', 'n', 'n', 'n', 'n', 'n', 'n', 'n', 'n', 'n', 'n', 'n', 'n', 'n', 'n', 'n', 'n', 'n', 'n', 'n', 'n', 'n', 'n', 'n', 'n', 'n', 'n', 'n', 'n', 'n', 'n', 'n', 'n', 'n', 'n', 'n', 'n', 'n', 'n', 'n', 'n', 'n', 'n', 'n', 'n', 'n', 'n', 'n', 'n', 'n', 'n', 'n', 'n', 'n', 'n', 'n', 'n', 'n', 'n', 'n', 'n', 'n', 'n', 'n', 'n', 'n', 'n', 'n', 'n', 'n', 'n', 'n', 'n', 'n', 'n', 'n', 'n', 'n', 'n', 'n', 'n', 'n', 'n', 'n', 'n', 'n', 'n', 'n', 'n', 'n', 'n', 'n', 'n', 'n', 'n', 'n', 'n', 'n', 'n', 'n', 'n', 'n', 'n', 'n', 'n', 'n', 'n', 'n', 'n', 'n', 'n', 'n', 'n', 'n', 'n', 'n', 'n', 'n', 'n', 'n', 'n', 'n', 'n', 'n', 'n', 'n', 'n', 'n', 'n', 'n', 'n', 'n', 'n', 'n', 'n', 'n', 'n', 'n', 'n', 'n', 'n', 'n', 'n', 'n', 'n', 'n', 'n', 'n', 'n', 'n', 'n', 'n', 'n', 'n', 'n', 'n', 'n', 'n', 'n', 'n', 'n', 'n', 'n', 'n', 'n', 'n', 'n', 'n', 'n', 'n', 'n', 'n', 'n', 'n', 'n', 'n', 'n', 'n', 'n', 'n', 'n', 'n', 'n', 'n', 'n', 'n', 'n', 'n', 'n', 'n', 'n', 'n', 'n', 'n', 'n', 'n', 'n', 'n', 'n', 'n', 'n', 'n', 'n', 'n', 'n', 'n', 'n', 'n', 'n', 'n', 'n', 'n', 'n', 'n', 'n', 'n', 'n', 'n', 'n', 'n', 'n', 'n', 'n', 'n', 'n', 'n', 'n', 'n', 'n', 'n', 'n', 'n', 'n', 'n', 'n', 'n', 'n', 'n', 'n', 'n', 'n', 'n', 'n', 'n', 'n', 'n', 'n', 'n', 'n', 'n', 'n', 'n', 'n', 'n', 'n', 'n', 'n', 'n', 'n', 'n', 'n', 'n', 'n', 'n', 'n', 'n', 'n', 'n', 'n', 'n', 'n', 'n', 'n', 'n', 'n', 'n', 'n', 'n', 'n', 'n', 'n', 'n', 'n', 'n', 'n', 'n', 'n', 'n', 'n', 'n', 'n', 'n', 'n', 'n', 'n', 'n', 'n', 'n', 'n', 'n', 'n', 'n', 'n', 'n', 'n', 'n', 'n', 'n', 'n', 'n', 'n', 'n', 'n', 'n', 'n', 'n', 'n', 'n', 'n', 'n', 'n', 'n', 'n', 'n', 'n', 'n', 'n', 'n', 'n', 'n', 'n', 'n', 'n', 'n', 'n', 'n', 'n', 'n', 'n', 'n', 'n', 'n', 'n', 'n', 'n', 'n', 'n', 'n', 'n', 'n', 'n', 'n', 'n', 'n', 'n', 'n', 'n', 'n', 'n', 'n', 'n', 'n', 'n', 'n', 'n', 'n', 'n', 'n', 'n', 'n', 'n', 'n', 'n', 'n', 'n', 'n', 'n', 'n', 'n', 'n', 'n', 'n', 'n', 'n', 'n', 'n', 'n', 'n', 'n', 'n', 'n', 'n', 'n', 'n', 'n', 'n', 'n']\n",
            "(1840, 224, 224, 3)\n"
          ]
        }
      ],
      "source": [
        "from pickle import NONE\n",
        "from pathlib import Path\n",
        "\n",
        "from zmq.constants import NULL\n",
        "X = []\n",
        "y = []\n",
        "os.chdir('/content/drive/MyDrive/Spectrogram For Train Test/Heavy Cough Cov-Non Cov/Covid')\n",
        "for i in tqdm(os.listdir()):\n",
        "      img = cv2.imread(i)   \n",
        "      img = cv2.resize(img,(224,224))\n",
        "      X.append(img)\n",
        "      y.append('c')\n",
        "\n",
        "os.chdir('/content/drive/MyDrive/Spectrogram For Train Test/Heavy Cough Cov-Non Cov/Non Covid')\n",
        "for i in tqdm(os.listdir()):\n",
        "      img = cv2.imread(i)\n",
        "      if(type(img) == type(None)):\n",
        "        pass\n",
        "      else:\n",
        "        img = cv2.resize(img,(224,224))\n",
        "        X.append(img)\n",
        "        y.append('n')\n",
        "\n",
        "from imblearn.over_sampling import SMOTE\n",
        "sm = SMOTE(sampling_strategy={'c': 500},random_state=42)\n",
        "X = np.array(X)\n",
        "X_resampled, y_resampled = sm.fit_resample(X.reshape(X.shape[0], -1), np.array(y))\n",
        "X_resampled = X_resampled.reshape(-1, 224, 224, 3)\n",
        "\n",
        "X_train, X_test, y_train, y_test = train_test_split(X_resampled, y_resampled, test_size=0.20, random_state=42)\n",
        "print(y)\n",
        "print(X_resampled.shape)"
      ]
    },
    {
      "cell_type": "code",
      "execution_count": 4,
      "metadata": {
        "colab": {
          "base_uri": "https://localhost:8080/"
        },
        "id": "0_PUr8TEsE13",
        "outputId": "9eb3d378-b183-4c1d-8b54-075cfc9c6c9e"
      },
      "outputs": [
        {
          "output_type": "stream",
          "name": "stdout",
          "text": [
            "Shape of an image in X_train:  (224, 224, 3)\n",
            "Shape of an image in X_test:  (224, 224, 3)\n"
          ]
        }
      ],
      "source": [
        "# X_train, X_test, y_train, y_test = train_test_split(X, y, test_size=0.20, random_state=42)\n",
        "print (\"Shape of an image in X_train: \", X_train[0].shape)\n",
        "print (\"Shape of an image in X_test: \", X_test[0].shape)"
      ]
    },
    {
      "cell_type": "code",
      "source": [],
      "metadata": {
        "id": "hEAr2WC6iX-R"
      },
      "execution_count": null,
      "outputs": []
    },
    {
      "cell_type": "code",
      "execution_count": 5,
      "metadata": {
        "id": "00Vk0nZpsMgC"
      },
      "outputs": [],
      "source": [
        "le = preprocessing.LabelEncoder()\n",
        "y_train = le.fit_transform(y_train)\n",
        "y_test = le.fit_transform(y_test)\n",
        "y_train = tf.keras.utils.to_categorical(y_train, num_classes=2)\n",
        "y_test = tf.keras.utils.to_categorical(y_test, num_classes=2)\n",
        "y_train = np.array(y_train)\n",
        "X_train = np.array(X_train)\n",
        "y_test = np.array(y_test)\n",
        "X_test = np.array(X_test) "
      ]
    },
    {
      "cell_type": "code",
      "execution_count": 6,
      "metadata": {
        "id": "VC1NDQMhHkk6"
      },
      "outputs": [],
      "source": [
        "BATCH_SIZE =20\n",
        "EPOCHS = 100\n",
        "SIZE = 224\n",
        "N_ch=3"
      ]
    },
    {
      "cell_type": "code",
      "execution_count": 7,
      "metadata": {
        "id": "jEJkx65YHw5B"
      },
      "outputs": [],
      "source": [
        "def build_resnet101():\n",
        "    resnet101 = ResNet101(weights='imagenet', include_top=False)\n",
        "\n",
        "    input = Input(shape=(SIZE, SIZE, N_ch))\n",
        "    x = Conv2D(3, (3, 3), padding='same')(input)\n",
        "    \n",
        "    x = resnet101(x)\n",
        "    \n",
        "    x = GlobalAveragePooling2D()(x)\n",
        "    x = BatchNormalization()(x)\n",
        "    x = Dropout(0.5)(x)\n",
        "    x = Dense(1024, activation='relu')(x)\n",
        "    x = Dense(512, activation='relu')(x)\n",
        "    x = BatchNormalization()(x)\n",
        "    x = Dropout(0.5)(x)\n",
        "\n",
        "    # multi output\n",
        "    output = Dense(2,activation = 'softmax', name='root')(x)\n",
        " \n",
        "\n",
        "    # model\n",
        "    model = Model(input,output)\n",
        "    \n",
        "    optimizer = Adam(lr=0.0005, beta_1=0.9, beta_2=0.999, epsilon=0.1, decay=0.0)\n",
        "    model.compile(loss='categorical_crossentropy', optimizer=optimizer, metrics=['accuracy'])\n",
        "    model.summary()\n",
        "    \n",
        "    return model"
      ]
    },
    {
      "cell_type": "code",
      "execution_count": 8,
      "metadata": {
        "colab": {
          "base_uri": "https://localhost:8080/"
        },
        "id": "m_-W-Ck6H2Yk",
        "outputId": "acf71d2b-bc42-4bd6-eda5-1e4e0d0c7b07"
      },
      "outputs": [
        {
          "output_type": "stream",
          "name": "stdout",
          "text": [
            "Downloading data from https://storage.googleapis.com/tensorflow/keras-applications/resnet/resnet101_weights_tf_dim_ordering_tf_kernels_notop.h5\n",
            "171446536/171446536 [==============================] - 10s 0us/step\n",
            "Model: \"model\"\n",
            "_________________________________________________________________\n",
            " Layer (type)                Output Shape              Param #   \n",
            "=================================================================\n",
            " input_2 (InputLayer)        [(None, 224, 224, 3)]     0         \n",
            "                                                                 \n",
            " conv2d (Conv2D)             (None, 224, 224, 3)       84        \n",
            "                                                                 \n",
            " resnet101 (Functional)      (None, None, None, 2048)  42658176  \n",
            "                                                                 \n",
            " global_average_pooling2d (G  (None, 2048)             0         \n",
            " lobalAveragePooling2D)                                          \n",
            "                                                                 \n",
            " batch_normalization (BatchN  (None, 2048)             8192      \n",
            " ormalization)                                                   \n",
            "                                                                 \n",
            " dropout (Dropout)           (None, 2048)              0         \n",
            "                                                                 \n",
            " dense (Dense)               (None, 1024)              2098176   \n",
            "                                                                 \n",
            " dense_1 (Dense)             (None, 512)               524800    \n",
            "                                                                 \n",
            " batch_normalization_1 (Batc  (None, 512)              2048      \n",
            " hNormalization)                                                 \n",
            "                                                                 \n",
            " dropout_1 (Dropout)         (None, 512)               0         \n",
            "                                                                 \n",
            " root (Dense)                (None, 2)                 1026      \n",
            "                                                                 \n",
            "=================================================================\n",
            "Total params: 45,292,502\n",
            "Trainable params: 45,182,038\n",
            "Non-trainable params: 110,464\n",
            "_________________________________________________________________\n"
          ]
        },
        {
          "output_type": "stream",
          "name": "stderr",
          "text": [
            "/usr/local/lib/python3.8/dist-packages/keras/optimizers/optimizer_v2/adam.py:110: UserWarning: The `lr` argument is deprecated, use `learning_rate` instead.\n",
            "  super(Adam, self).__init__(name, **kwargs)\n"
          ]
        }
      ],
      "source": [
        "model = build_resnet101()\n",
        "annealer = ReduceLROnPlateau(monitor='val_accuracy', factor=0.70, patience=5, verbose=1, min_lr=1e-4)\n",
        "checkpoint = ModelCheckpoint('ResNet101_Model.hdf5', verbose=1, save_best_only=True)\n",
        "datagen = ImageDataGenerator(rotation_range=360, \n",
        "                        width_shift_range=0.2, \n",
        "                        height_shift_range=0.2,\n",
        "                        zoom_range=0.2, \n",
        "                        horizontal_flip=True, \n",
        "                        vertical_flip=True) \n",
        "\n",
        "datagen.fit(X_train)"
      ]
    },
    {
      "cell_type": "code",
      "execution_count": 9,
      "metadata": {
        "colab": {
          "base_uri": "https://localhost:8080/"
        },
        "id": "KpsDnAPAH8wW",
        "outputId": "69512936-e585-4c23-9f75-99b19cfe5db2"
      },
      "outputs": [
        {
          "output_type": "stream",
          "name": "stderr",
          "text": [
            "<ipython-input-9-c4089a8f5804>:2: UserWarning: `Model.fit_generator` is deprecated and will be removed in a future version. Please use `Model.fit`, which supports generators.\n",
            "  history = model.fit_generator(datagen.flow(X_train, y_train, batch_size=BATCH_SIZE),\n"
          ]
        },
        {
          "output_type": "stream",
          "name": "stdout",
          "text": [
            "Epoch 1/100\n",
            "10/10 [==============================] - ETA: 0s - loss: 1.2252 - accuracy: 0.5700\n",
            "Epoch 1: val_loss improved from inf to 0.68678, saving model to ResNet101_Model.hdf5\n",
            "10/10 [==============================] - 45s 3s/step - loss: 1.2252 - accuracy: 0.5700 - val_loss: 0.6868 - val_accuracy: 0.5870 - lr: 5.0000e-04\n",
            "Epoch 2/100\n",
            "10/10 [==============================] - ETA: 0s - loss: 1.1931 - accuracy: 0.5150\n",
            "Epoch 2: val_loss improved from 0.68678 to 0.62467, saving model to ResNet101_Model.hdf5\n",
            "10/10 [==============================] - 9s 946ms/step - loss: 1.1931 - accuracy: 0.5150 - val_loss: 0.6247 - val_accuracy: 0.6440 - lr: 5.0000e-04\n",
            "Epoch 3/100\n",
            "10/10 [==============================] - ETA: 0s - loss: 0.9883 - accuracy: 0.6200\n",
            "Epoch 3: val_loss improved from 0.62467 to 0.54650, saving model to ResNet101_Model.hdf5\n",
            "10/10 [==============================] - 10s 1s/step - loss: 0.9883 - accuracy: 0.6200 - val_loss: 0.5465 - val_accuracy: 0.7391 - lr: 5.0000e-04\n",
            "Epoch 4/100\n",
            "10/10 [==============================] - ETA: 0s - loss: 0.7603 - accuracy: 0.6615\n",
            "Epoch 4: val_loss improved from 0.54650 to 0.48951, saving model to ResNet101_Model.hdf5\n",
            "10/10 [==============================] - 10s 1s/step - loss: 0.7603 - accuracy: 0.6615 - val_loss: 0.4895 - val_accuracy: 0.7690 - lr: 5.0000e-04\n",
            "Epoch 5/100\n",
            "10/10 [==============================] - ETA: 0s - loss: 0.7364 - accuracy: 0.7550\n",
            "Epoch 5: val_loss improved from 0.48951 to 0.43614, saving model to ResNet101_Model.hdf5\n",
            "10/10 [==============================] - 9s 931ms/step - loss: 0.7364 - accuracy: 0.7550 - val_loss: 0.4361 - val_accuracy: 0.8016 - lr: 5.0000e-04\n",
            "Epoch 6/100\n",
            "10/10 [==============================] - ETA: 0s - loss: 0.6867 - accuracy: 0.6979\n",
            "Epoch 6: val_loss improved from 0.43614 to 0.39550, saving model to ResNet101_Model.hdf5\n",
            "10/10 [==============================] - 9s 934ms/step - loss: 0.6867 - accuracy: 0.6979 - val_loss: 0.3955 - val_accuracy: 0.8478 - lr: 5.0000e-04\n",
            "Epoch 7/100\n",
            "10/10 [==============================] - ETA: 0s - loss: 0.6233 - accuracy: 0.7600\n",
            "Epoch 7: val_loss improved from 0.39550 to 0.36188, saving model to ResNet101_Model.hdf5\n",
            "10/10 [==============================] - 9s 947ms/step - loss: 0.6233 - accuracy: 0.7600 - val_loss: 0.3619 - val_accuracy: 0.8587 - lr: 5.0000e-04\n",
            "Epoch 8/100\n",
            "10/10 [==============================] - ETA: 0s - loss: 0.5786 - accuracy: 0.7500\n",
            "Epoch 8: val_loss improved from 0.36188 to 0.35082, saving model to ResNet101_Model.hdf5\n",
            "10/10 [==============================] - 9s 949ms/step - loss: 0.5786 - accuracy: 0.7500 - val_loss: 0.3508 - val_accuracy: 0.8560 - lr: 5.0000e-04\n",
            "Epoch 9/100\n",
            "10/10 [==============================] - ETA: 0s - loss: 0.4509 - accuracy: 0.7950\n",
            "Epoch 9: val_loss improved from 0.35082 to 0.32922, saving model to ResNet101_Model.hdf5\n",
            "10/10 [==============================] - 10s 1s/step - loss: 0.4509 - accuracy: 0.7950 - val_loss: 0.3292 - val_accuracy: 0.8995 - lr: 5.0000e-04\n",
            "Epoch 10/100\n",
            "10/10 [==============================] - ETA: 0s - loss: 0.4615 - accuracy: 0.8050\n",
            "Epoch 10: val_loss improved from 0.32922 to 0.31945, saving model to ResNet101_Model.hdf5\n",
            "10/10 [==============================] - 9s 984ms/step - loss: 0.4615 - accuracy: 0.8050 - val_loss: 0.3194 - val_accuracy: 0.8886 - lr: 5.0000e-04\n",
            "Epoch 11/100\n",
            "10/10 [==============================] - ETA: 0s - loss: 0.4792 - accuracy: 0.8200\n",
            "Epoch 11: val_loss did not improve from 0.31945\n",
            "10/10 [==============================] - 6s 592ms/step - loss: 0.4792 - accuracy: 0.8200 - val_loss: 0.3285 - val_accuracy: 0.8832 - lr: 5.0000e-04\n",
            "Epoch 12/100\n",
            "10/10 [==============================] - ETA: 0s - loss: 0.5019 - accuracy: 0.8150\n",
            "Epoch 12: val_loss did not improve from 0.31945\n",
            "10/10 [==============================] - 7s 683ms/step - loss: 0.5019 - accuracy: 0.8150 - val_loss: 0.3328 - val_accuracy: 0.8560 - lr: 5.0000e-04\n",
            "Epoch 13/100\n",
            "10/10 [==============================] - ETA: 0s - loss: 0.4049 - accuracy: 0.8700\n",
            "Epoch 13: val_loss did not improve from 0.31945\n",
            "10/10 [==============================] - 7s 678ms/step - loss: 0.4049 - accuracy: 0.8700 - val_loss: 0.3310 - val_accuracy: 0.8668 - lr: 5.0000e-04\n",
            "Epoch 14/100\n",
            "10/10 [==============================] - ETA: 0s - loss: 0.3020 - accuracy: 0.8800\n",
            "Epoch 14: ReduceLROnPlateau reducing learning rate to 0.00035000001662410796.\n",
            "\n",
            "Epoch 14: val_loss improved from 0.31945 to 0.31821, saving model to ResNet101_Model.hdf5\n",
            "10/10 [==============================] - 10s 975ms/step - loss: 0.3020 - accuracy: 0.8800 - val_loss: 0.3182 - val_accuracy: 0.8668 - lr: 5.0000e-04\n",
            "Epoch 15/100\n",
            "10/10 [==============================] - ETA: 0s - loss: 0.3740 - accuracy: 0.8750\n",
            "Epoch 15: val_loss improved from 0.31821 to 0.28655, saving model to ResNet101_Model.hdf5\n",
            "10/10 [==============================] - 9s 969ms/step - loss: 0.3740 - accuracy: 0.8750 - val_loss: 0.2865 - val_accuracy: 0.8832 - lr: 3.5000e-04\n",
            "Epoch 16/100\n",
            "10/10 [==============================] - ETA: 0s - loss: 0.3853 - accuracy: 0.8800\n",
            "Epoch 16: val_loss improved from 0.28655 to 0.26762, saving model to ResNet101_Model.hdf5\n",
            "10/10 [==============================] - 10s 993ms/step - loss: 0.3853 - accuracy: 0.8800 - val_loss: 0.2676 - val_accuracy: 0.9049 - lr: 3.5000e-04\n",
            "Epoch 17/100\n",
            "10/10 [==============================] - ETA: 0s - loss: 0.4993 - accuracy: 0.8550\n",
            "Epoch 17: val_loss improved from 0.26762 to 0.25879, saving model to ResNet101_Model.hdf5\n",
            "10/10 [==============================] - 10s 985ms/step - loss: 0.4993 - accuracy: 0.8550 - val_loss: 0.2588 - val_accuracy: 0.9158 - lr: 3.5000e-04\n",
            "Epoch 18/100\n",
            "10/10 [==============================] - ETA: 0s - loss: 0.2389 - accuracy: 0.9100\n",
            "Epoch 18: val_loss improved from 0.25879 to 0.23957, saving model to ResNet101_Model.hdf5\n",
            "10/10 [==============================] - 10s 1s/step - loss: 0.2389 - accuracy: 0.9100 - val_loss: 0.2396 - val_accuracy: 0.9239 - lr: 3.5000e-04\n",
            "Epoch 19/100\n",
            "10/10 [==============================] - ETA: 0s - loss: 0.2317 - accuracy: 0.9250\n",
            "Epoch 19: val_loss improved from 0.23957 to 0.23125, saving model to ResNet101_Model.hdf5\n",
            "10/10 [==============================] - 10s 988ms/step - loss: 0.2317 - accuracy: 0.9250 - val_loss: 0.2313 - val_accuracy: 0.9266 - lr: 3.5000e-04\n",
            "Epoch 20/100\n",
            "10/10 [==============================] - ETA: 0s - loss: 0.3704 - accuracy: 0.8600\n",
            "Epoch 20: val_loss did not improve from 0.23125\n",
            "10/10 [==============================] - 6s 620ms/step - loss: 0.3704 - accuracy: 0.8600 - val_loss: 0.2393 - val_accuracy: 0.9266 - lr: 3.5000e-04\n",
            "Epoch 21/100\n",
            "10/10 [==============================] - ETA: 0s - loss: 0.3484 - accuracy: 0.8900\n",
            "Epoch 21: val_loss did not improve from 0.23125\n",
            "10/10 [==============================] - 7s 692ms/step - loss: 0.3484 - accuracy: 0.8900 - val_loss: 0.2353 - val_accuracy: 0.9293 - lr: 3.5000e-04\n",
            "Epoch 22/100\n",
            "10/10 [==============================] - ETA: 0s - loss: 0.2081 - accuracy: 0.9200\n",
            "Epoch 22: val_loss did not improve from 0.23125\n",
            "10/10 [==============================] - 7s 693ms/step - loss: 0.2081 - accuracy: 0.9200 - val_loss: 0.2319 - val_accuracy: 0.9293 - lr: 3.5000e-04\n",
            "Epoch 23/100\n",
            "10/10 [==============================] - ETA: 0s - loss: 0.3888 - accuracy: 0.8600\n",
            "Epoch 23: val_loss improved from 0.23125 to 0.22597, saving model to ResNet101_Model.hdf5\n",
            "10/10 [==============================] - 10s 993ms/step - loss: 0.3888 - accuracy: 0.8600 - val_loss: 0.2260 - val_accuracy: 0.9076 - lr: 3.5000e-04\n",
            "Epoch 24/100\n",
            "10/10 [==============================] - ETA: 0s - loss: 0.3544 - accuracy: 0.9250\n",
            "Epoch 24: val_loss improved from 0.22597 to 0.19254, saving model to ResNet101_Model.hdf5\n",
            "10/10 [==============================] - 10s 1s/step - loss: 0.3544 - accuracy: 0.9250 - val_loss: 0.1925 - val_accuracy: 0.9457 - lr: 3.5000e-04\n",
            "Epoch 25/100\n",
            "10/10 [==============================] - ETA: 0s - loss: 0.3631 - accuracy: 0.9010\n",
            "Epoch 25: val_loss improved from 0.19254 to 0.18853, saving model to ResNet101_Model.hdf5\n",
            "10/10 [==============================] - 9s 969ms/step - loss: 0.3631 - accuracy: 0.9010 - val_loss: 0.1885 - val_accuracy: 0.9402 - lr: 3.5000e-04\n",
            "Epoch 26/100\n",
            "10/10 [==============================] - ETA: 0s - loss: 0.3005 - accuracy: 0.9200\n",
            "Epoch 26: val_loss improved from 0.18853 to 0.18674, saving model to ResNet101_Model.hdf5\n",
            "10/10 [==============================] - 10s 987ms/step - loss: 0.3005 - accuracy: 0.9200 - val_loss: 0.1867 - val_accuracy: 0.9348 - lr: 3.5000e-04\n",
            "Epoch 27/100\n",
            "10/10 [==============================] - ETA: 0s - loss: 0.2844 - accuracy: 0.9000\n",
            "Epoch 27: val_loss improved from 0.18674 to 0.17849, saving model to ResNet101_Model.hdf5\n",
            "10/10 [==============================] - 10s 990ms/step - loss: 0.2844 - accuracy: 0.9000 - val_loss: 0.1785 - val_accuracy: 0.9402 - lr: 3.5000e-04\n",
            "Epoch 28/100\n",
            "10/10 [==============================] - ETA: 0s - loss: 0.2503 - accuracy: 0.9300\n",
            "Epoch 28: val_loss did not improve from 0.17849\n",
            "10/10 [==============================] - 6s 619ms/step - loss: 0.2503 - accuracy: 0.9300 - val_loss: 0.1823 - val_accuracy: 0.9429 - lr: 3.5000e-04\n",
            "Epoch 29/100\n",
            "10/10 [==============================] - ETA: 0s - loss: 0.2797 - accuracy: 0.9100\n",
            "Epoch 29: ReduceLROnPlateau reducing learning rate to 0.00024500001163687554.\n",
            "\n",
            "Epoch 29: val_loss did not improve from 0.17849\n",
            "10/10 [==============================] - 6s 621ms/step - loss: 0.2797 - accuracy: 0.9100 - val_loss: 0.1847 - val_accuracy: 0.9375 - lr: 3.5000e-04\n",
            "Epoch 30/100\n",
            "10/10 [==============================] - ETA: 0s - loss: 0.2496 - accuracy: 0.9100\n",
            "Epoch 30: val_loss did not improve from 0.17849\n",
            "10/10 [==============================] - 6s 625ms/step - loss: 0.2496 - accuracy: 0.9100 - val_loss: 0.1912 - val_accuracy: 0.9402 - lr: 2.4500e-04\n",
            "Epoch 31/100\n",
            "10/10 [==============================] - ETA: 0s - loss: 0.2768 - accuracy: 0.9250\n",
            "Epoch 31: val_loss did not improve from 0.17849\n",
            "10/10 [==============================] - 6s 624ms/step - loss: 0.2768 - accuracy: 0.9250 - val_loss: 0.1836 - val_accuracy: 0.9402 - lr: 2.4500e-04\n",
            "Epoch 32/100\n",
            "10/10 [==============================] - ETA: 0s - loss: 0.3457 - accuracy: 0.9219\n",
            "Epoch 32: val_loss improved from 0.17849 to 0.17801, saving model to ResNet101_Model.hdf5\n",
            "10/10 [==============================] - 15s 2s/step - loss: 0.3457 - accuracy: 0.9219 - val_loss: 0.1780 - val_accuracy: 0.9457 - lr: 2.4500e-04\n",
            "Epoch 33/100\n",
            "10/10 [==============================] - ETA: 0s - loss: 0.2042 - accuracy: 0.9450\n",
            "Epoch 33: val_loss improved from 0.17801 to 0.17790, saving model to ResNet101_Model.hdf5\n",
            "10/10 [==============================] - 10s 1s/step - loss: 0.2042 - accuracy: 0.9450 - val_loss: 0.1779 - val_accuracy: 0.9429 - lr: 2.4500e-04\n",
            "Epoch 34/100\n",
            "10/10 [==============================] - ETA: 0s - loss: 0.1648 - accuracy: 0.9600\n",
            "Epoch 34: val_loss improved from 0.17790 to 0.16535, saving model to ResNet101_Model.hdf5\n",
            "10/10 [==============================] - 10s 985ms/step - loss: 0.1648 - accuracy: 0.9600 - val_loss: 0.1653 - val_accuracy: 0.9484 - lr: 2.4500e-04\n",
            "Epoch 35/100\n",
            "10/10 [==============================] - ETA: 0s - loss: 0.1944 - accuracy: 0.9450\n",
            "Epoch 35: val_loss improved from 0.16535 to 0.15956, saving model to ResNet101_Model.hdf5\n",
            "10/10 [==============================] - 10s 984ms/step - loss: 0.1944 - accuracy: 0.9450 - val_loss: 0.1596 - val_accuracy: 0.9457 - lr: 2.4500e-04\n",
            "Epoch 36/100\n",
            "10/10 [==============================] - ETA: 0s - loss: 0.2847 - accuracy: 0.9350\n",
            "Epoch 36: val_loss improved from 0.15956 to 0.15297, saving model to ResNet101_Model.hdf5\n",
            "10/10 [==============================] - 10s 1s/step - loss: 0.2847 - accuracy: 0.9350 - val_loss: 0.1530 - val_accuracy: 0.9402 - lr: 2.4500e-04\n",
            "Epoch 37/100\n",
            "10/10 [==============================] - ETA: 0s - loss: 0.2372 - accuracy: 0.9250\n",
            "Epoch 37: val_loss did not improve from 0.15297\n",
            "10/10 [==============================] - 6s 623ms/step - loss: 0.2372 - accuracy: 0.9250 - val_loss: 0.1539 - val_accuracy: 0.9375 - lr: 2.4500e-04\n",
            "Epoch 38/100\n",
            "10/10 [==============================] - ETA: 0s - loss: 0.1949 - accuracy: 0.9450\n",
            "Epoch 38: val_loss did not improve from 0.15297\n",
            "10/10 [==============================] - 6s 630ms/step - loss: 0.1949 - accuracy: 0.9450 - val_loss: 0.1589 - val_accuracy: 0.9348 - lr: 2.4500e-04\n",
            "Epoch 39/100\n",
            "10/10 [==============================] - ETA: 0s - loss: 0.2929 - accuracy: 0.9167\n",
            "Epoch 39: ReduceLROnPlateau reducing learning rate to 0.00017150000203400848.\n",
            "\n",
            "Epoch 39: val_loss did not improve from 0.15297\n",
            "10/10 [==============================] - 6s 615ms/step - loss: 0.2929 - accuracy: 0.9167 - val_loss: 0.1633 - val_accuracy: 0.9321 - lr: 2.4500e-04\n",
            "Epoch 40/100\n",
            "10/10 [==============================] - ETA: 0s - loss: 0.2249 - accuracy: 0.9250\n",
            "Epoch 40: val_loss did not improve from 0.15297\n",
            "10/10 [==============================] - 6s 634ms/step - loss: 0.2249 - accuracy: 0.9250 - val_loss: 0.1610 - val_accuracy: 0.9321 - lr: 1.7150e-04\n",
            "Epoch 41/100\n",
            "10/10 [==============================] - ETA: 0s - loss: 0.2609 - accuracy: 0.9350\n",
            "Epoch 41: val_loss improved from 0.15297 to 0.14683, saving model to ResNet101_Model.hdf5\n",
            "10/10 [==============================] - 14s 2s/step - loss: 0.2609 - accuracy: 0.9350 - val_loss: 0.1468 - val_accuracy: 0.9484 - lr: 1.7150e-04\n",
            "Epoch 42/100\n",
            "10/10 [==============================] - ETA: 0s - loss: 0.1291 - accuracy: 0.9750\n",
            "Epoch 42: val_loss improved from 0.14683 to 0.14248, saving model to ResNet101_Model.hdf5\n",
            "10/10 [==============================] - 10s 984ms/step - loss: 0.1291 - accuracy: 0.9750 - val_loss: 0.1425 - val_accuracy: 0.9538 - lr: 1.7150e-04\n",
            "Epoch 43/100\n",
            "10/10 [==============================] - ETA: 0s - loss: 0.2612 - accuracy: 0.9100\n",
            "Epoch 43: val_loss improved from 0.14248 to 0.14185, saving model to ResNet101_Model.hdf5\n",
            "10/10 [==============================] - 10s 988ms/step - loss: 0.2612 - accuracy: 0.9100 - val_loss: 0.1418 - val_accuracy: 0.9511 - lr: 1.7150e-04\n",
            "Epoch 44/100\n",
            "10/10 [==============================] - ETA: 0s - loss: 0.2468 - accuracy: 0.9250\n",
            "Epoch 44: val_loss improved from 0.14185 to 0.13906, saving model to ResNet101_Model.hdf5\n",
            "10/10 [==============================] - 10s 1s/step - loss: 0.2468 - accuracy: 0.9250 - val_loss: 0.1391 - val_accuracy: 0.9538 - lr: 1.7150e-04\n",
            "Epoch 45/100\n",
            "10/10 [==============================] - ETA: 0s - loss: 0.2993 - accuracy: 0.9150\n",
            "Epoch 45: val_loss improved from 0.13906 to 0.13773, saving model to ResNet101_Model.hdf5\n",
            "10/10 [==============================] - 10s 1s/step - loss: 0.2993 - accuracy: 0.9150 - val_loss: 0.1377 - val_accuracy: 0.9538 - lr: 1.7150e-04\n",
            "Epoch 46/100\n",
            "10/10 [==============================] - ETA: 0s - loss: 0.2912 - accuracy: 0.9150\n",
            "Epoch 46: val_loss improved from 0.13773 to 0.13507, saving model to ResNet101_Model.hdf5\n",
            "10/10 [==============================] - 10s 1s/step - loss: 0.2912 - accuracy: 0.9150 - val_loss: 0.1351 - val_accuracy: 0.9565 - lr: 1.7150e-04\n",
            "Epoch 47/100\n",
            "10/10 [==============================] - ETA: 0s - loss: 0.3732 - accuracy: 0.8750\n",
            "Epoch 47: val_loss improved from 0.13507 to 0.12996, saving model to ResNet101_Model.hdf5\n",
            "10/10 [==============================] - 10s 1s/step - loss: 0.3732 - accuracy: 0.8750 - val_loss: 0.1300 - val_accuracy: 0.9592 - lr: 1.7150e-04\n",
            "Epoch 48/100\n",
            "10/10 [==============================] - ETA: 0s - loss: 0.1778 - accuracy: 0.9531\n",
            "Epoch 48: val_loss improved from 0.12996 to 0.12671, saving model to ResNet101_Model.hdf5\n",
            "10/10 [==============================] - 10s 1s/step - loss: 0.1778 - accuracy: 0.9531 - val_loss: 0.1267 - val_accuracy: 0.9620 - lr: 1.7150e-04\n",
            "Epoch 49/100\n",
            "10/10 [==============================] - ETA: 0s - loss: 0.1467 - accuracy: 0.9650\n",
            "Epoch 49: val_loss improved from 0.12671 to 0.12483, saving model to ResNet101_Model.hdf5\n",
            "10/10 [==============================] - 10s 998ms/step - loss: 0.1467 - accuracy: 0.9650 - val_loss: 0.1248 - val_accuracy: 0.9620 - lr: 1.7150e-04\n",
            "Epoch 50/100\n",
            "10/10 [==============================] - ETA: 0s - loss: 0.1292 - accuracy: 0.9650\n",
            "Epoch 50: val_loss improved from 0.12483 to 0.12052, saving model to ResNet101_Model.hdf5\n",
            "10/10 [==============================] - 10s 991ms/step - loss: 0.1292 - accuracy: 0.9650 - val_loss: 0.1205 - val_accuracy: 0.9647 - lr: 1.7150e-04\n",
            "Epoch 51/100\n",
            "10/10 [==============================] - ETA: 0s - loss: 0.1686 - accuracy: 0.9550\n",
            "Epoch 51: val_loss improved from 0.12052 to 0.11580, saving model to ResNet101_Model.hdf5\n",
            "10/10 [==============================] - 10s 987ms/step - loss: 0.1686 - accuracy: 0.9550 - val_loss: 0.1158 - val_accuracy: 0.9674 - lr: 1.7150e-04\n",
            "Epoch 52/100\n",
            "10/10 [==============================] - ETA: 0s - loss: 0.2056 - accuracy: 0.9550\n",
            "Epoch 52: val_loss improved from 0.11580 to 0.11569, saving model to ResNet101_Model.hdf5\n",
            "10/10 [==============================] - 10s 988ms/step - loss: 0.2056 - accuracy: 0.9550 - val_loss: 0.1157 - val_accuracy: 0.9701 - lr: 1.7150e-04\n",
            "Epoch 53/100\n",
            "10/10 [==============================] - ETA: 0s - loss: 0.2373 - accuracy: 0.9350\n",
            "Epoch 53: val_loss improved from 0.11569 to 0.11542, saving model to ResNet101_Model.hdf5\n",
            "10/10 [==============================] - 10s 986ms/step - loss: 0.2373 - accuracy: 0.9350 - val_loss: 0.1154 - val_accuracy: 0.9674 - lr: 1.7150e-04\n",
            "Epoch 54/100\n",
            "10/10 [==============================] - ETA: 0s - loss: 0.3017 - accuracy: 0.9150\n",
            "Epoch 54: val_loss did not improve from 0.11542\n",
            "10/10 [==============================] - 6s 618ms/step - loss: 0.3017 - accuracy: 0.9150 - val_loss: 0.1182 - val_accuracy: 0.9647 - lr: 1.7150e-04\n",
            "Epoch 55/100\n",
            "10/10 [==============================] - ETA: 0s - loss: 0.1887 - accuracy: 0.9200\n",
            "Epoch 55: val_loss did not improve from 0.11542\n",
            "10/10 [==============================] - 6s 630ms/step - loss: 0.1887 - accuracy: 0.9200 - val_loss: 0.1173 - val_accuracy: 0.9620 - lr: 1.7150e-04\n",
            "Epoch 56/100\n",
            "10/10 [==============================] - ETA: 0s - loss: 0.3083 - accuracy: 0.8950\n",
            "Epoch 56: val_loss did not improve from 0.11542\n",
            "10/10 [==============================] - 6s 620ms/step - loss: 0.3083 - accuracy: 0.8950 - val_loss: 0.1175 - val_accuracy: 0.9647 - lr: 1.7150e-04\n",
            "Epoch 57/100\n",
            "10/10 [==============================] - ETA: 0s - loss: 0.3368 - accuracy: 0.9000\n",
            "Epoch 57: ReduceLROnPlateau reducing learning rate to 0.00012004999734926967.\n",
            "\n",
            "Epoch 57: val_loss improved from 0.11542 to 0.11479, saving model to ResNet101_Model.hdf5\n",
            "10/10 [==============================] - 16s 2s/step - loss: 0.3368 - accuracy: 0.9000 - val_loss: 0.1148 - val_accuracy: 0.9701 - lr: 1.7150e-04\n",
            "Epoch 58/100\n",
            "10/10 [==============================] - ETA: 0s - loss: 0.2876 - accuracy: 0.9250\n",
            "Epoch 58: val_loss improved from 0.11479 to 0.11441, saving model to ResNet101_Model.hdf5\n",
            "10/10 [==============================] - 9s 979ms/step - loss: 0.2876 - accuracy: 0.9250 - val_loss: 0.1144 - val_accuracy: 0.9647 - lr: 1.2005e-04\n",
            "Epoch 59/100\n",
            "10/10 [==============================] - ETA: 0s - loss: 0.2448 - accuracy: 0.9550\n",
            "Epoch 59: val_loss improved from 0.11441 to 0.11211, saving model to ResNet101_Model.hdf5\n",
            "10/10 [==============================] - 9s 974ms/step - loss: 0.2448 - accuracy: 0.9550 - val_loss: 0.1121 - val_accuracy: 0.9674 - lr: 1.2005e-04\n",
            "Epoch 60/100\n",
            "10/10 [==============================] - ETA: 0s - loss: 0.3375 - accuracy: 0.9271\n",
            "Epoch 60: val_loss improved from 0.11211 to 0.10996, saving model to ResNet101_Model.hdf5\n",
            "10/10 [==============================] - 10s 996ms/step - loss: 0.3375 - accuracy: 0.9271 - val_loss: 0.1100 - val_accuracy: 0.9701 - lr: 1.2005e-04\n",
            "Epoch 61/100\n",
            "10/10 [==============================] - ETA: 0s - loss: 0.2122 - accuracy: 0.9450\n",
            "Epoch 61: val_loss improved from 0.10996 to 0.10708, saving model to ResNet101_Model.hdf5\n",
            "10/10 [==============================] - 10s 1s/step - loss: 0.2122 - accuracy: 0.9450 - val_loss: 0.1071 - val_accuracy: 0.9728 - lr: 1.2005e-04\n",
            "Epoch 62/100\n",
            "10/10 [==============================] - ETA: 0s - loss: 0.2783 - accuracy: 0.9300\n",
            "Epoch 62: val_loss improved from 0.10708 to 0.10537, saving model to ResNet101_Model.hdf5\n",
            "10/10 [==============================] - 10s 1s/step - loss: 0.2783 - accuracy: 0.9300 - val_loss: 0.1054 - val_accuracy: 0.9728 - lr: 1.2005e-04\n",
            "Epoch 63/100\n",
            "10/10 [==============================] - ETA: 0s - loss: 0.3403 - accuracy: 0.9200\n",
            "Epoch 63: val_loss improved from 0.10537 to 0.10476, saving model to ResNet101_Model.hdf5\n",
            "10/10 [==============================] - 10s 987ms/step - loss: 0.3403 - accuracy: 0.9200 - val_loss: 0.1048 - val_accuracy: 0.9728 - lr: 1.2005e-04\n",
            "Epoch 64/100\n",
            "10/10 [==============================] - ETA: 0s - loss: 0.2427 - accuracy: 0.9450\n",
            "Epoch 64: val_loss improved from 0.10476 to 0.10386, saving model to ResNet101_Model.hdf5\n",
            "10/10 [==============================] - 10s 983ms/step - loss: 0.2427 - accuracy: 0.9450 - val_loss: 0.1039 - val_accuracy: 0.9728 - lr: 1.2005e-04\n",
            "Epoch 65/100\n",
            "10/10 [==============================] - ETA: 0s - loss: 0.2111 - accuracy: 0.9500\n",
            "Epoch 65: val_loss improved from 0.10386 to 0.10275, saving model to ResNet101_Model.hdf5\n",
            "10/10 [==============================] - 10s 1s/step - loss: 0.2111 - accuracy: 0.9500 - val_loss: 0.1027 - val_accuracy: 0.9728 - lr: 1.2005e-04\n",
            "Epoch 66/100\n",
            "10/10 [==============================] - ETA: 0s - loss: 0.2975 - accuracy: 0.9100\n",
            "Epoch 66: ReduceLROnPlateau reducing learning rate to 0.0001.\n",
            "\n",
            "Epoch 66: val_loss improved from 0.10275 to 0.10246, saving model to ResNet101_Model.hdf5\n",
            "10/10 [==============================] - 10s 1s/step - loss: 0.2975 - accuracy: 0.9100 - val_loss: 0.1025 - val_accuracy: 0.9728 - lr: 1.2005e-04\n",
            "Epoch 67/100\n",
            "10/10 [==============================] - ETA: 0s - loss: 0.2856 - accuracy: 0.9350\n",
            "Epoch 67: val_loss improved from 0.10246 to 0.10216, saving model to ResNet101_Model.hdf5\n",
            "10/10 [==============================] - 10s 997ms/step - loss: 0.2856 - accuracy: 0.9350 - val_loss: 0.1022 - val_accuracy: 0.9728 - lr: 1.0000e-04\n",
            "Epoch 68/100\n",
            "10/10 [==============================] - ETA: 0s - loss: 0.2345 - accuracy: 0.9450\n",
            "Epoch 68: val_loss did not improve from 0.10216\n",
            "10/10 [==============================] - 7s 693ms/step - loss: 0.2345 - accuracy: 0.9450 - val_loss: 0.1034 - val_accuracy: 0.9728 - lr: 1.0000e-04\n",
            "Epoch 69/100\n",
            "10/10 [==============================] - ETA: 0s - loss: 0.3282 - accuracy: 0.9250\n",
            "Epoch 69: val_loss did not improve from 0.10216\n",
            "10/10 [==============================] - 6s 615ms/step - loss: 0.3282 - accuracy: 0.9250 - val_loss: 0.1030 - val_accuracy: 0.9728 - lr: 1.0000e-04\n",
            "Epoch 70/100\n",
            "10/10 [==============================] - ETA: 0s - loss: 0.1738 - accuracy: 0.9350\n",
            "Epoch 70: val_loss did not improve from 0.10216\n",
            "10/10 [==============================] - 6s 616ms/step - loss: 0.1738 - accuracy: 0.9350 - val_loss: 0.1031 - val_accuracy: 0.9728 - lr: 1.0000e-04\n",
            "Epoch 71/100\n",
            "10/10 [==============================] - ETA: 0s - loss: 0.2778 - accuracy: 0.9250\n",
            "Epoch 71: val_loss did not improve from 0.10216\n",
            "10/10 [==============================] - 6s 611ms/step - loss: 0.2778 - accuracy: 0.9250 - val_loss: 0.1033 - val_accuracy: 0.9701 - lr: 1.0000e-04\n",
            "Epoch 72/100\n",
            "10/10 [==============================] - ETA: 0s - loss: 0.1313 - accuracy: 0.9688\n",
            "Epoch 72: val_loss did not improve from 0.10216\n",
            "10/10 [==============================] - 6s 599ms/step - loss: 0.1313 - accuracy: 0.9688 - val_loss: 0.1024 - val_accuracy: 0.9701 - lr: 1.0000e-04\n",
            "Epoch 73/100\n",
            "10/10 [==============================] - ETA: 0s - loss: 0.2171 - accuracy: 0.9500\n",
            "Epoch 73: val_loss improved from 0.10216 to 0.10215, saving model to ResNet101_Model.hdf5\n",
            "10/10 [==============================] - 9s 987ms/step - loss: 0.2171 - accuracy: 0.9500 - val_loss: 0.1021 - val_accuracy: 0.9701 - lr: 1.0000e-04\n",
            "Epoch 74/100\n",
            "10/10 [==============================] - ETA: 0s - loss: 0.2560 - accuracy: 0.9200\n",
            "Epoch 74: val_loss improved from 0.10215 to 0.10205, saving model to ResNet101_Model.hdf5\n",
            "10/10 [==============================] - 10s 991ms/step - loss: 0.2560 - accuracy: 0.9200 - val_loss: 0.1020 - val_accuracy: 0.9701 - lr: 1.0000e-04\n",
            "Epoch 75/100\n",
            "10/10 [==============================] - ETA: 0s - loss: 0.1778 - accuracy: 0.9350\n",
            "Epoch 75: val_loss did not improve from 0.10205\n",
            "10/10 [==============================] - 6s 611ms/step - loss: 0.1778 - accuracy: 0.9350 - val_loss: 0.1023 - val_accuracy: 0.9701 - lr: 1.0000e-04\n",
            "Epoch 76/100\n",
            "10/10 [==============================] - ETA: 0s - loss: 0.1718 - accuracy: 0.9650\n",
            "Epoch 76: val_loss improved from 0.10205 to 0.10112, saving model to ResNet101_Model.hdf5\n",
            "10/10 [==============================] - 10s 990ms/step - loss: 0.1718 - accuracy: 0.9650 - val_loss: 0.1011 - val_accuracy: 0.9701 - lr: 1.0000e-04\n",
            "Epoch 77/100\n",
            "10/10 [==============================] - ETA: 0s - loss: 0.2578 - accuracy: 0.9350\n",
            "Epoch 77: val_loss improved from 0.10112 to 0.09958, saving model to ResNet101_Model.hdf5\n",
            "10/10 [==============================] - 10s 988ms/step - loss: 0.2578 - accuracy: 0.9350 - val_loss: 0.0996 - val_accuracy: 0.9701 - lr: 1.0000e-04\n",
            "Epoch 78/100\n",
            "10/10 [==============================] - ETA: 0s - loss: 0.1775 - accuracy: 0.9500\n",
            "Epoch 78: val_loss improved from 0.09958 to 0.09933, saving model to ResNet101_Model.hdf5\n",
            "10/10 [==============================] - 10s 992ms/step - loss: 0.1775 - accuracy: 0.9500 - val_loss: 0.0993 - val_accuracy: 0.9701 - lr: 1.0000e-04\n",
            "Epoch 79/100\n",
            "10/10 [==============================] - ETA: 0s - loss: 0.2348 - accuracy: 0.9550\n",
            "Epoch 79: val_loss improved from 0.09933 to 0.09860, saving model to ResNet101_Model.hdf5\n",
            "10/10 [==============================] - 10s 1s/step - loss: 0.2348 - accuracy: 0.9550 - val_loss: 0.0986 - val_accuracy: 0.9701 - lr: 1.0000e-04\n",
            "Epoch 80/100\n",
            "10/10 [==============================] - ETA: 0s - loss: 0.1340 - accuracy: 0.9400\n",
            "Epoch 80: val_loss improved from 0.09860 to 0.09765, saving model to ResNet101_Model.hdf5\n",
            "10/10 [==============================] - 10s 983ms/step - loss: 0.1340 - accuracy: 0.9400 - val_loss: 0.0976 - val_accuracy: 0.9701 - lr: 1.0000e-04\n",
            "Epoch 81/100\n",
            "10/10 [==============================] - ETA: 0s - loss: 0.2976 - accuracy: 0.9200\n",
            "Epoch 81: val_loss did not improve from 0.09765\n",
            "10/10 [==============================] - 6s 617ms/step - loss: 0.2976 - accuracy: 0.9200 - val_loss: 0.0987 - val_accuracy: 0.9701 - lr: 1.0000e-04\n",
            "Epoch 82/100\n",
            "10/10 [==============================] - ETA: 0s - loss: 0.2624 - accuracy: 0.9200\n",
            "Epoch 82: val_loss did not improve from 0.09765\n",
            "10/10 [==============================] - 6s 623ms/step - loss: 0.2624 - accuracy: 0.9200 - val_loss: 0.0998 - val_accuracy: 0.9701 - lr: 1.0000e-04\n",
            "Epoch 83/100\n",
            "10/10 [==============================] - ETA: 0s - loss: 0.1232 - accuracy: 0.9400\n",
            "Epoch 83: val_loss did not improve from 0.09765\n",
            "10/10 [==============================] - 7s 690ms/step - loss: 0.1232 - accuracy: 0.9400 - val_loss: 0.0993 - val_accuracy: 0.9701 - lr: 1.0000e-04\n",
            "Epoch 84/100\n",
            "10/10 [==============================] - ETA: 0s - loss: 0.1020 - accuracy: 0.9800\n",
            "Epoch 84: val_loss did not improve from 0.09765\n",
            "10/10 [==============================] - 6s 615ms/step - loss: 0.1020 - accuracy: 0.9800 - val_loss: 0.0985 - val_accuracy: 0.9701 - lr: 1.0000e-04\n",
            "Epoch 85/100\n",
            "10/10 [==============================] - ETA: 0s - loss: 0.3072 - accuracy: 0.9167\n",
            "Epoch 85: val_loss did not improve from 0.09765\n",
            "10/10 [==============================] - 6s 608ms/step - loss: 0.3072 - accuracy: 0.9167 - val_loss: 0.0989 - val_accuracy: 0.9701 - lr: 1.0000e-04\n",
            "Epoch 86/100\n",
            "10/10 [==============================] - ETA: 0s - loss: 0.1385 - accuracy: 0.9350\n",
            "Epoch 86: val_loss did not improve from 0.09765\n",
            "10/10 [==============================] - 6s 616ms/step - loss: 0.1385 - accuracy: 0.9350 - val_loss: 0.0983 - val_accuracy: 0.9701 - lr: 1.0000e-04\n",
            "Epoch 87/100\n",
            "10/10 [==============================] - ETA: 0s - loss: 0.2932 - accuracy: 0.9250\n",
            "Epoch 87: val_loss improved from 0.09765 to 0.09743, saving model to ResNet101_Model.hdf5\n",
            "10/10 [==============================] - 16s 2s/step - loss: 0.2932 - accuracy: 0.9250 - val_loss: 0.0974 - val_accuracy: 0.9701 - lr: 1.0000e-04\n",
            "Epoch 88/100\n",
            "10/10 [==============================] - ETA: 0s - loss: 0.1924 - accuracy: 0.9450\n",
            "Epoch 88: val_loss improved from 0.09743 to 0.09725, saving model to ResNet101_Model.hdf5\n",
            "10/10 [==============================] - 10s 1s/step - loss: 0.1924 - accuracy: 0.9450 - val_loss: 0.0972 - val_accuracy: 0.9701 - lr: 1.0000e-04\n",
            "Epoch 89/100\n",
            "10/10 [==============================] - ETA: 0s - loss: 0.1923 - accuracy: 0.9400\n",
            "Epoch 89: val_loss did not improve from 0.09725\n",
            "10/10 [==============================] - 6s 617ms/step - loss: 0.1923 - accuracy: 0.9400 - val_loss: 0.0977 - val_accuracy: 0.9701 - lr: 1.0000e-04\n",
            "Epoch 90/100\n",
            "10/10 [==============================] - ETA: 0s - loss: 0.3513 - accuracy: 0.9000\n",
            "Epoch 90: val_loss did not improve from 0.09725\n",
            "10/10 [==============================] - 6s 626ms/step - loss: 0.3513 - accuracy: 0.9000 - val_loss: 0.0981 - val_accuracy: 0.9701 - lr: 1.0000e-04\n",
            "Epoch 91/100\n",
            "10/10 [==============================] - ETA: 0s - loss: 0.1534 - accuracy: 0.9531\n",
            "Epoch 91: val_loss did not improve from 0.09725\n",
            "10/10 [==============================] - 6s 618ms/step - loss: 0.1534 - accuracy: 0.9531 - val_loss: 0.0982 - val_accuracy: 0.9701 - lr: 1.0000e-04\n",
            "Epoch 92/100\n",
            "10/10 [==============================] - ETA: 0s - loss: 0.2169 - accuracy: 0.9450\n",
            "Epoch 92: val_loss did not improve from 0.09725\n",
            "10/10 [==============================] - 6s 627ms/step - loss: 0.2169 - accuracy: 0.9450 - val_loss: 0.0981 - val_accuracy: 0.9701 - lr: 1.0000e-04\n",
            "Epoch 93/100\n",
            "10/10 [==============================] - ETA: 0s - loss: 0.1992 - accuracy: 0.9450\n",
            "Epoch 93: val_loss did not improve from 0.09725\n",
            "10/10 [==============================] - 7s 693ms/step - loss: 0.1992 - accuracy: 0.9450 - val_loss: 0.0973 - val_accuracy: 0.9701 - lr: 1.0000e-04\n",
            "Epoch 94/100\n",
            "10/10 [==============================] - ETA: 0s - loss: 0.4315 - accuracy: 0.8850\n",
            "Epoch 94: val_loss did not improve from 0.09725\n",
            "10/10 [==============================] - 6s 623ms/step - loss: 0.4315 - accuracy: 0.8850 - val_loss: 0.0990 - val_accuracy: 0.9701 - lr: 1.0000e-04\n",
            "Epoch 95/100\n",
            "10/10 [==============================] - ETA: 0s - loss: 0.2776 - accuracy: 0.9200\n",
            "Epoch 95: val_loss did not improve from 0.09725\n",
            "10/10 [==============================] - 7s 766ms/step - loss: 0.2776 - accuracy: 0.9200 - val_loss: 0.1001 - val_accuracy: 0.9728 - lr: 1.0000e-04\n",
            "Epoch 96/100\n",
            "10/10 [==============================] - ETA: 0s - loss: 0.2111 - accuracy: 0.9450\n",
            "Epoch 96: val_loss did not improve from 0.09725\n",
            "10/10 [==============================] - 6s 613ms/step - loss: 0.2111 - accuracy: 0.9450 - val_loss: 0.1004 - val_accuracy: 0.9728 - lr: 1.0000e-04\n",
            "Epoch 97/100\n",
            "10/10 [==============================] - ETA: 0s - loss: 0.2832 - accuracy: 0.9150\n",
            "Epoch 97: val_loss did not improve from 0.09725\n",
            "10/10 [==============================] - 6s 604ms/step - loss: 0.2832 - accuracy: 0.9150 - val_loss: 0.0987 - val_accuracy: 0.9728 - lr: 1.0000e-04\n",
            "Epoch 98/100\n",
            "10/10 [==============================] - ETA: 0s - loss: 0.1549 - accuracy: 0.9635\n",
            "Epoch 98: val_loss did not improve from 0.09725\n",
            "10/10 [==============================] - 7s 672ms/step - loss: 0.1549 - accuracy: 0.9635 - val_loss: 0.0993 - val_accuracy: 0.9728 - lr: 1.0000e-04\n",
            "Epoch 99/100\n",
            "10/10 [==============================] - ETA: 0s - loss: 0.3416 - accuracy: 0.9100\n",
            "Epoch 99: val_loss did not improve from 0.09725\n",
            "10/10 [==============================] - 7s 663ms/step - loss: 0.3416 - accuracy: 0.9100 - val_loss: 0.0997 - val_accuracy: 0.9728 - lr: 1.0000e-04\n",
            "Epoch 100/100\n",
            "10/10 [==============================] - ETA: 0s - loss: 0.0939 - accuracy: 0.9750\n",
            "Epoch 100: val_loss did not improve from 0.09725\n",
            "10/10 [==============================] - 7s 688ms/step - loss: 0.0939 - accuracy: 0.9750 - val_loss: 0.1009 - val_accuracy: 0.9728 - lr: 1.0000e-04\n"
          ]
        }
      ],
      "source": [
        "X_train.shape[0]\n",
        "history = model.fit_generator(datagen.flow(X_train, y_train, batch_size=BATCH_SIZE),\n",
        "               steps_per_epoch=10,\n",
        "               epochs=EPOCHS,\n",
        "               verbose=1,\n",
        "               callbacks=[annealer, checkpoint],\n",
        "               validation_data=(X_test, y_test))"
      ]
    },
    {
      "cell_type": "code",
      "execution_count": 10,
      "metadata": {
        "id": "q697O2--YwLc"
      },
      "outputs": [],
      "source": [
        "\n",
        "\n",
        "acc = history.history['accuracy']\n",
        "val_acc = history.history['val_accuracy']\n",
        "loss = history.history['loss']\n",
        "val_loss = history.history['val_loss']\n",
        "\n"
      ]
    },
    {
      "cell_type": "code",
      "execution_count": 11,
      "metadata": {
        "id": "23sMDcPKZCAy",
        "colab": {
          "base_uri": "https://localhost:8080/",
          "height": 298
        },
        "outputId": "bdd14d94-6c71-4f27-ec7d-7b8783e925b4"
      },
      "outputs": [
        {
          "output_type": "display_data",
          "data": {
            "text/plain": [
              "<Figure size 432x288 with 1 Axes>"
            ],
            "image/png": "[encoded data removed]"
          },
          "metadata": {
            "needs_background": "light"
          }
        },
        {
          "output_type": "display_data",
          "data": {
            "text/plain": [
              "<Figure size 432x288 with 0 Axes>"
            ]
          },
          "metadata": {}
        }
      ],
      "source": [
        "epochs = range(len(acc))\n",
        "plt.plot(epochs, acc, 'r', label='Training accuracy')\n",
        "plt.plot(epochs, val_acc, 'b', label='Validation accuracy')\n",
        "plt.title('TraiN & Val Acc VS Epochs')\n",
        "plt.legend(loc=0)\n",
        "plt.figure()\n",
        "plt.show()\n",
        "\n"
      ]
    },
    {
      "cell_type": "code",
      "execution_count": 12,
      "metadata": {
        "id": "jcxrVGl9ZDla",
        "colab": {
          "base_uri": "https://localhost:8080/",
          "height": 298
        },
        "outputId": "72a2d139-a03f-456c-bb83-0e00e56ffde5"
      },
      "outputs": [
        {
          "output_type": "display_data",
          "data": {
            "text/plain": [
              "<Figure size 432x288 with 1 Axes>"
            ],
            "image/png": "[encoded data removed]"
          },
          "metadata": {
            "needs_background": "light"
          }
        },
        {
          "output_type": "display_data",
          "data": {
            "text/plain": [
              "<Figure size 432x288 with 0 Axes>"
            ]
          },
          "metadata": {}
        }
      ],
      "source": [
        "epochs = range(len(acc))\n",
        "plt.plot(epochs, loss, 'r', label='Training Loss')\n",
        "plt.plot(epochs, val_loss, 'b', label='Validation Loss')\n",
        "plt.title('TraiN & Val Loss VS Epochs')\n",
        "plt.legend(loc=0)\n",
        "plt.figure()\n",
        "plt.show()"
      ]
    },
    {
      "cell_type": "code",
      "execution_count": 13,
      "metadata": {
        "id": "x0Qj8NOttdjX",
        "colab": {
          "base_uri": "https://localhost:8080/"
        },
        "outputId": "e067d8c4-2c5b-4b5d-ef32-8ce31c120549"
      },
      "outputs": [
        {
          "output_type": "stream",
          "name": "stdout",
          "text": [
            "12/12 [==============================] - 4s 166ms/step\n",
            "0.9728260869565217\n",
            "[[ 80   8]\n",
            " [  2 278]]\n",
            "              precision    recall  f1-score   support\n",
            "\n",
            "           0       0.98      0.91      0.94        88\n",
            "           1       0.97      0.99      0.98       280\n",
            "\n",
            "    accuracy                           0.97       368\n",
            "   macro avg       0.97      0.95      0.96       368\n",
            "weighted avg       0.97      0.97      0.97       368\n",
            "\n"
          ]
        }
      ],
      "source": [
        "from sklearn.metrics import accuracy_score\n",
        "from sklearn.metrics import classification_report\n",
        "import numpy as np\n",
        "\n",
        "pred = model.predict(X_test)\n",
        "rounded_labels_1 = np.argmax(pred, axis=1)\n",
        "rounded_labels_2 = np.argmax(y_test, axis=1)\n",
        "rounded_labels_1[1]\n",
        "rounded_labels_2[1]\n",
        "print(accuracy_score(rounded_labels_2,rounded_labels_1))\n",
        "print(confusion_matrix(rounded_labels_2,rounded_labels_1))\n",
        "print(classification_report(rounded_labels_2,rounded_labels_1,zero_division=1))"
      ]
    },
    {
      "cell_type": "code",
      "source": [
        "from sklearn.metrics import roc_curve, auc\n",
        "import matplotlib.pyplot as plt\n",
        "\n",
        "fpr, tpr, thresholds = roc_curve(rounded_labels_2, pred[:,1])\n",
        "roc_auc = auc(fpr, tpr)\n",
        "\n",
        "plt.figure()\n",
        "lw = 2\n",
        "plt.plot(fpr, tpr, color='darkorange',\n",
        "         lw=lw, label='ROC curve (area = %0.2f)' % roc_auc)\n",
        "plt.plot([0, 1], [0, 1], color='navy', lw=lw, linestyle='--')\n",
        "plt.xlim([0.0, 1.0])\n",
        "plt.ylim([0.0, 1.05])\n",
        "plt.xlabel('False Positive Rate')\n",
        "plt.ylabel('True Positive Rate')\n",
        "plt.title('Receiver operating characteristic example')\n",
        "plt.legend(loc=\"lower right\")\n",
        "plt.show()"
      ],
      "metadata": {
        "id": "sOmgnR2GcfSo",
        "colab": {
          "base_uri": "https://localhost:8080/",
          "height": 295
        },
        "outputId": "9f8f4533-2728-42aa-eedc-2671e8ef95d9"
      },
      "execution_count": 14,
      "outputs": [
        {
          "output_type": "display_data",
          "data": {
            "text/plain": [
              "<Figure size 432x288 with 1 Axes>"
            ],
            "image/png": "[encoded data removed]"
          },
          "metadata": {
            "needs_background": "light"
          }
        }
      ]
    },
    {
      "cell_type": "code",
      "source": [
        "from sklearn.metrics import roc_auc_score\n",
        "roc_auc = roc_auc_score(y_test, pred)\n",
        "print(\"AUC: \", roc_auc)"
      ],
      "metadata": {
        "id": "D1fEC-6bJg6b",
        "colab": {
          "base_uri": "https://localhost:8080/"
        },
        "outputId": "188dc923-0caa-4ac5-dbc4-26cafb090f35"
      },
      "execution_count": 15,
      "outputs": [
        {
          "output_type": "stream",
          "name": "stdout",
          "text": [
            "AUC:  0.9768262987012988\n"
          ]
        }
      ]
    },
    {
      "cell_type": "code",
      "execution_count": 16,
      "metadata": {
        "id": "fodqfo7NZE-5",
        "colab": {
          "base_uri": "https://localhost:8080/"
        },
        "outputId": "835d4a98-65ab-49d2-be09-b4c9aeddf5d4"
      },
      "outputs": [
        {
          "output_type": "stream",
          "name": "stderr",
          "text": [
            "WARNING:absl:Found untraced functions such as _jit_compiled_convolution_op, _jit_compiled_convolution_op, _jit_compiled_convolution_op, _jit_compiled_convolution_op, _jit_compiled_convolution_op while saving (showing 5 of 105). These functions will not be directly callable after loading.\n"
          ]
        },
        {
          "output_type": "stream",
          "name": "stdout",
          "text": [
            "12/12 [==============================] - 2s 150ms/step - loss: 0.0972 - accuracy: 0.9701\n",
            "Test Loss: 0.09724690765142441\n",
            "Test accuracy: 97.0108687877655\n"
          ]
        }
      ],
      "source": [
        "model.load_weights(\"ResNet101_Model.hdf5\")\n",
        "model.save(\"/content/drive/MyDrive/Model Saves/Resnet101 Heavy Cough\")\n",
        "score = model.evaluate(X_test,y_test ,verbose=1)\n",
        "print('Test Loss:', score[0])\n",
        "print('Test accuracy:', score[1]*100)"
      ]
    }
  ],
  "metadata": {
    "accelerator": "GPU",
    "colab": {
      "provenance": []
    },
    "gpuClass": "standard",
    "kernelspec": {
      "display_name": "Python 3",
      "name": "python3"
    },
    "language_info": {
      "name": "python"
    }
  },
  "nbformat": 4,
  "nbformat_minor": 0
}