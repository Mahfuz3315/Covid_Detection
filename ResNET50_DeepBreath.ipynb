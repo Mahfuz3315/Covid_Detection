{
  "cells": [
    {
      "cell_type": "code",
      "execution_count": 6,
      "metadata": {
        "id": "cZq8tiCL3He9"
      },
      "outputs": [],
      "source": [
        "import os\n",
        "import pandas as pd\n",
        "import numpy as np\n",
        "from tqdm import tqdm\n",
        "import keras\n",
        "from keras.utils.np_utils import to_categorical\n",
        "import cv2\n",
        "import tensorflow as tf\n",
        "from sklearn.model_selection import train_test_split\n",
        "from keras.layers import  Flatten, Dense, Dropout\n",
        "from tensorflow.keras.applications import VGG16\n",
        "from tensorflow.keras.applications import ResNet50\n",
        "from tensorflow.keras.applications import Xception\n",
        "from keras.callbacks import ModelCheckpoint, ReduceLROnPlateau\n",
        "from tensorflow.keras.layers import Input\n",
        "from keras.models import Model\n",
        "from keras import optimizers\n",
        "from tensorflow.keras.optimizers import Adam\n",
        "from keras.layers import Dense, GlobalAveragePooling2D\n",
        "from keras.layers import Dense, Dropout, Flatten, Conv2D, MaxPool2D, BatchNormalization, AveragePooling2D, GlobalAveragePooling2D\n",
        "import keras_preprocessing\n",
        "from keras_preprocessing import image\n",
        "from keras_preprocessing.image import ImageDataGenerator\n",
        "from keras import callbacks\n",
        "import matplotlib.pyplot as plt\n",
        "from sklearn.metrics import confusion_matrix\n",
        "import seaborn as sns\n",
        "from zipfile import ZipFile\n",
        "from sklearn import preprocessing\n",
        "import keras_preprocessing\n",
        "from keras_preprocessing import image\n",
        "from keras_preprocessing.image import ImageDataGenerator\n",
        "from keras import callbacks\n",
        "import matplotlib.pyplot as plt\n",
        "from sklearn.metrics import confusion_matrix\n",
        "import seaborn as sns\n",
        "from zipfile import ZipFile"
      ]
    },
    {
      "cell_type": "code",
      "execution_count": 2,
      "metadata": {
        "colab": {
          "base_uri": "https://localhost:8080/"
        },
        "id": "Ctjb1hOsrzLV",
        "outputId": "5906aa91-85ac-4098-8d55-bfa5e62b68ff"
      },
      "outputs": [
        {
          "output_type": "stream",
          "name": "stdout",
          "text": [
            "Mounted at /content/drive\n"
          ]
        }
      ],
      "source": [
        "from google.colab import drive\n",
        "drive.mount('/content/drive')"
      ]
    },
    {
      "cell_type": "code",
      "execution_count": 3,
      "metadata": {
        "colab": {
          "base_uri": "https://localhost:8080/"
        },
        "id": "JkYepAERrixq",
        "outputId": "1a739884-035b-473f-858a-bc9036734a85"
      },
      "outputs": [
        {
          "output_type": "stream",
          "name": "stderr",
          "text": [
            "100%|██████████| 56/56 [00:18<00:00,  3.01it/s]\n",
            "100%|██████████| 1343/1343 [00:39<00:00, 34.41it/s]\n"
          ]
        },
        {
          "output_type": "stream",
          "name": "stdout",
          "text": [
            "['c', 'c', 'c', 'c', 'c', 'c', 'c', 'c', 'c', 'c', 'c', 'c', 'c', 'c', 'c', 'c', 'c', 'c', 'c', 'c', 'c', 'c', 'c', 'c', 'c', 'c', 'c', 'c', 'c', 'c', 'c', 'c', 'c', 'c', 'c', 'c', 'c', 'c', 'c', 'c', 'c', 'c', 'c', 'c', 'c', 'c', 'c', 'c', 'c', 'c', 'c', 'c', 'c', 'c', 'c', 'c', 'n', 'n', 'n', 'n', 'n', 'n', 'n', 'n', 'n', 'n', 'n', 'n', 'n', 'n', 'n', 'n', 'n', 'n', 'n', 'n', 'n', 'n', 'n', 'n', 'n', 'n', 'n', 'n', 'n', 'n', 'n', 'n', 'n', 'n', 'n', 'n', 'n', 'n', 'n', 'n', 'n', 'n', 'n', 'n', 'n', 'n', 'n', 'n', 'n', 'n', 'n', 'n', 'n', 'n', 'n', 'n', 'n', 'n', 'n', 'n', 'n', 'n', 'n', 'n', 'n', 'n', 'n', 'n', 'n', 'n', 'n', 'n', 'n', 'n', 'n', 'n', 'n', 'n', 'n', 'n', 'n', 'n', 'n', 'n', 'n', 'n', 'n', 'n', 'n', 'n', 'n', 'n', 'n', 'n', 'n', 'n', 'n', 'n', 'n', 'n', 'n', 'n', 'n', 'n', 'n', 'n', 'n', 'n', 'n', 'n', 'n', 'n', 'n', 'n', 'n', 'n', 'n', 'n', 'n', 'n', 'n', 'n', 'n', 'n', 'n', 'n', 'n', 'n', 'n', 'n', 'n', 'n', 'n', 'n', 'n', 'n', 'n', 'n', 'n', 'n', 'n', 'n', 'n', 'n', 'n', 'n', 'n', 'n', 'n', 'n', 'n', 'n', 'n', 'n', 'n', 'n', 'n', 'n', 'n', 'n', 'n', 'n', 'n', 'n', 'n', 'n', 'n', 'n', 'n', 'n', 'n', 'n', 'n', 'n', 'n', 'n', 'n', 'n', 'n', 'n', 'n', 'n', 'n', 'n', 'n', 'n', 'n', 'n', 'n', 'n', 'n', 'n', 'n', 'n', 'n', 'n', 'n', 'n', 'n', 'n', 'n', 'n', 'n', 'n', 'n', 'n', 'n', 'n', 'n', 'n', 'n', 'n', 'n', 'n', 'n', 'n', 'n', 'n', 'n', 'n', 'n', 'n', 'n', 'n', 'n', 'n', 'n', 'n', 'n', 'n', 'n', 'n', 'n', 'n', 'n', 'n', 'n', 'n', 'n', 'n', 'n', 'n', 'n', 'n', 'n', 'n', 'n', 'n', 'n', 'n', 'n', 'n', 'n', 'n', 'n', 'n', 'n', 'n', 'n', 'n', 'n', 'n', 'n', 'n', 'n', 'n', 'n', 'n', 'n', 'n', 'n', 'n', 'n', 'n', 'n', 'n', 'n', 'n', 'n', 'n', 'n', 'n', 'n', 'n', 'n', 'n', 'n', 'n', 'n', 'n', 'n', 'n', 'n', 'n', 'n', 'n', 'n', 'n', 'n', 'n', 'n', 'n', 'n', 'n', 'n', 'n', 'n', 'n', 'n', 'n', 'n', 'n', 'n', 'n', 'n', 'n', 'n', 'n', 'n', 'n', 'n', 'n', 'n', 'n', 'n', 'n', 'n', 'n', 'n', 'n', 'n', 'n', 'n', 'n', 'n', 'n', 'n', 'n', 'n', 'n', 'n', 'n', 'n', 'n', 'n', 'n', 'n', 'n', 'n', 'n', 'n', 'n', 'n', 'n', 'n', 'n', 'n', 'n', 'n', 'n', 'n', 'n', 'n', 'n', 'n', 'n', 'n', 'n', 'n', 'n', 'n', 'n', 'n', 'n', 'n', 'n', 'n', 'n', 'n', 'n', 'n', 'n', 'n', 'n', 'n', 'n', 'n', 'n', 'n', 'n', 'n', 'n', 'n', 'n', 'n', 'n', 'n', 'n', 'n', 'n', 'n', 'n', 'n', 'n', 'n', 'n', 'n', 'n', 'n', 'n', 'n', 'n', 'n', 'n', 'n', 'n', 'n', 'n', 'n', 'n', 'n', 'n', 'n', 'n', 'n', 'n', 'n', 'n', 'n', 'n', 'n', 'n', 'n', 'n', 'n', 'n', 'n', 'n', 'n', 'n', 'n', 'n', 'n', 'n', 'n', 'n', 'n', 'n', 'n', 'n', 'n', 'n', 'n', 'n', 'n', 'n', 'n', 'n', 'n', 'n', 'n', 'n', 'n', 'n', 'n', 'n', 'n', 'n', 'n', 'n', 'n', 'n', 'n', 'n', 'n', 'n', 'n', 'n', 'n', 'n', 'n', 'n', 'n', 'n', 'n', 'n', 'n', 'n', 'n', 'n', 'n', 'n', 'n', 'n', 'n', 'n', 'n', 'n', 'n', 'n', 'n', 'n', 'n', 'n', 'n', 'n', 'n', 'n', 'n', 'n', 'n', 'n', 'n', 'n', 'n', 'n', 'n', 'n', 'n', 'n', 'n', 'n', 'n', 'n', 'n', 'n', 'n', 'n', 'n', 'n', 'n', 'n', 'n', 'n', 'n', 'n', 'n', 'n', 'n', 'n', 'n', 'n', 'n', 'n', 'n', 'n', 'n', 'n', 'n', 'n', 'n', 'n', 'n', 'n', 'n', 'n', 'n', 'n', 'n', 'n', 'n', 'n', 'n', 'n', 'n', 'n', 'n', 'n', 'n', 'n', 'n', 'n', 'n', 'n', 'n', 'n', 'n', 'n', 'n', 'n', 'n', 'n', 'n', 'n', 'n', 'n', 'n', 'n', 'n', 'n', 'n', 'n', 'n', 'n', 'n', 'n', 'n', 'n', 'n', 'n', 'n', 'n', 'n', 'n', 'n', 'n', 'n', 'n', 'n', 'n', 'n', 'n', 'n', 'n', 'n', 'n', 'n', 'n', 'n', 'n', 'n', 'n', 'n', 'n', 'n', 'n', 'n', 'n', 'n', 'n', 'n', 'n', 'n', 'n', 'n', 'n', 'n', 'n', 'n', 'n', 'n', 'n', 'n', 'n', 'n', 'n', 'n', 'n', 'n', 'n', 'n', 'n', 'n', 'n', 'n', 'n', 'n', 'n', 'n', 'n', 'n', 'n', 'n', 'n', 'n', 'n', 'n', 'n', 'n', 'n', 'n', 'n', 'n', 'n', 'n', 'n', 'n', 'n', 'n', 'n', 'n', 'n', 'n', 'n', 'n', 'n', 'n', 'n', 'n', 'n', 'n', 'n', 'n', 'n', 'n', 'n', 'n', 'n', 'n', 'n', 'n', 'n', 'n', 'n', 'n', 'n', 'n', 'n', 'n', 'n', 'n', 'n', 'n', 'n', 'n', 'n', 'n', 'n', 'n', 'n', 'n', 'n', 'n', 'n', 'n', 'n', 'n', 'n', 'n', 'n', 'n', 'n', 'n', 'n', 'n', 'n', 'n', 'n', 'n', 'n', 'n', 'n', 'n', 'n', 'n', 'n', 'n', 'n', 'n', 'n', 'n', 'n', 'n', 'n', 'n', 'n', 'n', 'n', 'n', 'n', 'n', 'n', 'n', 'n', 'n', 'n', 'n', 'n', 'n', 'n', 'n', 'n', 'n', 'n', 'n', 'n', 'n', 'n', 'n', 'n', 'n', 'n', 'n', 'n', 'n', 'n', 'n', 'n', 'n', 'n', 'n', 'n', 'n', 'n', 'n', 'n', 'n', 'n', 'n', 'n', 'n', 'n', 'n', 'n', 'n', 'n', 'n', 'n', 'n', 'n', 'n', 'n', 'n', 'n', 'n', 'n', 'n', 'n', 'n', 'n', 'n', 'n', 'n', 'n', 'n', 'n', 'n', 'n', 'n', 'n', 'n', 'n', 'n', 'n', 'n', 'n', 'n', 'n', 'n', 'n', 'n', 'n', 'n', 'n', 'n', 'n', 'n', 'n', 'n', 'n', 'n', 'n', 'n', 'n', 'n', 'n', 'n', 'n', 'n', 'n', 'n', 'n', 'n', 'n', 'n', 'n', 'n', 'n', 'n', 'n', 'n', 'n', 'n', 'n', 'n', 'n', 'n', 'n', 'n', 'n', 'n', 'n', 'n', 'n', 'n', 'n', 'n', 'n', 'n', 'n', 'n', 'n', 'n', 'n', 'n', 'n', 'n', 'n', 'n', 'n', 'n', 'n', 'n', 'n', 'n', 'n', 'n', 'n', 'n', 'n', 'n', 'n', 'n', 'n', 'n', 'n', 'n', 'n', 'n', 'n', 'n', 'n', 'n', 'n', 'n', 'n', 'n', 'n', 'n', 'n', 'n', 'n', 'n', 'n', 'n', 'n', 'n', 'n', 'n', 'n', 'n', 'n', 'n', 'n', 'n', 'n', 'n', 'n', 'n', 'n', 'n', 'n', 'n', 'n', 'n', 'n', 'n', 'n', 'n', 'n', 'n', 'n', 'n', 'n', 'n', 'n', 'n', 'n', 'n', 'n', 'n', 'n', 'n', 'n', 'n', 'n', 'n', 'n', 'n', 'n', 'n', 'n', 'n', 'n', 'n', 'n', 'n', 'n', 'n', 'n', 'n', 'n', 'n', 'n', 'n', 'n', 'n', 'n', 'n', 'n', 'n', 'n', 'n', 'n', 'n', 'n', 'n', 'n', 'n', 'n', 'n', 'n', 'n', 'n', 'n', 'n', 'n', 'n', 'n', 'n', 'n', 'n', 'n', 'n', 'n', 'n', 'n', 'n', 'n', 'n', 'n', 'n', 'n', 'n', 'n', 'n', 'n', 'n', 'n', 'n', 'n', 'n', 'n', 'n', 'n', 'n', 'n', 'n', 'n', 'n', 'n', 'n', 'n', 'n', 'n', 'n', 'n', 'n', 'n', 'n', 'n', 'n', 'n', 'n', 'n', 'n', 'n', 'n', 'n', 'n', 'n', 'n', 'n', 'n', 'n', 'n', 'n', 'n', 'n', 'n', 'n', 'n', 'n', 'n', 'n', 'n', 'n', 'n', 'n', 'n', 'n', 'n', 'n', 'n', 'n', 'n', 'n', 'n', 'n', 'n', 'n', 'n', 'n', 'n', 'n', 'n', 'n', 'n', 'n', 'n', 'n', 'n', 'n', 'n', 'n', 'n', 'n', 'n', 'n', 'n', 'n', 'n', 'n', 'n', 'n', 'n', 'n', 'n', 'n', 'n', 'n', 'n', 'n', 'n', 'n', 'n', 'n', 'n', 'n', 'n', 'n', 'n', 'n', 'n', 'n', 'n', 'n', 'n', 'n', 'n', 'n', 'n', 'n', 'n', 'n', 'n', 'n', 'n', 'n', 'n', 'n', 'n', 'n', 'n', 'n', 'n', 'n', 'n', 'n', 'n', 'n', 'n', 'n', 'n', 'n', 'n', 'n', 'n', 'n', 'n', 'n', 'n', 'n', 'n', 'n', 'n', 'n', 'n', 'n', 'n', 'n', 'n', 'n', 'n', 'n', 'n', 'n', 'n', 'n', 'n', 'n', 'n', 'n', 'n', 'n', 'n', 'n', 'n', 'n', 'n', 'n', 'n', 'n', 'n', 'n', 'n', 'n', 'n', 'n', 'n', 'n', 'n', 'n', 'n', 'n', 'n', 'n', 'n', 'n', 'n', 'n', 'n', 'n', 'n', 'n', 'n', 'n', 'n', 'n', 'n', 'n', 'n', 'n', 'n', 'n', 'n', 'n', 'n', 'n', 'n', 'n', 'n', 'n', 'n', 'n', 'n', 'n', 'n', 'n', 'n', 'n', 'n', 'n', 'n', 'n', 'n', 'n', 'n', 'n', 'n', 'n', 'n', 'n', 'n', 'n', 'n', 'n', 'n', 'n', 'n', 'n', 'n', 'n', 'n', 'n', 'n', 'n', 'n', 'n', 'n', 'n', 'n', 'n', 'n', 'n', 'n', 'n', 'n', 'n', 'n', 'n', 'n', 'n', 'n', 'n', 'n', 'n', 'n', 'n', 'n', 'n', 'n', 'n', 'n', 'n', 'n', 'n', 'n', 'n', 'n', 'n', 'n', 'n', 'n', 'n', 'n', 'n', 'n', 'n', 'n', 'n', 'n', 'n', 'n', 'n', 'n', 'n', 'n', 'n', 'n']\n",
            "(1740, 224, 224, 3)\n"
          ]
        }
      ],
      "source": [
        "from pickle import NONE\n",
        "from pathlib import Path\n",
        "\n",
        "from zmq.constants import NULL\n",
        "X = []\n",
        "y = []\n",
        "os.chdir('/content/drive/MyDrive/Spectrogram For Train Test/Deep Breath Cov-Non Cov/Covid')\n",
        "for i in tqdm(os.listdir()):\n",
        "      img = cv2.imread(i)   \n",
        "      img = cv2.resize(img,(224,224))\n",
        "      X.append(img)\n",
        "      y.append('c')\n",
        "\n",
        "os.chdir('/content/drive/MyDrive/Spectrogram For Train Test/Deep Breath Cov-Non Cov/Non Covid')\n",
        "for i in tqdm(os.listdir()):\n",
        "      img = cv2.imread(i)\n",
        "      if(type(img) == type(None)):\n",
        "        pass\n",
        "      else:\n",
        "        img = cv2.resize(img,(224,224))\n",
        "        X.append(img)\n",
        "        y.append('n')\n",
        "\n",
        "from imblearn.over_sampling import SMOTE\n",
        "sm = SMOTE(sampling_strategy={'c': 400},random_state=42)\n",
        "X = np.array(X)\n",
        "X_resampled, y_resampled = sm.fit_resample(X.reshape(X.shape[0], -1), np.array(y))\n",
        "X_resampled = X_resampled.reshape(-1, 224, 224, 3)\n",
        "\n",
        "X_train, X_test, y_train, y_test = train_test_split(X_resampled, y_resampled, test_size=0.20, random_state=42)\n",
        "print(y)\n",
        "print(X_resampled.shape)"
      ]
    },
    {
      "cell_type": "code",
      "execution_count": 4,
      "metadata": {
        "colab": {
          "base_uri": "https://localhost:8080/"
        },
        "id": "0_PUr8TEsE13",
        "outputId": "a6e03ac0-02e0-4cfe-f693-db821cc9145a"
      },
      "outputs": [
        {
          "output_type": "stream",
          "name": "stdout",
          "text": [
            "Shape of an image in X_train:  (224, 224, 3)\n",
            "Shape of an image in X_test:  (224, 224, 3)\n"
          ]
        }
      ],
      "source": [
        "# X_train, X_test, y_train, y_test = train_test_split(X, y, test_size=0.20, random_state=42)\n",
        "print (\"Shape of an image in X_train: \", X_train[0].shape)\n",
        "print (\"Shape of an image in X_test: \", X_test[0].shape)"
      ]
    },
    {
      "cell_type": "code",
      "execution_count": 7,
      "metadata": {
        "id": "00Vk0nZpsMgC"
      },
      "outputs": [],
      "source": [
        "le = preprocessing.LabelEncoder()\n",
        "y_train = le.fit_transform(y_train)\n",
        "y_test = le.fit_transform(y_test)\n",
        "y_train = tf.keras.utils.to_categorical(y_train, num_classes=2)\n",
        "y_test = tf.keras.utils.to_categorical(y_test, num_classes=2)\n",
        "y_train = np.array(y_train)\n",
        "X_train = np.array(X_train)\n",
        "y_test = np.array(y_test)\n",
        "X_test = np.array(X_test) "
      ]
    },
    {
      "cell_type": "code",
      "execution_count": 8,
      "metadata": {
        "id": "VC1NDQMhHkk6"
      },
      "outputs": [],
      "source": [
        "BATCH_SIZE =32\n",
        "EPOCHS = 100\n",
        "SIZE = 224\n",
        "N_ch=3"
      ]
    },
    {
      "cell_type": "code",
      "execution_count": 9,
      "metadata": {
        "id": "jEJkx65YHw5B"
      },
      "outputs": [],
      "source": [
        "def build_resnet50():\n",
        "    resnet50 = ResNet50(weights='imagenet', include_top=False)\n",
        "\n",
        "    input = Input(shape=(SIZE, SIZE, N_ch))\n",
        "    x = Conv2D(3, (3, 3), padding='same')(input)\n",
        "    \n",
        "    x = resnet50(x)\n",
        "    \n",
        "    x = GlobalAveragePooling2D()(x)\n",
        "    x = BatchNormalization()(x)\n",
        "    x = Dropout(0.5)(x)\n",
        "    x = Dense(256, activation='relu')(x)\n",
        "    x = BatchNormalization()(x)\n",
        "    x = Dropout(0.5)(x)\n",
        "\n",
        "    # multi output\n",
        "    output = Dense(2,activation = 'softmax', name='root')(x)\n",
        " \n",
        "\n",
        "    # model\n",
        "    model = Model(input,output)\n",
        "    \n",
        "    optimizer = Adam(lr=0.0005, beta_1=0.9, beta_2=0.999, epsilon=0.1, decay=0.0)\n",
        "    model.compile(loss='categorical_crossentropy', optimizer=optimizer, metrics=['accuracy'])\n",
        "    model.summary()\n",
        "    \n",
        "    return model"
      ]
    },
    {
      "cell_type": "code",
      "execution_count": 10,
      "metadata": {
        "colab": {
          "base_uri": "https://localhost:8080/"
        },
        "id": "m_-W-Ck6H2Yk",
        "outputId": "55842441-f189-48be-9436-46b7a20f56b3"
      },
      "outputs": [
        {
          "output_type": "stream",
          "name": "stdout",
          "text": [
            "Downloading data from https://storage.googleapis.com/tensorflow/keras-applications/resnet/resnet50_weights_tf_dim_ordering_tf_kernels_notop.h5\n",
            "94765736/94765736 [==============================] - 0s 0us/step\n",
            "Model: \"model\"\n",
            "_________________________________________________________________\n",
            " Layer (type)                Output Shape              Param #   \n",
            "=================================================================\n",
            " input_2 (InputLayer)        [(None, 224, 224, 3)]     0         \n",
            "                                                                 \n",
            " conv2d (Conv2D)             (None, 224, 224, 3)       84        \n",
            "                                                                 \n",
            " resnet50 (Functional)       (None, None, None, 2048)  23587712  \n",
            "                                                                 \n",
            " global_average_pooling2d (G  (None, 2048)             0         \n",
            " lobalAveragePooling2D)                                          \n",
            "                                                                 \n",
            " batch_normalization (BatchN  (None, 2048)             8192      \n",
            " ormalization)                                                   \n",
            "                                                                 \n",
            " dropout (Dropout)           (None, 2048)              0         \n",
            "                                                                 \n",
            " dense (Dense)               (None, 256)               524544    \n",
            "                                                                 \n",
            " batch_normalization_1 (Batc  (None, 256)              1024      \n",
            " hNormalization)                                                 \n",
            "                                                                 \n",
            " dropout_1 (Dropout)         (None, 256)               0         \n",
            "                                                                 \n",
            " root (Dense)                (None, 2)                 514       \n",
            "                                                                 \n",
            "=================================================================\n",
            "Total params: 24,122,070\n",
            "Trainable params: 24,064,342\n",
            "Non-trainable params: 57,728\n",
            "_________________________________________________________________\n"
          ]
        },
        {
          "output_type": "stream",
          "name": "stderr",
          "text": [
            "/usr/local/lib/python3.8/dist-packages/keras/optimizers/optimizer_v2/adam.py:110: UserWarning: The `lr` argument is deprecated, use `learning_rate` instead.\n",
            "  super(Adam, self).__init__(name, **kwargs)\n"
          ]
        }
      ],
      "source": [
        "model = build_resnet50()\n",
        "annealer = ReduceLROnPlateau(monitor='val_accuracy', factor=0.70, patience=5, verbose=1, min_lr=1e-4)\n",
        "checkpoint = ModelCheckpoint('ResNet50_Model.hdf5', verbose=1, save_best_only=True)\n",
        "datagen = ImageDataGenerator(rotation_range=360, \n",
        "                        width_shift_range=0.2, \n",
        "                        height_shift_range=0.2,\n",
        "                        zoom_range=0.2, \n",
        "                        horizontal_flip=True, \n",
        "                        vertical_flip=True) \n",
        "\n",
        "datagen.fit(X_train)"
      ]
    },
    {
      "cell_type": "code",
      "execution_count": 11,
      "metadata": {
        "colab": {
          "base_uri": "https://localhost:8080/"
        },
        "id": "KpsDnAPAH8wW",
        "outputId": "cf86711a-05ea-43a7-bbc4-eb813124d3d7"
      },
      "outputs": [
        {
          "output_type": "stream",
          "name": "stderr",
          "text": [
            "<ipython-input-11-c4089a8f5804>:2: UserWarning: `Model.fit_generator` is deprecated and will be removed in a future version. Please use `Model.fit`, which supports generators.\n",
            "  history = model.fit_generator(datagen.flow(X_train, y_train, batch_size=BATCH_SIZE),\n"
          ]
        },
        {
          "output_type": "stream",
          "name": "stdout",
          "text": [
            "Epoch 1/100\n",
            "10/10 [==============================] - ETA: 0s - loss: 1.2916 - accuracy: 0.4812\n",
            "Epoch 1: val_loss improved from inf to 1.80572, saving model to ResNet50_Model.hdf5\n",
            "10/10 [==============================] - 24s 907ms/step - loss: 1.2916 - accuracy: 0.4812 - val_loss: 1.8057 - val_accuracy: 0.1925 - lr: 5.0000e-04\n",
            "Epoch 2/100\n",
            "10/10 [==============================] - ETA: 0s - loss: 1.1385 - accuracy: 0.5656\n",
            "Epoch 2: val_loss improved from 1.80572 to 1.09549, saving model to ResNet50_Model.hdf5\n",
            "10/10 [==============================] - 10s 1s/step - loss: 1.1385 - accuracy: 0.5656 - val_loss: 1.0955 - val_accuracy: 0.3218 - lr: 5.0000e-04\n",
            "Epoch 3/100\n",
            "10/10 [==============================] - ETA: 0s - loss: 1.0071 - accuracy: 0.5500\n",
            "Epoch 3: val_loss improved from 1.09549 to 0.88927, saving model to ResNet50_Model.hdf5\n",
            "10/10 [==============================] - 12s 1s/step - loss: 1.0071 - accuracy: 0.5500 - val_loss: 0.8893 - val_accuracy: 0.4655 - lr: 5.0000e-04\n",
            "Epoch 4/100\n",
            "10/10 [==============================] - ETA: 0s - loss: 0.8087 - accuracy: 0.6447\n",
            "Epoch 4: val_loss improved from 0.88927 to 0.71272, saving model to ResNet50_Model.hdf5\n",
            "10/10 [==============================] - 9s 867ms/step - loss: 0.8087 - accuracy: 0.6447 - val_loss: 0.7127 - val_accuracy: 0.5632 - lr: 5.0000e-04\n",
            "Epoch 5/100\n",
            "10/10 [==============================] - ETA: 0s - loss: 0.8135 - accuracy: 0.6562\n",
            "Epoch 5: val_loss improved from 0.71272 to 0.71225, saving model to ResNet50_Model.hdf5\n",
            "10/10 [==============================] - 7s 717ms/step - loss: 0.8135 - accuracy: 0.6562 - val_loss: 0.7123 - val_accuracy: 0.5517 - lr: 5.0000e-04\n",
            "Epoch 6/100\n",
            "10/10 [==============================] - ETA: 0s - loss: 0.7833 - accuracy: 0.6438\n",
            "Epoch 6: val_loss did not improve from 0.71225\n",
            "10/10 [==============================] - 5s 531ms/step - loss: 0.7833 - accuracy: 0.6438 - val_loss: 0.8853 - val_accuracy: 0.4397 - lr: 5.0000e-04\n",
            "Epoch 7/100\n",
            "10/10 [==============================] - ETA: 0s - loss: 0.7264 - accuracy: 0.7094\n",
            "Epoch 7: val_loss did not improve from 0.71225\n",
            "10/10 [==============================] - 5s 532ms/step - loss: 0.7264 - accuracy: 0.7094 - val_loss: 0.9074 - val_accuracy: 0.4598 - lr: 5.0000e-04\n",
            "Epoch 8/100\n",
            "10/10 [==============================] - ETA: 0s - loss: 0.6737 - accuracy: 0.7250\n",
            "Epoch 8: val_loss did not improve from 0.71225\n",
            "10/10 [==============================] - 7s 650ms/step - loss: 0.6737 - accuracy: 0.7250 - val_loss: 1.1744 - val_accuracy: 0.3592 - lr: 5.0000e-04\n",
            "Epoch 9/100\n",
            "10/10 [==============================] - ETA: 0s - loss: 0.6887 - accuracy: 0.7125\n",
            "Epoch 9: ReduceLROnPlateau reducing learning rate to 0.00035000001662410796.\n",
            "\n",
            "Epoch 9: val_loss did not improve from 0.71225\n",
            "10/10 [==============================] - 6s 536ms/step - loss: 0.6887 - accuracy: 0.7125 - val_loss: 1.3238 - val_accuracy: 0.3190 - lr: 5.0000e-04\n",
            "Epoch 10/100\n",
            "10/10 [==============================] - ETA: 0s - loss: 0.6918 - accuracy: 0.7312\n",
            "Epoch 10: val_loss did not improve from 0.71225\n",
            "10/10 [==============================] - 6s 543ms/step - loss: 0.6918 - accuracy: 0.7312 - val_loss: 1.1318 - val_accuracy: 0.3764 - lr: 3.5000e-04\n",
            "Epoch 11/100\n",
            "10/10 [==============================] - ETA: 0s - loss: 0.6161 - accuracy: 0.7125\n",
            "Epoch 11: val_loss did not improve from 0.71225\n",
            "10/10 [==============================] - 6s 563ms/step - loss: 0.6161 - accuracy: 0.7125 - val_loss: 0.9905 - val_accuracy: 0.4454 - lr: 3.5000e-04\n",
            "Epoch 12/100\n",
            "10/10 [==============================] - ETA: 0s - loss: 0.4788 - accuracy: 0.7969\n",
            "Epoch 12: val_loss did not improve from 0.71225\n",
            "10/10 [==============================] - 6s 545ms/step - loss: 0.4788 - accuracy: 0.7969 - val_loss: 0.8951 - val_accuracy: 0.4799 - lr: 3.5000e-04\n",
            "Epoch 13/100\n",
            "10/10 [==============================] - ETA: 0s - loss: 0.5361 - accuracy: 0.7844\n",
            "Epoch 13: val_loss did not improve from 0.71225\n",
            "10/10 [==============================] - 6s 541ms/step - loss: 0.5361 - accuracy: 0.7844 - val_loss: 0.8929 - val_accuracy: 0.4971 - lr: 3.5000e-04\n",
            "Epoch 14/100\n",
            "10/10 [==============================] - ETA: 0s - loss: 0.6273 - accuracy: 0.7406\n",
            "Epoch 14: ReduceLROnPlateau reducing learning rate to 0.00024500001163687554.\n",
            "\n",
            "Epoch 14: val_loss did not improve from 0.71225\n",
            "10/10 [==============================] - 6s 551ms/step - loss: 0.6273 - accuracy: 0.7406 - val_loss: 0.9472 - val_accuracy: 0.4885 - lr: 3.5000e-04\n",
            "Epoch 15/100\n",
            "10/10 [==============================] - ETA: 0s - loss: 0.5637 - accuracy: 0.7829\n",
            "Epoch 15: val_loss did not improve from 0.71225\n",
            "10/10 [==============================] - 5s 533ms/step - loss: 0.5637 - accuracy: 0.7829 - val_loss: 0.9325 - val_accuracy: 0.4914 - lr: 2.4500e-04\n",
            "Epoch 16/100\n",
            "10/10 [==============================] - ETA: 0s - loss: 0.3984 - accuracy: 0.8191\n",
            "Epoch 16: val_loss did not improve from 0.71225\n",
            "10/10 [==============================] - 5s 531ms/step - loss: 0.3984 - accuracy: 0.8191 - val_loss: 0.8999 - val_accuracy: 0.5259 - lr: 2.4500e-04\n",
            "Epoch 17/100\n",
            "10/10 [==============================] - ETA: 0s - loss: 0.4397 - accuracy: 0.8219\n",
            "Epoch 17: val_loss did not improve from 0.71225\n",
            "10/10 [==============================] - 6s 551ms/step - loss: 0.4397 - accuracy: 0.8219 - val_loss: 0.8565 - val_accuracy: 0.5690 - lr: 2.4500e-04\n",
            "Epoch 18/100\n",
            "10/10 [==============================] - ETA: 0s - loss: 0.3521 - accuracy: 0.8469\n",
            "Epoch 18: val_loss did not improve from 0.71225\n",
            "10/10 [==============================] - 6s 556ms/step - loss: 0.3521 - accuracy: 0.8469 - val_loss: 0.8317 - val_accuracy: 0.5489 - lr: 2.4500e-04\n",
            "Epoch 19/100\n",
            "10/10 [==============================] - ETA: 0s - loss: 0.3522 - accuracy: 0.8406\n",
            "Epoch 19: val_loss did not improve from 0.71225\n",
            "10/10 [==============================] - 6s 553ms/step - loss: 0.3522 - accuracy: 0.8406 - val_loss: 0.7731 - val_accuracy: 0.6034 - lr: 2.4500e-04\n",
            "Epoch 20/100\n",
            "10/10 [==============================] - ETA: 0s - loss: 0.4351 - accuracy: 0.8092\n",
            "Epoch 20: val_loss did not improve from 0.71225\n",
            "10/10 [==============================] - 5s 530ms/step - loss: 0.4351 - accuracy: 0.8092 - val_loss: 0.7621 - val_accuracy: 0.6408 - lr: 2.4500e-04\n",
            "Epoch 21/100\n",
            "10/10 [==============================] - ETA: 0s - loss: 0.3680 - accuracy: 0.8586\n",
            "Epoch 21: val_loss did not improve from 0.71225\n",
            "10/10 [==============================] - 6s 545ms/step - loss: 0.3680 - accuracy: 0.8586 - val_loss: 0.7353 - val_accuracy: 0.6466 - lr: 2.4500e-04\n",
            "Epoch 22/100\n",
            "10/10 [==============================] - ETA: 0s - loss: 0.4083 - accuracy: 0.8375\n",
            "Epoch 22: val_loss improved from 0.71225 to 0.66418, saving model to ResNet50_Model.hdf5\n",
            "10/10 [==============================] - 11s 1s/step - loss: 0.4083 - accuracy: 0.8375 - val_loss: 0.6642 - val_accuracy: 0.7098 - lr: 2.4500e-04\n",
            "Epoch 23/100\n",
            "10/10 [==============================] - ETA: 0s - loss: 0.4455 - accuracy: 0.8156\n",
            "Epoch 23: val_loss improved from 0.66418 to 0.54602, saving model to ResNet50_Model.hdf5\n",
            "10/10 [==============================] - 7s 728ms/step - loss: 0.4455 - accuracy: 0.8156 - val_loss: 0.5460 - val_accuracy: 0.7385 - lr: 2.4500e-04\n",
            "Epoch 24/100\n",
            "10/10 [==============================] - ETA: 0s - loss: 0.3248 - accuracy: 0.8813\n",
            "Epoch 24: val_loss improved from 0.54602 to 0.45412, saving model to ResNet50_Model.hdf5\n",
            "10/10 [==============================] - 7s 752ms/step - loss: 0.3248 - accuracy: 0.8813 - val_loss: 0.4541 - val_accuracy: 0.7902 - lr: 2.4500e-04\n",
            "Epoch 25/100\n",
            "10/10 [==============================] - ETA: 0s - loss: 0.3933 - accuracy: 0.8438\n",
            "Epoch 25: val_loss did not improve from 0.45412\n",
            "10/10 [==============================] - 6s 560ms/step - loss: 0.3933 - accuracy: 0.8438 - val_loss: 0.5351 - val_accuracy: 0.7471 - lr: 2.4500e-04\n",
            "Epoch 26/100\n",
            "10/10 [==============================] - ETA: 0s - loss: 0.3636 - accuracy: 0.8531\n",
            "Epoch 26: val_loss did not improve from 0.45412\n",
            "10/10 [==============================] - 6s 572ms/step - loss: 0.3636 - accuracy: 0.8531 - val_loss: 0.4686 - val_accuracy: 0.7845 - lr: 2.4500e-04\n",
            "Epoch 27/100\n",
            "10/10 [==============================] - ETA: 0s - loss: 0.2732 - accuracy: 0.9079\n",
            "Epoch 27: val_loss improved from 0.45412 to 0.41084, saving model to ResNet50_Model.hdf5\n",
            "10/10 [==============================] - 9s 962ms/step - loss: 0.2732 - accuracy: 0.9079 - val_loss: 0.4108 - val_accuracy: 0.8046 - lr: 2.4500e-04\n",
            "Epoch 28/100\n",
            "10/10 [==============================] - ETA: 0s - loss: 0.3907 - accuracy: 0.8813\n",
            "Epoch 28: val_loss improved from 0.41084 to 0.34404, saving model to ResNet50_Model.hdf5\n",
            "10/10 [==============================] - 7s 743ms/step - loss: 0.3907 - accuracy: 0.8813 - val_loss: 0.3440 - val_accuracy: 0.8305 - lr: 2.4500e-04\n",
            "Epoch 29/100\n",
            "10/10 [==============================] - ETA: 0s - loss: 0.3391 - accuracy: 0.8914\n",
            "Epoch 29: val_loss improved from 0.34404 to 0.34025, saving model to ResNet50_Model.hdf5\n",
            "10/10 [==============================] - 8s 801ms/step - loss: 0.3391 - accuracy: 0.8914 - val_loss: 0.3403 - val_accuracy: 0.8534 - lr: 2.4500e-04\n",
            "Epoch 30/100\n",
            "10/10 [==============================] - ETA: 0s - loss: 0.2639 - accuracy: 0.9125\n",
            "Epoch 30: val_loss did not improve from 0.34025\n",
            "10/10 [==============================] - 6s 555ms/step - loss: 0.2639 - accuracy: 0.9125 - val_loss: 0.3580 - val_accuracy: 0.8362 - lr: 2.4500e-04\n",
            "Epoch 31/100\n",
            "10/10 [==============================] - ETA: 0s - loss: 0.2735 - accuracy: 0.9000\n",
            "Epoch 31: val_loss did not improve from 0.34025\n",
            "10/10 [==============================] - 6s 549ms/step - loss: 0.2735 - accuracy: 0.9000 - val_loss: 0.4090 - val_accuracy: 0.8132 - lr: 2.4500e-04\n",
            "Epoch 32/100\n",
            "10/10 [==============================] - ETA: 0s - loss: 0.2661 - accuracy: 0.9094\n",
            "Epoch 32: val_loss did not improve from 0.34025\n",
            "10/10 [==============================] - 6s 552ms/step - loss: 0.2661 - accuracy: 0.9094 - val_loss: 0.4608 - val_accuracy: 0.7845 - lr: 2.4500e-04\n",
            "Epoch 33/100\n",
            "10/10 [==============================] - ETA: 0s - loss: 0.2987 - accuracy: 0.8594\n",
            "Epoch 33: val_loss did not improve from 0.34025\n",
            "10/10 [==============================] - 6s 562ms/step - loss: 0.2987 - accuracy: 0.8594 - val_loss: 0.4936 - val_accuracy: 0.7730 - lr: 2.4500e-04\n",
            "Epoch 34/100\n",
            "10/10 [==============================] - ETA: 0s - loss: 0.2489 - accuracy: 0.8938\n",
            "Epoch 34: ReduceLROnPlateau reducing learning rate to 0.00017150000203400848.\n",
            "\n",
            "Epoch 34: val_loss did not improve from 0.34025\n",
            "10/10 [==============================] - 6s 556ms/step - loss: 0.2489 - accuracy: 0.8938 - val_loss: 0.4148 - val_accuracy: 0.7874 - lr: 2.4500e-04\n",
            "Epoch 35/100\n",
            "10/10 [==============================] - ETA: 0s - loss: 0.1932 - accuracy: 0.9563\n",
            "Epoch 35: val_loss did not improve from 0.34025\n",
            "10/10 [==============================] - 6s 559ms/step - loss: 0.1932 - accuracy: 0.9563 - val_loss: 0.3682 - val_accuracy: 0.8276 - lr: 1.7150e-04\n",
            "Epoch 36/100\n",
            "10/10 [==============================] - ETA: 0s - loss: 0.2745 - accuracy: 0.9156\n",
            "Epoch 36: val_loss improved from 0.34025 to 0.33962, saving model to ResNet50_Model.hdf5\n",
            "10/10 [==============================] - 9s 929ms/step - loss: 0.2745 - accuracy: 0.9156 - val_loss: 0.3396 - val_accuracy: 0.8362 - lr: 1.7150e-04\n",
            "Epoch 37/100\n",
            "10/10 [==============================] - ETA: 0s - loss: 0.3115 - accuracy: 0.9000\n",
            "Epoch 37: val_loss improved from 0.33962 to 0.31586, saving model to ResNet50_Model.hdf5\n",
            "10/10 [==============================] - 7s 738ms/step - loss: 0.3115 - accuracy: 0.9000 - val_loss: 0.3159 - val_accuracy: 0.8592 - lr: 1.7150e-04\n",
            "Epoch 38/100\n",
            "10/10 [==============================] - ETA: 0s - loss: 0.3671 - accuracy: 0.8947\n",
            "Epoch 38: val_loss improved from 0.31586 to 0.30648, saving model to ResNet50_Model.hdf5\n",
            "10/10 [==============================] - 7s 700ms/step - loss: 0.3671 - accuracy: 0.8947 - val_loss: 0.3065 - val_accuracy: 0.8764 - lr: 1.7150e-04\n",
            "Epoch 39/100\n",
            "10/10 [==============================] - ETA: 0s - loss: 0.2797 - accuracy: 0.9094\n",
            "Epoch 39: val_loss improved from 0.30648 to 0.29696, saving model to ResNet50_Model.hdf5\n",
            "10/10 [==============================] - 7s 732ms/step - loss: 0.2797 - accuracy: 0.9094 - val_loss: 0.2970 - val_accuracy: 0.8420 - lr: 1.7150e-04\n",
            "Epoch 40/100\n",
            "10/10 [==============================] - ETA: 0s - loss: 0.2880 - accuracy: 0.8844\n",
            "Epoch 40: val_loss improved from 0.29696 to 0.27394, saving model to ResNet50_Model.hdf5\n",
            "10/10 [==============================] - 8s 756ms/step - loss: 0.2880 - accuracy: 0.8844 - val_loss: 0.2739 - val_accuracy: 0.8966 - lr: 1.7150e-04\n",
            "Epoch 41/100\n",
            "10/10 [==============================] - ETA: 0s - loss: 0.3541 - accuracy: 0.8813\n",
            "Epoch 41: val_loss improved from 0.27394 to 0.23941, saving model to ResNet50_Model.hdf5\n",
            "10/10 [==============================] - 7s 746ms/step - loss: 0.3541 - accuracy: 0.8813 - val_loss: 0.2394 - val_accuracy: 0.9167 - lr: 1.7150e-04\n",
            "Epoch 42/100\n",
            "10/10 [==============================] - ETA: 0s - loss: 0.2974 - accuracy: 0.9000\n",
            "Epoch 42: val_loss improved from 0.23941 to 0.22485, saving model to ResNet50_Model.hdf5\n",
            "10/10 [==============================] - 8s 765ms/step - loss: 0.2974 - accuracy: 0.9000 - val_loss: 0.2249 - val_accuracy: 0.9282 - lr: 1.7150e-04\n",
            "Epoch 43/100\n",
            "10/10 [==============================] - ETA: 0s - loss: 0.2018 - accuracy: 0.9406\n",
            "Epoch 43: val_loss improved from 0.22485 to 0.21484, saving model to ResNet50_Model.hdf5\n",
            "10/10 [==============================] - 8s 758ms/step - loss: 0.2018 - accuracy: 0.9406 - val_loss: 0.2148 - val_accuracy: 0.9310 - lr: 1.7150e-04\n",
            "Epoch 44/100\n",
            "10/10 [==============================] - ETA: 0s - loss: 0.2125 - accuracy: 0.9125\n",
            "Epoch 44: val_loss did not improve from 0.21484\n",
            "10/10 [==============================] - 6s 564ms/step - loss: 0.2125 - accuracy: 0.9125 - val_loss: 0.2161 - val_accuracy: 0.9253 - lr: 1.7150e-04\n",
            "Epoch 45/100\n",
            "10/10 [==============================] - ETA: 0s - loss: 0.2584 - accuracy: 0.9344\n",
            "Epoch 45: val_loss did not improve from 0.21484\n",
            "10/10 [==============================] - 6s 621ms/step - loss: 0.2584 - accuracy: 0.9344 - val_loss: 0.2200 - val_accuracy: 0.9253 - lr: 1.7150e-04\n",
            "Epoch 46/100\n",
            "10/10 [==============================] - ETA: 0s - loss: 0.3142 - accuracy: 0.9031\n",
            "Epoch 46: val_loss did not improve from 0.21484\n",
            "10/10 [==============================] - 6s 577ms/step - loss: 0.3142 - accuracy: 0.9031 - val_loss: 0.2164 - val_accuracy: 0.9253 - lr: 1.7150e-04\n",
            "Epoch 47/100\n",
            "10/10 [==============================] - ETA: 0s - loss: 0.3315 - accuracy: 0.8969\n",
            "Epoch 47: val_loss did not improve from 0.21484\n",
            "10/10 [==============================] - 6s 558ms/step - loss: 0.3315 - accuracy: 0.8969 - val_loss: 0.2264 - val_accuracy: 0.9368 - lr: 1.7150e-04\n",
            "Epoch 48/100\n",
            "10/10 [==============================] - ETA: 0s - loss: 0.2376 - accuracy: 0.8938\n",
            "Epoch 48: val_loss did not improve from 0.21484\n",
            "10/10 [==============================] - 6s 548ms/step - loss: 0.2376 - accuracy: 0.8938 - val_loss: 0.2298 - val_accuracy: 0.9339 - lr: 1.7150e-04\n",
            "Epoch 49/100\n",
            "10/10 [==============================] - ETA: 0s - loss: 0.2373 - accuracy: 0.9112\n",
            "Epoch 49: val_loss did not improve from 0.21484\n",
            "10/10 [==============================] - 6s 545ms/step - loss: 0.2373 - accuracy: 0.9112 - val_loss: 0.2339 - val_accuracy: 0.9368 - lr: 1.7150e-04\n",
            "Epoch 50/100\n",
            "10/10 [==============================] - ETA: 0s - loss: 0.2644 - accuracy: 0.9062\n",
            "Epoch 50: val_loss did not improve from 0.21484\n",
            "10/10 [==============================] - 6s 557ms/step - loss: 0.2644 - accuracy: 0.9062 - val_loss: 0.2349 - val_accuracy: 0.9339 - lr: 1.7150e-04\n",
            "Epoch 51/100\n",
            "10/10 [==============================] - ETA: 0s - loss: 0.2775 - accuracy: 0.9281\n",
            "Epoch 51: val_loss did not improve from 0.21484\n",
            "10/10 [==============================] - 6s 557ms/step - loss: 0.2775 - accuracy: 0.9281 - val_loss: 0.2597 - val_accuracy: 0.9195 - lr: 1.7150e-04\n",
            "Epoch 52/100\n",
            "10/10 [==============================] - ETA: 0s - loss: 0.2486 - accuracy: 0.9187\n",
            "Epoch 52: ReduceLROnPlateau reducing learning rate to 0.00012004999734926967.\n",
            "\n",
            "Epoch 52: val_loss did not improve from 0.21484\n",
            "10/10 [==============================] - 6s 582ms/step - loss: 0.2486 - accuracy: 0.9187 - val_loss: 0.2721 - val_accuracy: 0.9080 - lr: 1.7150e-04\n",
            "Epoch 53/100\n",
            "10/10 [==============================] - ETA: 0s - loss: 0.3277 - accuracy: 0.9145\n",
            "Epoch 53: val_loss did not improve from 0.21484\n",
            "10/10 [==============================] - 6s 536ms/step - loss: 0.3277 - accuracy: 0.9145 - val_loss: 0.2922 - val_accuracy: 0.8937 - lr: 1.2005e-04\n",
            "Epoch 54/100\n",
            "10/10 [==============================] - ETA: 0s - loss: 0.2095 - accuracy: 0.9344\n",
            "Epoch 54: val_loss did not improve from 0.21484\n",
            "10/10 [==============================] - 6s 555ms/step - loss: 0.2095 - accuracy: 0.9344 - val_loss: 0.2947 - val_accuracy: 0.8908 - lr: 1.2005e-04\n",
            "Epoch 55/100\n",
            "10/10 [==============================] - ETA: 0s - loss: 0.2704 - accuracy: 0.9344\n",
            "Epoch 55: val_loss did not improve from 0.21484\n",
            "10/10 [==============================] - 6s 573ms/step - loss: 0.2704 - accuracy: 0.9344 - val_loss: 0.2616 - val_accuracy: 0.9052 - lr: 1.2005e-04\n",
            "Epoch 56/100\n",
            "10/10 [==============================] - ETA: 0s - loss: 0.1686 - accuracy: 0.9344\n",
            "Epoch 56: val_loss did not improve from 0.21484\n",
            "10/10 [==============================] - 6s 560ms/step - loss: 0.1686 - accuracy: 0.9344 - val_loss: 0.2391 - val_accuracy: 0.9195 - lr: 1.2005e-04\n",
            "Epoch 57/100\n",
            "10/10 [==============================] - ETA: 0s - loss: 0.2007 - accuracy: 0.9281\n",
            "Epoch 57: ReduceLROnPlateau reducing learning rate to 0.0001.\n",
            "\n",
            "Epoch 57: val_loss did not improve from 0.21484\n",
            "10/10 [==============================] - 6s 547ms/step - loss: 0.2007 - accuracy: 0.9281 - val_loss: 0.2345 - val_accuracy: 0.9195 - lr: 1.2005e-04\n",
            "Epoch 58/100\n",
            "10/10 [==============================] - ETA: 0s - loss: 0.2445 - accuracy: 0.9178\n",
            "Epoch 58: val_loss did not improve from 0.21484\n",
            "10/10 [==============================] - 5s 571ms/step - loss: 0.2445 - accuracy: 0.9178 - val_loss: 0.2408 - val_accuracy: 0.9224 - lr: 1.0000e-04\n",
            "Epoch 59/100\n",
            "10/10 [==============================] - ETA: 0s - loss: 0.2185 - accuracy: 0.9250\n",
            "Epoch 59: val_loss did not improve from 0.21484\n",
            "10/10 [==============================] - 6s 569ms/step - loss: 0.2185 - accuracy: 0.9250 - val_loss: 0.2450 - val_accuracy: 0.9224 - lr: 1.0000e-04\n",
            "Epoch 60/100\n",
            "10/10 [==============================] - ETA: 0s - loss: 0.2200 - accuracy: 0.9375\n",
            "Epoch 60: val_loss did not improve from 0.21484\n",
            "10/10 [==============================] - 6s 555ms/step - loss: 0.2200 - accuracy: 0.9375 - val_loss: 0.2447 - val_accuracy: 0.9282 - lr: 1.0000e-04\n",
            "Epoch 61/100\n",
            "10/10 [==============================] - ETA: 0s - loss: 0.2070 - accuracy: 0.9281\n",
            "Epoch 61: val_loss did not improve from 0.21484\n",
            "10/10 [==============================] - 6s 561ms/step - loss: 0.2070 - accuracy: 0.9281 - val_loss: 0.2424 - val_accuracy: 0.9282 - lr: 1.0000e-04\n",
            "Epoch 62/100\n",
            "10/10 [==============================] - ETA: 0s - loss: 0.1766 - accuracy: 0.9438\n",
            "Epoch 62: val_loss did not improve from 0.21484\n",
            "10/10 [==============================] - 6s 561ms/step - loss: 0.1766 - accuracy: 0.9438 - val_loss: 0.2264 - val_accuracy: 0.9368 - lr: 1.0000e-04\n",
            "Epoch 63/100\n",
            "10/10 [==============================] - ETA: 0s - loss: 0.2088 - accuracy: 0.9312\n",
            "Epoch 63: val_loss improved from 0.21484 to 0.21175, saving model to ResNet50_Model.hdf5\n",
            "10/10 [==============================] - 9s 954ms/step - loss: 0.2088 - accuracy: 0.9312 - val_loss: 0.2118 - val_accuracy: 0.9368 - lr: 1.0000e-04\n",
            "Epoch 64/100\n",
            "10/10 [==============================] - ETA: 0s - loss: 0.2168 - accuracy: 0.9281\n",
            "Epoch 64: val_loss improved from 0.21175 to 0.20956, saving model to ResNet50_Model.hdf5\n",
            "10/10 [==============================] - 7s 736ms/step - loss: 0.2168 - accuracy: 0.9281 - val_loss: 0.2096 - val_accuracy: 0.9425 - lr: 1.0000e-04\n",
            "Epoch 65/100\n",
            "10/10 [==============================] - ETA: 0s - loss: 0.2476 - accuracy: 0.9250\n",
            "Epoch 65: val_loss did not improve from 0.20956\n",
            "10/10 [==============================] - 6s 596ms/step - loss: 0.2476 - accuracy: 0.9250 - val_loss: 0.2159 - val_accuracy: 0.9397 - lr: 1.0000e-04\n",
            "Epoch 66/100\n",
            "10/10 [==============================] - ETA: 0s - loss: 0.2254 - accuracy: 0.9375\n",
            "Epoch 66: val_loss did not improve from 0.20956\n",
            "10/10 [==============================] - 6s 542ms/step - loss: 0.2254 - accuracy: 0.9375 - val_loss: 0.2211 - val_accuracy: 0.9339 - lr: 1.0000e-04\n",
            "Epoch 67/100\n",
            "10/10 [==============================] - ETA: 0s - loss: 0.2699 - accuracy: 0.9312\n",
            "Epoch 67: val_loss did not improve from 0.20956\n",
            "10/10 [==============================] - 6s 564ms/step - loss: 0.2699 - accuracy: 0.9312 - val_loss: 0.2215 - val_accuracy: 0.9310 - lr: 1.0000e-04\n",
            "Epoch 68/100\n",
            "10/10 [==============================] - ETA: 0s - loss: 0.2110 - accuracy: 0.9438\n",
            "Epoch 68: val_loss did not improve from 0.20956\n",
            "10/10 [==============================] - 6s 562ms/step - loss: 0.2110 - accuracy: 0.9438 - val_loss: 0.2159 - val_accuracy: 0.9368 - lr: 1.0000e-04\n",
            "Epoch 69/100\n",
            "10/10 [==============================] - ETA: 0s - loss: 0.2424 - accuracy: 0.9375\n",
            "Epoch 69: val_loss did not improve from 0.20956\n",
            "10/10 [==============================] - 6s 570ms/step - loss: 0.2424 - accuracy: 0.9375 - val_loss: 0.2097 - val_accuracy: 0.9368 - lr: 1.0000e-04\n",
            "Epoch 70/100\n",
            "10/10 [==============================] - ETA: 0s - loss: 0.2934 - accuracy: 0.9156\n",
            "Epoch 70: val_loss improved from 0.20956 to 0.20760, saving model to ResNet50_Model.hdf5\n",
            "10/10 [==============================] - 9s 949ms/step - loss: 0.2934 - accuracy: 0.9156 - val_loss: 0.2076 - val_accuracy: 0.9339 - lr: 1.0000e-04\n",
            "Epoch 71/100\n",
            "10/10 [==============================] - ETA: 0s - loss: 0.2324 - accuracy: 0.9342\n",
            "Epoch 71: val_loss did not improve from 0.20760\n",
            "10/10 [==============================] - 6s 537ms/step - loss: 0.2324 - accuracy: 0.9342 - val_loss: 0.2162 - val_accuracy: 0.9282 - lr: 1.0000e-04\n",
            "Epoch 72/100\n",
            "10/10 [==============================] - ETA: 0s - loss: 0.2644 - accuracy: 0.9250\n",
            "Epoch 72: val_loss did not improve from 0.20760\n",
            "10/10 [==============================] - 6s 569ms/step - loss: 0.2644 - accuracy: 0.9250 - val_loss: 0.2192 - val_accuracy: 0.9282 - lr: 1.0000e-04\n",
            "Epoch 73/100\n",
            "10/10 [==============================] - ETA: 0s - loss: 0.3536 - accuracy: 0.9000\n",
            "Epoch 73: val_loss did not improve from 0.20760\n",
            "10/10 [==============================] - 6s 550ms/step - loss: 0.3536 - accuracy: 0.9000 - val_loss: 0.2200 - val_accuracy: 0.9310 - lr: 1.0000e-04\n",
            "Epoch 74/100\n",
            "10/10 [==============================] - ETA: 0s - loss: 0.2031 - accuracy: 0.9441\n",
            "Epoch 74: val_loss did not improve from 0.20760\n",
            "10/10 [==============================] - 6s 547ms/step - loss: 0.2031 - accuracy: 0.9441 - val_loss: 0.2208 - val_accuracy: 0.9282 - lr: 1.0000e-04\n",
            "Epoch 75/100\n",
            "10/10 [==============================] - ETA: 0s - loss: 0.1729 - accuracy: 0.9563\n",
            "Epoch 75: val_loss did not improve from 0.20760\n",
            "10/10 [==============================] - 6s 559ms/step - loss: 0.1729 - accuracy: 0.9563 - val_loss: 0.2259 - val_accuracy: 0.9253 - lr: 1.0000e-04\n",
            "Epoch 76/100\n",
            "10/10 [==============================] - ETA: 0s - loss: 0.3136 - accuracy: 0.9000\n",
            "Epoch 76: val_loss did not improve from 0.20760\n",
            "10/10 [==============================] - 6s 567ms/step - loss: 0.3136 - accuracy: 0.9000 - val_loss: 0.2129 - val_accuracy: 0.9339 - lr: 1.0000e-04\n",
            "Epoch 77/100\n",
            "10/10 [==============================] - ETA: 0s - loss: 0.2666 - accuracy: 0.9062\n",
            "Epoch 77: val_loss improved from 0.20760 to 0.20487, saving model to ResNet50_Model.hdf5\n",
            "10/10 [==============================] - 11s 1s/step - loss: 0.2666 - accuracy: 0.9062 - val_loss: 0.2049 - val_accuracy: 0.9454 - lr: 1.0000e-04\n",
            "Epoch 78/100\n",
            "10/10 [==============================] - ETA: 0s - loss: 0.2085 - accuracy: 0.9312\n",
            "Epoch 78: val_loss improved from 0.20487 to 0.19455, saving model to ResNet50_Model.hdf5\n",
            "10/10 [==============================] - 9s 938ms/step - loss: 0.2085 - accuracy: 0.9312 - val_loss: 0.1945 - val_accuracy: 0.9454 - lr: 1.0000e-04\n",
            "Epoch 79/100\n",
            "10/10 [==============================] - ETA: 0s - loss: 0.2412 - accuracy: 0.9344\n",
            "Epoch 79: val_loss did not improve from 0.19455\n",
            "10/10 [==============================] - 6s 549ms/step - loss: 0.2412 - accuracy: 0.9344 - val_loss: 0.1946 - val_accuracy: 0.9454 - lr: 1.0000e-04\n",
            "Epoch 80/100\n",
            "10/10 [==============================] - ETA: 0s - loss: 0.2393 - accuracy: 0.9281\n",
            "Epoch 80: val_loss did not improve from 0.19455\n",
            "10/10 [==============================] - 6s 574ms/step - loss: 0.2393 - accuracy: 0.9281 - val_loss: 0.1968 - val_accuracy: 0.9454 - lr: 1.0000e-04\n",
            "Epoch 81/100\n",
            "10/10 [==============================] - ETA: 0s - loss: 0.2257 - accuracy: 0.9250\n",
            "Epoch 81: val_loss did not improve from 0.19455\n",
            "10/10 [==============================] - 6s 561ms/step - loss: 0.2257 - accuracy: 0.9250 - val_loss: 0.1981 - val_accuracy: 0.9454 - lr: 1.0000e-04\n",
            "Epoch 82/100\n",
            "10/10 [==============================] - ETA: 0s - loss: 0.2263 - accuracy: 0.9125\n",
            "Epoch 82: val_loss did not improve from 0.19455\n",
            "10/10 [==============================] - 6s 564ms/step - loss: 0.2263 - accuracy: 0.9125 - val_loss: 0.2049 - val_accuracy: 0.9425 - lr: 1.0000e-04\n",
            "Epoch 83/100\n",
            "10/10 [==============================] - ETA: 0s - loss: 0.2294 - accuracy: 0.9375\n",
            "Epoch 83: val_loss did not improve from 0.19455\n",
            "10/10 [==============================] - 6s 577ms/step - loss: 0.2294 - accuracy: 0.9375 - val_loss: 0.2084 - val_accuracy: 0.9425 - lr: 1.0000e-04\n",
            "Epoch 84/100\n",
            "10/10 [==============================] - ETA: 0s - loss: 0.3143 - accuracy: 0.9312\n",
            "Epoch 84: val_loss did not improve from 0.19455\n",
            "10/10 [==============================] - 6s 573ms/step - loss: 0.3143 - accuracy: 0.9312 - val_loss: 0.2140 - val_accuracy: 0.9397 - lr: 1.0000e-04\n",
            "Epoch 85/100\n",
            "10/10 [==============================] - ETA: 0s - loss: 0.2989 - accuracy: 0.9178\n",
            "Epoch 85: val_loss did not improve from 0.19455\n",
            "10/10 [==============================] - 6s 546ms/step - loss: 0.2989 - accuracy: 0.9178 - val_loss: 0.2076 - val_accuracy: 0.9425 - lr: 1.0000e-04\n",
            "Epoch 86/100\n",
            "10/10 [==============================] - ETA: 0s - loss: 0.1894 - accuracy: 0.9474\n",
            "Epoch 86: val_loss did not improve from 0.19455\n",
            "10/10 [==============================] - 5s 532ms/step - loss: 0.1894 - accuracy: 0.9474 - val_loss: 0.2073 - val_accuracy: 0.9425 - lr: 1.0000e-04\n",
            "Epoch 87/100\n",
            "10/10 [==============================] - ETA: 0s - loss: 0.2360 - accuracy: 0.9219\n",
            "Epoch 87: val_loss did not improve from 0.19455\n",
            "10/10 [==============================] - 6s 546ms/step - loss: 0.2360 - accuracy: 0.9219 - val_loss: 0.2165 - val_accuracy: 0.9425 - lr: 1.0000e-04\n",
            "Epoch 88/100\n",
            "10/10 [==============================] - ETA: 0s - loss: 0.2371 - accuracy: 0.9312\n",
            "Epoch 88: val_loss did not improve from 0.19455\n",
            "10/10 [==============================] - 6s 553ms/step - loss: 0.2371 - accuracy: 0.9312 - val_loss: 0.2125 - val_accuracy: 0.9425 - lr: 1.0000e-04\n",
            "Epoch 89/100\n",
            "10/10 [==============================] - ETA: 0s - loss: 0.2095 - accuracy: 0.9406\n",
            "Epoch 89: val_loss did not improve from 0.19455\n",
            "10/10 [==============================] - 6s 554ms/step - loss: 0.2095 - accuracy: 0.9406 - val_loss: 0.2131 - val_accuracy: 0.9425 - lr: 1.0000e-04\n",
            "Epoch 90/100\n",
            "10/10 [==============================] - ETA: 0s - loss: 0.2922 - accuracy: 0.9187\n",
            "Epoch 90: val_loss did not improve from 0.19455\n",
            "10/10 [==============================] - 6s 559ms/step - loss: 0.2922 - accuracy: 0.9187 - val_loss: 0.1990 - val_accuracy: 0.9483 - lr: 1.0000e-04\n",
            "Epoch 91/100\n",
            "10/10 [==============================] - ETA: 0s - loss: 0.2601 - accuracy: 0.9281\n",
            "Epoch 91: val_loss did not improve from 0.19455\n",
            "10/10 [==============================] - 6s 555ms/step - loss: 0.2601 - accuracy: 0.9281 - val_loss: 0.2012 - val_accuracy: 0.9454 - lr: 1.0000e-04\n",
            "Epoch 92/100\n",
            "10/10 [==============================] - ETA: 0s - loss: 0.2184 - accuracy: 0.9408\n",
            "Epoch 92: val_loss did not improve from 0.19455\n",
            "10/10 [==============================] - 6s 549ms/step - loss: 0.2184 - accuracy: 0.9408 - val_loss: 0.1948 - val_accuracy: 0.9540 - lr: 1.0000e-04\n",
            "Epoch 93/100\n",
            "10/10 [==============================] - ETA: 0s - loss: 0.1755 - accuracy: 0.9438\n",
            "Epoch 93: val_loss improved from 0.19455 to 0.18811, saving model to ResNet50_Model.hdf5\n",
            "10/10 [==============================] - 10s 1s/step - loss: 0.1755 - accuracy: 0.9438 - val_loss: 0.1881 - val_accuracy: 0.9540 - lr: 1.0000e-04\n",
            "Epoch 94/100\n",
            "10/10 [==============================] - ETA: 0s - loss: 0.2030 - accuracy: 0.9281\n",
            "Epoch 94: val_loss improved from 0.18811 to 0.18462, saving model to ResNet50_Model.hdf5\n",
            "10/10 [==============================] - 10s 950ms/step - loss: 0.2030 - accuracy: 0.9281 - val_loss: 0.1846 - val_accuracy: 0.9569 - lr: 1.0000e-04\n",
            "Epoch 95/100\n",
            "10/10 [==============================] - ETA: 0s - loss: 0.3645 - accuracy: 0.9031\n",
            "Epoch 95: val_loss improved from 0.18462 to 0.17959, saving model to ResNet50_Model.hdf5\n",
            "10/10 [==============================] - 7s 745ms/step - loss: 0.3645 - accuracy: 0.9031 - val_loss: 0.1796 - val_accuracy: 0.9598 - lr: 1.0000e-04\n",
            "Epoch 96/100\n",
            "10/10 [==============================] - ETA: 0s - loss: 0.2089 - accuracy: 0.9406\n",
            "Epoch 96: val_loss did not improve from 0.17959\n",
            "10/10 [==============================] - 6s 634ms/step - loss: 0.2089 - accuracy: 0.9406 - val_loss: 0.1838 - val_accuracy: 0.9598 - lr: 1.0000e-04\n",
            "Epoch 97/100\n",
            "10/10 [==============================] - ETA: 0s - loss: 0.1427 - accuracy: 0.9507\n",
            "Epoch 97: val_loss did not improve from 0.17959\n",
            "10/10 [==============================] - 6s 550ms/step - loss: 0.1427 - accuracy: 0.9507 - val_loss: 0.1922 - val_accuracy: 0.9540 - lr: 1.0000e-04\n",
            "Epoch 98/100\n",
            "10/10 [==============================] - ETA: 0s - loss: 0.2564 - accuracy: 0.9312\n",
            "Epoch 98: val_loss did not improve from 0.17959\n",
            "10/10 [==============================] - 6s 562ms/step - loss: 0.2564 - accuracy: 0.9312 - val_loss: 0.1924 - val_accuracy: 0.9540 - lr: 1.0000e-04\n",
            "Epoch 99/100\n",
            "10/10 [==============================] - ETA: 0s - loss: 0.3092 - accuracy: 0.9145\n",
            "Epoch 99: val_loss did not improve from 0.17959\n",
            "10/10 [==============================] - 6s 576ms/step - loss: 0.3092 - accuracy: 0.9145 - val_loss: 0.1871 - val_accuracy: 0.9540 - lr: 1.0000e-04\n",
            "Epoch 100/100\n",
            "10/10 [==============================] - ETA: 0s - loss: 0.2545 - accuracy: 0.9062\n",
            "Epoch 100: val_loss did not improve from 0.17959\n",
            "10/10 [==============================] - 6s 563ms/step - loss: 0.2545 - accuracy: 0.9062 - val_loss: 0.1880 - val_accuracy: 0.9540 - lr: 1.0000e-04\n"
          ]
        }
      ],
      "source": [
        "X_train.shape[0]\n",
        "history = model.fit_generator(datagen.flow(X_train, y_train, batch_size=BATCH_SIZE),\n",
        "               steps_per_epoch=10,\n",
        "               epochs=EPOCHS,\n",
        "               verbose=1,\n",
        "               callbacks=[annealer, checkpoint],\n",
        "               validation_data=(X_test, y_test))"
      ]
    },
    {
      "cell_type": "code",
      "execution_count": 12,
      "metadata": {
        "id": "q697O2--YwLc"
      },
      "outputs": [],
      "source": [
        "\n",
        "\n",
        "acc = history.history['accuracy']\n",
        "val_acc = history.history['val_accuracy']\n",
        "loss = history.history['loss']\n",
        "val_loss = history.history['val_loss']\n",
        "\n"
      ]
    },
    {
      "cell_type": "code",
      "execution_count": 13,
      "metadata": {
        "id": "23sMDcPKZCAy",
        "colab": {
          "base_uri": "https://localhost:8080/",
          "height": 298
        },
        "outputId": "0dc5d95f-a002-45e0-9c1e-86f843c5c07b"
      },
      "outputs": [
        {
          "output_type": "display_data",
          "data": {
            "text/plain": [
              "<Figure size 432x288 with 1 Axes>"
            ],
            "image/png": "[encoded data removed]"
          },
          "metadata": {
            "needs_background": "light"
          }
        },
        {
          "output_type": "display_data",
          "data": {
            "text/plain": [
              "<Figure size 432x288 with 0 Axes>"
            ]
          },
          "metadata": {}
        }
      ],
      "source": [
        "epochs = range(len(acc))\n",
        "plt.plot(epochs, acc, 'r', label='Training accuracy')\n",
        "plt.plot(epochs, val_acc, 'b', label='Validation accuracy')\n",
        "plt.title('TraiN & Val Acc VS Epochs')\n",
        "plt.legend(loc=0)\n",
        "plt.figure()\n",
        "plt.show()\n",
        "\n"
      ]
    },
    {
      "cell_type": "code",
      "execution_count": 14,
      "metadata": {
        "id": "jcxrVGl9ZDla",
        "colab": {
          "base_uri": "https://localhost:8080/",
          "height": 298
        },
        "outputId": "bad74d13-5746-4e97-941c-94ac5e3f7bb8"
      },
      "outputs": [
        {
          "output_type": "display_data",
          "data": {
            "text/plain": [
              "<Figure size 432x288 with 1 Axes>"
            ],
            "image/png": "[encoded data removed]"
          },
          "metadata": {
            "needs_background": "light"
          }
        },
        {
          "output_type": "display_data",
          "data": {
            "text/plain": [
              "<Figure size 432x288 with 0 Axes>"
            ]
          },
          "metadata": {}
        }
      ],
      "source": [
        "epochs = range(len(acc))\n",
        "plt.plot(epochs, loss, 'r', label='Training Loss')\n",
        "plt.plot(epochs, val_loss, 'b', label='Validation Loss')\n",
        "plt.title('TraiN & Val Loss VS Epochs')\n",
        "plt.legend(loc=0)\n",
        "plt.figure()\n",
        "plt.show()"
      ]
    },
    {
      "cell_type": "code",
      "execution_count": 15,
      "metadata": {
        "id": "x0Qj8NOttdjX",
        "colab": {
          "base_uri": "https://localhost:8080/"
        },
        "outputId": "37e72b71-d640-4ff3-e258-4eb510404fda"
      },
      "outputs": [
        {
          "output_type": "stream",
          "name": "stdout",
          "text": [
            "11/11 [==============================] - 2s 100ms/step\n",
            "0.9540229885057471\n",
            "[[ 55  14]\n",
            " [  2 277]]\n",
            "              precision    recall  f1-score   support\n",
            "\n",
            "           0       0.96      0.80      0.87        69\n",
            "           1       0.95      0.99      0.97       279\n",
            "\n",
            "    accuracy                           0.95       348\n",
            "   macro avg       0.96      0.89      0.92       348\n",
            "weighted avg       0.95      0.95      0.95       348\n",
            "\n"
          ]
        }
      ],
      "source": [
        "from sklearn.metrics import accuracy_score\n",
        "from sklearn.metrics import classification_report\n",
        "import numpy as np\n",
        "\n",
        "pred = model.predict(X_test)\n",
        "rounded_labels_1 = np.argmax(pred, axis=1)\n",
        "rounded_labels_2 = np.argmax(y_test, axis=1)\n",
        "rounded_labels_1[1]\n",
        "rounded_labels_2[1]\n",
        "print(accuracy_score(rounded_labels_2,rounded_labels_1))\n",
        "print(confusion_matrix(rounded_labels_2,rounded_labels_1))\n",
        "print(classification_report(rounded_labels_2,rounded_labels_1,zero_division=1))"
      ]
    },
    {
      "cell_type": "code",
      "source": [
        "from sklearn.metrics import roc_curve, auc\n",
        "import matplotlib.pyplot as plt\n",
        "\n",
        "fpr, tpr, thresholds = roc_curve(rounded_labels_2, pred[:,1])\n",
        "roc_auc = auc(fpr, tpr)\n",
        "\n",
        "plt.figure()\n",
        "lw = 2\n",
        "plt.plot(fpr, tpr, color='darkorange',\n",
        "         lw=lw, label='ROC curve (area = %0.2f)' % roc_auc)\n",
        "plt.plot([0, 1], [0, 1], color='navy', lw=lw, linestyle='--')\n",
        "plt.xlim([0.0, 1.0])\n",
        "plt.ylim([0.0, 1.05])\n",
        "plt.xlabel('False Positive Rate')\n",
        "plt.ylabel('True Positive Rate')\n",
        "plt.title('Receiver operating characteristic example')\n",
        "plt.legend(loc=\"lower right\")\n",
        "plt.show()"
      ],
      "metadata": {
        "id": "sOmgnR2GcfSo",
        "colab": {
          "base_uri": "https://localhost:8080/",
          "height": 295
        },
        "outputId": "13da5816-1c33-491f-d5b5-3453b473cbdb"
      },
      "execution_count": 16,
      "outputs": [
        {
          "output_type": "display_data",
          "data": {
            "text/plain": [
              "<Figure size 432x288 with 1 Axes>"
            ],
            "image/png": "[encoded data removed]"
          },
          "metadata": {
            "needs_background": "light"
          }
        }
      ]
    },
    {
      "cell_type": "code",
      "source": [
        "from sklearn.metrics import roc_auc_score\n",
        "roc_auc = roc_auc_score(y_test, pred)\n",
        "print(\"AUC: \", roc_auc)"
      ],
      "metadata": {
        "id": "D1fEC-6bJg6b",
        "colab": {
          "base_uri": "https://localhost:8080/"
        },
        "outputId": "6a88095f-6d1b-4059-e84f-1e6459a8e0e5"
      },
      "execution_count": 17,
      "outputs": [
        {
          "output_type": "stream",
          "name": "stdout",
          "text": [
            "AUC:  0.9195366474468858\n"
          ]
        }
      ]
    },
    {
      "cell_type": "code",
      "execution_count": 18,
      "metadata": {
        "id": "fodqfo7NZE-5",
        "colab": {
          "base_uri": "https://localhost:8080/"
        },
        "outputId": "7aa0828a-9b10-4e8c-bb76-782eaf3a484c"
      },
      "outputs": [
        {
          "output_type": "stream",
          "name": "stderr",
          "text": [
            "WARNING:absl:Found untraced functions such as _jit_compiled_convolution_op, _jit_compiled_convolution_op, _jit_compiled_convolution_op, _jit_compiled_convolution_op, _jit_compiled_convolution_op while saving (showing 5 of 54). These functions will not be directly callable after loading.\n"
          ]
        },
        {
          "output_type": "stream",
          "name": "stdout",
          "text": [
            "11/11 [==============================] - 1s 95ms/step - loss: 0.1796 - accuracy: 0.9598\n",
            "Test Loss: 0.17959144711494446\n",
            "Test accuracy: 95.9770143032074\n"
          ]
        }
      ],
      "source": [
        "model.load_weights(\"ResNet50_Model.hdf5\")\n",
        "model.save(\"/content/drive/MyDrive/Model Saves/Resnet50 Deep Breath\")\n",
        "score = model.evaluate(X_test,y_test ,verbose=1)\n",
        "print('Test Loss:', score[0])\n",
        "print('Test accuracy:', score[1]*100)"
      ]
    }
  ],
  "metadata": {
    "accelerator": "GPU",
    "colab": {
      "provenance": []
    },
    "gpuClass": "standard",
    "kernelspec": {
      "display_name": "Python 3",
      "name": "python3"
    },
    "language_info": {
      "name": "python"
    }
  },
  "nbformat": 4,
  "nbformat_minor": 0
}