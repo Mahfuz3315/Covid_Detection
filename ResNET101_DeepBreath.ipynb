{
  "cells": [
    {
      "cell_type": "code",
      "execution_count": 1,
      "metadata": {
        "id": "cZq8tiCL3He9"
      },
      "outputs": [],
      "source": [
        "import os\n",
        "import pandas as pd\n",
        "import numpy as np\n",
        "from tqdm import tqdm\n",
        "import keras\n",
        "from keras.utils.np_utils import to_categorical\n",
        "import cv2\n",
        "import tensorflow as tf\n",
        "from sklearn.model_selection import train_test_split\n",
        "from keras.layers import  Flatten, Dense, Dropout\n",
        "# from tensorflow.keras.applications import VGG16\n",
        "from tensorflow.keras.applications import ResNet101\n",
        "# from tensorflow.keras.applications import Xception\n",
        "from keras.callbacks import ModelCheckpoint, ReduceLROnPlateau\n",
        "#It should be \n",
        "from tensorflow.keras.layers import Input\n",
        "from tensorflow.keras import Model\n",
        "from keras import optimizers\n",
        "from tensorflow.keras.optimizers import Adam\n",
        "from keras.layers import Dense, GlobalAveragePooling2D\n",
        "from keras.layers import Dense, Dropout, Flatten, Conv2D, MaxPool2D, BatchNormalization, AveragePooling2D, GlobalAveragePooling2D\n",
        "from sklearn import preprocessing\n",
        "import keras_preprocessing\n",
        "from keras_preprocessing import image\n",
        "from keras_preprocessing.image import ImageDataGenerator\n",
        "from keras import callbacks\n",
        "import matplotlib.pyplot as plt\n",
        "from sklearn.metrics import confusion_matrix\n",
        "import seaborn as sns\n",
        "from zipfile import ZipFile"
      ]
    },
    {
      "cell_type": "code",
      "execution_count": 2,
      "metadata": {
        "colab": {
          "base_uri": "https://localhost:8080/"
        },
        "id": "Ctjb1hOsrzLV",
        "outputId": "4836b1eb-d179-4808-96cb-8a3e9cc983bc"
      },
      "outputs": [
        {
          "output_type": "stream",
          "name": "stdout",
          "text": [
            "Mounted at /content/drive\n"
          ]
        }
      ],
      "source": [
        "from google.colab import drive\n",
        "drive.mount('/content/drive')"
      ]
    },
    {
      "cell_type": "code",
      "execution_count": 3,
      "metadata": {
        "colab": {
          "base_uri": "https://localhost:8080/"
        },
        "id": "JkYepAERrixq",
        "outputId": "bd768dbb-9a4b-4bc9-eb9e-9e6bbe77ff3b"
      },
      "outputs": [
        {
          "output_type": "stream",
          "name": "stderr",
          "text": [
            "100%|██████████| 56/56 [00:37<00:00,  1.49it/s]\n",
            "100%|██████████| 1343/1343 [00:48<00:00, 27.70it/s]\n"
          ]
        },
        {
          "output_type": "stream",
          "name": "stdout",
          "text": [
            "['c', 'c', 'c', 'c', 'c', 'c', 'c', 'c', 'c', 'c', 'c', 'c', 'c', 'c', 'c', 'c', 'c', 'c', 'c', 'c', 'c', 'c', 'c', 'c', 'c', 'c', 'c', 'c', 'c', 'c', 'c', 'c', 'c', 'c', 'c', 'c', 'c', 'c', 'c', 'c', 'c', 'c', 'c', 'c', 'c', 'c', 'c', 'c', 'c', 'c', 'c', 'c', 'c', 'c', 'c', 'c', 'n', 'n', 'n', 'n', 'n', 'n', 'n', 'n', 'n', 'n', 'n', 'n', 'n', 'n', 'n', 'n', 'n', 'n', 'n', 'n', 'n', 'n', 'n', 'n', 'n', 'n', 'n', 'n', 'n', 'n', 'n', 'n', 'n', 'n', 'n', 'n', 'n', 'n', 'n', 'n', 'n', 'n', 'n', 'n', 'n', 'n', 'n', 'n', 'n', 'n', 'n', 'n', 'n', 'n', 'n', 'n', 'n', 'n', 'n', 'n', 'n', 'n', 'n', 'n', 'n', 'n', 'n', 'n', 'n', 'n', 'n', 'n', 'n', 'n', 'n', 'n', 'n', 'n', 'n', 'n', 'n', 'n', 'n', 'n', 'n', 'n', 'n', 'n', 'n', 'n', 'n', 'n', 'n', 'n', 'n', 'n', 'n', 'n', 'n', 'n', 'n', 'n', 'n', 'n', 'n', 'n', 'n', 'n', 'n', 'n', 'n', 'n', 'n', 'n', 'n', 'n', 'n', 'n', 'n', 'n', 'n', 'n', 'n', 'n', 'n', 'n', 'n', 'n', 'n', 'n', 'n', 'n', 'n', 'n', 'n', 'n', 'n', 'n', 'n', 'n', 'n', 'n', 'n', 'n', 'n', 'n', 'n', 'n', 'n', 'n', 'n', 'n', 'n', 'n', 'n', 'n', 'n', 'n', 'n', 'n', 'n', 'n', 'n', 'n', 'n', 'n', 'n', 'n', 'n', 'n', 'n', 'n', 'n', 'n', 'n', 'n', 'n', 'n', 'n', 'n', 'n', 'n', 'n', 'n', 'n', 'n', 'n', 'n', 'n', 'n', 'n', 'n', 'n', 'n', 'n', 'n', 'n', 'n', 'n', 'n', 'n', 'n', 'n', 'n', 'n', 'n', 'n', 'n', 'n', 'n', 'n', 'n', 'n', 'n', 'n', 'n', 'n', 'n', 'n', 'n', 'n', 'n', 'n', 'n', 'n', 'n', 'n', 'n', 'n', 'n', 'n', 'n', 'n', 'n', 'n', 'n', 'n', 'n', 'n', 'n', 'n', 'n', 'n', 'n', 'n', 'n', 'n', 'n', 'n', 'n', 'n', 'n', 'n', 'n', 'n', 'n', 'n', 'n', 'n', 'n', 'n', 'n', 'n', 'n', 'n', 'n', 'n', 'n', 'n', 'n', 'n', 'n', 'n', 'n', 'n', 'n', 'n', 'n', 'n', 'n', 'n', 'n', 'n', 'n', 'n', 'n', 'n', 'n', 'n', 'n', 'n', 'n', 'n', 'n', 'n', 'n', 'n', 'n', 'n', 'n', 'n', 'n', 'n', 'n', 'n', 'n', 'n', 'n', 'n', 'n', 'n', 'n', 'n', 'n', 'n', 'n', 'n', 'n', 'n', 'n', 'n', 'n', 'n', 'n', 'n', 'n', 'n', 'n', 'n', 'n', 'n', 'n', 'n', 'n', 'n', 'n', 'n', 'n', 'n', 'n', 'n', 'n', 'n', 'n', 'n', 'n', 'n', 'n', 'n', 'n', 'n', 'n', 'n', 'n', 'n', 'n', 'n', 'n', 'n', 'n', 'n', 'n', 'n', 'n', 'n', 'n', 'n', 'n', 'n', 'n', 'n', 'n', 'n', 'n', 'n', 'n', 'n', 'n', 'n', 'n', 'n', 'n', 'n', 'n', 'n', 'n', 'n', 'n', 'n', 'n', 'n', 'n', 'n', 'n', 'n', 'n', 'n', 'n', 'n', 'n', 'n', 'n', 'n', 'n', 'n', 'n', 'n', 'n', 'n', 'n', 'n', 'n', 'n', 'n', 'n', 'n', 'n', 'n', 'n', 'n', 'n', 'n', 'n', 'n', 'n', 'n', 'n', 'n', 'n', 'n', 'n', 'n', 'n', 'n', 'n', 'n', 'n', 'n', 'n', 'n', 'n', 'n', 'n', 'n', 'n', 'n', 'n', 'n', 'n', 'n', 'n', 'n', 'n', 'n', 'n', 'n', 'n', 'n', 'n', 'n', 'n', 'n', 'n', 'n', 'n', 'n', 'n', 'n', 'n', 'n', 'n', 'n', 'n', 'n', 'n', 'n', 'n', 'n', 'n', 'n', 'n', 'n', 'n', 'n', 'n', 'n', 'n', 'n', 'n', 'n', 'n', 'n', 'n', 'n', 'n', 'n', 'n', 'n', 'n', 'n', 'n', 'n', 'n', 'n', 'n', 'n', 'n', 'n', 'n', 'n', 'n', 'n', 'n', 'n', 'n', 'n', 'n', 'n', 'n', 'n', 'n', 'n', 'n', 'n', 'n', 'n', 'n', 'n', 'n', 'n', 'n', 'n', 'n', 'n', 'n', 'n', 'n', 'n', 'n', 'n', 'n', 'n', 'n', 'n', 'n', 'n', 'n', 'n', 'n', 'n', 'n', 'n', 'n', 'n', 'n', 'n', 'n', 'n', 'n', 'n', 'n', 'n', 'n', 'n', 'n', 'n', 'n', 'n', 'n', 'n', 'n', 'n', 'n', 'n', 'n', 'n', 'n', 'n', 'n', 'n', 'n', 'n', 'n', 'n', 'n', 'n', 'n', 'n', 'n', 'n', 'n', 'n', 'n', 'n', 'n', 'n', 'n', 'n', 'n', 'n', 'n', 'n', 'n', 'n', 'n', 'n', 'n', 'n', 'n', 'n', 'n', 'n', 'n', 'n', 'n', 'n', 'n', 'n', 'n', 'n', 'n', 'n', 'n', 'n', 'n', 'n', 'n', 'n', 'n', 'n', 'n', 'n', 'n', 'n', 'n', 'n', 'n', 'n', 'n', 'n', 'n', 'n', 'n', 'n', 'n', 'n', 'n', 'n', 'n', 'n', 'n', 'n', 'n', 'n', 'n', 'n', 'n', 'n', 'n', 'n', 'n', 'n', 'n', 'n', 'n', 'n', 'n', 'n', 'n', 'n', 'n', 'n', 'n', 'n', 'n', 'n', 'n', 'n', 'n', 'n', 'n', 'n', 'n', 'n', 'n', 'n', 'n', 'n', 'n', 'n', 'n', 'n', 'n', 'n', 'n', 'n', 'n', 'n', 'n', 'n', 'n', 'n', 'n', 'n', 'n', 'n', 'n', 'n', 'n', 'n', 'n', 'n', 'n', 'n', 'n', 'n', 'n', 'n', 'n', 'n', 'n', 'n', 'n', 'n', 'n', 'n', 'n', 'n', 'n', 'n', 'n', 'n', 'n', 'n', 'n', 'n', 'n', 'n', 'n', 'n', 'n', 'n', 'n', 'n', 'n', 'n', 'n', 'n', 'n', 'n', 'n', 'n', 'n', 'n', 'n', 'n', 'n', 'n', 'n', 'n', 'n', 'n', 'n', 'n', 'n', 'n', 'n', 'n', 'n', 'n', 'n', 'n', 'n', 'n', 'n', 'n', 'n', 'n', 'n', 'n', 'n', 'n', 'n', 'n', 'n', 'n', 'n', 'n', 'n', 'n', 'n', 'n', 'n', 'n', 'n', 'n', 'n', 'n', 'n', 'n', 'n', 'n', 'n', 'n', 'n', 'n', 'n', 'n', 'n', 'n', 'n', 'n', 'n', 'n', 'n', 'n', 'n', 'n', 'n', 'n', 'n', 'n', 'n', 'n', 'n', 'n', 'n', 'n', 'n', 'n', 'n', 'n', 'n', 'n', 'n', 'n', 'n', 'n', 'n', 'n', 'n', 'n', 'n', 'n', 'n', 'n', 'n', 'n', 'n', 'n', 'n', 'n', 'n', 'n', 'n', 'n', 'n', 'n', 'n', 'n', 'n', 'n', 'n', 'n', 'n', 'n', 'n', 'n', 'n', 'n', 'n', 'n', 'n', 'n', 'n', 'n', 'n', 'n', 'n', 'n', 'n', 'n', 'n', 'n', 'n', 'n', 'n', 'n', 'n', 'n', 'n', 'n', 'n', 'n', 'n', 'n', 'n', 'n', 'n', 'n', 'n', 'n', 'n', 'n', 'n', 'n', 'n', 'n', 'n', 'n', 'n', 'n', 'n', 'n', 'n', 'n', 'n', 'n', 'n', 'n', 'n', 'n', 'n', 'n', 'n', 'n', 'n', 'n', 'n', 'n', 'n', 'n', 'n', 'n', 'n', 'n', 'n', 'n', 'n', 'n', 'n', 'n', 'n', 'n', 'n', 'n', 'n', 'n', 'n', 'n', 'n', 'n', 'n', 'n', 'n', 'n', 'n', 'n', 'n', 'n', 'n', 'n', 'n', 'n', 'n', 'n', 'n', 'n', 'n', 'n', 'n', 'n', 'n', 'n', 'n', 'n', 'n', 'n', 'n', 'n', 'n', 'n', 'n', 'n', 'n', 'n', 'n', 'n', 'n', 'n', 'n', 'n', 'n', 'n', 'n', 'n', 'n', 'n', 'n', 'n', 'n', 'n', 'n', 'n', 'n', 'n', 'n', 'n', 'n', 'n', 'n', 'n', 'n', 'n', 'n', 'n', 'n', 'n', 'n', 'n', 'n', 'n', 'n', 'n', 'n', 'n', 'n', 'n', 'n', 'n', 'n', 'n', 'n', 'n', 'n', 'n', 'n', 'n', 'n', 'n', 'n', 'n', 'n', 'n', 'n', 'n', 'n', 'n', 'n', 'n', 'n', 'n', 'n', 'n', 'n', 'n', 'n', 'n', 'n', 'n', 'n', 'n', 'n', 'n', 'n', 'n', 'n', 'n', 'n', 'n', 'n', 'n', 'n', 'n', 'n', 'n', 'n', 'n', 'n', 'n', 'n', 'n', 'n', 'n', 'n', 'n', 'n', 'n', 'n', 'n', 'n', 'n', 'n', 'n', 'n', 'n', 'n', 'n', 'n', 'n', 'n', 'n', 'n', 'n', 'n', 'n', 'n', 'n', 'n', 'n', 'n', 'n', 'n', 'n', 'n', 'n', 'n', 'n', 'n', 'n', 'n', 'n', 'n', 'n', 'n', 'n', 'n', 'n', 'n', 'n', 'n', 'n', 'n', 'n', 'n', 'n', 'n', 'n', 'n', 'n', 'n', 'n', 'n', 'n', 'n', 'n', 'n', 'n', 'n', 'n', 'n', 'n', 'n', 'n', 'n', 'n', 'n', 'n', 'n', 'n', 'n', 'n', 'n', 'n', 'n', 'n', 'n', 'n', 'n', 'n', 'n', 'n', 'n', 'n', 'n', 'n', 'n', 'n', 'n', 'n', 'n', 'n', 'n', 'n', 'n', 'n', 'n', 'n', 'n', 'n', 'n', 'n', 'n', 'n', 'n', 'n', 'n', 'n', 'n', 'n', 'n', 'n', 'n', 'n', 'n', 'n', 'n', 'n', 'n', 'n', 'n', 'n', 'n', 'n', 'n', 'n', 'n', 'n', 'n', 'n', 'n', 'n', 'n', 'n', 'n', 'n', 'n', 'n', 'n', 'n', 'n', 'n', 'n', 'n', 'n', 'n', 'n', 'n', 'n', 'n', 'n', 'n', 'n', 'n', 'n', 'n', 'n', 'n', 'n', 'n', 'n', 'n', 'n', 'n', 'n', 'n', 'n', 'n', 'n', 'n', 'n', 'n', 'n', 'n', 'n', 'n', 'n', 'n', 'n', 'n', 'n', 'n', 'n', 'n', 'n', 'n', 'n', 'n', 'n', 'n', 'n', 'n', 'n', 'n', 'n', 'n', 'n', 'n', 'n', 'n', 'n', 'n', 'n', 'n', 'n', 'n', 'n', 'n', 'n', 'n', 'n', 'n', 'n', 'n', 'n', 'n', 'n', 'n', 'n', 'n', 'n', 'n', 'n', 'n', 'n', 'n', 'n', 'n', 'n', 'n', 'n', 'n', 'n', 'n', 'n', 'n', 'n', 'n', 'n', 'n', 'n', 'n', 'n', 'n', 'n', 'n', 'n', 'n', 'n', 'n']\n",
            "(1840, 224, 224, 3)\n"
          ]
        }
      ],
      "source": [
        "from pickle import NONE\n",
        "from pathlib import Path\n",
        "\n",
        "from zmq.constants import NULL\n",
        "X = []\n",
        "y = []\n",
        "os.chdir('/content/drive/MyDrive/Spectrogram For Train Test/Deep Breath Cov-Non Cov/Covid')\n",
        "for i in tqdm(os.listdir()):\n",
        "      img = cv2.imread(i)   \n",
        "      img = cv2.resize(img,(224,224))\n",
        "      X.append(img)\n",
        "      y.append('c')\n",
        "\n",
        "os.chdir('/content/drive/MyDrive/Spectrogram For Train Test/Deep Breath Cov-Non Cov/Non Covid')\n",
        "for i in tqdm(os.listdir()):\n",
        "      img = cv2.imread(i)\n",
        "      if(type(img) == type(None)):\n",
        "        pass\n",
        "      else:\n",
        "        img = cv2.resize(img,(224,224))\n",
        "        X.append(img)\n",
        "        y.append('n')\n",
        "\n",
        "from imblearn.over_sampling import SMOTE\n",
        "sm = SMOTE(sampling_strategy={'c': 500},random_state=42)\n",
        "X = np.array(X)\n",
        "X_resampled, y_resampled = sm.fit_resample(X.reshape(X.shape[0], -1), np.array(y))\n",
        "X_resampled = X_resampled.reshape(-1, 224, 224, 3)\n",
        "\n",
        "X_train, X_test, y_train, y_test = train_test_split(X_resampled, y_resampled, test_size=0.20, random_state=42)\n",
        "print(y)\n",
        "print(X_resampled.shape)"
      ]
    },
    {
      "cell_type": "code",
      "source": [
        "\n",
        "print (\"Shape of an image in X_train: \", X_train[0].shape)\n",
        "print (\"Shape of an image in X_test: \", X_test[0].shape)\n",
        "le = preprocessing.LabelEncoder()\n",
        "y_train = le.fit_transform(y_train)\n",
        "y_test = le.fit_transform(y_test)\n",
        "y_train = tf.keras.utils.to_categorical(y_train, num_classes=2)\n",
        "y_test = tf.keras.utils.to_categorical(y_test, num_classes=2)\n",
        "y_train = np.array(y_train)\n",
        "X_train = np.array(X_train)\n",
        "y_test = np.array(y_test)\n",
        "X_test = np.array(X_test) "
      ],
      "metadata": {
        "id": "y74KEyzQeBCZ",
        "colab": {
          "base_uri": "https://localhost:8080/"
        },
        "outputId": "169fdde6-34bb-4581-b377-493d73178b11"
      },
      "execution_count": 4,
      "outputs": [
        {
          "output_type": "stream",
          "name": "stdout",
          "text": [
            "Shape of an image in X_train:  (224, 224, 3)\n",
            "Shape of an image in X_test:  (224, 224, 3)\n"
          ]
        }
      ]
    },
    {
      "cell_type": "code",
      "execution_count": 7,
      "metadata": {
        "id": "VC1NDQMhHkk6"
      },
      "outputs": [],
      "source": [
        "BATCH_SIZE =20\n",
        "EPOCHS = 100\n",
        "SIZE = 224\n",
        "N_ch=3"
      ]
    },
    {
      "cell_type": "code",
      "execution_count": 8,
      "metadata": {
        "id": "jEJkx65YHw5B"
      },
      "outputs": [],
      "source": [
        "def build_resnet101():\n",
        "    resnet101 = ResNet101(weights='imagenet', include_top=False)\n",
        "\n",
        "    input = Input(shape=(SIZE, SIZE, N_ch))\n",
        "    x = Conv2D(3, (3, 3), padding='same')(input)\n",
        "    \n",
        "    x = resnet101(x)\n",
        "    \n",
        "    x = GlobalAveragePooling2D()(x)\n",
        "    x = BatchNormalization()(x)\n",
        "    x = Dropout(0.5)(x)\n",
        "    x = Dense(1024, activation='relu')(x)\n",
        "    x = Dense(512, activation='relu')(x)\n",
        "    x = BatchNormalization()(x)\n",
        "    x = Dropout(0.5)(x)\n",
        "\n",
        "    # multi output\n",
        "    output = Dense(2,activation = 'softmax', name='root')(x)\n",
        " \n",
        "\n",
        "    # model\n",
        "    model = Model(input,output)\n",
        "    \n",
        "    optimizer = Adam(lr=0.0005, beta_1=0.9, beta_2=0.999, epsilon=0.1, decay=0.0)\n",
        "    model.compile(loss='categorical_crossentropy', optimizer=optimizer, metrics=['accuracy'])\n",
        "    model.summary()\n",
        "    \n",
        "    return model"
      ]
    },
    {
      "cell_type": "code",
      "execution_count": 9,
      "metadata": {
        "colab": {
          "base_uri": "https://localhost:8080/"
        },
        "id": "m_-W-Ck6H2Yk",
        "outputId": "5285511b-3a4f-46e4-9f15-129ec5c2dee5"
      },
      "outputs": [
        {
          "output_type": "stream",
          "name": "stdout",
          "text": [
            "Downloading data from https://storage.googleapis.com/tensorflow/keras-applications/resnet/resnet101_weights_tf_dim_ordering_tf_kernels_notop.h5\n",
            "171446536/171446536 [==============================] - 7s 0us/step\n",
            "Model: \"model\"\n",
            "_________________________________________________________________\n",
            " Layer (type)                Output Shape              Param #   \n",
            "=================================================================\n",
            " input_2 (InputLayer)        [(None, 224, 224, 3)]     0         \n",
            "                                                                 \n",
            " conv2d (Conv2D)             (None, 224, 224, 3)       84        \n",
            "                                                                 \n",
            " resnet101 (Functional)      (None, None, None, 2048)  42658176  \n",
            "                                                                 \n",
            " global_average_pooling2d (G  (None, 2048)             0         \n",
            " lobalAveragePooling2D)                                          \n",
            "                                                                 \n",
            " batch_normalization (BatchN  (None, 2048)             8192      \n",
            " ormalization)                                                   \n",
            "                                                                 \n",
            " dropout (Dropout)           (None, 2048)              0         \n",
            "                                                                 \n",
            " dense (Dense)               (None, 1024)              2098176   \n",
            "                                                                 \n",
            " dense_1 (Dense)             (None, 512)               524800    \n",
            "                                                                 \n",
            " batch_normalization_1 (Batc  (None, 512)              2048      \n",
            " hNormalization)                                                 \n",
            "                                                                 \n",
            " dropout_1 (Dropout)         (None, 512)               0         \n",
            "                                                                 \n",
            " root (Dense)                (None, 2)                 1026      \n",
            "                                                                 \n",
            "=================================================================\n",
            "Total params: 45,292,502\n",
            "Trainable params: 45,182,038\n",
            "Non-trainable params: 110,464\n",
            "_________________________________________________________________\n"
          ]
        },
        {
          "output_type": "stream",
          "name": "stderr",
          "text": [
            "/usr/local/lib/python3.8/dist-packages/keras/optimizers/optimizer_v2/adam.py:110: UserWarning: The `lr` argument is deprecated, use `learning_rate` instead.\n",
            "  super(Adam, self).__init__(name, **kwargs)\n"
          ]
        }
      ],
      "source": [
        "model = build_resnet101()\n",
        "annealer = ReduceLROnPlateau(monitor='val_accuracy', factor=0.70, patience=5, verbose=1, min_lr=1e-4)\n",
        "checkpoint = ModelCheckpoint('ResNet101_Model.hdf5', verbose=1, save_best_only=True)\n",
        "datagen = ImageDataGenerator(rotation_range=360, \n",
        "                        width_shift_range=0.2, \n",
        "                        height_shift_range=0.2,\n",
        "                        zoom_range=0.2, \n",
        "                        horizontal_flip=True, \n",
        "                        vertical_flip=True) \n",
        "\n",
        "datagen.fit(X_train)"
      ]
    },
    {
      "cell_type": "code",
      "execution_count": 10,
      "metadata": {
        "colab": {
          "base_uri": "https://localhost:8080/"
        },
        "id": "KpsDnAPAH8wW",
        "outputId": "701b9338-1670-44d5-c697-b2e5791c399a"
      },
      "outputs": [
        {
          "output_type": "stream",
          "name": "stderr",
          "text": [
            "<ipython-input-10-c4089a8f5804>:2: UserWarning: `Model.fit_generator` is deprecated and will be removed in a future version. Please use `Model.fit`, which supports generators.\n",
            "  history = model.fit_generator(datagen.flow(X_train, y_train, batch_size=BATCH_SIZE),\n"
          ]
        },
        {
          "output_type": "stream",
          "name": "stdout",
          "text": [
            "Epoch 1/100\n",
            "10/10 [==============================] - ETA: 0s - loss: 1.2013 - accuracy: 0.5500\n",
            "Epoch 1: val_loss improved from inf to 0.51002, saving model to ResNet101_Model.hdf5\n",
            "10/10 [==============================] - 37s 2s/step - loss: 1.2013 - accuracy: 0.5500 - val_loss: 0.5100 - val_accuracy: 0.7826 - lr: 5.0000e-04\n",
            "Epoch 2/100\n",
            "10/10 [==============================] - ETA: 0s - loss: 1.1047 - accuracy: 0.5208\n",
            "Epoch 2: val_loss improved from 0.51002 to 0.48056, saving model to ResNet101_Model.hdf5\n",
            "10/10 [==============================] - 10s 1s/step - loss: 1.1047 - accuracy: 0.5208 - val_loss: 0.4806 - val_accuracy: 0.8071 - lr: 5.0000e-04\n",
            "Epoch 3/100\n",
            "10/10 [==============================] - ETA: 0s - loss: 0.9487 - accuracy: 0.5833\n",
            "Epoch 3: val_loss did not improve from 0.48056\n",
            "10/10 [==============================] - 6s 561ms/step - loss: 0.9487 - accuracy: 0.5833 - val_loss: 0.4902 - val_accuracy: 0.8723 - lr: 5.0000e-04\n",
            "Epoch 4/100\n",
            "10/10 [==============================] - ETA: 0s - loss: 1.0722 - accuracy: 0.5677\n",
            "Epoch 4: val_loss did not improve from 0.48056\n",
            "10/10 [==============================] - 6s 563ms/step - loss: 1.0722 - accuracy: 0.5677 - val_loss: 0.5409 - val_accuracy: 0.7826 - lr: 5.0000e-04\n",
            "Epoch 5/100\n",
            "10/10 [==============================] - ETA: 0s - loss: 1.0283 - accuracy: 0.5900\n",
            "Epoch 5: val_loss did not improve from 0.48056\n",
            "10/10 [==============================] - 6s 576ms/step - loss: 1.0283 - accuracy: 0.5900 - val_loss: 0.5668 - val_accuracy: 0.7201 - lr: 5.0000e-04\n",
            "Epoch 6/100\n",
            "10/10 [==============================] - ETA: 0s - loss: 0.8896 - accuracy: 0.6250\n",
            "Epoch 6: val_loss did not improve from 0.48056\n",
            "10/10 [==============================] - 6s 582ms/step - loss: 0.8896 - accuracy: 0.6250 - val_loss: 0.6013 - val_accuracy: 0.6549 - lr: 5.0000e-04\n",
            "Epoch 7/100\n",
            "10/10 [==============================] - ETA: 0s - loss: 0.7118 - accuracy: 0.7150\n",
            "Epoch 7: val_loss did not improve from 0.48056\n",
            "10/10 [==============================] - 6s 580ms/step - loss: 0.7118 - accuracy: 0.7150 - val_loss: 0.6168 - val_accuracy: 0.6114 - lr: 5.0000e-04\n",
            "Epoch 8/100\n",
            "10/10 [==============================] - ETA: 0s - loss: 0.7105 - accuracy: 0.7350\n",
            "Epoch 8: ReduceLROnPlateau reducing learning rate to 0.00035000001662410796.\n",
            "\n",
            "Epoch 8: val_loss did not improve from 0.48056\n",
            "10/10 [==============================] - 6s 584ms/step - loss: 0.7105 - accuracy: 0.7350 - val_loss: 0.5906 - val_accuracy: 0.6168 - lr: 5.0000e-04\n",
            "Epoch 9/100\n",
            "10/10 [==============================] - ETA: 0s - loss: 0.5851 - accuracy: 0.7600\n",
            "Epoch 9: val_loss did not improve from 0.48056\n",
            "10/10 [==============================] - 6s 585ms/step - loss: 0.5851 - accuracy: 0.7600 - val_loss: 0.5803 - val_accuracy: 0.6440 - lr: 3.5000e-04\n",
            "Epoch 10/100\n",
            "10/10 [==============================] - ETA: 0s - loss: 0.5665 - accuracy: 0.7900\n",
            "Epoch 10: val_loss did not improve from 0.48056\n",
            "10/10 [==============================] - 6s 590ms/step - loss: 0.5665 - accuracy: 0.7900 - val_loss: 0.5335 - val_accuracy: 0.6902 - lr: 3.5000e-04\n",
            "Epoch 11/100\n",
            "10/10 [==============================] - ETA: 0s - loss: 0.4962 - accuracy: 0.7500\n",
            "Epoch 11: val_loss improved from 0.48056 to 0.47836, saving model to ResNet101_Model.hdf5\n",
            "10/10 [==============================] - 12s 1s/step - loss: 0.4962 - accuracy: 0.7500 - val_loss: 0.4784 - val_accuracy: 0.7446 - lr: 3.5000e-04\n",
            "Epoch 12/100\n",
            "10/10 [==============================] - ETA: 0s - loss: 0.5872 - accuracy: 0.7400\n",
            "Epoch 12: val_loss improved from 0.47836 to 0.44486, saving model to ResNet101_Model.hdf5\n",
            "10/10 [==============================] - 9s 948ms/step - loss: 0.5872 - accuracy: 0.7400 - val_loss: 0.4449 - val_accuracy: 0.7690 - lr: 3.5000e-04\n",
            "Epoch 13/100\n",
            "10/10 [==============================] - ETA: 0s - loss: 0.6540 - accuracy: 0.7600\n",
            "Epoch 13: ReduceLROnPlateau reducing learning rate to 0.00024500001163687554.\n",
            "\n",
            "Epoch 13: val_loss did not improve from 0.44486\n",
            "10/10 [==============================] - 6s 600ms/step - loss: 0.6540 - accuracy: 0.7600 - val_loss: 0.4781 - val_accuracy: 0.7582 - lr: 3.5000e-04\n",
            "Epoch 14/100\n",
            "10/10 [==============================] - ETA: 0s - loss: 0.4872 - accuracy: 0.8021\n",
            "Epoch 14: val_loss did not improve from 0.44486\n",
            "10/10 [==============================] - 7s 685ms/step - loss: 0.4872 - accuracy: 0.8021 - val_loss: 0.4682 - val_accuracy: 0.7663 - lr: 2.4500e-04\n",
            "Epoch 15/100\n",
            "10/10 [==============================] - ETA: 0s - loss: 0.4998 - accuracy: 0.7344\n",
            "Epoch 15: val_loss improved from 0.44486 to 0.40287, saving model to ResNet101_Model.hdf5\n",
            "10/10 [==============================] - 12s 1s/step - loss: 0.4998 - accuracy: 0.7344 - val_loss: 0.4029 - val_accuracy: 0.8016 - lr: 2.4500e-04\n",
            "Epoch 16/100\n",
            "10/10 [==============================] - ETA: 0s - loss: 0.3999 - accuracy: 0.8350\n",
            "Epoch 16: val_loss improved from 0.40287 to 0.35718, saving model to ResNet101_Model.hdf5\n",
            "10/10 [==============================] - 9s 956ms/step - loss: 0.3999 - accuracy: 0.8350 - val_loss: 0.3572 - val_accuracy: 0.8234 - lr: 2.4500e-04\n",
            "Epoch 17/100\n",
            "10/10 [==============================] - ETA: 0s - loss: 0.5683 - accuracy: 0.7850\n",
            "Epoch 17: val_loss improved from 0.35718 to 0.34919, saving model to ResNet101_Model.hdf5\n",
            "10/10 [==============================] - 9s 961ms/step - loss: 0.5683 - accuracy: 0.7850 - val_loss: 0.3492 - val_accuracy: 0.8370 - lr: 2.4500e-04\n",
            "Epoch 18/100\n",
            "10/10 [==============================] - ETA: 0s - loss: 0.5542 - accuracy: 0.7800\n",
            "Epoch 18: ReduceLROnPlateau reducing learning rate to 0.00017150000203400848.\n",
            "\n",
            "Epoch 18: val_loss did not improve from 0.34919\n",
            "10/10 [==============================] - 6s 599ms/step - loss: 0.5542 - accuracy: 0.7800 - val_loss: 0.3776 - val_accuracy: 0.8098 - lr: 2.4500e-04\n",
            "Epoch 19/100\n",
            "10/10 [==============================] - ETA: 0s - loss: 0.4947 - accuracy: 0.7900\n",
            "Epoch 19: val_loss did not improve from 0.34919\n",
            "10/10 [==============================] - 7s 689ms/step - loss: 0.4947 - accuracy: 0.7900 - val_loss: 0.3808 - val_accuracy: 0.7962 - lr: 1.7150e-04\n",
            "Epoch 20/100\n",
            "10/10 [==============================] - ETA: 0s - loss: 0.5774 - accuracy: 0.7850\n",
            "Epoch 20: val_loss did not improve from 0.34919\n",
            "10/10 [==============================] - 6s 600ms/step - loss: 0.5774 - accuracy: 0.7850 - val_loss: 0.3807 - val_accuracy: 0.7989 - lr: 1.7150e-04\n",
            "Epoch 21/100\n",
            "10/10 [==============================] - ETA: 0s - loss: 0.3898 - accuracy: 0.8450\n",
            "Epoch 21: val_loss did not improve from 0.34919\n",
            "10/10 [==============================] - 6s 605ms/step - loss: 0.3898 - accuracy: 0.8450 - val_loss: 0.3774 - val_accuracy: 0.8125 - lr: 1.7150e-04\n",
            "Epoch 22/100\n",
            "10/10 [==============================] - ETA: 0s - loss: 0.5971 - accuracy: 0.7900\n",
            "Epoch 22: val_loss did not improve from 0.34919\n",
            "10/10 [==============================] - 7s 720ms/step - loss: 0.5971 - accuracy: 0.7900 - val_loss: 0.3711 - val_accuracy: 0.8043 - lr: 1.7150e-04\n",
            "Epoch 23/100\n",
            "10/10 [==============================] - ETA: 0s - loss: 0.4430 - accuracy: 0.8250\n",
            "Epoch 23: ReduceLROnPlateau reducing learning rate to 0.00012004999734926967.\n",
            "\n",
            "Epoch 23: val_loss did not improve from 0.34919\n",
            "10/10 [==============================] - 6s 603ms/step - loss: 0.4430 - accuracy: 0.8250 - val_loss: 0.3777 - val_accuracy: 0.8152 - lr: 1.7150e-04\n",
            "Epoch 24/100\n",
            "10/10 [==============================] - ETA: 0s - loss: 0.5285 - accuracy: 0.7760\n",
            "Epoch 24: val_loss did not improve from 0.34919\n",
            "10/10 [==============================] - 6s 586ms/step - loss: 0.5285 - accuracy: 0.7760 - val_loss: 0.3866 - val_accuracy: 0.8071 - lr: 1.2005e-04\n",
            "Epoch 25/100\n",
            "10/10 [==============================] - ETA: 0s - loss: 0.4864 - accuracy: 0.8400\n",
            "Epoch 25: val_loss did not improve from 0.34919\n",
            "10/10 [==============================] - 6s 599ms/step - loss: 0.4864 - accuracy: 0.8400 - val_loss: 0.3883 - val_accuracy: 0.8043 - lr: 1.2005e-04\n",
            "Epoch 26/100\n",
            "10/10 [==============================] - ETA: 0s - loss: 0.3766 - accuracy: 0.8438\n",
            "Epoch 26: val_loss did not improve from 0.34919\n",
            "10/10 [==============================] - 6s 586ms/step - loss: 0.3766 - accuracy: 0.8438 - val_loss: 0.4011 - val_accuracy: 0.8043 - lr: 1.2005e-04\n",
            "Epoch 27/100\n",
            "10/10 [==============================] - ETA: 0s - loss: 0.5006 - accuracy: 0.8000\n",
            "Epoch 27: val_loss did not improve from 0.34919\n",
            "10/10 [==============================] - 6s 602ms/step - loss: 0.5006 - accuracy: 0.8000 - val_loss: 0.3933 - val_accuracy: 0.8043 - lr: 1.2005e-04\n",
            "Epoch 28/100\n",
            "10/10 [==============================] - ETA: 0s - loss: 0.4312 - accuracy: 0.8450\n",
            "Epoch 28: ReduceLROnPlateau reducing learning rate to 0.0001.\n",
            "\n",
            "Epoch 28: val_loss did not improve from 0.34919\n",
            "10/10 [==============================] - 6s 596ms/step - loss: 0.4312 - accuracy: 0.8450 - val_loss: 0.3898 - val_accuracy: 0.8098 - lr: 1.2005e-04\n",
            "Epoch 29/100\n",
            "10/10 [==============================] - ETA: 0s - loss: 0.4521 - accuracy: 0.8100\n",
            "Epoch 29: val_loss did not improve from 0.34919\n",
            "10/10 [==============================] - 6s 601ms/step - loss: 0.4521 - accuracy: 0.8100 - val_loss: 0.4422 - val_accuracy: 0.8179 - lr: 1.0000e-04\n",
            "Epoch 30/100\n",
            "10/10 [==============================] - ETA: 0s - loss: 0.3472 - accuracy: 0.8594\n",
            "Epoch 30: val_loss did not improve from 0.34919\n",
            "10/10 [==============================] - 7s 669ms/step - loss: 0.3472 - accuracy: 0.8594 - val_loss: 0.4437 - val_accuracy: 0.8234 - lr: 1.0000e-04\n",
            "Epoch 31/100\n",
            "10/10 [==============================] - ETA: 0s - loss: 0.3493 - accuracy: 0.8700\n",
            "Epoch 31: val_loss did not improve from 0.34919\n",
            "10/10 [==============================] - 6s 599ms/step - loss: 0.3493 - accuracy: 0.8700 - val_loss: 0.4348 - val_accuracy: 0.8315 - lr: 1.0000e-04\n",
            "Epoch 32/100\n",
            "10/10 [==============================] - ETA: 0s - loss: 0.5560 - accuracy: 0.7950\n",
            "Epoch 32: val_loss did not improve from 0.34919\n",
            "10/10 [==============================] - 6s 602ms/step - loss: 0.5560 - accuracy: 0.7950 - val_loss: 0.3980 - val_accuracy: 0.8234 - lr: 1.0000e-04\n",
            "Epoch 33/100\n",
            "10/10 [==============================] - ETA: 0s - loss: 0.4154 - accuracy: 0.8500\n",
            "Epoch 33: val_loss did not improve from 0.34919\n",
            "10/10 [==============================] - 6s 603ms/step - loss: 0.4154 - accuracy: 0.8500 - val_loss: 0.3744 - val_accuracy: 0.8397 - lr: 1.0000e-04\n",
            "Epoch 34/100\n",
            "10/10 [==============================] - ETA: 0s - loss: 0.3788 - accuracy: 0.8400\n",
            "Epoch 34: val_loss did not improve from 0.34919\n",
            "10/10 [==============================] - 6s 601ms/step - loss: 0.3788 - accuracy: 0.8400 - val_loss: 0.3922 - val_accuracy: 0.8397 - lr: 1.0000e-04\n",
            "Epoch 35/100\n",
            "10/10 [==============================] - ETA: 0s - loss: 0.4830 - accuracy: 0.7812\n",
            "Epoch 35: val_loss did not improve from 0.34919\n",
            "10/10 [==============================] - 6s 589ms/step - loss: 0.4830 - accuracy: 0.7812 - val_loss: 0.3819 - val_accuracy: 0.8234 - lr: 1.0000e-04\n",
            "Epoch 36/100\n",
            "10/10 [==============================] - ETA: 0s - loss: 0.3290 - accuracy: 0.8600\n",
            "Epoch 36: val_loss did not improve from 0.34919\n",
            "10/10 [==============================] - 6s 597ms/step - loss: 0.3290 - accuracy: 0.8600 - val_loss: 0.3762 - val_accuracy: 0.8261 - lr: 1.0000e-04\n",
            "Epoch 37/100\n",
            "10/10 [==============================] - ETA: 0s - loss: 0.3510 - accuracy: 0.8500\n",
            "Epoch 37: val_loss did not improve from 0.34919\n",
            "10/10 [==============================] - 6s 595ms/step - loss: 0.3510 - accuracy: 0.8500 - val_loss: 0.3632 - val_accuracy: 0.8342 - lr: 1.0000e-04\n",
            "Epoch 38/100\n",
            "10/10 [==============================] - ETA: 0s - loss: 0.4428 - accuracy: 0.8250\n",
            "Epoch 38: val_loss did not improve from 0.34919\n",
            "10/10 [==============================] - 6s 600ms/step - loss: 0.4428 - accuracy: 0.8250 - val_loss: 0.3649 - val_accuracy: 0.8478 - lr: 1.0000e-04\n",
            "Epoch 39/100\n",
            "10/10 [==============================] - ETA: 0s - loss: 0.3334 - accuracy: 0.8490\n",
            "Epoch 39: val_loss did not improve from 0.34919\n",
            "10/10 [==============================] - 6s 593ms/step - loss: 0.3334 - accuracy: 0.8490 - val_loss: 0.4156 - val_accuracy: 0.8424 - lr: 1.0000e-04\n",
            "Epoch 40/100\n",
            "10/10 [==============================] - ETA: 0s - loss: 0.3310 - accuracy: 0.8550\n",
            "Epoch 40: val_loss did not improve from 0.34919\n",
            "10/10 [==============================] - 6s 605ms/step - loss: 0.3310 - accuracy: 0.8550 - val_loss: 0.4584 - val_accuracy: 0.8696 - lr: 1.0000e-04\n",
            "Epoch 41/100\n",
            "10/10 [==============================] - ETA: 0s - loss: 0.3299 - accuracy: 0.8450\n",
            "Epoch 41: val_loss did not improve from 0.34919\n",
            "10/10 [==============================] - 6s 598ms/step - loss: 0.3299 - accuracy: 0.8450 - val_loss: 0.4202 - val_accuracy: 0.8804 - lr: 1.0000e-04\n",
            "Epoch 42/100\n",
            "10/10 [==============================] - ETA: 0s - loss: 0.2556 - accuracy: 0.9150\n",
            "Epoch 42: val_loss did not improve from 0.34919\n",
            "10/10 [==============================] - 6s 597ms/step - loss: 0.2556 - accuracy: 0.9150 - val_loss: 0.3734 - val_accuracy: 0.8967 - lr: 1.0000e-04\n",
            "Epoch 43/100\n",
            "10/10 [==============================] - ETA: 0s - loss: 0.3394 - accuracy: 0.8800\n",
            "Epoch 43: val_loss did not improve from 0.34919\n",
            "10/10 [==============================] - 6s 596ms/step - loss: 0.3394 - accuracy: 0.8800 - val_loss: 0.4057 - val_accuracy: 0.9049 - lr: 1.0000e-04\n",
            "Epoch 44/100\n",
            "10/10 [==============================] - ETA: 0s - loss: 0.3926 - accuracy: 0.8600\n",
            "Epoch 44: val_loss did not improve from 0.34919\n",
            "10/10 [==============================] - 7s 681ms/step - loss: 0.3926 - accuracy: 0.8600 - val_loss: 0.4072 - val_accuracy: 0.9076 - lr: 1.0000e-04\n",
            "Epoch 45/100\n",
            "10/10 [==============================] - ETA: 0s - loss: 0.3251 - accuracy: 0.8800\n",
            "Epoch 45: val_loss did not improve from 0.34919\n",
            "10/10 [==============================] - 6s 599ms/step - loss: 0.3251 - accuracy: 0.8800 - val_loss: 0.4104 - val_accuracy: 0.9103 - lr: 1.0000e-04\n",
            "Epoch 46/100\n",
            "10/10 [==============================] - ETA: 0s - loss: 0.4361 - accuracy: 0.8550\n",
            "Epoch 46: val_loss did not improve from 0.34919\n",
            "10/10 [==============================] - 6s 600ms/step - loss: 0.4361 - accuracy: 0.8550 - val_loss: 0.3612 - val_accuracy: 0.9076 - lr: 1.0000e-04\n",
            "Epoch 47/100\n",
            "10/10 [==============================] - ETA: 0s - loss: 0.4119 - accuracy: 0.8600\n",
            "Epoch 47: val_loss improved from 0.34919 to 0.30969, saving model to ResNet101_Model.hdf5\n",
            "10/10 [==============================] - 12s 1s/step - loss: 0.4119 - accuracy: 0.8600 - val_loss: 0.3097 - val_accuracy: 0.9049 - lr: 1.0000e-04\n",
            "Epoch 48/100\n",
            "10/10 [==============================] - ETA: 0s - loss: 0.3178 - accuracy: 0.8958\n",
            "Epoch 48: val_loss improved from 0.30969 to 0.28477, saving model to ResNet101_Model.hdf5\n",
            "10/10 [==============================] - 10s 1s/step - loss: 0.3178 - accuracy: 0.8958 - val_loss: 0.2848 - val_accuracy: 0.9022 - lr: 1.0000e-04\n",
            "Epoch 49/100\n",
            "10/10 [==============================] - ETA: 0s - loss: 0.3597 - accuracy: 0.8500\n",
            "Epoch 49: val_loss improved from 0.28477 to 0.27405, saving model to ResNet101_Model.hdf5\n",
            "10/10 [==============================] - 9s 958ms/step - loss: 0.3597 - accuracy: 0.8500 - val_loss: 0.2741 - val_accuracy: 0.8995 - lr: 1.0000e-04\n",
            "Epoch 50/100\n",
            "10/10 [==============================] - ETA: 0s - loss: 0.4047 - accuracy: 0.8500\n",
            "Epoch 50: val_loss did not improve from 0.27405\n",
            "10/10 [==============================] - 6s 601ms/step - loss: 0.4047 - accuracy: 0.8500 - val_loss: 0.2928 - val_accuracy: 0.9022 - lr: 1.0000e-04\n",
            "Epoch 51/100\n",
            "10/10 [==============================] - ETA: 0s - loss: 0.3752 - accuracy: 0.8750\n",
            "Epoch 51: val_loss did not improve from 0.27405\n",
            "10/10 [==============================] - 6s 610ms/step - loss: 0.3752 - accuracy: 0.8750 - val_loss: 0.3140 - val_accuracy: 0.8995 - lr: 1.0000e-04\n",
            "Epoch 52/100\n",
            "10/10 [==============================] - ETA: 0s - loss: 0.3557 - accuracy: 0.9000\n",
            "Epoch 52: val_loss did not improve from 0.27405\n",
            "10/10 [==============================] - 6s 603ms/step - loss: 0.3557 - accuracy: 0.9000 - val_loss: 0.2993 - val_accuracy: 0.8940 - lr: 1.0000e-04\n",
            "Epoch 53/100\n",
            "10/10 [==============================] - ETA: 0s - loss: 0.3346 - accuracy: 0.8700\n",
            "Epoch 53: val_loss did not improve from 0.27405\n",
            "10/10 [==============================] - 6s 599ms/step - loss: 0.3346 - accuracy: 0.8700 - val_loss: 0.2891 - val_accuracy: 0.8886 - lr: 1.0000e-04\n",
            "Epoch 54/100\n",
            "10/10 [==============================] - ETA: 0s - loss: 0.3293 - accuracy: 0.8850\n",
            "Epoch 54: val_loss did not improve from 0.27405\n",
            "10/10 [==============================] - 6s 598ms/step - loss: 0.3293 - accuracy: 0.8850 - val_loss: 0.2774 - val_accuracy: 0.8967 - lr: 1.0000e-04\n",
            "Epoch 55/100\n",
            "10/10 [==============================] - ETA: 0s - loss: 0.3914 - accuracy: 0.8750\n",
            "Epoch 55: val_loss did not improve from 0.27405\n",
            "10/10 [==============================] - 7s 682ms/step - loss: 0.3914 - accuracy: 0.8750 - val_loss: 0.2755 - val_accuracy: 0.8859 - lr: 1.0000e-04\n",
            "Epoch 56/100\n",
            "10/10 [==============================] - ETA: 0s - loss: 0.3546 - accuracy: 0.8542\n",
            "Epoch 56: val_loss did not improve from 0.27405\n",
            "10/10 [==============================] - 6s 587ms/step - loss: 0.3546 - accuracy: 0.8542 - val_loss: 0.2803 - val_accuracy: 0.8859 - lr: 1.0000e-04\n",
            "Epoch 57/100\n",
            "10/10 [==============================] - ETA: 0s - loss: 0.3026 - accuracy: 0.8750\n",
            "Epoch 57: val_loss did not improve from 0.27405\n",
            "10/10 [==============================] - 6s 604ms/step - loss: 0.3026 - accuracy: 0.8750 - val_loss: 0.2804 - val_accuracy: 0.8940 - lr: 1.0000e-04\n",
            "Epoch 58/100\n",
            "10/10 [==============================] - ETA: 0s - loss: 0.3361 - accuracy: 0.8550\n",
            "Epoch 58: val_loss improved from 0.27405 to 0.26472, saving model to ResNet101_Model.hdf5\n",
            "10/10 [==============================] - 13s 1s/step - loss: 0.3361 - accuracy: 0.8550 - val_loss: 0.2647 - val_accuracy: 0.9076 - lr: 1.0000e-04\n",
            "Epoch 59/100\n",
            "10/10 [==============================] - ETA: 0s - loss: 0.4131 - accuracy: 0.8700\n",
            "Epoch 59: val_loss improved from 0.26472 to 0.22057, saving model to ResNet101_Model.hdf5\n",
            "10/10 [==============================] - 9s 956ms/step - loss: 0.4131 - accuracy: 0.8700 - val_loss: 0.2206 - val_accuracy: 0.9158 - lr: 1.0000e-04\n",
            "Epoch 60/100\n",
            "10/10 [==============================] - ETA: 0s - loss: 0.2912 - accuracy: 0.9050\n",
            "Epoch 60: val_loss did not improve from 0.22057\n",
            "10/10 [==============================] - 6s 598ms/step - loss: 0.2912 - accuracy: 0.9050 - val_loss: 0.2259 - val_accuracy: 0.9158 - lr: 1.0000e-04\n",
            "Epoch 61/100\n",
            "10/10 [==============================] - ETA: 0s - loss: 0.4106 - accuracy: 0.8600\n",
            "Epoch 61: val_loss improved from 0.22057 to 0.21436, saving model to ResNet101_Model.hdf5\n",
            "10/10 [==============================] - 11s 1s/step - loss: 0.4106 - accuracy: 0.8600 - val_loss: 0.2144 - val_accuracy: 0.9130 - lr: 1.0000e-04\n",
            "Epoch 62/100\n",
            "10/10 [==============================] - ETA: 0s - loss: 0.3234 - accuracy: 0.9100\n",
            "Epoch 62: val_loss improved from 0.21436 to 0.21134, saving model to ResNet101_Model.hdf5\n",
            "10/10 [==============================] - 9s 952ms/step - loss: 0.3234 - accuracy: 0.9100 - val_loss: 0.2113 - val_accuracy: 0.9185 - lr: 1.0000e-04\n",
            "Epoch 63/100\n",
            "10/10 [==============================] - ETA: 0s - loss: 0.3964 - accuracy: 0.8750\n",
            "Epoch 63: val_loss improved from 0.21134 to 0.20003, saving model to ResNet101_Model.hdf5\n",
            "10/10 [==============================] - 9s 956ms/step - loss: 0.3964 - accuracy: 0.8750 - val_loss: 0.2000 - val_accuracy: 0.9239 - lr: 1.0000e-04\n",
            "Epoch 64/100\n",
            "10/10 [==============================] - ETA: 0s - loss: 0.3462 - accuracy: 0.8800\n",
            "Epoch 64: val_loss improved from 0.20003 to 0.19547, saving model to ResNet101_Model.hdf5\n",
            "10/10 [==============================] - 9s 945ms/step - loss: 0.3462 - accuracy: 0.8800 - val_loss: 0.1955 - val_accuracy: 0.9429 - lr: 1.0000e-04\n",
            "Epoch 65/100\n",
            "10/10 [==============================] - ETA: 0s - loss: 0.2761 - accuracy: 0.9100\n",
            "Epoch 65: val_loss did not improve from 0.19547\n",
            "10/10 [==============================] - 6s 600ms/step - loss: 0.2761 - accuracy: 0.9100 - val_loss: 0.1961 - val_accuracy: 0.9429 - lr: 1.0000e-04\n",
            "Epoch 66/100\n",
            "10/10 [==============================] - ETA: 0s - loss: 0.3729 - accuracy: 0.8646\n",
            "Epoch 66: val_loss improved from 0.19547 to 0.19191, saving model to ResNet101_Model.hdf5\n",
            "10/10 [==============================] - 9s 937ms/step - loss: 0.3729 - accuracy: 0.8646 - val_loss: 0.1919 - val_accuracy: 0.9484 - lr: 1.0000e-04\n",
            "Epoch 67/100\n",
            "10/10 [==============================] - ETA: 0s - loss: 0.5082 - accuracy: 0.8490\n",
            "Epoch 67: val_loss did not improve from 0.19191\n",
            "10/10 [==============================] - 6s 584ms/step - loss: 0.5082 - accuracy: 0.8490 - val_loss: 0.2119 - val_accuracy: 0.9293 - lr: 1.0000e-04\n",
            "Epoch 68/100\n",
            "10/10 [==============================] - ETA: 0s - loss: 0.4171 - accuracy: 0.8500\n",
            "Epoch 68: val_loss did not improve from 0.19191\n",
            "10/10 [==============================] - 6s 607ms/step - loss: 0.4171 - accuracy: 0.8500 - val_loss: 0.2456 - val_accuracy: 0.9185 - lr: 1.0000e-04\n",
            "Epoch 69/100\n",
            "10/10 [==============================] - ETA: 0s - loss: 0.3122 - accuracy: 0.8900\n",
            "Epoch 69: val_loss did not improve from 0.19191\n",
            "10/10 [==============================] - 6s 598ms/step - loss: 0.3122 - accuracy: 0.8900 - val_loss: 0.2467 - val_accuracy: 0.9185 - lr: 1.0000e-04\n",
            "Epoch 70/100\n",
            "10/10 [==============================] - ETA: 0s - loss: 0.3630 - accuracy: 0.8950\n",
            "Epoch 70: val_loss did not improve from 0.19191\n",
            "10/10 [==============================] - 6s 602ms/step - loss: 0.3630 - accuracy: 0.8950 - val_loss: 0.2508 - val_accuracy: 0.9103 - lr: 1.0000e-04\n",
            "Epoch 71/100\n",
            "10/10 [==============================] - ETA: 0s - loss: 0.3964 - accuracy: 0.8550\n",
            "Epoch 71: val_loss did not improve from 0.19191\n",
            "10/10 [==============================] - 6s 602ms/step - loss: 0.3964 - accuracy: 0.8550 - val_loss: 0.2350 - val_accuracy: 0.9130 - lr: 1.0000e-04\n",
            "Epoch 72/100\n",
            "10/10 [==============================] - ETA: 0s - loss: 0.4001 - accuracy: 0.8450\n",
            "Epoch 72: val_loss did not improve from 0.19191\n",
            "10/10 [==============================] - 7s 687ms/step - loss: 0.4001 - accuracy: 0.8450 - val_loss: 0.2160 - val_accuracy: 0.9158 - lr: 1.0000e-04\n",
            "Epoch 73/100\n",
            "10/10 [==============================] - ETA: 0s - loss: 0.5282 - accuracy: 0.8350\n",
            "Epoch 73: val_loss did not improve from 0.19191\n",
            "10/10 [==============================] - 6s 600ms/step - loss: 0.5282 - accuracy: 0.8350 - val_loss: 0.2294 - val_accuracy: 0.9185 - lr: 1.0000e-04\n",
            "Epoch 74/100\n",
            "10/10 [==============================] - ETA: 0s - loss: 0.4997 - accuracy: 0.8150\n",
            "Epoch 74: val_loss did not improve from 0.19191\n",
            "10/10 [==============================] - 6s 599ms/step - loss: 0.4997 - accuracy: 0.8150 - val_loss: 0.2373 - val_accuracy: 0.9158 - lr: 1.0000e-04\n",
            "Epoch 75/100\n",
            "10/10 [==============================] - ETA: 0s - loss: 0.3501 - accuracy: 0.8800\n",
            "Epoch 75: val_loss did not improve from 0.19191\n",
            "10/10 [==============================] - 6s 602ms/step - loss: 0.3501 - accuracy: 0.8800 - val_loss: 0.2328 - val_accuracy: 0.9049 - lr: 1.0000e-04\n",
            "Epoch 76/100\n",
            "10/10 [==============================] - ETA: 0s - loss: 0.3031 - accuracy: 0.8900\n",
            "Epoch 76: val_loss did not improve from 0.19191\n",
            "10/10 [==============================] - 6s 604ms/step - loss: 0.3031 - accuracy: 0.8900 - val_loss: 0.2249 - val_accuracy: 0.9103 - lr: 1.0000e-04\n",
            "Epoch 77/100\n",
            "10/10 [==============================] - ETA: 0s - loss: 0.3972 - accuracy: 0.8550\n",
            "Epoch 77: val_loss did not improve from 0.19191\n",
            "10/10 [==============================] - 6s 603ms/step - loss: 0.3972 - accuracy: 0.8550 - val_loss: 0.2173 - val_accuracy: 0.9130 - lr: 1.0000e-04\n",
            "Epoch 78/100\n",
            "10/10 [==============================] - ETA: 0s - loss: 0.3999 - accuracy: 0.8900\n",
            "Epoch 78: val_loss did not improve from 0.19191\n",
            "10/10 [==============================] - 6s 598ms/step - loss: 0.3999 - accuracy: 0.8900 - val_loss: 0.2240 - val_accuracy: 0.9185 - lr: 1.0000e-04\n",
            "Epoch 79/100\n",
            "10/10 [==============================] - ETA: 0s - loss: 0.2298 - accuracy: 0.9150\n",
            "Epoch 79: val_loss did not improve from 0.19191\n",
            "10/10 [==============================] - 7s 679ms/step - loss: 0.2298 - accuracy: 0.9150 - val_loss: 0.2044 - val_accuracy: 0.9158 - lr: 1.0000e-04\n",
            "Epoch 80/100\n",
            "10/10 [==============================] - ETA: 0s - loss: 0.3168 - accuracy: 0.9150\n",
            "Epoch 80: val_loss improved from 0.19191 to 0.18894, saving model to ResNet101_Model.hdf5\n",
            "10/10 [==============================] - 12s 1s/step - loss: 0.3168 - accuracy: 0.9150 - val_loss: 0.1889 - val_accuracy: 0.9293 - lr: 1.0000e-04\n",
            "Epoch 81/100\n",
            "10/10 [==============================] - ETA: 0s - loss: 0.1809 - accuracy: 0.9400\n",
            "Epoch 81: val_loss improved from 0.18894 to 0.18610, saving model to ResNet101_Model.hdf5\n",
            "10/10 [==============================] - 9s 969ms/step - loss: 0.1809 - accuracy: 0.9400 - val_loss: 0.1861 - val_accuracy: 0.9293 - lr: 1.0000e-04\n",
            "Epoch 82/100\n",
            "10/10 [==============================] - ETA: 0s - loss: 0.2380 - accuracy: 0.8900\n",
            "Epoch 82: val_loss did not improve from 0.18610\n",
            "10/10 [==============================] - 6s 601ms/step - loss: 0.2380 - accuracy: 0.8900 - val_loss: 0.1901 - val_accuracy: 0.9212 - lr: 1.0000e-04\n",
            "Epoch 83/100\n",
            "10/10 [==============================] - ETA: 0s - loss: 0.1558 - accuracy: 0.9550\n",
            "Epoch 83: val_loss did not improve from 0.18610\n",
            "10/10 [==============================] - 6s 611ms/step - loss: 0.1558 - accuracy: 0.9550 - val_loss: 0.1968 - val_accuracy: 0.9293 - lr: 1.0000e-04\n",
            "Epoch 84/100\n",
            "10/10 [==============================] - ETA: 0s - loss: 0.3687 - accuracy: 0.8700\n",
            "Epoch 84: val_loss did not improve from 0.18610\n",
            "10/10 [==============================] - 7s 689ms/step - loss: 0.3687 - accuracy: 0.8700 - val_loss: 0.1901 - val_accuracy: 0.9293 - lr: 1.0000e-04\n",
            "Epoch 85/100\n",
            "10/10 [==============================] - ETA: 0s - loss: 0.3206 - accuracy: 0.8906\n",
            "Epoch 85: val_loss did not improve from 0.18610\n",
            "10/10 [==============================] - 6s 591ms/step - loss: 0.3206 - accuracy: 0.8906 - val_loss: 0.1924 - val_accuracy: 0.9185 - lr: 1.0000e-04\n",
            "Epoch 86/100\n",
            "10/10 [==============================] - ETA: 0s - loss: 0.4079 - accuracy: 0.8750\n",
            "Epoch 86: val_loss did not improve from 0.18610\n",
            "10/10 [==============================] - 6s 598ms/step - loss: 0.4079 - accuracy: 0.8750 - val_loss: 0.2170 - val_accuracy: 0.9239 - lr: 1.0000e-04\n",
            "Epoch 87/100\n",
            "10/10 [==============================] - ETA: 0s - loss: 0.2342 - accuracy: 0.9300\n",
            "Epoch 87: val_loss did not improve from 0.18610\n",
            "10/10 [==============================] - 6s 600ms/step - loss: 0.2342 - accuracy: 0.9300 - val_loss: 0.2202 - val_accuracy: 0.9321 - lr: 1.0000e-04\n",
            "Epoch 88/100\n",
            "10/10 [==============================] - ETA: 0s - loss: 0.3387 - accuracy: 0.8750\n",
            "Epoch 88: val_loss did not improve from 0.18610\n",
            "10/10 [==============================] - 6s 595ms/step - loss: 0.3387 - accuracy: 0.8750 - val_loss: 0.2117 - val_accuracy: 0.9321 - lr: 1.0000e-04\n",
            "Epoch 89/100\n",
            "10/10 [==============================] - ETA: 0s - loss: 0.2622 - accuracy: 0.8650\n",
            "Epoch 89: val_loss did not improve from 0.18610\n",
            "10/10 [==============================] - 6s 597ms/step - loss: 0.2622 - accuracy: 0.8650 - val_loss: 0.2120 - val_accuracy: 0.9239 - lr: 1.0000e-04\n",
            "Epoch 90/100\n",
            "10/10 [==============================] - ETA: 0s - loss: 0.4893 - accuracy: 0.8600\n",
            "Epoch 90: val_loss improved from 0.18610 to 0.17939, saving model to ResNet101_Model.hdf5\n",
            "10/10 [==============================] - 13s 1s/step - loss: 0.4893 - accuracy: 0.8600 - val_loss: 0.1794 - val_accuracy: 0.9293 - lr: 1.0000e-04\n",
            "Epoch 91/100\n",
            "10/10 [==============================] - ETA: 0s - loss: 0.3389 - accuracy: 0.8950\n",
            "Epoch 91: val_loss did not improve from 0.17939\n",
            "10/10 [==============================] - 6s 597ms/step - loss: 0.3389 - accuracy: 0.8950 - val_loss: 0.1850 - val_accuracy: 0.9266 - lr: 1.0000e-04\n",
            "Epoch 92/100\n",
            "10/10 [==============================] - ETA: 0s - loss: 0.3099 - accuracy: 0.8900\n",
            "Epoch 92: val_loss improved from 0.17939 to 0.17579, saving model to ResNet101_Model.hdf5\n",
            "10/10 [==============================] - 9s 958ms/step - loss: 0.3099 - accuracy: 0.8900 - val_loss: 0.1758 - val_accuracy: 0.9348 - lr: 1.0000e-04\n",
            "Epoch 93/100\n",
            "10/10 [==============================] - ETA: 0s - loss: 0.3246 - accuracy: 0.9100\n",
            "Epoch 93: val_loss improved from 0.17579 to 0.16897, saving model to ResNet101_Model.hdf5\n",
            "10/10 [==============================] - 9s 979ms/step - loss: 0.3246 - accuracy: 0.9100 - val_loss: 0.1690 - val_accuracy: 0.9592 - lr: 1.0000e-04\n",
            "Epoch 94/100\n",
            "10/10 [==============================] - ETA: 0s - loss: 0.3348 - accuracy: 0.9167\n",
            "Epoch 94: val_loss did not improve from 0.16897\n",
            "10/10 [==============================] - 7s 674ms/step - loss: 0.3348 - accuracy: 0.9167 - val_loss: 0.1855 - val_accuracy: 0.9321 - lr: 1.0000e-04\n",
            "Epoch 95/100\n",
            "10/10 [==============================] - ETA: 0s - loss: 0.4117 - accuracy: 0.8700\n",
            "Epoch 95: val_loss did not improve from 0.16897\n",
            "10/10 [==============================] - 6s 612ms/step - loss: 0.4117 - accuracy: 0.8700 - val_loss: 0.1866 - val_accuracy: 0.9293 - lr: 1.0000e-04\n",
            "Epoch 96/100\n",
            "10/10 [==============================] - ETA: 0s - loss: 0.2654 - accuracy: 0.9300\n",
            "Epoch 96: val_loss did not improve from 0.16897\n",
            "10/10 [==============================] - 7s 687ms/step - loss: 0.2654 - accuracy: 0.9300 - val_loss: 0.1794 - val_accuracy: 0.9239 - lr: 1.0000e-04\n",
            "Epoch 97/100\n",
            "10/10 [==============================] - ETA: 0s - loss: 0.3208 - accuracy: 0.8850\n",
            "Epoch 97: val_loss did not improve from 0.16897\n",
            "10/10 [==============================] - 6s 601ms/step - loss: 0.3208 - accuracy: 0.8850 - val_loss: 0.1758 - val_accuracy: 0.9429 - lr: 1.0000e-04\n",
            "Epoch 98/100\n",
            "10/10 [==============================] - ETA: 0s - loss: 0.3265 - accuracy: 0.8950\n",
            "Epoch 98: val_loss did not improve from 0.16897\n",
            "10/10 [==============================] - 7s 698ms/step - loss: 0.3265 - accuracy: 0.8950 - val_loss: 0.1875 - val_accuracy: 0.9239 - lr: 1.0000e-04\n",
            "Epoch 99/100\n",
            "10/10 [==============================] - ETA: 0s - loss: 0.3258 - accuracy: 0.9200\n",
            "Epoch 99: val_loss did not improve from 0.16897\n",
            "10/10 [==============================] - 6s 600ms/step - loss: 0.3258 - accuracy: 0.9200 - val_loss: 0.1866 - val_accuracy: 0.9239 - lr: 1.0000e-04\n",
            "Epoch 100/100\n",
            "10/10 [==============================] - ETA: 0s - loss: 0.2188 - accuracy: 0.9150\n",
            "Epoch 100: val_loss did not improve from 0.16897\n",
            "10/10 [==============================] - 6s 600ms/step - loss: 0.2188 - accuracy: 0.9150 - val_loss: 0.1732 - val_accuracy: 0.9457 - lr: 1.0000e-04\n"
          ]
        }
      ],
      "source": [
        "X_train.shape[0]\n",
        "history = model.fit_generator(datagen.flow(X_train, y_train, batch_size=BATCH_SIZE),\n",
        "               steps_per_epoch=10,\n",
        "               epochs=EPOCHS,\n",
        "               verbose=1,\n",
        "               callbacks=[annealer, checkpoint],\n",
        "               validation_data=(X_test, y_test))"
      ]
    },
    {
      "cell_type": "code",
      "execution_count": 16,
      "metadata": {
        "id": "q697O2--YwLc"
      },
      "outputs": [],
      "source": [
        "\n",
        "\n",
        "acc = history.history['accuracy']\n",
        "val_acc = history.history['val_accuracy']\n",
        "loss = history.history['loss']\n",
        "val_loss = history.history['val_loss']\n",
        "\n"
      ]
    },
    {
      "cell_type": "code",
      "execution_count": 17,
      "metadata": {
        "colab": {
          "base_uri": "https://localhost:8080/",
          "height": 299
        },
        "id": "23sMDcPKZCAy",
        "outputId": "c23d0fba-ec9b-441c-e9d4-6f0d3a805846"
      },
      "outputs": [
        {
          "output_type": "display_data",
          "data": {
            "text/plain": [
              "<Figure size 432x288 with 1 Axes>"
            ],
            "image/png": "[encoded data removed]"
          },
          "metadata": {
            "needs_background": "light"
          }
        },
        {
          "output_type": "display_data",
          "data": {
            "text/plain": [
              "<Figure size 432x288 with 0 Axes>"
            ]
          },
          "metadata": {}
        }
      ],
      "source": [
        "epochs = range(len(acc))\n",
        "plt.plot(epochs, acc, 'r', label='Training accuracy')\n",
        "plt.plot(epochs, val_acc, 'b', label='Validation accuracy')\n",
        "plt.title('TraiN & Val Acc VS Epochs')\n",
        "plt.legend(loc=0)\n",
        "plt.figure()\n",
        "plt.show()\n",
        "\n"
      ]
    },
    {
      "cell_type": "code",
      "execution_count": 18,
      "metadata": {
        "colab": {
          "base_uri": "https://localhost:8080/",
          "height": 299
        },
        "id": "jcxrVGl9ZDla",
        "outputId": "7d30e381-6f81-4385-8aa6-3f76ed151210"
      },
      "outputs": [
        {
          "output_type": "display_data",
          "data": {
            "text/plain": [
              "<Figure size 432x288 with 1 Axes>"
            ],
            "image/png": "[encoded data removed]"
          },
          "metadata": {
            "needs_background": "light"
          }
        },
        {
          "output_type": "display_data",
          "data": {
            "text/plain": [
              "<Figure size 432x288 with 0 Axes>"
            ]
          },
          "metadata": {}
        }
      ],
      "source": [
        "epochs = range(len(acc))\n",
        "plt.plot(epochs, loss, 'r', label='Training Loss')\n",
        "plt.plot(epochs, val_loss, 'b', label='Validation Loss')\n",
        "plt.title('TraiN & Val Loss VS Epochs')\n",
        "plt.legend(loc=0)\n",
        "plt.figure()\n",
        "plt.show()"
      ]
    },
    {
      "cell_type": "code",
      "execution_count": 19,
      "metadata": {
        "colab": {
          "base_uri": "https://localhost:8080/"
        },
        "id": "fodqfo7NZE-5",
        "outputId": "91a67ec7-a5b2-483f-e8d2-ff0735b69aa9"
      },
      "outputs": [
        {
          "output_type": "stream",
          "name": "stderr",
          "text": [
            "WARNING:absl:Found untraced functions such as _jit_compiled_convolution_op, _jit_compiled_convolution_op, _jit_compiled_convolution_op, _jit_compiled_convolution_op, _jit_compiled_convolution_op while saving (showing 5 of 105). These functions will not be directly callable after loading.\n"
          ]
        },
        {
          "output_type": "stream",
          "name": "stdout",
          "text": [
            "12/12 [==============================] - 2s 150ms/step - loss: 0.1690 - accuracy: 0.9592\n",
            "Test Loss: 0.1689741611480713\n",
            "Test accuracy: 95.923912525177\n"
          ]
        }
      ],
      "source": [
        "model.load_weights(\"ResNet101_Model.hdf5\")\n",
        "model.save(\"/content/drive/MyDrive/Model Saves/Resnet101 Deep Breath\")\n",
        "score = model.evaluate(X_test,y_test ,verbose=1)\n",
        "print('Test Loss:', score[0])\n",
        "print('Test accuracy:', score[1]*100)"
      ]
    },
    {
      "cell_type": "code",
      "execution_count": 20,
      "metadata": {
        "colab": {
          "base_uri": "https://localhost:8080/"
        },
        "id": "x0Qj8NOttdjX",
        "outputId": "cad6993d-9dff-40c4-f408-13e98dc9960b"
      },
      "outputs": [
        {
          "output_type": "stream",
          "name": "stdout",
          "text": [
            "12/12 [==============================] - 2s 152ms/step\n",
            "0.9592391304347826\n",
            "[[ 79   9]\n",
            " [  6 274]]\n",
            "              precision    recall  f1-score   support\n",
            "\n",
            "           0       0.93      0.90      0.91        88\n",
            "           1       0.97      0.98      0.97       280\n",
            "\n",
            "    accuracy                           0.96       368\n",
            "   macro avg       0.95      0.94      0.94       368\n",
            "weighted avg       0.96      0.96      0.96       368\n",
            "\n"
          ]
        }
      ],
      "source": [
        "from sklearn.metrics import accuracy_score\n",
        "from sklearn.metrics import classification_report\n",
        "import numpy as np\n",
        "\n",
        "pred = model.predict(X_test)\n",
        "rounded_labels_1 = np.argmax(pred, axis=1)\n",
        "rounded_labels_2 = np.argmax(y_test, axis=1)\n",
        "rounded_labels_1[1]\n",
        "rounded_labels_2[1]\n",
        "print(accuracy_score(rounded_labels_2,rounded_labels_1))\n",
        "print(confusion_matrix(rounded_labels_2,rounded_labels_1))\n",
        "print(classification_report(rounded_labels_2,rounded_labels_1,zero_division=1))"
      ]
    },
    {
      "cell_type": "code",
      "source": [
        "from sklearn.metrics import roc_curve, auc\n",
        "import matplotlib.pyplot as plt\n",
        "\n",
        "fpr, tpr, thresholds = roc_curve(rounded_labels_2, pred[:,1])\n",
        "roc_auc = auc(fpr, tpr)\n",
        "\n",
        "plt.figure()\n",
        "lw = 2\n",
        "plt.plot(fpr, tpr, color='darkorange',\n",
        "         lw=lw, label='ROC curve (area = %0.2f)' % roc_auc)\n",
        "plt.plot([0, 1], [0, 1], color='navy', lw=lw, linestyle='--')\n",
        "plt.xlim([0.0, 1.0])\n",
        "plt.ylim([0.0, 1.05])\n",
        "plt.xlabel('False Positive Rate')\n",
        "plt.ylabel('True Positive Rate')\n",
        "plt.title('Receiver operating characteristic example')\n",
        "plt.legend(loc=\"lower right\")\n",
        "plt.show()"
      ],
      "metadata": {
        "colab": {
          "base_uri": "https://localhost:8080/",
          "height": 295
        },
        "id": "7uNHaDhkHLDd",
        "outputId": "9fa96ec9-be1a-4999-b0f4-577c412454cd"
      },
      "execution_count": 21,
      "outputs": [
        {
          "output_type": "display_data",
          "data": {
            "text/plain": [
              "<Figure size 432x288 with 1 Axes>"
            ],
            "image/png": "[encoded data removed]"
          },
          "metadata": {
            "needs_background": "light"
          }
        }
      ]
    },
    {
      "cell_type": "code",
      "source": [
        "from sklearn.metrics import roc_auc_score\n",
        "roc_auc = roc_auc_score(y_test, pred)\n",
        "print(\"AUC: \", roc_auc)"
      ],
      "metadata": {
        "id": "sOmgnR2GcfSo",
        "colab": {
          "base_uri": "https://localhost:8080/"
        },
        "outputId": "d70bcdbe-8f92-40a9-fc58-09ff6ac1f3c9"
      },
      "execution_count": 22,
      "outputs": [
        {
          "output_type": "stream",
          "name": "stdout",
          "text": [
            "AUC:  0.9617288961038961\n"
          ]
        }
      ]
    }
  ],
  "metadata": {
    "accelerator": "GPU",
    "colab": {
      "provenance": []
    },
    "gpuClass": "standard",
    "kernelspec": {
      "display_name": "Python 3",
      "name": "python3"
    },
    "language_info": {
      "name": "python"
    }
  },
  "nbformat": 4,
  "nbformat_minor": 0
}