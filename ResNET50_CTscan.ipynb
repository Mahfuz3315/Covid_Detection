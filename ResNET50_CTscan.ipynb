{
  "cells": [
    {
      "cell_type": "code",
      "source": [
        "from google.colab import drive\n",
        "drive.mount('/content/drive')"
      ],
      "metadata": {
        "colab": {
          "base_uri": "https://localhost:8080/"
        },
        "id": "85BnqcPHaDYx",
        "outputId": "ba68d24d-b1e8-40c9-9918-e8b6c883b8f3"
      },
      "execution_count": 1,
      "outputs": [
        {
          "output_type": "stream",
          "name": "stdout",
          "text": [
            "Mounted at /content/drive\n"
          ]
        }
      ]
    },
    {
      "cell_type": "code",
      "execution_count": 2,
      "metadata": {
        "colab": {
          "base_uri": "https://localhost:8080/",
          "height": 93
        },
        "id": "pTSjFk6n7vYm",
        "outputId": "2aa5d726-8c83-4039-eb31-60cad32aa64e"
      },
      "outputs": [
        {
          "output_type": "display_data",
          "data": {
            "text/plain": [
              "<IPython.core.display.HTML object>"
            ],
            "text/html": [
              "\n",
              "     <input type=\"file\" id=\"files-5dbfc22c-64d0-4d81-85ba-594060fe19fc\" name=\"files[]\" multiple disabled\n",
              "        style=\"border:none\" />\n",
              "     <output id=\"result-5dbfc22c-64d0-4d81-85ba-594060fe19fc\">\n",
              "      Upload widget is only available when the cell has been executed in the\n",
              "      current browser session. Please rerun this cell to enable.\n",
              "      </output>\n",
              "      <script>// Copyright 2017 Google LLC\n",
              "//\n",
              "// Licensed under the Apache License, Version 2.0 (the \"License\");\n",
              "// you may not use this file except in compliance with the License.\n",
              "// You may obtain a copy of the License at\n",
              "//\n",
              "//      http://www.apache.org/licenses/LICENSE-2.0\n",
              "//\n",
              "// Unless required by applicable law or agreed to in writing, software\n",
              "// distributed under the License is distributed on an \"AS IS\" BASIS,\n",
              "// WITHOUT WARRANTIES OR CONDITIONS OF ANY KIND, either express or implied.\n",
              "// See the License for the specific language governing permissions and\n",
              "// limitations under the License.\n",
              "\n",
              "/**\n",
              " * @fileoverview Helpers for google.colab Python module.\n",
              " */\n",
              "(function(scope) {\n",
              "function span(text, styleAttributes = {}) {\n",
              "  const element = document.createElement('span');\n",
              "  element.textContent = text;\n",
              "  for (const key of Object.keys(styleAttributes)) {\n",
              "    element.style[key] = styleAttributes[key];\n",
              "  }\n",
              "  return element;\n",
              "}\n",
              "\n",
              "// Max number of bytes which will be uploaded at a time.\n",
              "const MAX_PAYLOAD_SIZE = 100 * 1024;\n",
              "\n",
              "function _uploadFiles(inputId, outputId) {\n",
              "  const steps = uploadFilesStep(inputId, outputId);\n",
              "  const outputElement = document.getElementById(outputId);\n",
              "  // Cache steps on the outputElement to make it available for the next call\n",
              "  // to uploadFilesContinue from Python.\n",
              "  outputElement.steps = steps;\n",
              "\n",
              "  return _uploadFilesContinue(outputId);\n",
              "}\n",
              "\n",
              "// This is roughly an async generator (not supported in the browser yet),\n",
              "// where there are multiple asynchronous steps and the Python side is going\n",
              "// to poll for completion of each step.\n",
              "// This uses a Promise to block the python side on completion of each step,\n",
              "// then passes the result of the previous step as the input to the next step.\n",
              "function _uploadFilesContinue(outputId) {\n",
              "  const outputElement = document.getElementById(outputId);\n",
              "  const steps = outputElement.steps;\n",
              "\n",
              "  const next = steps.next(outputElement.lastPromiseValue);\n",
              "  return Promise.resolve(next.value.promise).then((value) => {\n",
              "    // Cache the last promise value to make it available to the next\n",
              "    // step of the generator.\n",
              "    outputElement.lastPromiseValue = value;\n",
              "    return next.value.response;\n",
              "  });\n",
              "}\n",
              "\n",
              "/**\n",
              " * Generator function which is called between each async step of the upload\n",
              " * process.\n",
              " * @param {string} inputId Element ID of the input file picker element.\n",
              " * @param {string} outputId Element ID of the output display.\n",
              " * @return {!Iterable<!Object>} Iterable of next steps.\n",
              " */\n",
              "function* uploadFilesStep(inputId, outputId) {\n",
              "  const inputElement = document.getElementById(inputId);\n",
              "  inputElement.disabled = false;\n",
              "\n",
              "  const outputElement = document.getElementById(outputId);\n",
              "  outputElement.innerHTML = '';\n",
              "\n",
              "  const pickedPromise = new Promise((resolve) => {\n",
              "    inputElement.addEventListener('change', (e) => {\n",
              "      resolve(e.target.files);\n",
              "    });\n",
              "  });\n",
              "\n",
              "  const cancel = document.createElement('button');\n",
              "  inputElement.parentElement.appendChild(cancel);\n",
              "  cancel.textContent = 'Cancel upload';\n",
              "  const cancelPromise = new Promise((resolve) => {\n",
              "    cancel.onclick = () => {\n",
              "      resolve(null);\n",
              "    };\n",
              "  });\n",
              "\n",
              "  // Wait for the user to pick the files.\n",
              "  const files = yield {\n",
              "    promise: Promise.race([pickedPromise, cancelPromise]),\n",
              "    response: {\n",
              "      action: 'starting',\n",
              "    }\n",
              "  };\n",
              "\n",
              "  cancel.remove();\n",
              "\n",
              "  // Disable the input element since further picks are not allowed.\n",
              "  inputElement.disabled = true;\n",
              "\n",
              "  if (!files) {\n",
              "    return {\n",
              "      response: {\n",
              "        action: 'complete',\n",
              "      }\n",
              "    };\n",
              "  }\n",
              "\n",
              "  for (const file of files) {\n",
              "    const li = document.createElement('li');\n",
              "    li.append(span(file.name, {fontWeight: 'bold'}));\n",
              "    li.append(span(\n",
              "        `(${file.type || 'n/a'}) - ${file.size} bytes, ` +\n",
              "        `last modified: ${\n",
              "            file.lastModifiedDate ? file.lastModifiedDate.toLocaleDateString() :\n",
              "                                    'n/a'} - `));\n",
              "    const percent = span('0% done');\n",
              "    li.appendChild(percent);\n",
              "\n",
              "    outputElement.appendChild(li);\n",
              "\n",
              "    const fileDataPromise = new Promise((resolve) => {\n",
              "      const reader = new FileReader();\n",
              "      reader.onload = (e) => {\n",
              "        resolve(e.target.result);\n",
              "      };\n",
              "      reader.readAsArrayBuffer(file);\n",
              "    });\n",
              "    // Wait for the data to be ready.\n",
              "    let fileData = yield {\n",
              "      promise: fileDataPromise,\n",
              "      response: {\n",
              "        action: 'continue',\n",
              "      }\n",
              "    };\n",
              "\n",
              "    // Use a chunked sending to avoid message size limits. See b/62115660.\n",
              "    let position = 0;\n",
              "    do {\n",
              "      const length = Math.min(fileData.byteLength - position, MAX_PAYLOAD_SIZE);\n",
              "      const chunk = new Uint8Array(fileData, position, length);\n",
              "      position += length;\n",
              "\n",
              "      const base64 = btoa(String.fromCharCode.apply(null, chunk));\n",
              "      yield {\n",
              "        response: {\n",
              "          action: 'append',\n",
              "          file: file.name,\n",
              "          data: base64,\n",
              "        },\n",
              "      };\n",
              "\n",
              "      let percentDone = fileData.byteLength === 0 ?\n",
              "          100 :\n",
              "          Math.round((position / fileData.byteLength) * 100);\n",
              "      percent.textContent = `${percentDone}% done`;\n",
              "\n",
              "    } while (position < fileData.byteLength);\n",
              "  }\n",
              "\n",
              "  // All done.\n",
              "  yield {\n",
              "    response: {\n",
              "      action: 'complete',\n",
              "    }\n",
              "  };\n",
              "}\n",
              "\n",
              "scope.google = scope.google || {};\n",
              "scope.google.colab = scope.google.colab || {};\n",
              "scope.google.colab._files = {\n",
              "  _uploadFiles,\n",
              "  _uploadFilesContinue,\n",
              "};\n",
              "})(self);\n",
              "</script> "
            ]
          },
          "metadata": {}
        },
        {
          "output_type": "stream",
          "name": "stdout",
          "text": [
            "Saving kaggle.json to kaggle.json\n",
            "User uploaded file \"kaggle.json\" with length 73 bytes\n"
          ]
        }
      ],
      "source": [
        "from google.colab import files\n",
        "\n",
        "uploaded = files.upload()\n",
        "\n",
        "for fn in uploaded.keys():\n",
        "  print('User uploaded file \"{name}\" with length {length} bytes'.format(\n",
        "      name=fn, length=len(uploaded[fn])))\n",
        "  \n",
        "# Then move kaggle.json into the folder where the API expects to find it.\n",
        "!mkdir -p ~/.kaggle/ && mv kaggle.json ~/.kaggle/ && chmod 600 ~/.kaggle/kaggle.json"
      ]
    },
    {
      "cell_type": "code",
      "execution_count": 3,
      "metadata": {
        "colab": {
          "base_uri": "https://localhost:8080/"
        },
        "id": "UdyBLEtq8PkU",
        "outputId": "adc07342-4615-4810-8de4-3a03bfa0ec9c"
      },
      "outputs": [
        {
          "output_type": "stream",
          "name": "stdout",
          "text": [
            "Downloading sarscov2-ctscan-dataset.zip to /content\n",
            "100% 230M/230M [00:06<00:00, 38.9MB/s]\n",
            "100% 230M/230M [00:06<00:00, 36.6MB/s]\n"
          ]
        }
      ],
      "source": [
        "!kaggle datasets download -d plameneduardo/sarscov2-ctscan-dataset"
      ]
    },
    {
      "cell_type": "code",
      "execution_count": 4,
      "metadata": {
        "colab": {
          "base_uri": "https://localhost:8080/"
        },
        "id": "xMjnTAnt9h0R",
        "outputId": "47bebe3b-2cdd-4526-8211-3694414a1c66"
      },
      "outputs": [
        {
          "output_type": "stream",
          "name": "stdout",
          "text": [
            "Done\n"
          ]
        }
      ],
      "source": [
        "from zipfile import ZipFile\n",
        "file_name = \"/content/sarscov2-ctscan-dataset.zip\"\n",
        "with ZipFile(file_name,'r') as zip:\n",
        "  zip.extractall()\n",
        "  print('Done')"
      ]
    },
    {
      "cell_type": "code",
      "execution_count": 5,
      "metadata": {
        "id": "otGJE-7J9rZl"
      },
      "outputs": [],
      "source": [
        "\n",
        "import numpy as np # linear algebra\n",
        "import pandas as pd # data processing, CSV file I/O (e.g. pd.read_csv)\n",
        "\n",
        "# Input data files are available in the read-only \"../input/\" directory\n",
        "# For example, running this (by clicking run or pressing Shift+Enter) will list all files under the input directory\n",
        "\n",
        "import os\n",
        "for dirname, _, filenames in os.walk('/kaggle/input'):\n",
        "    for filename in filenames:\n",
        "        os.path.join(dirname, filename)"
      ]
    },
    {
      "cell_type": "code",
      "execution_count": 6,
      "metadata": {
        "id": "lil-MtxM9sZo"
      },
      "outputs": [],
      "source": [
        "import os\n",
        "import pandas as pd\n",
        "import numpy as np\n",
        "from tqdm import tqdm\n",
        "import keras\n",
        "from keras.utils.np_utils import to_categorical\n",
        "import cv2\n",
        "import tensorflow as tf\n",
        "from sklearn.model_selection import train_test_split\n",
        "from keras.layers import  Flatten, Dense, Dropout\n",
        "from tensorflow.keras.applications import VGG16\n",
        "from tensorflow.keras.applications import ResNet50\n",
        "from tensorflow.keras.applications import Xception\n",
        "from keras.callbacks import ModelCheckpoint, ReduceLROnPlateau\n",
        "from tensorflow.keras.layers import Input\n",
        "from keras.models import Model\n",
        "from keras import optimizers\n",
        "from tensorflow.keras.optimizers import Adam\n",
        "from keras.layers import Dense, GlobalAveragePooling2D\n",
        "from keras.layers import Dense, Dropout, Flatten, Conv2D, MaxPool2D, BatchNormalization, AveragePooling2D, GlobalAveragePooling2D\n",
        "import keras_preprocessing\n",
        "from keras_preprocessing import image\n",
        "from keras_preprocessing.image import ImageDataGenerator\n",
        "from keras import callbacks\n",
        "import matplotlib.pyplot as plt\n",
        "from sklearn.metrics import confusion_matrix\n",
        "import seaborn as sns\n",
        "from zipfile import ZipFile"
      ]
    },
    {
      "cell_type": "code",
      "execution_count": 7,
      "metadata": {
        "colab": {
          "base_uri": "https://localhost:8080/",
          "height": 206
        },
        "id": "ZTZphYZq9vYG",
        "outputId": "b345f28e-445b-4761-9b0c-e50ff69a369c"
      },
      "outputs": [
        {
          "output_type": "execute_result",
          "data": {
            "text/plain": [
              "                    File  ID Disease Type\n",
              "0  COVID/Covid (692).png   0        COVID\n",
              "1  COVID/Covid (672).png   0        COVID\n",
              "2  COVID/Covid (392).png   0        COVID\n",
              "3   COVID/Covid (44).png   0        COVID\n",
              "4  COVID/Covid (150).png   0        COVID"
            ],
            "text/html": [
              "\n",
              "  <div id=\"df-2df0468f-4cef-4093-98b6-65830fb4976b\">\n",
              "    <div class=\"colab-df-container\">\n",
              "      <div>\n",
              "<style scoped>\n",
              "    .dataframe tbody tr th:only-of-type {\n",
              "        vertical-align: middle;\n",
              "    }\n",
              "\n",
              "    .dataframe tbody tr th {\n",
              "        vertical-align: top;\n",
              "    }\n",
              "\n",
              "    .dataframe thead th {\n",
              "        text-align: right;\n",
              "    }\n",
              "</style>\n",
              "<table border=\"1\" class=\"dataframe\">\n",
              "  <thead>\n",
              "    <tr style=\"text-align: right;\">\n",
              "      <th></th>\n",
              "      <th>File</th>\n",
              "      <th>ID</th>\n",
              "      <th>Disease Type</th>\n",
              "    </tr>\n",
              "  </thead>\n",
              "  <tbody>\n",
              "    <tr>\n",
              "      <th>0</th>\n",
              "      <td>COVID/Covid (692).png</td>\n",
              "      <td>0</td>\n",
              "      <td>COVID</td>\n",
              "    </tr>\n",
              "    <tr>\n",
              "      <th>1</th>\n",
              "      <td>COVID/Covid (672).png</td>\n",
              "      <td>0</td>\n",
              "      <td>COVID</td>\n",
              "    </tr>\n",
              "    <tr>\n",
              "      <th>2</th>\n",
              "      <td>COVID/Covid (392).png</td>\n",
              "      <td>0</td>\n",
              "      <td>COVID</td>\n",
              "    </tr>\n",
              "    <tr>\n",
              "      <th>3</th>\n",
              "      <td>COVID/Covid (44).png</td>\n",
              "      <td>0</td>\n",
              "      <td>COVID</td>\n",
              "    </tr>\n",
              "    <tr>\n",
              "      <th>4</th>\n",
              "      <td>COVID/Covid (150).png</td>\n",
              "      <td>0</td>\n",
              "      <td>COVID</td>\n",
              "    </tr>\n",
              "  </tbody>\n",
              "</table>\n",
              "</div>\n",
              "      <button class=\"colab-df-convert\" onclick=\"convertToInteractive('df-2df0468f-4cef-4093-98b6-65830fb4976b')\"\n",
              "              title=\"Convert this dataframe to an interactive table.\"\n",
              "              style=\"display:none;\">\n",
              "        \n",
              "  <svg xmlns=\"http://www.w3.org/2000/svg\" height=\"24px\"viewBox=\"0 0 24 24\"\n",
              "       width=\"24px\">\n",
              "    <path d=\"M0 0h24v24H0V0z\" fill=\"none\"/>\n",
              "    <path d=\"M18.56 5.44l.94 2.06.94-2.06 2.06-.94-2.06-.94-.94-2.06-.94 2.06-2.06.94zm-11 1L8.5 8.5l.94-2.06 2.06-.94-2.06-.94L8.5 2.5l-.94 2.06-2.06.94zm10 10l.94 2.06.94-2.06 2.06-.94-2.06-.94-.94-2.06-.94 2.06-2.06.94z\"/><path d=\"M17.41 7.96l-1.37-1.37c-.4-.4-.92-.59-1.43-.59-.52 0-1.04.2-1.43.59L10.3 9.45l-7.72 7.72c-.78.78-.78 2.05 0 2.83L4 21.41c.39.39.9.59 1.41.59.51 0 1.02-.2 1.41-.59l7.78-7.78 2.81-2.81c.8-.78.8-2.07 0-2.86zM5.41 20L4 18.59l7.72-7.72 1.47 1.35L5.41 20z\"/>\n",
              "  </svg>\n",
              "      </button>\n",
              "      \n",
              "  <style>\n",
              "    .colab-df-container {\n",
              "      display:flex;\n",
              "      flex-wrap:wrap;\n",
              "      gap: 12px;\n",
              "    }\n",
              "\n",
              "    .colab-df-convert {\n",
              "      background-color: #E8F0FE;\n",
              "      border: none;\n",
              "      border-radius: 50%;\n",
              "      cursor: pointer;\n",
              "      display: none;\n",
              "      fill: #1967D2;\n",
              "      height: 32px;\n",
              "      padding: 0 0 0 0;\n",
              "      width: 32px;\n",
              "    }\n",
              "\n",
              "    .colab-df-convert:hover {\n",
              "      background-color: #E2EBFA;\n",
              "      box-shadow: 0px 1px 2px rgba(60, 64, 67, 0.3), 0px 1px 3px 1px rgba(60, 64, 67, 0.15);\n",
              "      fill: #174EA6;\n",
              "    }\n",
              "\n",
              "    [theme=dark] .colab-df-convert {\n",
              "      background-color: #3B4455;\n",
              "      fill: #D2E3FC;\n",
              "    }\n",
              "\n",
              "    [theme=dark] .colab-df-convert:hover {\n",
              "      background-color: #434B5C;\n",
              "      box-shadow: 0px 1px 3px 1px rgba(0, 0, 0, 0.15);\n",
              "      filter: drop-shadow(0px 1px 2px rgba(0, 0, 0, 0.3));\n",
              "      fill: #FFFFFF;\n",
              "    }\n",
              "  </style>\n",
              "\n",
              "      <script>\n",
              "        const buttonEl =\n",
              "          document.querySelector('#df-2df0468f-4cef-4093-98b6-65830fb4976b button.colab-df-convert');\n",
              "        buttonEl.style.display =\n",
              "          google.colab.kernel.accessAllowed ? 'block' : 'none';\n",
              "\n",
              "        async function convertToInteractive(key) {\n",
              "          const element = document.querySelector('#df-2df0468f-4cef-4093-98b6-65830fb4976b');\n",
              "          const dataTable =\n",
              "            await google.colab.kernel.invokeFunction('convertToInteractive',\n",
              "                                                     [key], {});\n",
              "          if (!dataTable) return;\n",
              "\n",
              "          const docLinkHtml = 'Like what you see? Visit the ' +\n",
              "            '<a target=\"_blank\" href=https://colab.research.google.com/notebooks/data_table.ipynb>data table notebook</a>'\n",
              "            + ' to learn more about interactive tables.';\n",
              "          element.innerHTML = '';\n",
              "          dataTable['output_type'] = 'display_data';\n",
              "          await google.colab.output.renderOutput(dataTable, element);\n",
              "          const docLink = document.createElement('div');\n",
              "          docLink.innerHTML = docLinkHtml;\n",
              "          element.appendChild(docLink);\n",
              "        }\n",
              "      </script>\n",
              "    </div>\n",
              "  </div>\n",
              "  "
            ]
          },
          "metadata": {},
          "execution_count": 7
        }
      ],
      "source": [
        "disease_types = ['COVID', 'non-COVID']\n",
        "# /content/COVID\n",
        "train_dir = data_dir = '../content'\n",
        "\n",
        "train_data = []\n",
        "\n",
        "for index, sp in enumerate(disease_types):\n",
        "    for file in os.listdir(os.path.join(train_dir, sp)):\n",
        "        train_data.append([sp + \"/\" + file, index, sp])\n",
        "        \n",
        "train = pd.DataFrame(train_data, columns = ['File', 'ID','Disease Type'])\n",
        "train.head()"
      ]
    },
    {
      "cell_type": "code",
      "execution_count": 8,
      "metadata": {
        "id": "wQxQ8m4u9yX_"
      },
      "outputs": [],
      "source": [
        "IMAGE_SIZE = 150\n",
        "def read_image(filepath):\n",
        "    return cv2.imread(os.path.join(data_dir, filepath)) \n",
        "def resize_image(image, image_size):\n",
        "    return cv2.resize(image.copy(), image_size, interpolation=cv2.INTER_AREA)"
      ]
    },
    {
      "cell_type": "code",
      "execution_count": 9,
      "metadata": {
        "colab": {
          "base_uri": "https://localhost:8080/"
        },
        "id": "So2GbugX901n",
        "outputId": "aa690eae-8cb9-4d66-e2b3-ef30fef775be"
      },
      "outputs": [
        {
          "output_type": "stream",
          "name": "stderr",
          "text": [
            "2481it [00:10, 230.34it/s]\n"
          ]
        },
        {
          "output_type": "stream",
          "name": "stdout",
          "text": [
            "(2481, 150, 150, 3)\n"
          ]
        }
      ],
      "source": [
        "X_train = np.zeros((train.shape[0], IMAGE_SIZE, IMAGE_SIZE, 3))\n",
        "for i, file in tqdm(enumerate(train['File'].values)):\n",
        "    image = read_image(file)\n",
        "    if image is not None:\n",
        "        X_train[i] = resize_image(image, (IMAGE_SIZE, IMAGE_SIZE))\n",
        "X_Train = X_train / 255.\n",
        "print(X_Train.shape)"
      ]
    },
    {
      "cell_type": "code",
      "execution_count": 10,
      "metadata": {
        "id": "hIqOOixD-Bxw"
      },
      "outputs": [],
      "source": [
        "Y_train = train['ID'].values\n",
        "Y_train = to_categorical(Y_train, num_classes=2)"
      ]
    },
    {
      "cell_type": "code",
      "execution_count": 11,
      "metadata": {
        "id": "aeFvuc_g-C57"
      },
      "outputs": [],
      "source": [
        "X_train, X_val, Y_train, Y_val = train_test_split(X_Train, Y_train, test_size=0.1)"
      ]
    },
    {
      "cell_type": "code",
      "execution_count": 12,
      "metadata": {
        "id": "ZmDcQM6Q-DzQ"
      },
      "outputs": [],
      "source": [
        "BATCH_SIZE = 64 #64\n",
        "EPOCHS = 100 #100\n",
        "SIZE = 150\n",
        "N_ch=3"
      ]
    },
    {
      "cell_type": "code",
      "execution_count": 13,
      "metadata": {
        "id": "I00laVy2-Ibh"
      },
      "outputs": [],
      "source": [
        "def build_resnet50():\n",
        "    resnet50 = ResNet50(weights='imagenet', include_top=False)\n",
        "\n",
        "    input = Input(shape=(SIZE, SIZE, N_ch))\n",
        "    x = Conv2D(3, (3, 3), padding='same')(input)\n",
        "    \n",
        "    x = resnet50(x)\n",
        "    \n",
        "    x = GlobalAveragePooling2D()(x)\n",
        "    x = BatchNormalization()(x)\n",
        "    x = Dropout(0.5)(x)\n",
        "    x = Dense(256, activation='relu')(x)\n",
        "    x = BatchNormalization()(x)\n",
        "    x = Dropout(0.5)(x)\n",
        "\n",
        "    # multi output\n",
        "    output = Dense(2,activation = 'softmax', name='root')(x)\n",
        " \n",
        "\n",
        "    # model\n",
        "    model = Model(input,output)\n",
        "    \n",
        "    optimizer = Adam(lr=0.003, beta_1=0.9, beta_2=0.999, epsilon=0.1, decay=0.0)\n",
        "    model.compile(loss='categorical_crossentropy', optimizer=optimizer, metrics=['accuracy'])\n",
        "    model.summary()\n",
        "    \n",
        "    return model"
      ]
    },
    {
      "cell_type": "code",
      "execution_count": 14,
      "metadata": {
        "colab": {
          "base_uri": "https://localhost:8080/"
        },
        "id": "ZOCiJ9oV-PBm",
        "outputId": "8bb84c75-7231-49e1-9bd3-a434d8576c84"
      },
      "outputs": [
        {
          "output_type": "stream",
          "name": "stdout",
          "text": [
            "Downloading data from https://storage.googleapis.com/tensorflow/keras-applications/resnet/resnet50_weights_tf_dim_ordering_tf_kernels_notop.h5\n",
            "94765736/94765736 [==============================] - 4s 0us/step\n",
            "Model: \"model\"\n",
            "_________________________________________________________________\n",
            " Layer (type)                Output Shape              Param #   \n",
            "=================================================================\n",
            " input_2 (InputLayer)        [(None, 150, 150, 3)]     0         \n",
            "                                                                 \n",
            " conv2d (Conv2D)             (None, 150, 150, 3)       84        \n",
            "                                                                 \n",
            " resnet50 (Functional)       (None, None, None, 2048)  23587712  \n",
            "                                                                 \n",
            " global_average_pooling2d (G  (None, 2048)             0         \n",
            " lobalAveragePooling2D)                                          \n",
            "                                                                 \n",
            " batch_normalization (BatchN  (None, 2048)             8192      \n",
            " ormalization)                                                   \n",
            "                                                                 \n",
            " dropout (Dropout)           (None, 2048)              0         \n",
            "                                                                 \n",
            " dense (Dense)               (None, 256)               524544    \n",
            "                                                                 \n",
            " batch_normalization_1 (Batc  (None, 256)              1024      \n",
            " hNormalization)                                                 \n",
            "                                                                 \n",
            " dropout_1 (Dropout)         (None, 256)               0         \n",
            "                                                                 \n",
            " root (Dense)                (None, 2)                 514       \n",
            "                                                                 \n",
            "=================================================================\n",
            "Total params: 24,122,070\n",
            "Trainable params: 24,064,342\n",
            "Non-trainable params: 57,728\n",
            "_________________________________________________________________\n"
          ]
        },
        {
          "output_type": "stream",
          "name": "stderr",
          "text": [
            "/usr/local/lib/python3.8/dist-packages/keras/optimizers/optimizer_v2/adam.py:110: UserWarning: The `lr` argument is deprecated, use `learning_rate` instead.\n",
            "  super(Adam, self).__init__(name, **kwargs)\n"
          ]
        }
      ],
      "source": [
        "model = build_resnet50()\n",
        "annealer = ReduceLROnPlateau(monitor='val_accuracy', factor=0.70, patience=5, verbose=1, min_lr=1e-4)\n",
        "checkpoint = ModelCheckpoint('ResNet50_Model.hdf5', verbose=1, save_best_only=True)\n",
        "datagen = ImageDataGenerator(rotation_range=360, \n",
        "                        width_shift_range=0.2, \n",
        "                        height_shift_range=0.2,\n",
        "                        zoom_range=0.2, \n",
        "                        horizontal_flip=True, \n",
        "                        vertical_flip=True) \n",
        "\n",
        "datagen.fit(X_train)"
      ]
    },
    {
      "cell_type": "code",
      "execution_count": 15,
      "metadata": {
        "colab": {
          "base_uri": "https://localhost:8080/"
        },
        "id": "x5YYg--I-RpV",
        "outputId": "38a5d1a6-e5b8-45a7-d214-4da68330c32d"
      },
      "outputs": [
        {
          "output_type": "stream",
          "name": "stderr",
          "text": [
            "<ipython-input-15-b04c1a33be18>:1: UserWarning: `Model.fit_generator` is deprecated and will be removed in a future version. Please use `Model.fit`, which supports generators.\n",
            "  history = model.fit_generator(datagen.flow(X_train, Y_train, batch_size=BATCH_SIZE),\n"
          ]
        },
        {
          "output_type": "stream",
          "name": "stdout",
          "text": [
            "Epoch 1/100\n",
            "34/34 [==============================] - ETA: 0s - loss: 1.0688 - accuracy: 0.5816\n",
            "Epoch 1: val_loss improved from inf to 0.89488, saving model to ResNet50_Model.hdf5\n",
            "34/34 [==============================] - 35s 520ms/step - loss: 1.0688 - accuracy: 0.5816 - val_loss: 0.8949 - val_accuracy: 0.5502 - lr: 0.0030\n",
            "Epoch 2/100\n",
            "34/34 [==============================] - ETA: 0s - loss: 0.7876 - accuracy: 0.6933\n",
            "Epoch 2: val_loss did not improve from 0.89488\n",
            "34/34 [==============================] - 13s 362ms/step - loss: 0.7876 - accuracy: 0.6933 - val_loss: 37.6123 - val_accuracy: 0.5502 - lr: 0.0030\n",
            "Epoch 3/100\n",
            "34/34 [==============================] - ETA: 0s - loss: 0.6617 - accuracy: 0.7463\n",
            "Epoch 3: val_loss did not improve from 0.89488\n",
            "34/34 [==============================] - 13s 365ms/step - loss: 0.6617 - accuracy: 0.7463 - val_loss: 11.6267 - val_accuracy: 0.4498 - lr: 0.0030\n",
            "Epoch 4/100\n",
            "34/34 [==============================] - ETA: 0s - loss: 0.5658 - accuracy: 0.7818\n",
            "Epoch 4: val_loss did not improve from 0.89488\n",
            "34/34 [==============================] - 13s 367ms/step - loss: 0.5658 - accuracy: 0.7818 - val_loss: 2.0938 - val_accuracy: 0.4498 - lr: 0.0030\n",
            "Epoch 5/100\n",
            "34/34 [==============================] - ETA: 0s - loss: 0.4643 - accuracy: 0.8344\n",
            "Epoch 5: val_loss did not improve from 0.89488\n",
            "34/34 [==============================] - 13s 369ms/step - loss: 0.4643 - accuracy: 0.8344 - val_loss: 2.4460 - val_accuracy: 0.5502 - lr: 0.0030\n",
            "Epoch 6/100\n",
            "34/34 [==============================] - ETA: 0s - loss: 0.4027 - accuracy: 0.8423\n",
            "Epoch 6: ReduceLROnPlateau reducing learning rate to 0.002100000018253922.\n",
            "\n",
            "Epoch 6: val_loss did not improve from 0.89488\n",
            "34/34 [==============================] - 13s 371ms/step - loss: 0.4027 - accuracy: 0.8423 - val_loss: 2.5317 - val_accuracy: 0.5502 - lr: 0.0030\n",
            "Epoch 7/100\n",
            "34/34 [==============================] - ETA: 0s - loss: 0.3986 - accuracy: 0.8473\n",
            "Epoch 7: val_loss did not improve from 0.89488\n",
            "34/34 [==============================] - 13s 372ms/step - loss: 0.3986 - accuracy: 0.8473 - val_loss: 2.6142 - val_accuracy: 0.5502 - lr: 0.0021\n",
            "Epoch 8/100\n",
            "34/34 [==============================] - ETA: 0s - loss: 0.3673 - accuracy: 0.8547\n",
            "Epoch 8: val_loss did not improve from 0.89488\n",
            "34/34 [==============================] - 13s 375ms/step - loss: 0.3673 - accuracy: 0.8547 - val_loss: 2.3280 - val_accuracy: 0.5502 - lr: 0.0021\n",
            "Epoch 9/100\n",
            "34/34 [==============================] - ETA: 0s - loss: 0.3224 - accuracy: 0.8736\n",
            "Epoch 9: val_loss did not improve from 0.89488\n",
            "34/34 [==============================] - 13s 377ms/step - loss: 0.3224 - accuracy: 0.8736 - val_loss: 2.4898 - val_accuracy: 0.5502 - lr: 0.0021\n",
            "Epoch 10/100\n",
            "34/34 [==============================] - ETA: 0s - loss: 0.3234 - accuracy: 0.8713\n",
            "Epoch 10: val_loss did not improve from 0.89488\n",
            "34/34 [==============================] - 13s 379ms/step - loss: 0.3234 - accuracy: 0.8713 - val_loss: 1.0172 - val_accuracy: 0.5502 - lr: 0.0021\n",
            "Epoch 11/100\n",
            "34/34 [==============================] - ETA: 0s - loss: 0.2873 - accuracy: 0.8815\n",
            "Epoch 11: ReduceLROnPlateau reducing learning rate to 0.0014699999475851653.\n",
            "\n",
            "Epoch 11: val_loss did not improve from 0.89488\n",
            "34/34 [==============================] - 13s 378ms/step - loss: 0.2873 - accuracy: 0.8815 - val_loss: 1.8873 - val_accuracy: 0.5502 - lr: 0.0021\n",
            "Epoch 12/100\n",
            "34/34 [==============================] - ETA: 0s - loss: 0.2708 - accuracy: 0.8921\n",
            "Epoch 12: val_loss did not improve from 0.89488\n",
            "34/34 [==============================] - 14s 404ms/step - loss: 0.2708 - accuracy: 0.8921 - val_loss: 1.6316 - val_accuracy: 0.5502 - lr: 0.0015\n",
            "Epoch 13/100\n",
            "34/34 [==============================] - ETA: 0s - loss: 0.2581 - accuracy: 0.8902\n",
            "Epoch 13: val_loss did not improve from 0.89488\n",
            "34/34 [==============================] - 13s 377ms/step - loss: 0.2581 - accuracy: 0.8902 - val_loss: 1.4110 - val_accuracy: 0.5502 - lr: 0.0015\n",
            "Epoch 14/100\n",
            "34/34 [==============================] - ETA: 0s - loss: 0.2578 - accuracy: 0.8939\n",
            "Epoch 14: val_loss did not improve from 0.89488\n",
            "34/34 [==============================] - 13s 377ms/step - loss: 0.2578 - accuracy: 0.8939 - val_loss: 1.3596 - val_accuracy: 0.5502 - lr: 0.0015\n",
            "Epoch 15/100\n",
            "34/34 [==============================] - ETA: 0s - loss: 0.2354 - accuracy: 0.9064\n",
            "Epoch 15: val_loss did not improve from 0.89488\n",
            "34/34 [==============================] - 13s 378ms/step - loss: 0.2354 - accuracy: 0.9064 - val_loss: 1.7346 - val_accuracy: 0.5502 - lr: 0.0015\n",
            "Epoch 16/100\n",
            "34/34 [==============================] - ETA: 0s - loss: 0.2454 - accuracy: 0.8958\n",
            "Epoch 16: ReduceLROnPlateau reducing learning rate to 0.0010289999307133257.\n",
            "\n",
            "Epoch 16: val_loss did not improve from 0.89488\n",
            "34/34 [==============================] - 13s 377ms/step - loss: 0.2454 - accuracy: 0.8958 - val_loss: 1.4855 - val_accuracy: 0.5502 - lr: 0.0015\n",
            "Epoch 17/100\n",
            "34/34 [==============================] - ETA: 0s - loss: 0.2280 - accuracy: 0.9054\n",
            "Epoch 17: val_loss did not improve from 0.89488\n",
            "34/34 [==============================] - 13s 377ms/step - loss: 0.2280 - accuracy: 0.9054 - val_loss: 1.4123 - val_accuracy: 0.5502 - lr: 0.0010\n",
            "Epoch 18/100\n",
            "34/34 [==============================] - ETA: 0s - loss: 0.2148 - accuracy: 0.9077\n",
            "Epoch 18: val_loss did not improve from 0.89488\n",
            "34/34 [==============================] - 13s 377ms/step - loss: 0.2148 - accuracy: 0.9077 - val_loss: 1.2685 - val_accuracy: 0.5502 - lr: 0.0010\n",
            "Epoch 19/100\n",
            "34/34 [==============================] - ETA: 0s - loss: 0.2191 - accuracy: 0.9045\n",
            "Epoch 19: val_loss did not improve from 0.89488\n",
            "34/34 [==============================] - 13s 377ms/step - loss: 0.2191 - accuracy: 0.9045 - val_loss: 1.2111 - val_accuracy: 0.5502 - lr: 0.0010\n",
            "Epoch 20/100\n",
            "34/34 [==============================] - ETA: 0s - loss: 0.2172 - accuracy: 0.9170\n",
            "Epoch 20: val_loss did not improve from 0.89488\n",
            "34/34 [==============================] - 13s 378ms/step - loss: 0.2172 - accuracy: 0.9170 - val_loss: 1.0815 - val_accuracy: 0.5502 - lr: 0.0010\n",
            "Epoch 21/100\n",
            "34/34 [==============================] - ETA: 0s - loss: 0.1988 - accuracy: 0.9179\n",
            "Epoch 21: val_loss improved from 0.89488 to 0.82411, saving model to ResNet50_Model.hdf5\n",
            "34/34 [==============================] - 14s 410ms/step - loss: 0.1988 - accuracy: 0.9179 - val_loss: 0.8241 - val_accuracy: 0.5622 - lr: 0.0010\n",
            "Epoch 22/100\n",
            "34/34 [==============================] - ETA: 0s - loss: 0.1793 - accuracy: 0.9211\n",
            "Epoch 22: val_loss improved from 0.82411 to 0.64644, saving model to ResNet50_Model.hdf5\n",
            "34/34 [==============================] - 14s 409ms/step - loss: 0.1793 - accuracy: 0.9211 - val_loss: 0.6464 - val_accuracy: 0.5944 - lr: 0.0010\n",
            "Epoch 23/100\n",
            "34/34 [==============================] - ETA: 0s - loss: 0.1868 - accuracy: 0.9225\n",
            "Epoch 23: val_loss improved from 0.64644 to 0.58000, saving model to ResNet50_Model.hdf5\n",
            "34/34 [==============================] - 14s 409ms/step - loss: 0.1868 - accuracy: 0.9225 - val_loss: 0.5800 - val_accuracy: 0.6827 - lr: 0.0010\n",
            "Epoch 24/100\n",
            "34/34 [==============================] - ETA: 0s - loss: 0.1970 - accuracy: 0.9142\n",
            "Epoch 24: val_loss improved from 0.58000 to 0.57249, saving model to ResNet50_Model.hdf5\n",
            "34/34 [==============================] - 14s 410ms/step - loss: 0.1970 - accuracy: 0.9142 - val_loss: 0.5725 - val_accuracy: 0.7068 - lr: 0.0010\n",
            "Epoch 25/100\n",
            "34/34 [==============================] - ETA: 0s - loss: 0.1837 - accuracy: 0.9244\n",
            "Epoch 25: val_loss did not improve from 0.57249\n",
            "34/34 [==============================] - 13s 378ms/step - loss: 0.1837 - accuracy: 0.9244 - val_loss: 0.5760 - val_accuracy: 0.7028 - lr: 0.0010\n",
            "Epoch 26/100\n",
            "34/34 [==============================] - ETA: 0s - loss: 0.1754 - accuracy: 0.9262\n",
            "Epoch 26: val_loss did not improve from 0.57249\n",
            "34/34 [==============================] - 13s 377ms/step - loss: 0.1754 - accuracy: 0.9262 - val_loss: 0.6025 - val_accuracy: 0.7189 - lr: 0.0010\n",
            "Epoch 27/100\n",
            "34/34 [==============================] - ETA: 0s - loss: 0.1577 - accuracy: 0.9354\n",
            "Epoch 27: val_loss improved from 0.57249 to 0.56023, saving model to ResNet50_Model.hdf5\n",
            "34/34 [==============================] - 14s 410ms/step - loss: 0.1577 - accuracy: 0.9354 - val_loss: 0.5602 - val_accuracy: 0.7390 - lr: 0.0010\n",
            "Epoch 28/100\n",
            "34/34 [==============================] - ETA: 0s - loss: 0.1511 - accuracy: 0.9327\n",
            "Epoch 28: val_loss did not improve from 0.56023\n",
            "34/34 [==============================] - 13s 377ms/step - loss: 0.1511 - accuracy: 0.9327 - val_loss: 0.6839 - val_accuracy: 0.6988 - lr: 0.0010\n",
            "Epoch 29/100\n",
            "34/34 [==============================] - ETA: 0s - loss: 0.1716 - accuracy: 0.9216\n",
            "Epoch 29: val_loss did not improve from 0.56023\n",
            "34/34 [==============================] - 13s 377ms/step - loss: 0.1716 - accuracy: 0.9216 - val_loss: 0.8182 - val_accuracy: 0.6747 - lr: 0.0010\n",
            "Epoch 30/100\n",
            "34/34 [==============================] - ETA: 0s - loss: 0.1550 - accuracy: 0.9359\n",
            "Epoch 30: val_loss did not improve from 0.56023\n",
            "34/34 [==============================] - 13s 377ms/step - loss: 0.1550 - accuracy: 0.9359 - val_loss: 0.9067 - val_accuracy: 0.6506 - lr: 0.0010\n",
            "Epoch 31/100\n",
            "34/34 [==============================] - ETA: 0s - loss: 0.1492 - accuracy: 0.9359\n",
            "Epoch 31: val_loss did not improve from 0.56023\n",
            "34/34 [==============================] - 13s 377ms/step - loss: 0.1492 - accuracy: 0.9359 - val_loss: 1.0869 - val_accuracy: 0.6586 - lr: 0.0010\n",
            "Epoch 32/100\n",
            "34/34 [==============================] - ETA: 0s - loss: 0.1608 - accuracy: 0.9308\n",
            "Epoch 32: ReduceLROnPlateau reducing learning rate to 0.0007202999433502554.\n",
            "\n",
            "Epoch 32: val_loss did not improve from 0.56023\n",
            "34/34 [==============================] - 13s 377ms/step - loss: 0.1608 - accuracy: 0.9308 - val_loss: 0.7122 - val_accuracy: 0.7349 - lr: 0.0010\n",
            "Epoch 33/100\n",
            "34/34 [==============================] - ETA: 0s - loss: 0.1565 - accuracy: 0.9396\n",
            "Epoch 33: val_loss improved from 0.56023 to 0.54133, saving model to ResNet50_Model.hdf5\n",
            "34/34 [==============================] - 14s 409ms/step - loss: 0.1565 - accuracy: 0.9396 - val_loss: 0.5413 - val_accuracy: 0.7831 - lr: 7.2030e-04\n",
            "Epoch 34/100\n",
            "34/34 [==============================] - ETA: 0s - loss: 0.1327 - accuracy: 0.9488\n",
            "Epoch 34: val_loss improved from 0.54133 to 0.24823, saving model to ResNet50_Model.hdf5\n",
            "34/34 [==============================] - 14s 410ms/step - loss: 0.1327 - accuracy: 0.9488 - val_loss: 0.2482 - val_accuracy: 0.9036 - lr: 7.2030e-04\n",
            "Epoch 35/100\n",
            "34/34 [==============================] - ETA: 0s - loss: 0.1369 - accuracy: 0.9465\n",
            "Epoch 35: val_loss improved from 0.24823 to 0.24252, saving model to ResNet50_Model.hdf5\n",
            "34/34 [==============================] - 14s 410ms/step - loss: 0.1369 - accuracy: 0.9465 - val_loss: 0.2425 - val_accuracy: 0.9036 - lr: 7.2030e-04\n",
            "Epoch 36/100\n",
            "34/34 [==============================] - ETA: 0s - loss: 0.1400 - accuracy: 0.9419\n",
            "Epoch 36: val_loss improved from 0.24252 to 0.17897, saving model to ResNet50_Model.hdf5\n",
            "34/34 [==============================] - 14s 419ms/step - loss: 0.1400 - accuracy: 0.9419 - val_loss: 0.1790 - val_accuracy: 0.9157 - lr: 7.2030e-04\n",
            "Epoch 37/100\n",
            "34/34 [==============================] - ETA: 0s - loss: 0.1238 - accuracy: 0.9506\n",
            "Epoch 37: val_loss did not improve from 0.17897\n",
            "34/34 [==============================] - 14s 382ms/step - loss: 0.1238 - accuracy: 0.9506 - val_loss: 0.2373 - val_accuracy: 0.9036 - lr: 7.2030e-04\n",
            "Epoch 38/100\n",
            "34/34 [==============================] - ETA: 0s - loss: 0.1228 - accuracy: 0.9506\n",
            "Epoch 38: val_loss did not improve from 0.17897\n",
            "34/34 [==============================] - 13s 377ms/step - loss: 0.1228 - accuracy: 0.9506 - val_loss: 0.3101 - val_accuracy: 0.8996 - lr: 7.2030e-04\n",
            "Epoch 39/100\n",
            "34/34 [==============================] - ETA: 0s - loss: 0.1144 - accuracy: 0.9539\n",
            "Epoch 39: val_loss did not improve from 0.17897\n",
            "34/34 [==============================] - 13s 377ms/step - loss: 0.1144 - accuracy: 0.9539 - val_loss: 0.3035 - val_accuracy: 0.9157 - lr: 7.2030e-04\n",
            "Epoch 40/100\n",
            "34/34 [==============================] - ETA: 0s - loss: 0.1248 - accuracy: 0.9488\n",
            "Epoch 40: val_loss did not improve from 0.17897\n",
            "34/34 [==============================] - 13s 378ms/step - loss: 0.1248 - accuracy: 0.9488 - val_loss: 0.4723 - val_accuracy: 0.8675 - lr: 7.2030e-04\n",
            "Epoch 41/100\n",
            "34/34 [==============================] - ETA: 0s - loss: 0.1257 - accuracy: 0.9442\n",
            "Epoch 41: val_loss did not improve from 0.17897\n",
            "34/34 [==============================] - 13s 377ms/step - loss: 0.1257 - accuracy: 0.9442 - val_loss: 0.2599 - val_accuracy: 0.9197 - lr: 7.2030e-04\n",
            "Epoch 42/100\n",
            "34/34 [==============================] - ETA: 0s - loss: 0.1157 - accuracy: 0.9534\n",
            "Epoch 42: val_loss improved from 0.17897 to 0.17610, saving model to ResNet50_Model.hdf5\n",
            "34/34 [==============================] - 14s 410ms/step - loss: 0.1157 - accuracy: 0.9534 - val_loss: 0.1761 - val_accuracy: 0.9518 - lr: 7.2030e-04\n",
            "Epoch 43/100\n",
            "34/34 [==============================] - ETA: 0s - loss: 0.1158 - accuracy: 0.9525\n",
            "Epoch 43: val_loss improved from 0.17610 to 0.17108, saving model to ResNet50_Model.hdf5\n",
            "34/34 [==============================] - 14s 409ms/step - loss: 0.1158 - accuracy: 0.9525 - val_loss: 0.1711 - val_accuracy: 0.9518 - lr: 7.2030e-04\n",
            "Epoch 44/100\n",
            "34/34 [==============================] - ETA: 0s - loss: 0.1046 - accuracy: 0.9631\n",
            "Epoch 44: val_loss improved from 0.17108 to 0.15746, saving model to ResNet50_Model.hdf5\n",
            "34/34 [==============================] - 14s 409ms/step - loss: 0.1046 - accuracy: 0.9631 - val_loss: 0.1575 - val_accuracy: 0.9357 - lr: 7.2030e-04\n",
            "Epoch 45/100\n",
            "34/34 [==============================] - ETA: 0s - loss: 0.0932 - accuracy: 0.9659\n",
            "Epoch 45: val_loss did not improve from 0.15746\n",
            "34/34 [==============================] - 13s 378ms/step - loss: 0.0932 - accuracy: 0.9659 - val_loss: 0.1627 - val_accuracy: 0.9357 - lr: 7.2030e-04\n",
            "Epoch 46/100\n",
            "34/34 [==============================] - ETA: 0s - loss: 0.1193 - accuracy: 0.9525\n",
            "Epoch 46: val_loss did not improve from 0.15746\n",
            "34/34 [==============================] - 13s 377ms/step - loss: 0.1193 - accuracy: 0.9525 - val_loss: 0.1963 - val_accuracy: 0.9317 - lr: 7.2030e-04\n",
            "Epoch 47/100\n",
            "34/34 [==============================] - ETA: 0s - loss: 0.1085 - accuracy: 0.9603\n",
            "Epoch 47: ReduceLROnPlateau reducing learning rate to 0.0005042099684942513.\n",
            "\n",
            "Epoch 47: val_loss improved from 0.15746 to 0.13444, saving model to ResNet50_Model.hdf5\n",
            "34/34 [==============================] - 14s 409ms/step - loss: 0.1085 - accuracy: 0.9603 - val_loss: 0.1344 - val_accuracy: 0.9518 - lr: 7.2030e-04\n",
            "Epoch 48/100\n",
            "34/34 [==============================] - ETA: 0s - loss: 0.1042 - accuracy: 0.9543\n",
            "Epoch 48: val_loss improved from 0.13444 to 0.13357, saving model to ResNet50_Model.hdf5\n",
            "34/34 [==============================] - 14s 408ms/step - loss: 0.1042 - accuracy: 0.9543 - val_loss: 0.1336 - val_accuracy: 0.9518 - lr: 5.0421e-04\n",
            "Epoch 49/100\n",
            "34/34 [==============================] - ETA: 0s - loss: 0.1196 - accuracy: 0.9539\n",
            "Epoch 49: val_loss did not improve from 0.13357\n",
            "34/34 [==============================] - 13s 377ms/step - loss: 0.1196 - accuracy: 0.9539 - val_loss: 0.1411 - val_accuracy: 0.9558 - lr: 5.0421e-04\n",
            "Epoch 50/100\n",
            "34/34 [==============================] - ETA: 0s - loss: 0.0947 - accuracy: 0.9654\n",
            "Epoch 50: val_loss did not improve from 0.13357\n",
            "34/34 [==============================] - 13s 384ms/step - loss: 0.0947 - accuracy: 0.9654 - val_loss: 0.1468 - val_accuracy: 0.9438 - lr: 5.0421e-04\n",
            "Epoch 51/100\n",
            "34/34 [==============================] - ETA: 0s - loss: 0.1041 - accuracy: 0.9594\n",
            "Epoch 51: val_loss improved from 0.13357 to 0.12607, saving model to ResNet50_Model.hdf5\n",
            "34/34 [==============================] - 14s 415ms/step - loss: 0.1041 - accuracy: 0.9594 - val_loss: 0.1261 - val_accuracy: 0.9478 - lr: 5.0421e-04\n",
            "Epoch 52/100\n",
            "34/34 [==============================] - ETA: 0s - loss: 0.0999 - accuracy: 0.9663\n",
            "Epoch 52: val_loss did not improve from 0.12607\n",
            "34/34 [==============================] - 13s 377ms/step - loss: 0.0999 - accuracy: 0.9663 - val_loss: 0.1431 - val_accuracy: 0.9518 - lr: 5.0421e-04\n",
            "Epoch 53/100\n",
            "34/34 [==============================] - ETA: 0s - loss: 0.0988 - accuracy: 0.9617\n",
            "Epoch 53: val_loss improved from 0.12607 to 0.12490, saving model to ResNet50_Model.hdf5\n",
            "34/34 [==============================] - 14s 409ms/step - loss: 0.0988 - accuracy: 0.9617 - val_loss: 0.1249 - val_accuracy: 0.9518 - lr: 5.0421e-04\n",
            "Epoch 54/100\n",
            "34/34 [==============================] - ETA: 0s - loss: 0.0999 - accuracy: 0.9589\n",
            "Epoch 54: ReduceLROnPlateau reducing learning rate to 0.0003529469657223671.\n",
            "\n",
            "Epoch 54: val_loss did not improve from 0.12490\n",
            "34/34 [==============================] - 13s 377ms/step - loss: 0.0999 - accuracy: 0.9589 - val_loss: 0.1741 - val_accuracy: 0.9357 - lr: 5.0421e-04\n",
            "Epoch 55/100\n",
            "34/34 [==============================] - ETA: 0s - loss: 0.0904 - accuracy: 0.9626\n",
            "Epoch 55: val_loss did not improve from 0.12490\n",
            "34/34 [==============================] - 13s 377ms/step - loss: 0.0904 - accuracy: 0.9626 - val_loss: 0.1301 - val_accuracy: 0.9438 - lr: 3.5295e-04\n",
            "Epoch 56/100\n",
            "34/34 [==============================] - ETA: 0s - loss: 0.0816 - accuracy: 0.9659\n",
            "Epoch 56: val_loss did not improve from 0.12490\n",
            "34/34 [==============================] - 13s 377ms/step - loss: 0.0816 - accuracy: 0.9659 - val_loss: 0.1432 - val_accuracy: 0.9478 - lr: 3.5295e-04\n",
            "Epoch 57/100\n",
            "34/34 [==============================] - ETA: 0s - loss: 0.0761 - accuracy: 0.9691\n",
            "Epoch 57: val_loss did not improve from 0.12490\n",
            "34/34 [==============================] - 13s 377ms/step - loss: 0.0761 - accuracy: 0.9691 - val_loss: 0.1305 - val_accuracy: 0.9478 - lr: 3.5295e-04\n",
            "Epoch 58/100\n",
            "34/34 [==============================] - ETA: 0s - loss: 0.0905 - accuracy: 0.9640\n",
            "Epoch 58: val_loss did not improve from 0.12490\n",
            "34/34 [==============================] - 13s 377ms/step - loss: 0.0905 - accuracy: 0.9640 - val_loss: 0.1795 - val_accuracy: 0.9357 - lr: 3.5295e-04\n",
            "Epoch 59/100\n",
            "34/34 [==============================] - ETA: 0s - loss: 0.0772 - accuracy: 0.9714\n",
            "Epoch 59: ReduceLROnPlateau reducing learning rate to 0.0002470628678565845.\n",
            "\n",
            "Epoch 59: val_loss did not improve from 0.12490\n",
            "34/34 [==============================] - 13s 377ms/step - loss: 0.0772 - accuracy: 0.9714 - val_loss: 0.1421 - val_accuracy: 0.9478 - lr: 3.5295e-04\n",
            "Epoch 60/100\n",
            "34/34 [==============================] - ETA: 0s - loss: 0.0850 - accuracy: 0.9613\n",
            "Epoch 60: val_loss did not improve from 0.12490\n",
            "34/34 [==============================] - 14s 404ms/step - loss: 0.0850 - accuracy: 0.9613 - val_loss: 0.1392 - val_accuracy: 0.9478 - lr: 2.4706e-04\n",
            "Epoch 61/100\n",
            "34/34 [==============================] - ETA: 0s - loss: 0.0862 - accuracy: 0.9696\n",
            "Epoch 61: val_loss did not improve from 0.12490\n",
            "34/34 [==============================] - 13s 377ms/step - loss: 0.0862 - accuracy: 0.9696 - val_loss: 0.1427 - val_accuracy: 0.9478 - lr: 2.4706e-04\n",
            "Epoch 62/100\n",
            "34/34 [==============================] - ETA: 0s - loss: 0.0806 - accuracy: 0.9728\n",
            "Epoch 62: val_loss did not improve from 0.12490\n",
            "34/34 [==============================] - 13s 377ms/step - loss: 0.0806 - accuracy: 0.9728 - val_loss: 0.1578 - val_accuracy: 0.9478 - lr: 2.4706e-04\n",
            "Epoch 63/100\n",
            "34/34 [==============================] - ETA: 0s - loss: 0.0714 - accuracy: 0.9737\n",
            "Epoch 63: val_loss did not improve from 0.12490\n",
            "34/34 [==============================] - 13s 377ms/step - loss: 0.0714 - accuracy: 0.9737 - val_loss: 0.1781 - val_accuracy: 0.9357 - lr: 2.4706e-04\n",
            "Epoch 64/100\n",
            "34/34 [==============================] - ETA: 0s - loss: 0.0743 - accuracy: 0.9709\n",
            "Epoch 64: ReduceLROnPlateau reducing learning rate to 0.00017294401768594978.\n",
            "\n",
            "Epoch 64: val_loss did not improve from 0.12490\n",
            "34/34 [==============================] - 13s 378ms/step - loss: 0.0743 - accuracy: 0.9709 - val_loss: 0.1483 - val_accuracy: 0.9518 - lr: 2.4706e-04\n",
            "Epoch 65/100\n",
            "34/34 [==============================] - ETA: 0s - loss: 0.0933 - accuracy: 0.9640\n",
            "Epoch 65: val_loss did not improve from 0.12490\n",
            "34/34 [==============================] - 13s 377ms/step - loss: 0.0933 - accuracy: 0.9640 - val_loss: 0.1710 - val_accuracy: 0.9518 - lr: 1.7294e-04\n",
            "Epoch 66/100\n",
            "34/34 [==============================] - ETA: 0s - loss: 0.0817 - accuracy: 0.9719\n",
            "Epoch 66: val_loss did not improve from 0.12490\n",
            "34/34 [==============================] - 13s 377ms/step - loss: 0.0817 - accuracy: 0.9719 - val_loss: 0.1808 - val_accuracy: 0.9558 - lr: 1.7294e-04\n",
            "Epoch 67/100\n",
            "34/34 [==============================] - ETA: 0s - loss: 0.0868 - accuracy: 0.9686\n",
            "Epoch 67: val_loss did not improve from 0.12490\n",
            "34/34 [==============================] - 13s 378ms/step - loss: 0.0868 - accuracy: 0.9686 - val_loss: 0.1515 - val_accuracy: 0.9598 - lr: 1.7294e-04\n",
            "Epoch 68/100\n",
            "34/34 [==============================] - ETA: 0s - loss: 0.0790 - accuracy: 0.9691\n",
            "Epoch 68: val_loss did not improve from 0.12490\n",
            "34/34 [==============================] - 13s 377ms/step - loss: 0.0790 - accuracy: 0.9691 - val_loss: 0.1455 - val_accuracy: 0.9598 - lr: 1.7294e-04\n",
            "Epoch 69/100\n",
            "34/34 [==============================] - ETA: 0s - loss: 0.0808 - accuracy: 0.9682\n",
            "Epoch 69: val_loss did not improve from 0.12490\n",
            "34/34 [==============================] - 13s 377ms/step - loss: 0.0808 - accuracy: 0.9682 - val_loss: 0.1695 - val_accuracy: 0.9518 - lr: 1.7294e-04\n",
            "Epoch 70/100\n",
            "34/34 [==============================] - ETA: 0s - loss: 0.0811 - accuracy: 0.9709\n",
            "Epoch 70: val_loss did not improve from 0.12490\n",
            "34/34 [==============================] - 13s 378ms/step - loss: 0.0811 - accuracy: 0.9709 - val_loss: 0.1537 - val_accuracy: 0.9558 - lr: 1.7294e-04\n",
            "Epoch 71/100\n",
            "34/34 [==============================] - ETA: 0s - loss: 0.0737 - accuracy: 0.9746\n",
            "Epoch 71: val_loss did not improve from 0.12490\n",
            "34/34 [==============================] - 13s 377ms/step - loss: 0.0737 - accuracy: 0.9746 - val_loss: 0.1445 - val_accuracy: 0.9518 - lr: 1.7294e-04\n",
            "Epoch 72/100\n",
            "34/34 [==============================] - ETA: 0s - loss: 0.0781 - accuracy: 0.9668\n",
            "Epoch 72: ReduceLROnPlateau reducing learning rate to 0.00012106080830562859.\n",
            "\n",
            "Epoch 72: val_loss did not improve from 0.12490\n",
            "34/34 [==============================] - 13s 378ms/step - loss: 0.0781 - accuracy: 0.9668 - val_loss: 0.1382 - val_accuracy: 0.9518 - lr: 1.7294e-04\n",
            "Epoch 73/100\n",
            "34/34 [==============================] - ETA: 0s - loss: 0.0798 - accuracy: 0.9723\n",
            "Epoch 73: val_loss did not improve from 0.12490\n",
            "34/34 [==============================] - 13s 377ms/step - loss: 0.0798 - accuracy: 0.9723 - val_loss: 0.1477 - val_accuracy: 0.9478 - lr: 1.2106e-04\n",
            "Epoch 74/100\n",
            "34/34 [==============================] - ETA: 0s - loss: 0.0886 - accuracy: 0.9636\n",
            "Epoch 74: val_loss did not improve from 0.12490\n",
            "34/34 [==============================] - 13s 377ms/step - loss: 0.0886 - accuracy: 0.9636 - val_loss: 0.1485 - val_accuracy: 0.9518 - lr: 1.2106e-04\n",
            "Epoch 75/100\n",
            "34/34 [==============================] - ETA: 0s - loss: 0.0707 - accuracy: 0.9737\n",
            "Epoch 75: val_loss did not improve from 0.12490\n",
            "34/34 [==============================] - 13s 378ms/step - loss: 0.0707 - accuracy: 0.9737 - val_loss: 0.1381 - val_accuracy: 0.9478 - lr: 1.2106e-04\n",
            "Epoch 76/100\n",
            "34/34 [==============================] - ETA: 0s - loss: 0.0782 - accuracy: 0.9733\n",
            "Epoch 76: val_loss did not improve from 0.12490\n",
            "34/34 [==============================] - 13s 379ms/step - loss: 0.0782 - accuracy: 0.9733 - val_loss: 0.1431 - val_accuracy: 0.9518 - lr: 1.2106e-04\n",
            "Epoch 77/100\n",
            "34/34 [==============================] - ETA: 0s - loss: 0.0693 - accuracy: 0.9728\n",
            "Epoch 77: ReduceLROnPlateau reducing learning rate to 0.0001.\n",
            "\n",
            "Epoch 77: val_loss did not improve from 0.12490\n",
            "34/34 [==============================] - 13s 377ms/step - loss: 0.0693 - accuracy: 0.9728 - val_loss: 0.1387 - val_accuracy: 0.9598 - lr: 1.2106e-04\n",
            "Epoch 78/100\n",
            "34/34 [==============================] - ETA: 0s - loss: 0.0798 - accuracy: 0.9728\n",
            "Epoch 78: val_loss did not improve from 0.12490\n",
            "34/34 [==============================] - 13s 378ms/step - loss: 0.0798 - accuracy: 0.9728 - val_loss: 0.1366 - val_accuracy: 0.9518 - lr: 1.0000e-04\n",
            "Epoch 79/100\n",
            "34/34 [==============================] - ETA: 0s - loss: 0.0774 - accuracy: 0.9746\n",
            "Epoch 79: val_loss did not improve from 0.12490\n",
            "34/34 [==============================] - 13s 377ms/step - loss: 0.0774 - accuracy: 0.9746 - val_loss: 0.1425 - val_accuracy: 0.9518 - lr: 1.0000e-04\n",
            "Epoch 80/100\n",
            "34/34 [==============================] - ETA: 0s - loss: 0.0640 - accuracy: 0.9788\n",
            "Epoch 80: val_loss did not improve from 0.12490\n",
            "34/34 [==============================] - 13s 377ms/step - loss: 0.0640 - accuracy: 0.9788 - val_loss: 0.1474 - val_accuracy: 0.9518 - lr: 1.0000e-04\n",
            "Epoch 81/100\n",
            "34/34 [==============================] - ETA: 0s - loss: 0.0903 - accuracy: 0.9626\n",
            "Epoch 81: val_loss did not improve from 0.12490\n",
            "34/34 [==============================] - 13s 378ms/step - loss: 0.0903 - accuracy: 0.9626 - val_loss: 0.1489 - val_accuracy: 0.9518 - lr: 1.0000e-04\n",
            "Epoch 82/100\n",
            "34/34 [==============================] - ETA: 0s - loss: 0.0724 - accuracy: 0.9719\n",
            "Epoch 82: val_loss did not improve from 0.12490\n",
            "34/34 [==============================] - 13s 377ms/step - loss: 0.0724 - accuracy: 0.9719 - val_loss: 0.1600 - val_accuracy: 0.9518 - lr: 1.0000e-04\n",
            "Epoch 83/100\n",
            "34/34 [==============================] - ETA: 0s - loss: 0.0741 - accuracy: 0.9728\n",
            "Epoch 83: val_loss did not improve from 0.12490\n",
            "34/34 [==============================] - 13s 378ms/step - loss: 0.0741 - accuracy: 0.9728 - val_loss: 0.1493 - val_accuracy: 0.9518 - lr: 1.0000e-04\n",
            "Epoch 84/100\n",
            "34/34 [==============================] - ETA: 0s - loss: 0.0614 - accuracy: 0.9783\n",
            "Epoch 84: val_loss did not improve from 0.12490\n",
            "34/34 [==============================] - 13s 377ms/step - loss: 0.0614 - accuracy: 0.9783 - val_loss: 0.1465 - val_accuracy: 0.9558 - lr: 1.0000e-04\n",
            "Epoch 85/100\n",
            "34/34 [==============================] - ETA: 0s - loss: 0.0654 - accuracy: 0.9760\n",
            "Epoch 85: val_loss did not improve from 0.12490\n",
            "34/34 [==============================] - 14s 398ms/step - loss: 0.0654 - accuracy: 0.9760 - val_loss: 0.1411 - val_accuracy: 0.9558 - lr: 1.0000e-04\n",
            "Epoch 86/100\n",
            "34/34 [==============================] - ETA: 0s - loss: 0.0559 - accuracy: 0.9802\n",
            "Epoch 86: val_loss did not improve from 0.12490\n",
            "34/34 [==============================] - 13s 378ms/step - loss: 0.0559 - accuracy: 0.9802 - val_loss: 0.1467 - val_accuracy: 0.9518 - lr: 1.0000e-04\n",
            "Epoch 87/100\n",
            "34/34 [==============================] - ETA: 0s - loss: 0.0812 - accuracy: 0.9696\n",
            "Epoch 87: val_loss did not improve from 0.12490\n",
            "34/34 [==============================] - 13s 378ms/step - loss: 0.0812 - accuracy: 0.9696 - val_loss: 0.1516 - val_accuracy: 0.9478 - lr: 1.0000e-04\n",
            "Epoch 88/100\n",
            "34/34 [==============================] - ETA: 0s - loss: 0.0645 - accuracy: 0.9737\n",
            "Epoch 88: val_loss did not improve from 0.12490\n",
            "34/34 [==============================] - 13s 379ms/step - loss: 0.0645 - accuracy: 0.9737 - val_loss: 0.2095 - val_accuracy: 0.9438 - lr: 1.0000e-04\n",
            "Epoch 89/100\n",
            "34/34 [==============================] - ETA: 0s - loss: 0.0689 - accuracy: 0.9737\n",
            "Epoch 89: val_loss did not improve from 0.12490\n",
            "34/34 [==============================] - 13s 377ms/step - loss: 0.0689 - accuracy: 0.9737 - val_loss: 0.1849 - val_accuracy: 0.9438 - lr: 1.0000e-04\n",
            "Epoch 90/100\n",
            "34/34 [==============================] - ETA: 0s - loss: 0.0760 - accuracy: 0.9723\n",
            "Epoch 90: val_loss did not improve from 0.12490\n",
            "34/34 [==============================] - 13s 376ms/step - loss: 0.0760 - accuracy: 0.9723 - val_loss: 0.1491 - val_accuracy: 0.9518 - lr: 1.0000e-04\n",
            "Epoch 91/100\n",
            "34/34 [==============================] - ETA: 0s - loss: 0.0725 - accuracy: 0.9677\n",
            "Epoch 91: val_loss did not improve from 0.12490\n",
            "34/34 [==============================] - 13s 378ms/step - loss: 0.0725 - accuracy: 0.9677 - val_loss: 0.1518 - val_accuracy: 0.9518 - lr: 1.0000e-04\n",
            "Epoch 92/100\n",
            "34/34 [==============================] - ETA: 0s - loss: 0.0739 - accuracy: 0.9696\n",
            "Epoch 92: val_loss did not improve from 0.12490\n",
            "34/34 [==============================] - 13s 378ms/step - loss: 0.0739 - accuracy: 0.9696 - val_loss: 0.1545 - val_accuracy: 0.9518 - lr: 1.0000e-04\n",
            "Epoch 93/100\n",
            "34/34 [==============================] - ETA: 0s - loss: 0.0746 - accuracy: 0.9677\n",
            "Epoch 93: val_loss did not improve from 0.12490\n",
            "34/34 [==============================] - 13s 377ms/step - loss: 0.0746 - accuracy: 0.9677 - val_loss: 0.1619 - val_accuracy: 0.9518 - lr: 1.0000e-04\n",
            "Epoch 94/100\n",
            "34/34 [==============================] - ETA: 0s - loss: 0.0627 - accuracy: 0.9769\n",
            "Epoch 94: val_loss did not improve from 0.12490\n",
            "34/34 [==============================] - 13s 377ms/step - loss: 0.0627 - accuracy: 0.9769 - val_loss: 0.1478 - val_accuracy: 0.9438 - lr: 1.0000e-04\n",
            "Epoch 95/100\n",
            "34/34 [==============================] - ETA: 0s - loss: 0.0608 - accuracy: 0.9756\n",
            "Epoch 95: val_loss did not improve from 0.12490\n",
            "34/34 [==============================] - 13s 377ms/step - loss: 0.0608 - accuracy: 0.9756 - val_loss: 0.1475 - val_accuracy: 0.9438 - lr: 1.0000e-04\n",
            "Epoch 96/100\n",
            "34/34 [==============================] - ETA: 0s - loss: 0.0673 - accuracy: 0.9765\n",
            "Epoch 96: val_loss did not improve from 0.12490\n",
            "34/34 [==============================] - 13s 377ms/step - loss: 0.0673 - accuracy: 0.9765 - val_loss: 0.1315 - val_accuracy: 0.9598 - lr: 1.0000e-04\n",
            "Epoch 97/100\n",
            "34/34 [==============================] - ETA: 0s - loss: 0.0657 - accuracy: 0.9746\n",
            "Epoch 97: val_loss did not improve from 0.12490\n",
            "34/34 [==============================] - 13s 377ms/step - loss: 0.0657 - accuracy: 0.9746 - val_loss: 0.1361 - val_accuracy: 0.9518 - lr: 1.0000e-04\n",
            "Epoch 98/100\n",
            "34/34 [==============================] - ETA: 0s - loss: 0.0647 - accuracy: 0.9751\n",
            "Epoch 98: val_loss did not improve from 0.12490\n",
            "34/34 [==============================] - 13s 377ms/step - loss: 0.0647 - accuracy: 0.9751 - val_loss: 0.1258 - val_accuracy: 0.9598 - lr: 1.0000e-04\n",
            "Epoch 99/100\n",
            "34/34 [==============================] - ETA: 0s - loss: 0.0755 - accuracy: 0.9719\n",
            "Epoch 99: val_loss did not improve from 0.12490\n",
            "34/34 [==============================] - 13s 377ms/step - loss: 0.0755 - accuracy: 0.9719 - val_loss: 0.1269 - val_accuracy: 0.9598 - lr: 1.0000e-04\n",
            "Epoch 100/100\n",
            "34/34 [==============================] - ETA: 0s - loss: 0.0704 - accuracy: 0.9709\n",
            "Epoch 100: val_loss did not improve from 0.12490\n",
            "34/34 [==============================] - 13s 378ms/step - loss: 0.0704 - accuracy: 0.9709 - val_loss: 0.1535 - val_accuracy: 0.9478 - lr: 1.0000e-04\n"
          ]
        }
      ],
      "source": [
        "history = model.fit_generator(datagen.flow(X_train, Y_train, batch_size=BATCH_SIZE),\n",
        "               steps_per_epoch= X_train.shape[0] // BATCH_SIZE,\n",
        "               epochs=EPOCHS,\n",
        "               verbose=1,\n",
        "               callbacks=[annealer, checkpoint],\n",
        "               validation_data=(X_val, Y_val))\n",
        "\n"
      ]
    },
    {
      "cell_type": "code",
      "execution_count": 16,
      "metadata": {
        "id": "XWpx1hBI-XX6"
      },
      "outputs": [],
      "source": [
        "acc = history.history['accuracy']\n",
        "val_acc = history.history['val_accuracy']\n",
        "loss = history.history['loss']\n",
        "val_loss = history.history['val_loss']"
      ]
    },
    {
      "cell_type": "code",
      "execution_count": 17,
      "metadata": {
        "colab": {
          "base_uri": "https://localhost:8080/",
          "height": 299
        },
        "id": "t-7v-XVx-ZXl",
        "outputId": "2223b78a-fac5-4d0d-ea3e-74c3c8cc3386"
      },
      "outputs": [
        {
          "output_type": "display_data",
          "data": {
            "text/plain": [
              "<Figure size 432x288 with 1 Axes>"
            ],
            "image/png": "[encoded data removed]"
          },
          "metadata": {
            "needs_background": "light"
          }
        },
        {
          "output_type": "display_data",
          "data": {
            "text/plain": [
              "<Figure size 432x288 with 0 Axes>"
            ]
          },
          "metadata": {}
        }
      ],
      "source": [
        "\n",
        "\n",
        "epochs = range(len(acc))\n",
        "plt.plot(epochs, acc, 'r', label='Training accuracy')\n",
        "plt.plot(epochs, val_acc, 'b', label='Validation accuracy')\n",
        "plt.title('TraiN & Val Acc VS Epochs')\n",
        "plt.legend(loc=0)\n",
        "plt.figure()\n",
        "plt.show()\n",
        "\n"
      ]
    },
    {
      "cell_type": "code",
      "execution_count": 18,
      "metadata": {
        "colab": {
          "base_uri": "https://localhost:8080/",
          "height": 299
        },
        "id": "S5S8gYEh-ap7",
        "outputId": "b075998c-3a5b-4d8b-e4ee-e6012663fb44"
      },
      "outputs": [
        {
          "output_type": "display_data",
          "data": {
            "text/plain": [
              "<Figure size 432x288 with 1 Axes>"
            ],
            "image/png": "[encoded data removed]"
          },
          "metadata": {
            "needs_background": "light"
          }
        },
        {
          "output_type": "display_data",
          "data": {
            "text/plain": [
              "<Figure size 432x288 with 0 Axes>"
            ]
          },
          "metadata": {}
        }
      ],
      "source": [
        "epochs = range(len(acc))\n",
        "plt.plot(epochs, loss, 'r', label='Training Loss')\n",
        "plt.plot(epochs, val_loss, 'b', label='Validation Loss')\n",
        "plt.title('TraiN & Val Loss VS Epochs')\n",
        "plt.legend(loc=0)\n",
        "plt.figure()\n",
        "plt.show()"
      ]
    },
    {
      "cell_type": "code",
      "execution_count": 19,
      "metadata": {
        "id": "NznXucYhThsE"
      },
      "outputs": [],
      "source": [
        "from sklearn.metrics import accuracy_score\n",
        "from sklearn.metrics import classification_report\n",
        "import numpy as np\n"
      ]
    },
    {
      "cell_type": "code",
      "execution_count": 20,
      "metadata": {
        "colab": {
          "base_uri": "https://localhost:8080/"
        },
        "id": "xJhsrOLzTiWj",
        "outputId": "e9c3c4f2-32ee-4ca9-e655-171b4efd0795"
      },
      "outputs": [
        {
          "output_type": "stream",
          "name": "stdout",
          "text": [
            "8/8 [==============================] - 1s 50ms/step\n",
            "0.9477911646586346\n",
            "[[130   7]\n",
            " [  6 106]]\n",
            "              precision    recall  f1-score   support\n",
            "\n",
            "           0       0.96      0.95      0.95       137\n",
            "           1       0.94      0.95      0.94       112\n",
            "\n",
            "    accuracy                           0.95       249\n",
            "   macro avg       0.95      0.95      0.95       249\n",
            "weighted avg       0.95      0.95      0.95       249\n",
            "\n"
          ]
        }
      ],
      "source": [
        "pred = model.predict(X_val)\n",
        "rounded_labels=np.argmax(pred, axis=1)\n",
        "rounded_labels_2 = np.argmax(Y_val, axis=1)\n",
        "rounded_labels[1]\n",
        "rounded_labels_2[1]\n",
        "print(accuracy_score(rounded_labels_2,rounded_labels))\n",
        "print(confusion_matrix(rounded_labels_2,rounded_labels))\n",
        "print(classification_report(rounded_labels_2,rounded_labels)) "
      ]
    },
    {
      "cell_type": "code",
      "source": [
        "from sklearn.metrics import roc_curve, auc\n",
        "import matplotlib.pyplot as plt\n",
        "\n",
        "fpr, tpr, thresholds = roc_curve(rounded_labels_2, pred[:,1])\n",
        "roc_auc = auc(fpr, tpr)\n",
        "\n",
        "plt.figure()\n",
        "lw = 2\n",
        "plt.plot(fpr, tpr, color='darkorange',\n",
        "         lw=lw, label='ROC curve (area = %0.2f)' % roc_auc)\n",
        "plt.plot([0, 1], [0, 1], color='navy', lw=lw, linestyle='--')\n",
        "plt.xlim([0.0, 1.0])\n",
        "plt.ylim([0.0, 1.05])\n",
        "plt.xlabel('False Positive Rate')\n",
        "plt.ylabel('True Positive Rate')\n",
        "plt.title('Receiver operating characteristic example')\n",
        "plt.legend(loc=\"lower right\")\n",
        "plt.show()"
      ],
      "metadata": {
        "colab": {
          "base_uri": "https://localhost:8080/",
          "height": 295
        },
        "id": "ABTvYADxfXU-",
        "outputId": "b6db4f5f-e120-417f-8a86-e835adac3233"
      },
      "execution_count": 21,
      "outputs": [
        {
          "output_type": "display_data",
          "data": {
            "text/plain": [
              "<Figure size 432x288 with 1 Axes>"
            ],
            "image/png": "[encoded data removed]"
          },
          "metadata": {
            "needs_background": "light"
          }
        }
      ]
    },
    {
      "cell_type": "code",
      "source": [
        "from sklearn.metrics import roc_auc_score\n",
        "roc_auc = roc_auc_score(Y_val, pred)\n",
        "print(\"AUC: \", roc_auc)"
      ],
      "metadata": {
        "colab": {
          "base_uri": "https://localhost:8080/"
        },
        "id": "AUKtHuyUfWr2",
        "outputId": "2772cd5f-dd34-49c4-bbcf-309453e42436"
      },
      "execution_count": 22,
      "outputs": [
        {
          "output_type": "stream",
          "name": "stdout",
          "text": [
            "AUC:  0.9906152241918664\n"
          ]
        }
      ]
    },
    {
      "cell_type": "code",
      "source": [
        "model.load_weights(\"ResNet50_Model.hdf5\")\n",
        "model.save(\"/content/drive/MyDrive/Model Saves/Resnet50 CT-Scan\")\n",
        "score = model.evaluate(X_val,Y_val ,verbose=1)\n",
        "print('Test Loss:', score[0])\n",
        "print('Test accuracy:', score[1]*100)"
      ],
      "metadata": {
        "colab": {
          "base_uri": "https://localhost:8080/"
        },
        "id": "5fiTKa2YZ933",
        "outputId": "943e2c0f-197e-4219-eb99-7b8b258f1b55"
      },
      "execution_count": 23,
      "outputs": [
        {
          "output_type": "stream",
          "name": "stderr",
          "text": [
            "WARNING:absl:Found untraced functions such as _jit_compiled_convolution_op, _jit_compiled_convolution_op, _jit_compiled_convolution_op, _jit_compiled_convolution_op, _jit_compiled_convolution_op while saving (showing 5 of 54). These functions will not be directly callable after loading.\n"
          ]
        },
        {
          "output_type": "stream",
          "name": "stdout",
          "text": [
            "8/8 [==============================] - 0s 58ms/step - loss: 0.1249 - accuracy: 0.9518\n",
            "Test Loss: 0.1248989924788475\n",
            "Test accuracy: 95.18072009086609\n"
          ]
        }
      ]
    },
    {
      "cell_type": "code",
      "source": [],
      "metadata": {
        "id": "DBbtsCFvn40T"
      },
      "execution_count": 23,
      "outputs": []
    }
  ],
  "metadata": {
    "accelerator": "GPU",
    "colab": {
      "machine_shape": "hm",
      "provenance": []
    },
    "gpuClass": "standard",
    "kernelspec": {
      "display_name": "Python 3",
      "name": "python3"
    },
    "language_info": {
      "name": "python"
    }
  },
  "nbformat": 4,
  "nbformat_minor": 0
}